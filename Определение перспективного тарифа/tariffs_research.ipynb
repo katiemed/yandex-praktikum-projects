{
 "cells": [
  {
   "cell_type": "markdown",
   "metadata": {},
   "source": [
    "# Определение перспективного тарифа для телеком компании\n",
    "\n",
    "«Мегалайн» — федеральный оператор сотовой связи. Клиентам предлагают два тарифных плана: «Смарт» и «Ультра». \n",
    "\n",
    "Чтобы скорректировать рекламный бюджет, коммерческий департамент хочет понять, какой тариф приносит больше денег.\n",
    "Необходимо сделать предварительный анализ тарифов на небольшой выборке клиентов. \n",
    "\n",
    "В распоряжении данные 500 пользователей «Мегалайна»: кто они, откуда, каким тарифом пользуются, сколько звонков и сообщений каждый отправил за 2018 год. Нужно проанализировать поведение клиентов и сделать вывод — какой тариф лучше."
   ]
  },
  {
   "cell_type": "markdown",
   "metadata": {
    "toc": true
   },
   "source": [
    "<h1>Содержание<span class=\"tocSkip\"></span></h1>\n",
    "<div class=\"toc\"><ul class=\"toc-item\"><li><span><a href=\"#Изучение-данных-из-файлов\" data-toc-modified-id=\"Изучение-данных-из-файлов-1\"><span class=\"toc-item-num\">1&nbsp;&nbsp;</span>Изучение данных из файлов</a></span><ul class=\"toc-item\"><li><span><a href=\"#Вывод\" data-toc-modified-id=\"Вывод-1.1\"><span class=\"toc-item-num\">1.1&nbsp;&nbsp;</span>Вывод</a></span></li></ul></li><li><span><a href=\"#Предобработка-данных.\" data-toc-modified-id=\"Предобработка-данных.-2\"><span class=\"toc-item-num\">2&nbsp;&nbsp;</span>Предобработка данных.</a></span><ul class=\"toc-item\"><li><span><a href=\"#Приведение-данных-к-нужным-типам\" data-toc-modified-id=\"Приведение-данных-к-нужным-типам-2.1\"><span class=\"toc-item-num\">2.1&nbsp;&nbsp;</span>Приведение данных к нужным типам</a></span></li><li><span><a href=\"#Исправление-ошибок\" data-toc-modified-id=\"Исправление-ошибок-2.2\"><span class=\"toc-item-num\">2.2&nbsp;&nbsp;</span>Исправление ошибок</a></span></li><li><span><a href=\"#Данные-по-пользователям\" data-toc-modified-id=\"Данные-по-пользователям-2.3\"><span class=\"toc-item-num\">2.3&nbsp;&nbsp;</span>Данные по пользователям</a></span><ul class=\"toc-item\"><li><span><a href=\"#Количество-сделанных-звонков-и-израсходованных-минут-разговора-по-месяцам\" data-toc-modified-id=\"Количество-сделанных-звонков-и-израсходованных-минут-разговора-по-месяцам-2.3.1\"><span class=\"toc-item-num\">2.3.1&nbsp;&nbsp;</span>Количество сделанных звонков и израсходованных минут разговора по месяцам</a></span></li><li><span><a href=\"#Количество-отправленных-сообщений-по-месяцам\" data-toc-modified-id=\"Количество-отправленных-сообщений-по-месяцам-2.3.2\"><span class=\"toc-item-num\">2.3.2&nbsp;&nbsp;</span>Количество отправленных сообщений по месяцам</a></span></li><li><span><a href=\"#Объем-израсходованного-интернет-трафика-по-месяцам\" data-toc-modified-id=\"Объем-израсходованного-интернет-трафика-по-месяцам-2.3.3\"><span class=\"toc-item-num\">2.3.3&nbsp;&nbsp;</span>Объем израсходованного интернет-трафика по месяцам</a></span></li><li><span><a href=\"#Помесячная-выручка-с-каждого-пользователя\" data-toc-modified-id=\"Помесячная-выручка-с-каждого-пользователя-2.3.4\"><span class=\"toc-item-num\">2.3.4&nbsp;&nbsp;</span>Помесячная выручка с каждого пользователя</a></span></li></ul></li><li><span><a href=\"#Вывод\" data-toc-modified-id=\"Вывод-2.4\"><span class=\"toc-item-num\">2.4&nbsp;&nbsp;</span>Вывод</a></span></li></ul></li><li><span><a href=\"#Анализ-данных\" data-toc-modified-id=\"Анализ-данных-3\"><span class=\"toc-item-num\">3&nbsp;&nbsp;</span>Анализ данных</a></span><ul class=\"toc-item\"><li><span><a href=\"#Средние-значения-для-каждого-тарифа-по-месяцам\" data-toc-modified-id=\"Средние-значения-для-каждого-тарифа-по-месяцам-3.1\"><span class=\"toc-item-num\">3.1&nbsp;&nbsp;</span>Средние значения для каждого тарифа по месяцам</a></span></li><li><span><a href=\"#Среднее-значение,-дисперсия-и-стандартное-отклонение-для-каждого-тарифа\" data-toc-modified-id=\"Среднее-значение,-дисперсия-и-стандартное-отклонение-для-каждого-тарифа-3.2\"><span class=\"toc-item-num\">3.2&nbsp;&nbsp;</span>Среднее значение, дисперсия и стандартное отклонение для каждого тарифа</a></span></li><li><span><a href=\"#Гистограммы-распределения-среднего-значения-для-тарифов-Smart-и-Ultra\" data-toc-modified-id=\"Гистограммы-распределения-среднего-значения-для-тарифов-Smart-и-Ultra-3.3\"><span class=\"toc-item-num\">3.3&nbsp;&nbsp;</span>Гистограммы распределения среднего значения для тарифов Smart и Ultra</a></span></li><li><span><a href=\"#Вывод\" data-toc-modified-id=\"Вывод-3.4\"><span class=\"toc-item-num\">3.4&nbsp;&nbsp;</span>Вывод</a></span></li></ul></li><li><span><a href=\"#Проверка-гипотез\" data-toc-modified-id=\"Проверка-гипотез-4\"><span class=\"toc-item-num\">4&nbsp;&nbsp;</span>Проверка гипотез</a></span><ul class=\"toc-item\"><li><span><a href=\"#Гипотеза-№1\" data-toc-modified-id=\"Гипотеза-№1-4.1\"><span class=\"toc-item-num\">4.1&nbsp;&nbsp;</span>Гипотеза №1</a></span></li><li><span><a href=\"#Гипотеза-№2\" data-toc-modified-id=\"Гипотеза-№2-4.2\"><span class=\"toc-item-num\">4.2&nbsp;&nbsp;</span>Гипотеза №2</a></span></li><li><span><a href=\"#Вывод\" data-toc-modified-id=\"Вывод-4.3\"><span class=\"toc-item-num\">4.3&nbsp;&nbsp;</span>Вывод</a></span></li></ul></li><li><span><a href=\"#Общий-вывод\" data-toc-modified-id=\"Общий-вывод-5\"><span class=\"toc-item-num\">5&nbsp;&nbsp;</span>Общий вывод</a></span></li></ul></div>"
   ]
  },
  {
   "cell_type": "markdown",
   "metadata": {},
   "source": [
    "**Тариф «Смарт»**\n",
    "\n",
    "* Ежемесячная плата: 550 рублей\n",
    "\n",
    "* Включено 500 минут разговора, 50 сообщений и 15 Гб интернет-трафика\n",
    "\n",
    "* Стоимость услуг сверх тарифного пакета: \n",
    "  1. Минута разговора: 3 рубля («Мегалайн» всегда округляет вверх значения минут и мегабайтов. Если пользователь проговорил всего 1 секунду, в тарифе засчитывается целая минута); \n",
    "  2. Сообщение: 3 рубля; \n",
    "  3. 1 Гб интернет-трафика: 200 рублей.\n",
    "\n",
    "**Тариф «Ультра»**\n",
    "* Ежемесячная плата: 1950 рублей\n",
    "\n",
    "* Включено 3000 минут разговора, 1000 сообщений и 30 Гб интернет-трафика\n",
    "\n",
    "* Стоимость услуг сверх тарифного пакета: \n",
    "  1. Минута разговора: 1 рубль; \n",
    "  2. Сообщение: 1 рубль; \n",
    "  3. 1 Гб интернет-трафика: 150 рублей."
   ]
  },
  {
   "cell_type": "markdown",
   "metadata": {},
   "source": [
    "## Изучение данных из файлов"
   ]
  },
  {
   "cell_type": "code",
   "execution_count": 7,
   "metadata": {},
   "outputs": [],
   "source": [
    "import pandas as pd\n",
    "import math\n",
    "import numpy as np\n",
    "import matplotlib.pyplot as plt\n",
    "from scipy import stats as st"
   ]
  },
  {
   "cell_type": "markdown",
   "metadata": {},
   "source": [
    "Прочитаем файлы с данными и изучим общую информацию."
   ]
  },
  {
   "cell_type": "code",
   "execution_count": 8,
   "metadata": {},
   "outputs": [],
   "source": [
    "calls = pd.read_csv('/datasets/calls.csv')\n",
    "internet = pd.read_csv('/datasets/internet.csv')\n",
    "messages = pd.read_csv('/datasets/messages.csv')\n",
    "tariffs = pd.read_csv('/datasets/tariffs.csv')\n",
    "users = pd.read_csv('/datasets/users.csv')"
   ]
  },
  {
   "cell_type": "markdown",
   "metadata": {},
   "source": [
    "Таблица *users* (информация о пользователях):"
   ]
  },
  {
   "cell_type": "code",
   "execution_count": 9,
   "metadata": {},
   "outputs": [
    {
     "data": {
      "text/html": [
       "<style  type=\"text/css\" >\n",
       "    #T_ed32a_ caption {\n",
       "          color: blue;\n",
       "          font-size: 15px;\n",
       "    }</style><table id=\"T_ed32a_\" ><caption>Информация о пользователях</caption><thead>    <tr>        <th class=\"blank level0\" ></th>        <th class=\"col_heading level0 col0\" >user_id</th>        <th class=\"col_heading level0 col1\" >age</th>        <th class=\"col_heading level0 col2\" >churn_date</th>        <th class=\"col_heading level0 col3\" >city</th>        <th class=\"col_heading level0 col4\" >first_name</th>        <th class=\"col_heading level0 col5\" >last_name</th>        <th class=\"col_heading level0 col6\" >reg_date</th>        <th class=\"col_heading level0 col7\" >tariff</th>    </tr></thead><tbody>\n",
       "                <tr>\n",
       "                        <th id=\"T_ed32a_level0_row0\" class=\"row_heading level0 row0\" >0</th>\n",
       "                        <td id=\"T_ed32a_row0_col0\" class=\"data row0 col0\" >1000</td>\n",
       "                        <td id=\"T_ed32a_row0_col1\" class=\"data row0 col1\" >52</td>\n",
       "                        <td id=\"T_ed32a_row0_col2\" class=\"data row0 col2\" >nan</td>\n",
       "                        <td id=\"T_ed32a_row0_col3\" class=\"data row0 col3\" >Краснодар</td>\n",
       "                        <td id=\"T_ed32a_row0_col4\" class=\"data row0 col4\" >Рафаил</td>\n",
       "                        <td id=\"T_ed32a_row0_col5\" class=\"data row0 col5\" >Верещагин</td>\n",
       "                        <td id=\"T_ed32a_row0_col6\" class=\"data row0 col6\" >2018-05-25</td>\n",
       "                        <td id=\"T_ed32a_row0_col7\" class=\"data row0 col7\" >ultra</td>\n",
       "            </tr>\n",
       "            <tr>\n",
       "                        <th id=\"T_ed32a_level0_row1\" class=\"row_heading level0 row1\" >1</th>\n",
       "                        <td id=\"T_ed32a_row1_col0\" class=\"data row1 col0\" >1001</td>\n",
       "                        <td id=\"T_ed32a_row1_col1\" class=\"data row1 col1\" >41</td>\n",
       "                        <td id=\"T_ed32a_row1_col2\" class=\"data row1 col2\" >nan</td>\n",
       "                        <td id=\"T_ed32a_row1_col3\" class=\"data row1 col3\" >Москва</td>\n",
       "                        <td id=\"T_ed32a_row1_col4\" class=\"data row1 col4\" >Иван</td>\n",
       "                        <td id=\"T_ed32a_row1_col5\" class=\"data row1 col5\" >Ежов</td>\n",
       "                        <td id=\"T_ed32a_row1_col6\" class=\"data row1 col6\" >2018-11-01</td>\n",
       "                        <td id=\"T_ed32a_row1_col7\" class=\"data row1 col7\" >smart</td>\n",
       "            </tr>\n",
       "            <tr>\n",
       "                        <th id=\"T_ed32a_level0_row2\" class=\"row_heading level0 row2\" >2</th>\n",
       "                        <td id=\"T_ed32a_row2_col0\" class=\"data row2 col0\" >1002</td>\n",
       "                        <td id=\"T_ed32a_row2_col1\" class=\"data row2 col1\" >59</td>\n",
       "                        <td id=\"T_ed32a_row2_col2\" class=\"data row2 col2\" >nan</td>\n",
       "                        <td id=\"T_ed32a_row2_col3\" class=\"data row2 col3\" >Стерлитамак</td>\n",
       "                        <td id=\"T_ed32a_row2_col4\" class=\"data row2 col4\" >Евгений</td>\n",
       "                        <td id=\"T_ed32a_row2_col5\" class=\"data row2 col5\" >Абрамович</td>\n",
       "                        <td id=\"T_ed32a_row2_col6\" class=\"data row2 col6\" >2018-06-17</td>\n",
       "                        <td id=\"T_ed32a_row2_col7\" class=\"data row2 col7\" >smart</td>\n",
       "            </tr>\n",
       "            <tr>\n",
       "                        <th id=\"T_ed32a_level0_row3\" class=\"row_heading level0 row3\" >3</th>\n",
       "                        <td id=\"T_ed32a_row3_col0\" class=\"data row3 col0\" >1003</td>\n",
       "                        <td id=\"T_ed32a_row3_col1\" class=\"data row3 col1\" >23</td>\n",
       "                        <td id=\"T_ed32a_row3_col2\" class=\"data row3 col2\" >nan</td>\n",
       "                        <td id=\"T_ed32a_row3_col3\" class=\"data row3 col3\" >Москва</td>\n",
       "                        <td id=\"T_ed32a_row3_col4\" class=\"data row3 col4\" >Белла</td>\n",
       "                        <td id=\"T_ed32a_row3_col5\" class=\"data row3 col5\" >Белякова</td>\n",
       "                        <td id=\"T_ed32a_row3_col6\" class=\"data row3 col6\" >2018-08-17</td>\n",
       "                        <td id=\"T_ed32a_row3_col7\" class=\"data row3 col7\" >ultra</td>\n",
       "            </tr>\n",
       "            <tr>\n",
       "                        <th id=\"T_ed32a_level0_row4\" class=\"row_heading level0 row4\" >4</th>\n",
       "                        <td id=\"T_ed32a_row4_col0\" class=\"data row4 col0\" >1004</td>\n",
       "                        <td id=\"T_ed32a_row4_col1\" class=\"data row4 col1\" >68</td>\n",
       "                        <td id=\"T_ed32a_row4_col2\" class=\"data row4 col2\" >nan</td>\n",
       "                        <td id=\"T_ed32a_row4_col3\" class=\"data row4 col3\" >Новокузнецк</td>\n",
       "                        <td id=\"T_ed32a_row4_col4\" class=\"data row4 col4\" >Татьяна</td>\n",
       "                        <td id=\"T_ed32a_row4_col5\" class=\"data row4 col5\" >Авдеенко</td>\n",
       "                        <td id=\"T_ed32a_row4_col6\" class=\"data row4 col6\" >2018-05-14</td>\n",
       "                        <td id=\"T_ed32a_row4_col7\" class=\"data row4 col7\" >ultra</td>\n",
       "            </tr>\n",
       "            <tr>\n",
       "                        <th id=\"T_ed32a_level0_row5\" class=\"row_heading level0 row5\" >5</th>\n",
       "                        <td id=\"T_ed32a_row5_col0\" class=\"data row5 col0\" >1005</td>\n",
       "                        <td id=\"T_ed32a_row5_col1\" class=\"data row5 col1\" >67</td>\n",
       "                        <td id=\"T_ed32a_row5_col2\" class=\"data row5 col2\" >nan</td>\n",
       "                        <td id=\"T_ed32a_row5_col3\" class=\"data row5 col3\" >Набережные Челны</td>\n",
       "                        <td id=\"T_ed32a_row5_col4\" class=\"data row5 col4\" >Афанасий</td>\n",
       "                        <td id=\"T_ed32a_row5_col5\" class=\"data row5 col5\" >Горлов</td>\n",
       "                        <td id=\"T_ed32a_row5_col6\" class=\"data row5 col6\" >2018-01-25</td>\n",
       "                        <td id=\"T_ed32a_row5_col7\" class=\"data row5 col7\" >smart</td>\n",
       "            </tr>\n",
       "            <tr>\n",
       "                        <th id=\"T_ed32a_level0_row6\" class=\"row_heading level0 row6\" >6</th>\n",
       "                        <td id=\"T_ed32a_row6_col0\" class=\"data row6 col0\" >1006</td>\n",
       "                        <td id=\"T_ed32a_row6_col1\" class=\"data row6 col1\" >21</td>\n",
       "                        <td id=\"T_ed32a_row6_col2\" class=\"data row6 col2\" >nan</td>\n",
       "                        <td id=\"T_ed32a_row6_col3\" class=\"data row6 col3\" >Ульяновск</td>\n",
       "                        <td id=\"T_ed32a_row6_col4\" class=\"data row6 col4\" >Леонид</td>\n",
       "                        <td id=\"T_ed32a_row6_col5\" class=\"data row6 col5\" >Ермолаев</td>\n",
       "                        <td id=\"T_ed32a_row6_col6\" class=\"data row6 col6\" >2018-02-26</td>\n",
       "                        <td id=\"T_ed32a_row6_col7\" class=\"data row6 col7\" >smart</td>\n",
       "            </tr>\n",
       "            <tr>\n",
       "                        <th id=\"T_ed32a_level0_row7\" class=\"row_heading level0 row7\" >7</th>\n",
       "                        <td id=\"T_ed32a_row7_col0\" class=\"data row7 col0\" >1007</td>\n",
       "                        <td id=\"T_ed32a_row7_col1\" class=\"data row7 col1\" >65</td>\n",
       "                        <td id=\"T_ed32a_row7_col2\" class=\"data row7 col2\" >nan</td>\n",
       "                        <td id=\"T_ed32a_row7_col3\" class=\"data row7 col3\" >Москва</td>\n",
       "                        <td id=\"T_ed32a_row7_col4\" class=\"data row7 col4\" >Юна</td>\n",
       "                        <td id=\"T_ed32a_row7_col5\" class=\"data row7 col5\" >Березина</td>\n",
       "                        <td id=\"T_ed32a_row7_col6\" class=\"data row7 col6\" >2018-04-19</td>\n",
       "                        <td id=\"T_ed32a_row7_col7\" class=\"data row7 col7\" >smart</td>\n",
       "            </tr>\n",
       "            <tr>\n",
       "                        <th id=\"T_ed32a_level0_row8\" class=\"row_heading level0 row8\" >8</th>\n",
       "                        <td id=\"T_ed32a_row8_col0\" class=\"data row8 col0\" >1008</td>\n",
       "                        <td id=\"T_ed32a_row8_col1\" class=\"data row8 col1\" >63</td>\n",
       "                        <td id=\"T_ed32a_row8_col2\" class=\"data row8 col2\" >nan</td>\n",
       "                        <td id=\"T_ed32a_row8_col3\" class=\"data row8 col3\" >Челябинск</td>\n",
       "                        <td id=\"T_ed32a_row8_col4\" class=\"data row8 col4\" >Рустэм</td>\n",
       "                        <td id=\"T_ed32a_row8_col5\" class=\"data row8 col5\" >Пономарёв</td>\n",
       "                        <td id=\"T_ed32a_row8_col6\" class=\"data row8 col6\" >2018-12-19</td>\n",
       "                        <td id=\"T_ed32a_row8_col7\" class=\"data row8 col7\" >smart</td>\n",
       "            </tr>\n",
       "            <tr>\n",
       "                        <th id=\"T_ed32a_level0_row9\" class=\"row_heading level0 row9\" >9</th>\n",
       "                        <td id=\"T_ed32a_row9_col0\" class=\"data row9 col0\" >1009</td>\n",
       "                        <td id=\"T_ed32a_row9_col1\" class=\"data row9 col1\" >24</td>\n",
       "                        <td id=\"T_ed32a_row9_col2\" class=\"data row9 col2\" >nan</td>\n",
       "                        <td id=\"T_ed32a_row9_col3\" class=\"data row9 col3\" >Пермь</td>\n",
       "                        <td id=\"T_ed32a_row9_col4\" class=\"data row9 col4\" >Василиса</td>\n",
       "                        <td id=\"T_ed32a_row9_col5\" class=\"data row9 col5\" >Блинова</td>\n",
       "                        <td id=\"T_ed32a_row9_col6\" class=\"data row9 col6\" >2018-03-22</td>\n",
       "                        <td id=\"T_ed32a_row9_col7\" class=\"data row9 col7\" >smart</td>\n",
       "            </tr>\n",
       "    </tbody></table>"
      ],
      "text/plain": [
       "<pandas.io.formats.style.Styler at 0x7f7f5c308f10>"
      ]
     },
     "execution_count": 9,
     "metadata": {},
     "output_type": "execute_result"
    }
   ],
   "source": [
    "users.head(10).style.set_caption('Информация о пользователях').set_table_styles(\n",
    "    [{'selector': 'caption', 'props': [('color', 'blue'), ('font-size', '15px')]}]\n",
    ")"
   ]
  },
  {
   "cell_type": "code",
   "execution_count": 10,
   "metadata": {},
   "outputs": [
    {
     "name": "stdout",
     "output_type": "stream",
     "text": [
      "<class 'pandas.core.frame.DataFrame'>\n",
      "RangeIndex: 500 entries, 0 to 499\n",
      "Data columns (total 8 columns):\n",
      " #   Column      Non-Null Count  Dtype \n",
      "---  ------      --------------  ----- \n",
      " 0   user_id     500 non-null    int64 \n",
      " 1   age         500 non-null    int64 \n",
      " 2   churn_date  38 non-null     object\n",
      " 3   city        500 non-null    object\n",
      " 4   first_name  500 non-null    object\n",
      " 5   last_name   500 non-null    object\n",
      " 6   reg_date    500 non-null    object\n",
      " 7   tariff      500 non-null    object\n",
      "dtypes: int64(2), object(6)\n",
      "memory usage: 31.4+ KB\n"
     ]
    }
   ],
   "source": [
    "users.info()"
   ]
  },
  {
   "cell_type": "markdown",
   "metadata": {},
   "source": [
    "Всего в *users* 500 строк и 8 столбцов с типами данных int64(2) и object(6):\n",
    "* user_id — уникальный идентификатор пользователя\n",
    "* first_name — имя пользователя\n",
    "* last_name — фамилия пользователя\n",
    "* age — возраст пользователя (годы)\n",
    "* reg_date — дата подключения тарифа (день, месяц, год)\n",
    "* churn_date — дата прекращения пользования тарифом (если значение пропущено, то тариф ещё действовал на момент выгрузки данных)\n",
    "* city — город проживания пользователя\n",
    "* tarif — название тарифного плана\n",
    "\n",
    "В столбце *churn_date* пропущены данные для тех пользователей, у кого тариф еще действует. Больше пропусков нет."
   ]
  },
  {
   "cell_type": "code",
   "execution_count": 11,
   "metadata": {},
   "outputs": [
    {
     "data": {
      "text/html": [
       "<style  type=\"text/css\" >\n",
       "    #T_138d2_ caption {\n",
       "          color: blue;\n",
       "          font-size: 15px;\n",
       "    }</style><table id=\"T_138d2_\" ><caption>Информация о звонках</caption><thead>    <tr>        <th class=\"blank level0\" ></th>        <th class=\"col_heading level0 col0\" >id</th>        <th class=\"col_heading level0 col1\" >call_date</th>        <th class=\"col_heading level0 col2\" >duration</th>        <th class=\"col_heading level0 col3\" >user_id</th>    </tr></thead><tbody>\n",
       "                <tr>\n",
       "                        <th id=\"T_138d2_level0_row0\" class=\"row_heading level0 row0\" >0</th>\n",
       "                        <td id=\"T_138d2_row0_col0\" class=\"data row0 col0\" >1000_0</td>\n",
       "                        <td id=\"T_138d2_row0_col1\" class=\"data row0 col1\" >2018-07-25</td>\n",
       "                        <td id=\"T_138d2_row0_col2\" class=\"data row0 col2\" >0.000000</td>\n",
       "                        <td id=\"T_138d2_row0_col3\" class=\"data row0 col3\" >1000</td>\n",
       "            </tr>\n",
       "            <tr>\n",
       "                        <th id=\"T_138d2_level0_row1\" class=\"row_heading level0 row1\" >1</th>\n",
       "                        <td id=\"T_138d2_row1_col0\" class=\"data row1 col0\" >1000_1</td>\n",
       "                        <td id=\"T_138d2_row1_col1\" class=\"data row1 col1\" >2018-08-17</td>\n",
       "                        <td id=\"T_138d2_row1_col2\" class=\"data row1 col2\" >0.000000</td>\n",
       "                        <td id=\"T_138d2_row1_col3\" class=\"data row1 col3\" >1000</td>\n",
       "            </tr>\n",
       "            <tr>\n",
       "                        <th id=\"T_138d2_level0_row2\" class=\"row_heading level0 row2\" >2</th>\n",
       "                        <td id=\"T_138d2_row2_col0\" class=\"data row2 col0\" >1000_2</td>\n",
       "                        <td id=\"T_138d2_row2_col1\" class=\"data row2 col1\" >2018-06-11</td>\n",
       "                        <td id=\"T_138d2_row2_col2\" class=\"data row2 col2\" >2.850000</td>\n",
       "                        <td id=\"T_138d2_row2_col3\" class=\"data row2 col3\" >1000</td>\n",
       "            </tr>\n",
       "            <tr>\n",
       "                        <th id=\"T_138d2_level0_row3\" class=\"row_heading level0 row3\" >3</th>\n",
       "                        <td id=\"T_138d2_row3_col0\" class=\"data row3 col0\" >1000_3</td>\n",
       "                        <td id=\"T_138d2_row3_col1\" class=\"data row3 col1\" >2018-09-21</td>\n",
       "                        <td id=\"T_138d2_row3_col2\" class=\"data row3 col2\" >13.800000</td>\n",
       "                        <td id=\"T_138d2_row3_col3\" class=\"data row3 col3\" >1000</td>\n",
       "            </tr>\n",
       "            <tr>\n",
       "                        <th id=\"T_138d2_level0_row4\" class=\"row_heading level0 row4\" >4</th>\n",
       "                        <td id=\"T_138d2_row4_col0\" class=\"data row4 col0\" >1000_4</td>\n",
       "                        <td id=\"T_138d2_row4_col1\" class=\"data row4 col1\" >2018-12-15</td>\n",
       "                        <td id=\"T_138d2_row4_col2\" class=\"data row4 col2\" >5.180000</td>\n",
       "                        <td id=\"T_138d2_row4_col3\" class=\"data row4 col3\" >1000</td>\n",
       "            </tr>\n",
       "            <tr>\n",
       "                        <th id=\"T_138d2_level0_row5\" class=\"row_heading level0 row5\" >5</th>\n",
       "                        <td id=\"T_138d2_row5_col0\" class=\"data row5 col0\" >1000_5</td>\n",
       "                        <td id=\"T_138d2_row5_col1\" class=\"data row5 col1\" >2018-11-02</td>\n",
       "                        <td id=\"T_138d2_row5_col2\" class=\"data row5 col2\" >0.000000</td>\n",
       "                        <td id=\"T_138d2_row5_col3\" class=\"data row5 col3\" >1000</td>\n",
       "            </tr>\n",
       "            <tr>\n",
       "                        <th id=\"T_138d2_level0_row6\" class=\"row_heading level0 row6\" >6</th>\n",
       "                        <td id=\"T_138d2_row6_col0\" class=\"data row6 col0\" >1000_6</td>\n",
       "                        <td id=\"T_138d2_row6_col1\" class=\"data row6 col1\" >2018-10-18</td>\n",
       "                        <td id=\"T_138d2_row6_col2\" class=\"data row6 col2\" >0.000000</td>\n",
       "                        <td id=\"T_138d2_row6_col3\" class=\"data row6 col3\" >1000</td>\n",
       "            </tr>\n",
       "            <tr>\n",
       "                        <th id=\"T_138d2_level0_row7\" class=\"row_heading level0 row7\" >7</th>\n",
       "                        <td id=\"T_138d2_row7_col0\" class=\"data row7 col0\" >1000_7</td>\n",
       "                        <td id=\"T_138d2_row7_col1\" class=\"data row7 col1\" >2018-08-22</td>\n",
       "                        <td id=\"T_138d2_row7_col2\" class=\"data row7 col2\" >18.310000</td>\n",
       "                        <td id=\"T_138d2_row7_col3\" class=\"data row7 col3\" >1000</td>\n",
       "            </tr>\n",
       "            <tr>\n",
       "                        <th id=\"T_138d2_level0_row8\" class=\"row_heading level0 row8\" >8</th>\n",
       "                        <td id=\"T_138d2_row8_col0\" class=\"data row8 col0\" >1000_8</td>\n",
       "                        <td id=\"T_138d2_row8_col1\" class=\"data row8 col1\" >2018-09-15</td>\n",
       "                        <td id=\"T_138d2_row8_col2\" class=\"data row8 col2\" >18.440000</td>\n",
       "                        <td id=\"T_138d2_row8_col3\" class=\"data row8 col3\" >1000</td>\n",
       "            </tr>\n",
       "            <tr>\n",
       "                        <th id=\"T_138d2_level0_row9\" class=\"row_heading level0 row9\" >9</th>\n",
       "                        <td id=\"T_138d2_row9_col0\" class=\"data row9 col0\" >1000_9</td>\n",
       "                        <td id=\"T_138d2_row9_col1\" class=\"data row9 col1\" >2018-08-15</td>\n",
       "                        <td id=\"T_138d2_row9_col2\" class=\"data row9 col2\" >0.000000</td>\n",
       "                        <td id=\"T_138d2_row9_col3\" class=\"data row9 col3\" >1000</td>\n",
       "            </tr>\n",
       "    </tbody></table>"
      ],
      "text/plain": [
       "<pandas.io.formats.style.Styler at 0x7f7f5c308160>"
      ]
     },
     "execution_count": 11,
     "metadata": {},
     "output_type": "execute_result"
    }
   ],
   "source": [
    "calls.head(10).style.set_caption('Информация о звонках').set_table_styles(\n",
    "    [{'selector': 'caption', 'props': [('color', 'blue'), ('font-size', '15px')]}]\n",
    ")"
   ]
  },
  {
   "cell_type": "code",
   "execution_count": 12,
   "metadata": {},
   "outputs": [
    {
     "name": "stdout",
     "output_type": "stream",
     "text": [
      "<class 'pandas.core.frame.DataFrame'>\n",
      "RangeIndex: 202607 entries, 0 to 202606\n",
      "Data columns (total 4 columns):\n",
      " #   Column     Non-Null Count   Dtype  \n",
      "---  ------     --------------   -----  \n",
      " 0   id         202607 non-null  object \n",
      " 1   call_date  202607 non-null  object \n",
      " 2   duration   202607 non-null  float64\n",
      " 3   user_id    202607 non-null  int64  \n",
      "dtypes: float64(1), int64(1), object(2)\n",
      "memory usage: 6.2+ MB\n"
     ]
    }
   ],
   "source": [
    "calls.info()"
   ]
  },
  {
   "cell_type": "markdown",
   "metadata": {},
   "source": [
    "Всего в *calls* 202607 строк и 4 столбца с типами данных float64(1), int64(1), object(2):\n",
    "* id — уникальный номер звонка\n",
    "* call_date — дата звонка\n",
    "* duration — длительность звонка в минутах\n",
    "* user_id — идентификатор пользователя, сделавшего звонок\n",
    "\n",
    "Пропусков нет."
   ]
  },
  {
   "cell_type": "code",
   "execution_count": 13,
   "metadata": {},
   "outputs": [
    {
     "data": {
      "text/html": [
       "<style  type=\"text/css\" >\n",
       "    #T_8e527_ caption {\n",
       "          color: blue;\n",
       "          font-size: 15px;\n",
       "    }</style><table id=\"T_8e527_\" ><caption>Информация о сообщениях</caption><thead>    <tr>        <th class=\"blank level0\" ></th>        <th class=\"col_heading level0 col0\" >id</th>        <th class=\"col_heading level0 col1\" >message_date</th>        <th class=\"col_heading level0 col2\" >user_id</th>    </tr></thead><tbody>\n",
       "                <tr>\n",
       "                        <th id=\"T_8e527_level0_row0\" class=\"row_heading level0 row0\" >0</th>\n",
       "                        <td id=\"T_8e527_row0_col0\" class=\"data row0 col0\" >1000_0</td>\n",
       "                        <td id=\"T_8e527_row0_col1\" class=\"data row0 col1\" >2018-06-27</td>\n",
       "                        <td id=\"T_8e527_row0_col2\" class=\"data row0 col2\" >1000</td>\n",
       "            </tr>\n",
       "            <tr>\n",
       "                        <th id=\"T_8e527_level0_row1\" class=\"row_heading level0 row1\" >1</th>\n",
       "                        <td id=\"T_8e527_row1_col0\" class=\"data row1 col0\" >1000_1</td>\n",
       "                        <td id=\"T_8e527_row1_col1\" class=\"data row1 col1\" >2018-10-08</td>\n",
       "                        <td id=\"T_8e527_row1_col2\" class=\"data row1 col2\" >1000</td>\n",
       "            </tr>\n",
       "            <tr>\n",
       "                        <th id=\"T_8e527_level0_row2\" class=\"row_heading level0 row2\" >2</th>\n",
       "                        <td id=\"T_8e527_row2_col0\" class=\"data row2 col0\" >1000_2</td>\n",
       "                        <td id=\"T_8e527_row2_col1\" class=\"data row2 col1\" >2018-08-04</td>\n",
       "                        <td id=\"T_8e527_row2_col2\" class=\"data row2 col2\" >1000</td>\n",
       "            </tr>\n",
       "            <tr>\n",
       "                        <th id=\"T_8e527_level0_row3\" class=\"row_heading level0 row3\" >3</th>\n",
       "                        <td id=\"T_8e527_row3_col0\" class=\"data row3 col0\" >1000_3</td>\n",
       "                        <td id=\"T_8e527_row3_col1\" class=\"data row3 col1\" >2018-06-16</td>\n",
       "                        <td id=\"T_8e527_row3_col2\" class=\"data row3 col2\" >1000</td>\n",
       "            </tr>\n",
       "            <tr>\n",
       "                        <th id=\"T_8e527_level0_row4\" class=\"row_heading level0 row4\" >4</th>\n",
       "                        <td id=\"T_8e527_row4_col0\" class=\"data row4 col0\" >1000_4</td>\n",
       "                        <td id=\"T_8e527_row4_col1\" class=\"data row4 col1\" >2018-12-05</td>\n",
       "                        <td id=\"T_8e527_row4_col2\" class=\"data row4 col2\" >1000</td>\n",
       "            </tr>\n",
       "            <tr>\n",
       "                        <th id=\"T_8e527_level0_row5\" class=\"row_heading level0 row5\" >5</th>\n",
       "                        <td id=\"T_8e527_row5_col0\" class=\"data row5 col0\" >1000_5</td>\n",
       "                        <td id=\"T_8e527_row5_col1\" class=\"data row5 col1\" >2018-06-20</td>\n",
       "                        <td id=\"T_8e527_row5_col2\" class=\"data row5 col2\" >1000</td>\n",
       "            </tr>\n",
       "            <tr>\n",
       "                        <th id=\"T_8e527_level0_row6\" class=\"row_heading level0 row6\" >6</th>\n",
       "                        <td id=\"T_8e527_row6_col0\" class=\"data row6 col0\" >1000_6</td>\n",
       "                        <td id=\"T_8e527_row6_col1\" class=\"data row6 col1\" >2018-11-19</td>\n",
       "                        <td id=\"T_8e527_row6_col2\" class=\"data row6 col2\" >1000</td>\n",
       "            </tr>\n",
       "            <tr>\n",
       "                        <th id=\"T_8e527_level0_row7\" class=\"row_heading level0 row7\" >7</th>\n",
       "                        <td id=\"T_8e527_row7_col0\" class=\"data row7 col0\" >1000_7</td>\n",
       "                        <td id=\"T_8e527_row7_col1\" class=\"data row7 col1\" >2018-10-29</td>\n",
       "                        <td id=\"T_8e527_row7_col2\" class=\"data row7 col2\" >1000</td>\n",
       "            </tr>\n",
       "            <tr>\n",
       "                        <th id=\"T_8e527_level0_row8\" class=\"row_heading level0 row8\" >8</th>\n",
       "                        <td id=\"T_8e527_row8_col0\" class=\"data row8 col0\" >1000_8</td>\n",
       "                        <td id=\"T_8e527_row8_col1\" class=\"data row8 col1\" >2018-06-25</td>\n",
       "                        <td id=\"T_8e527_row8_col2\" class=\"data row8 col2\" >1000</td>\n",
       "            </tr>\n",
       "            <tr>\n",
       "                        <th id=\"T_8e527_level0_row9\" class=\"row_heading level0 row9\" >9</th>\n",
       "                        <td id=\"T_8e527_row9_col0\" class=\"data row9 col0\" >1000_9</td>\n",
       "                        <td id=\"T_8e527_row9_col1\" class=\"data row9 col1\" >2018-12-18</td>\n",
       "                        <td id=\"T_8e527_row9_col2\" class=\"data row9 col2\" >1000</td>\n",
       "            </tr>\n",
       "    </tbody></table>"
      ],
      "text/plain": [
       "<pandas.io.formats.style.Styler at 0x7f7f5c36f3d0>"
      ]
     },
     "execution_count": 13,
     "metadata": {},
     "output_type": "execute_result"
    }
   ],
   "source": [
    "messages.head(10).style.set_caption('Информация о сообщениях').set_table_styles(\n",
    "    [{'selector': 'caption', 'props': [('color', 'blue'), ('font-size', '15px')]}]\n",
    ")"
   ]
  },
  {
   "cell_type": "code",
   "execution_count": 14,
   "metadata": {},
   "outputs": [
    {
     "name": "stdout",
     "output_type": "stream",
     "text": [
      "<class 'pandas.core.frame.DataFrame'>\n",
      "RangeIndex: 123036 entries, 0 to 123035\n",
      "Data columns (total 3 columns):\n",
      " #   Column        Non-Null Count   Dtype \n",
      "---  ------        --------------   ----- \n",
      " 0   id            123036 non-null  object\n",
      " 1   message_date  123036 non-null  object\n",
      " 2   user_id       123036 non-null  int64 \n",
      "dtypes: int64(1), object(2)\n",
      "memory usage: 2.8+ MB\n"
     ]
    }
   ],
   "source": [
    "messages.info()"
   ]
  },
  {
   "cell_type": "markdown",
   "metadata": {},
   "source": [
    "Всего в *messages* 123036 строк и 3 столбца с типами данных int64(1), object(2):\n",
    "* id — уникальный номер сообщения\n",
    "* message_date — дата сообщения\n",
    "* user_id — идентификатор пользователя, отправившего сообщение\n",
    "\n",
    "Пропусков нет."
   ]
  },
  {
   "cell_type": "code",
   "execution_count": 15,
   "metadata": {},
   "outputs": [
    {
     "data": {
      "text/html": [
       "<style  type=\"text/css\" >\n",
       "    #T_612af_ caption {\n",
       "          color: blue;\n",
       "          font-size: 15px;\n",
       "    }</style><table id=\"T_612af_\" ><caption>Информация об интернет-сессиях</caption><thead>    <tr>        <th class=\"blank level0\" ></th>        <th class=\"col_heading level0 col0\" >Unnamed: 0</th>        <th class=\"col_heading level0 col1\" >id</th>        <th class=\"col_heading level0 col2\" >mb_used</th>        <th class=\"col_heading level0 col3\" >session_date</th>        <th class=\"col_heading level0 col4\" >user_id</th>    </tr></thead><tbody>\n",
       "                <tr>\n",
       "                        <th id=\"T_612af_level0_row0\" class=\"row_heading level0 row0\" >0</th>\n",
       "                        <td id=\"T_612af_row0_col0\" class=\"data row0 col0\" >0</td>\n",
       "                        <td id=\"T_612af_row0_col1\" class=\"data row0 col1\" >1000_0</td>\n",
       "                        <td id=\"T_612af_row0_col2\" class=\"data row0 col2\" >112.950000</td>\n",
       "                        <td id=\"T_612af_row0_col3\" class=\"data row0 col3\" >2018-11-25</td>\n",
       "                        <td id=\"T_612af_row0_col4\" class=\"data row0 col4\" >1000</td>\n",
       "            </tr>\n",
       "            <tr>\n",
       "                        <th id=\"T_612af_level0_row1\" class=\"row_heading level0 row1\" >1</th>\n",
       "                        <td id=\"T_612af_row1_col0\" class=\"data row1 col0\" >1</td>\n",
       "                        <td id=\"T_612af_row1_col1\" class=\"data row1 col1\" >1000_1</td>\n",
       "                        <td id=\"T_612af_row1_col2\" class=\"data row1 col2\" >1052.810000</td>\n",
       "                        <td id=\"T_612af_row1_col3\" class=\"data row1 col3\" >2018-09-07</td>\n",
       "                        <td id=\"T_612af_row1_col4\" class=\"data row1 col4\" >1000</td>\n",
       "            </tr>\n",
       "            <tr>\n",
       "                        <th id=\"T_612af_level0_row2\" class=\"row_heading level0 row2\" >2</th>\n",
       "                        <td id=\"T_612af_row2_col0\" class=\"data row2 col0\" >2</td>\n",
       "                        <td id=\"T_612af_row2_col1\" class=\"data row2 col1\" >1000_2</td>\n",
       "                        <td id=\"T_612af_row2_col2\" class=\"data row2 col2\" >1197.260000</td>\n",
       "                        <td id=\"T_612af_row2_col3\" class=\"data row2 col3\" >2018-06-25</td>\n",
       "                        <td id=\"T_612af_row2_col4\" class=\"data row2 col4\" >1000</td>\n",
       "            </tr>\n",
       "            <tr>\n",
       "                        <th id=\"T_612af_level0_row3\" class=\"row_heading level0 row3\" >3</th>\n",
       "                        <td id=\"T_612af_row3_col0\" class=\"data row3 col0\" >3</td>\n",
       "                        <td id=\"T_612af_row3_col1\" class=\"data row3 col1\" >1000_3</td>\n",
       "                        <td id=\"T_612af_row3_col2\" class=\"data row3 col2\" >550.270000</td>\n",
       "                        <td id=\"T_612af_row3_col3\" class=\"data row3 col3\" >2018-08-22</td>\n",
       "                        <td id=\"T_612af_row3_col4\" class=\"data row3 col4\" >1000</td>\n",
       "            </tr>\n",
       "            <tr>\n",
       "                        <th id=\"T_612af_level0_row4\" class=\"row_heading level0 row4\" >4</th>\n",
       "                        <td id=\"T_612af_row4_col0\" class=\"data row4 col0\" >4</td>\n",
       "                        <td id=\"T_612af_row4_col1\" class=\"data row4 col1\" >1000_4</td>\n",
       "                        <td id=\"T_612af_row4_col2\" class=\"data row4 col2\" >302.560000</td>\n",
       "                        <td id=\"T_612af_row4_col3\" class=\"data row4 col3\" >2018-09-24</td>\n",
       "                        <td id=\"T_612af_row4_col4\" class=\"data row4 col4\" >1000</td>\n",
       "            </tr>\n",
       "            <tr>\n",
       "                        <th id=\"T_612af_level0_row5\" class=\"row_heading level0 row5\" >5</th>\n",
       "                        <td id=\"T_612af_row5_col0\" class=\"data row5 col0\" >5</td>\n",
       "                        <td id=\"T_612af_row5_col1\" class=\"data row5 col1\" >1000_5</td>\n",
       "                        <td id=\"T_612af_row5_col2\" class=\"data row5 col2\" >399.970000</td>\n",
       "                        <td id=\"T_612af_row5_col3\" class=\"data row5 col3\" >2018-10-02</td>\n",
       "                        <td id=\"T_612af_row5_col4\" class=\"data row5 col4\" >1000</td>\n",
       "            </tr>\n",
       "            <tr>\n",
       "                        <th id=\"T_612af_level0_row6\" class=\"row_heading level0 row6\" >6</th>\n",
       "                        <td id=\"T_612af_row6_col0\" class=\"data row6 col0\" >6</td>\n",
       "                        <td id=\"T_612af_row6_col1\" class=\"data row6 col1\" >1000_6</td>\n",
       "                        <td id=\"T_612af_row6_col2\" class=\"data row6 col2\" >540.080000</td>\n",
       "                        <td id=\"T_612af_row6_col3\" class=\"data row6 col3\" >2018-09-07</td>\n",
       "                        <td id=\"T_612af_row6_col4\" class=\"data row6 col4\" >1000</td>\n",
       "            </tr>\n",
       "            <tr>\n",
       "                        <th id=\"T_612af_level0_row7\" class=\"row_heading level0 row7\" >7</th>\n",
       "                        <td id=\"T_612af_row7_col0\" class=\"data row7 col0\" >7</td>\n",
       "                        <td id=\"T_612af_row7_col1\" class=\"data row7 col1\" >1000_7</td>\n",
       "                        <td id=\"T_612af_row7_col2\" class=\"data row7 col2\" >415.700000</td>\n",
       "                        <td id=\"T_612af_row7_col3\" class=\"data row7 col3\" >2018-07-11</td>\n",
       "                        <td id=\"T_612af_row7_col4\" class=\"data row7 col4\" >1000</td>\n",
       "            </tr>\n",
       "            <tr>\n",
       "                        <th id=\"T_612af_level0_row8\" class=\"row_heading level0 row8\" >8</th>\n",
       "                        <td id=\"T_612af_row8_col0\" class=\"data row8 col0\" >8</td>\n",
       "                        <td id=\"T_612af_row8_col1\" class=\"data row8 col1\" >1000_8</td>\n",
       "                        <td id=\"T_612af_row8_col2\" class=\"data row8 col2\" >505.400000</td>\n",
       "                        <td id=\"T_612af_row8_col3\" class=\"data row8 col3\" >2018-10-08</td>\n",
       "                        <td id=\"T_612af_row8_col4\" class=\"data row8 col4\" >1000</td>\n",
       "            </tr>\n",
       "            <tr>\n",
       "                        <th id=\"T_612af_level0_row9\" class=\"row_heading level0 row9\" >9</th>\n",
       "                        <td id=\"T_612af_row9_col0\" class=\"data row9 col0\" >9</td>\n",
       "                        <td id=\"T_612af_row9_col1\" class=\"data row9 col1\" >1000_9</td>\n",
       "                        <td id=\"T_612af_row9_col2\" class=\"data row9 col2\" >345.540000</td>\n",
       "                        <td id=\"T_612af_row9_col3\" class=\"data row9 col3\" >2018-09-03</td>\n",
       "                        <td id=\"T_612af_row9_col4\" class=\"data row9 col4\" >1000</td>\n",
       "            </tr>\n",
       "    </tbody></table>"
      ],
      "text/plain": [
       "<pandas.io.formats.style.Styler at 0x7f7f5c3bdfd0>"
      ]
     },
     "execution_count": 15,
     "metadata": {},
     "output_type": "execute_result"
    }
   ],
   "source": [
    "internet.head(10).style.set_caption('Информация об интернет-сессиях').set_table_styles(\n",
    "    [{'selector': 'caption', 'props': [('color', 'blue'), ('font-size', '15px')]}]\n",
    ")"
   ]
  },
  {
   "cell_type": "code",
   "execution_count": 16,
   "metadata": {},
   "outputs": [
    {
     "name": "stdout",
     "output_type": "stream",
     "text": [
      "<class 'pandas.core.frame.DataFrame'>\n",
      "RangeIndex: 149396 entries, 0 to 149395\n",
      "Data columns (total 5 columns):\n",
      " #   Column        Non-Null Count   Dtype  \n",
      "---  ------        --------------   -----  \n",
      " 0   Unnamed: 0    149396 non-null  int64  \n",
      " 1   id            149396 non-null  object \n",
      " 2   mb_used       149396 non-null  float64\n",
      " 3   session_date  149396 non-null  object \n",
      " 4   user_id       149396 non-null  int64  \n",
      "dtypes: float64(1), int64(2), object(2)\n",
      "memory usage: 5.7+ MB\n"
     ]
    }
   ],
   "source": [
    "internet.info()"
   ]
  },
  {
   "cell_type": "markdown",
   "metadata": {},
   "source": [
    "Всего в *internet* 149396 строк и 5 столбцов с типами данных float64(1), int64(2), object(2):\n",
    "* id — уникальный номер сессии\n",
    "* mb_used — объём потраченного за сессию интернет-трафика (в мегабайтах)\n",
    "* session_date — дата интернет-сессии\n",
    "* user_id — идентификатор пользователя\n",
    "\n",
    "Ещё один столбец повторяет индексы, его можно будет удалить **!!!**\n",
    "Пропусков нет."
   ]
  },
  {
   "cell_type": "code",
   "execution_count": 17,
   "metadata": {},
   "outputs": [
    {
     "data": {
      "text/html": [
       "<style  type=\"text/css\" >\n",
       "    #T_586c4_ caption {\n",
       "          color: blue;\n",
       "          font-size: 15px;\n",
       "    }</style><table id=\"T_586c4_\" ><caption>Информация о тарифах</caption><thead>    <tr>        <th class=\"blank level0\" ></th>        <th class=\"col_heading level0 col0\" >messages_included</th>        <th class=\"col_heading level0 col1\" >mb_per_month_included</th>        <th class=\"col_heading level0 col2\" >minutes_included</th>        <th class=\"col_heading level0 col3\" >rub_monthly_fee</th>        <th class=\"col_heading level0 col4\" >rub_per_gb</th>        <th class=\"col_heading level0 col5\" >rub_per_message</th>        <th class=\"col_heading level0 col6\" >rub_per_minute</th>        <th class=\"col_heading level0 col7\" >tariff_name</th>    </tr></thead><tbody>\n",
       "                <tr>\n",
       "                        <th id=\"T_586c4_level0_row0\" class=\"row_heading level0 row0\" >0</th>\n",
       "                        <td id=\"T_586c4_row0_col0\" class=\"data row0 col0\" >50</td>\n",
       "                        <td id=\"T_586c4_row0_col1\" class=\"data row0 col1\" >15360</td>\n",
       "                        <td id=\"T_586c4_row0_col2\" class=\"data row0 col2\" >500</td>\n",
       "                        <td id=\"T_586c4_row0_col3\" class=\"data row0 col3\" >550</td>\n",
       "                        <td id=\"T_586c4_row0_col4\" class=\"data row0 col4\" >200</td>\n",
       "                        <td id=\"T_586c4_row0_col5\" class=\"data row0 col5\" >3</td>\n",
       "                        <td id=\"T_586c4_row0_col6\" class=\"data row0 col6\" >3</td>\n",
       "                        <td id=\"T_586c4_row0_col7\" class=\"data row0 col7\" >smart</td>\n",
       "            </tr>\n",
       "            <tr>\n",
       "                        <th id=\"T_586c4_level0_row1\" class=\"row_heading level0 row1\" >1</th>\n",
       "                        <td id=\"T_586c4_row1_col0\" class=\"data row1 col0\" >1000</td>\n",
       "                        <td id=\"T_586c4_row1_col1\" class=\"data row1 col1\" >30720</td>\n",
       "                        <td id=\"T_586c4_row1_col2\" class=\"data row1 col2\" >3000</td>\n",
       "                        <td id=\"T_586c4_row1_col3\" class=\"data row1 col3\" >1950</td>\n",
       "                        <td id=\"T_586c4_row1_col4\" class=\"data row1 col4\" >150</td>\n",
       "                        <td id=\"T_586c4_row1_col5\" class=\"data row1 col5\" >1</td>\n",
       "                        <td id=\"T_586c4_row1_col6\" class=\"data row1 col6\" >1</td>\n",
       "                        <td id=\"T_586c4_row1_col7\" class=\"data row1 col7\" >ultra</td>\n",
       "            </tr>\n",
       "    </tbody></table>"
      ],
      "text/plain": [
       "<pandas.io.formats.style.Styler at 0x7f7f5c3b5490>"
      ]
     },
     "execution_count": 17,
     "metadata": {},
     "output_type": "execute_result"
    }
   ],
   "source": [
    "tariffs.head(10).style.set_caption('Информация о тарифах').set_table_styles(\n",
    "    [{'selector': 'caption', 'props': [('color', 'blue'), ('font-size', '15px')]}]\n",
    ")"
   ]
  },
  {
   "cell_type": "code",
   "execution_count": 18,
   "metadata": {},
   "outputs": [
    {
     "name": "stdout",
     "output_type": "stream",
     "text": [
      "<class 'pandas.core.frame.DataFrame'>\n",
      "RangeIndex: 2 entries, 0 to 1\n",
      "Data columns (total 8 columns):\n",
      " #   Column                 Non-Null Count  Dtype \n",
      "---  ------                 --------------  ----- \n",
      " 0   messages_included      2 non-null      int64 \n",
      " 1   mb_per_month_included  2 non-null      int64 \n",
      " 2   minutes_included       2 non-null      int64 \n",
      " 3   rub_monthly_fee        2 non-null      int64 \n",
      " 4   rub_per_gb             2 non-null      int64 \n",
      " 5   rub_per_message        2 non-null      int64 \n",
      " 6   rub_per_minute         2 non-null      int64 \n",
      " 7   tariff_name            2 non-null      object\n",
      "dtypes: int64(7), object(1)\n",
      "memory usage: 256.0+ bytes\n"
     ]
    }
   ],
   "source": [
    "tariffs.info()"
   ]
  },
  {
   "cell_type": "markdown",
   "metadata": {},
   "source": [
    "Всего в *tariffs* 2 строк и 8 столбцов с типами данных int64(7), object(1):\n",
    "* tariff_name — название тарифа\n",
    "* rub_monthly_fee — ежемесячная абонентская плата в рублях\n",
    "* minutes_included — количество минут разговора в месяц, включённых в абонентскую плату\n",
    "* messages_included — количество сообщений в месяц, включённых в абонентскую плату\n",
    "* mb_per_month_included — объём интернет-трафика, включённого в абонентскую плату (в мегабайтах)\n",
    "* rub_per_minute — стоимость минуты разговора сверх тарифного пакета (например, если в тарифе 100 минут разговора в месяц, то со 101 минуты будет взиматься плата)\n",
    "* rub_per_message — стоимость отправки сообщения сверх тарифного пакета\n",
    "* rub_per_gb — стоимость дополнительного гигабайта интернет-трафика сверх тарифного пакета (1 гигабайт = 1024 мегабайта)\n",
    "\n",
    "Пропусков нет."
   ]
  },
  {
   "cell_type": "markdown",
   "metadata": {},
   "source": [
    "### Вывод \n",
    "Пропусков нет, можно переходить к приведению к нужным типам данных и обработке ошибок."
   ]
  },
  {
   "cell_type": "markdown",
   "metadata": {},
   "source": [
    "## Предобработка данных."
   ]
  },
  {
   "cell_type": "markdown",
   "metadata": {},
   "source": [
    "### Приведение данных к нужным типам\n",
    "Заменим типы столбцов с датами со строчного на временной."
   ]
  },
  {
   "cell_type": "code",
   "execution_count": 19,
   "metadata": {},
   "outputs": [],
   "source": [
    "users['reg_date'] = pd.to_datetime(users['reg_date'], format = '%Y-%m-%d')\n",
    "users['churn_date'] = pd.to_datetime(users['reg_date'], format = '%Y-%m-%d')\n",
    "calls['call_date'] = pd.to_datetime(calls['call_date'], format = '%Y-%m-%d')\n",
    "messages['message_date'] = pd.to_datetime(messages['message_date'], format = '%Y-%m-%d')\n",
    "internet['session_date'] = pd.to_datetime(internet['session_date'], format = '%Y-%m-%d')"
   ]
  },
  {
   "cell_type": "markdown",
   "metadata": {},
   "source": [
    "### Исправление ошибок"
   ]
  },
  {
   "cell_type": "markdown",
   "metadata": {},
   "source": [
    "Для начала удалим лишний столбец, обнаруженный на 1 шаге."
   ]
  },
  {
   "cell_type": "code",
   "execution_count": 20,
   "metadata": {},
   "outputs": [
    {
     "name": "stdout",
     "output_type": "stream",
     "text": [
      "<class 'pandas.core.frame.DataFrame'>\n",
      "RangeIndex: 149396 entries, 0 to 149395\n",
      "Data columns (total 4 columns):\n",
      " #   Column        Non-Null Count   Dtype         \n",
      "---  ------        --------------   -----         \n",
      " 0   id            149396 non-null  object        \n",
      " 1   mb_used       149396 non-null  float64       \n",
      " 2   session_date  149396 non-null  datetime64[ns]\n",
      " 3   user_id       149396 non-null  int64         \n",
      "dtypes: datetime64[ns](1), float64(1), int64(1), object(1)\n",
      "memory usage: 4.6+ MB\n"
     ]
    }
   ],
   "source": [
    "internet = internet.drop('Unnamed: 0', 1)\n",
    "internet.info()"
   ]
  },
  {
   "cell_type": "markdown",
   "metadata": {},
   "source": [
    "«Мегалайн» всегда округляет секунды до минут, а мегабайты — до гигабайт. Каждый звонок округляется отдельно: даже если он длился всего 1 секунду, будет засчитан как 1 минута, поэтому округлим значения длительности звонка.\n",
    "\n",
    "Для веб-трафика отдельные сессии не считаются. Вместо этого общая сумма за месяц округляется в бо́льшую сторону. Поэтому округлим позже, когда посчитаем сумму."
   ]
  },
  {
   "cell_type": "code",
   "execution_count": 21,
   "metadata": {},
   "outputs": [
    {
     "data": {
      "text/plain": [
       "0     0.00\n",
       "1     0.00\n",
       "2     2.85\n",
       "3    13.80\n",
       "4     5.18\n",
       "5     0.00\n",
       "6     0.00\n",
       "7    18.31\n",
       "8    18.44\n",
       "9     0.00\n",
       "Name: duration, dtype: float64"
      ]
     },
     "execution_count": 21,
     "metadata": {},
     "output_type": "execute_result"
    }
   ],
   "source": [
    "calls['duration'].head(10)"
   ]
  },
  {
   "cell_type": "code",
   "execution_count": 22,
   "metadata": {},
   "outputs": [
    {
     "data": {
      "text/plain": [
       "0     0\n",
       "1     0\n",
       "2     3\n",
       "3    14\n",
       "4     6\n",
       "5     0\n",
       "6     0\n",
       "7    19\n",
       "8    19\n",
       "9     0\n",
       "Name: duration, dtype: int64"
      ]
     },
     "execution_count": 22,
     "metadata": {},
     "output_type": "execute_result"
    }
   ],
   "source": [
    "calls['duration'] = calls['duration'].apply(math.ceil)\n",
    "calls['duration'].head(10)"
   ]
  },
  {
   "cell_type": "markdown",
   "metadata": {},
   "source": [
    "### Данные по пользователям"
   ]
  },
  {
   "cell_type": "markdown",
   "metadata": {},
   "source": [
    "#### Количество сделанных звонков и израсходованных минут разговора по месяцам"
   ]
  },
  {
   "cell_type": "markdown",
   "metadata": {},
   "source": [
    "Создадим столбец с месяцем в таблице *calls*."
   ]
  },
  {
   "cell_type": "code",
   "execution_count": 23,
   "metadata": {},
   "outputs": [
    {
     "data": {
      "text/plain": [
       "0     7\n",
       "1     8\n",
       "2     6\n",
       "3     9\n",
       "4    12\n",
       "5    11\n",
       "6    10\n",
       "7     8\n",
       "8     9\n",
       "9     8\n",
       "Name: month, dtype: int64"
      ]
     },
     "execution_count": 23,
     "metadata": {},
     "output_type": "execute_result"
    }
   ],
   "source": [
    "calls['month'] = calls['call_date'].dt.month\n",
    "calls['month'].head(10)"
   ]
  },
  {
   "cell_type": "markdown",
   "metadata": {},
   "source": [
    "Создадим таблицу *calls_info* с информацией о количестве сделанных звонков и количестве использованных минут по месяцам для каждого пользователя. \n",
    "\n",
    "Не будем рассматривать звонки, которые длились 0 минут (это пропущенные звонки). Они не важны для дальнейшего анализа, так как за них не берется плата."
   ]
  },
  {
   "cell_type": "code",
   "execution_count": 24,
   "metadata": {},
   "outputs": [
    {
     "data": {
      "text/html": [
       "<style  type=\"text/css\" >\n",
       "    #T_9ca68_ caption {\n",
       "          color: blue;\n",
       "          font-size: 15px;\n",
       "    }</style><table id=\"T_9ca68_\" ><caption>Количество сделанных звонков и израсходованных минут разговора по месяцам</caption><thead>    <tr>        <th class=\"blank level0\" ></th>        <th class=\"col_heading level0 col0\" >user_id</th>        <th class=\"col_heading level0 col1\" >month</th>        <th class=\"col_heading level0 col2\" >calls_per_month</th>        <th class=\"col_heading level0 col3\" >minutes_per_month</th>    </tr></thead><tbody>\n",
       "                <tr>\n",
       "                        <th id=\"T_9ca68_level0_row0\" class=\"row_heading level0 row0\" >0</th>\n",
       "                        <td id=\"T_9ca68_row0_col0\" class=\"data row0 col0\" >1000</td>\n",
       "                        <td id=\"T_9ca68_row0_col1\" class=\"data row0 col1\" >5</td>\n",
       "                        <td id=\"T_9ca68_row0_col2\" class=\"data row0 col2\" >17</td>\n",
       "                        <td id=\"T_9ca68_row0_col3\" class=\"data row0 col3\" >159</td>\n",
       "            </tr>\n",
       "            <tr>\n",
       "                        <th id=\"T_9ca68_level0_row1\" class=\"row_heading level0 row1\" >1</th>\n",
       "                        <td id=\"T_9ca68_row1_col0\" class=\"data row1 col0\" >1000</td>\n",
       "                        <td id=\"T_9ca68_row1_col1\" class=\"data row1 col1\" >6</td>\n",
       "                        <td id=\"T_9ca68_row1_col2\" class=\"data row1 col2\" >28</td>\n",
       "                        <td id=\"T_9ca68_row1_col3\" class=\"data row1 col3\" >172</td>\n",
       "            </tr>\n",
       "            <tr>\n",
       "                        <th id=\"T_9ca68_level0_row2\" class=\"row_heading level0 row2\" >2</th>\n",
       "                        <td id=\"T_9ca68_row2_col0\" class=\"data row2 col0\" >1000</td>\n",
       "                        <td id=\"T_9ca68_row2_col1\" class=\"data row2 col1\" >7</td>\n",
       "                        <td id=\"T_9ca68_row2_col2\" class=\"data row2 col2\" >41</td>\n",
       "                        <td id=\"T_9ca68_row2_col3\" class=\"data row2 col3\" >340</td>\n",
       "            </tr>\n",
       "            <tr>\n",
       "                        <th id=\"T_9ca68_level0_row3\" class=\"row_heading level0 row3\" >3</th>\n",
       "                        <td id=\"T_9ca68_row3_col0\" class=\"data row3 col0\" >1000</td>\n",
       "                        <td id=\"T_9ca68_row3_col1\" class=\"data row3 col1\" >8</td>\n",
       "                        <td id=\"T_9ca68_row3_col2\" class=\"data row3 col2\" >42</td>\n",
       "                        <td id=\"T_9ca68_row3_col3\" class=\"data row3 col3\" >408</td>\n",
       "            </tr>\n",
       "            <tr>\n",
       "                        <th id=\"T_9ca68_level0_row4\" class=\"row_heading level0 row4\" >4</th>\n",
       "                        <td id=\"T_9ca68_row4_col0\" class=\"data row4 col0\" >1000</td>\n",
       "                        <td id=\"T_9ca68_row4_col1\" class=\"data row4 col1\" >9</td>\n",
       "                        <td id=\"T_9ca68_row4_col2\" class=\"data row4 col2\" >46</td>\n",
       "                        <td id=\"T_9ca68_row4_col3\" class=\"data row4 col3\" >466</td>\n",
       "            </tr>\n",
       "            <tr>\n",
       "                        <th id=\"T_9ca68_level0_row5\" class=\"row_heading level0 row5\" >5</th>\n",
       "                        <td id=\"T_9ca68_row5_col0\" class=\"data row5 col0\" >1000</td>\n",
       "                        <td id=\"T_9ca68_row5_col1\" class=\"data row5 col1\" >10</td>\n",
       "                        <td id=\"T_9ca68_row5_col2\" class=\"data row5 col2\" >44</td>\n",
       "                        <td id=\"T_9ca68_row5_col3\" class=\"data row5 col3\" >350</td>\n",
       "            </tr>\n",
       "            <tr>\n",
       "                        <th id=\"T_9ca68_level0_row6\" class=\"row_heading level0 row6\" >6</th>\n",
       "                        <td id=\"T_9ca68_row6_col0\" class=\"data row6 col0\" >1000</td>\n",
       "                        <td id=\"T_9ca68_row6_col1\" class=\"data row6 col1\" >11</td>\n",
       "                        <td id=\"T_9ca68_row6_col2\" class=\"data row6 col2\" >37</td>\n",
       "                        <td id=\"T_9ca68_row6_col3\" class=\"data row6 col3\" >338</td>\n",
       "            </tr>\n",
       "            <tr>\n",
       "                        <th id=\"T_9ca68_level0_row7\" class=\"row_heading level0 row7\" >7</th>\n",
       "                        <td id=\"T_9ca68_row7_col0\" class=\"data row7 col0\" >1000</td>\n",
       "                        <td id=\"T_9ca68_row7_col1\" class=\"data row7 col1\" >12</td>\n",
       "                        <td id=\"T_9ca68_row7_col2\" class=\"data row7 col2\" >38</td>\n",
       "                        <td id=\"T_9ca68_row7_col3\" class=\"data row7 col3\" >333</td>\n",
       "            </tr>\n",
       "            <tr>\n",
       "                        <th id=\"T_9ca68_level0_row8\" class=\"row_heading level0 row8\" >8</th>\n",
       "                        <td id=\"T_9ca68_row8_col0\" class=\"data row8 col0\" >1001</td>\n",
       "                        <td id=\"T_9ca68_row8_col1\" class=\"data row8 col1\" >11</td>\n",
       "                        <td id=\"T_9ca68_row8_col2\" class=\"data row8 col2\" >45</td>\n",
       "                        <td id=\"T_9ca68_row8_col3\" class=\"data row8 col3\" >430</td>\n",
       "            </tr>\n",
       "            <tr>\n",
       "                        <th id=\"T_9ca68_level0_row9\" class=\"row_heading level0 row9\" >9</th>\n",
       "                        <td id=\"T_9ca68_row9_col0\" class=\"data row9 col0\" >1001</td>\n",
       "                        <td id=\"T_9ca68_row9_col1\" class=\"data row9 col1\" >12</td>\n",
       "                        <td id=\"T_9ca68_row9_col2\" class=\"data row9 col2\" >47</td>\n",
       "                        <td id=\"T_9ca68_row9_col3\" class=\"data row9 col3\" >414</td>\n",
       "            </tr>\n",
       "    </tbody></table>"
      ],
      "text/plain": [
       "<pandas.io.formats.style.Styler at 0x7f7f5c3b5c70>"
      ]
     },
     "execution_count": 24,
     "metadata": {},
     "output_type": "execute_result"
    }
   ],
   "source": [
    "calls_info = calls.query('duration != 0').pivot_table(\n",
    "    values=['duration'], index=['user_id', 'month'], \n",
    "    aggfunc={'duration': ['count', 'sum']}\n",
    ")\n",
    "calls_info.columns = ['calls_per_month', 'minutes_per_month']\n",
    "calls_info.head(10).reset_index().style.set_caption('Количество сделанных звонков и израсходованных минут разговора по месяцам').set_table_styles(\n",
    "    [{'selector': 'caption', 'props': [('color', 'blue'), ('font-size', '15px')]}]\n",
    ")"
   ]
  },
  {
   "cell_type": "markdown",
   "metadata": {},
   "source": [
    "#### Количество отправленных сообщений по месяцам"
   ]
  },
  {
   "cell_type": "markdown",
   "metadata": {},
   "source": [
    "Создадим столбец с месяцем в таблице *messages*."
   ]
  },
  {
   "cell_type": "code",
   "execution_count": 25,
   "metadata": {},
   "outputs": [
    {
     "data": {
      "text/plain": [
       "0     6\n",
       "1    10\n",
       "2     8\n",
       "3     6\n",
       "4    12\n",
       "5     6\n",
       "6    11\n",
       "7    10\n",
       "8     6\n",
       "9    12\n",
       "Name: month, dtype: int64"
      ]
     },
     "execution_count": 25,
     "metadata": {},
     "output_type": "execute_result"
    }
   ],
   "source": [
    "messages['month'] = messages['message_date'].dt.month\n",
    "messages['month'].head(10)"
   ]
  },
  {
   "cell_type": "markdown",
   "metadata": {},
   "source": [
    "Создадим таблицу *messages_info* с информацией о количестве отправленных сообщений по месяцам для каждого пользователя. "
   ]
  },
  {
   "cell_type": "code",
   "execution_count": 26,
   "metadata": {},
   "outputs": [
    {
     "data": {
      "text/html": [
       "<style  type=\"text/css\" >\n",
       "    #T_ed9bc_ caption {\n",
       "          color: blue;\n",
       "          font-size: 15px;\n",
       "    }</style><table id=\"T_ed9bc_\" ><caption>Количество отправленных сообщений по месяцам</caption><thead>    <tr>        <th class=\"blank level0\" ></th>        <th class=\"col_heading level0 col0\" >user_id</th>        <th class=\"col_heading level0 col1\" >month</th>        <th class=\"col_heading level0 col2\" >messages_per_month</th>    </tr></thead><tbody>\n",
       "                <tr>\n",
       "                        <th id=\"T_ed9bc_level0_row0\" class=\"row_heading level0 row0\" >0</th>\n",
       "                        <td id=\"T_ed9bc_row0_col0\" class=\"data row0 col0\" >1000</td>\n",
       "                        <td id=\"T_ed9bc_row0_col1\" class=\"data row0 col1\" >5</td>\n",
       "                        <td id=\"T_ed9bc_row0_col2\" class=\"data row0 col2\" >22</td>\n",
       "            </tr>\n",
       "            <tr>\n",
       "                        <th id=\"T_ed9bc_level0_row1\" class=\"row_heading level0 row1\" >1</th>\n",
       "                        <td id=\"T_ed9bc_row1_col0\" class=\"data row1 col0\" >1000</td>\n",
       "                        <td id=\"T_ed9bc_row1_col1\" class=\"data row1 col1\" >6</td>\n",
       "                        <td id=\"T_ed9bc_row1_col2\" class=\"data row1 col2\" >60</td>\n",
       "            </tr>\n",
       "            <tr>\n",
       "                        <th id=\"T_ed9bc_level0_row2\" class=\"row_heading level0 row2\" >2</th>\n",
       "                        <td id=\"T_ed9bc_row2_col0\" class=\"data row2 col0\" >1000</td>\n",
       "                        <td id=\"T_ed9bc_row2_col1\" class=\"data row2 col1\" >7</td>\n",
       "                        <td id=\"T_ed9bc_row2_col2\" class=\"data row2 col2\" >75</td>\n",
       "            </tr>\n",
       "            <tr>\n",
       "                        <th id=\"T_ed9bc_level0_row3\" class=\"row_heading level0 row3\" >3</th>\n",
       "                        <td id=\"T_ed9bc_row3_col0\" class=\"data row3 col0\" >1000</td>\n",
       "                        <td id=\"T_ed9bc_row3_col1\" class=\"data row3 col1\" >8</td>\n",
       "                        <td id=\"T_ed9bc_row3_col2\" class=\"data row3 col2\" >81</td>\n",
       "            </tr>\n",
       "            <tr>\n",
       "                        <th id=\"T_ed9bc_level0_row4\" class=\"row_heading level0 row4\" >4</th>\n",
       "                        <td id=\"T_ed9bc_row4_col0\" class=\"data row4 col0\" >1000</td>\n",
       "                        <td id=\"T_ed9bc_row4_col1\" class=\"data row4 col1\" >9</td>\n",
       "                        <td id=\"T_ed9bc_row4_col2\" class=\"data row4 col2\" >57</td>\n",
       "            </tr>\n",
       "            <tr>\n",
       "                        <th id=\"T_ed9bc_level0_row5\" class=\"row_heading level0 row5\" >5</th>\n",
       "                        <td id=\"T_ed9bc_row5_col0\" class=\"data row5 col0\" >1000</td>\n",
       "                        <td id=\"T_ed9bc_row5_col1\" class=\"data row5 col1\" >10</td>\n",
       "                        <td id=\"T_ed9bc_row5_col2\" class=\"data row5 col2\" >73</td>\n",
       "            </tr>\n",
       "            <tr>\n",
       "                        <th id=\"T_ed9bc_level0_row6\" class=\"row_heading level0 row6\" >6</th>\n",
       "                        <td id=\"T_ed9bc_row6_col0\" class=\"data row6 col0\" >1000</td>\n",
       "                        <td id=\"T_ed9bc_row6_col1\" class=\"data row6 col1\" >11</td>\n",
       "                        <td id=\"T_ed9bc_row6_col2\" class=\"data row6 col2\" >58</td>\n",
       "            </tr>\n",
       "            <tr>\n",
       "                        <th id=\"T_ed9bc_level0_row7\" class=\"row_heading level0 row7\" >7</th>\n",
       "                        <td id=\"T_ed9bc_row7_col0\" class=\"data row7 col0\" >1000</td>\n",
       "                        <td id=\"T_ed9bc_row7_col1\" class=\"data row7 col1\" >12</td>\n",
       "                        <td id=\"T_ed9bc_row7_col2\" class=\"data row7 col2\" >70</td>\n",
       "            </tr>\n",
       "            <tr>\n",
       "                        <th id=\"T_ed9bc_level0_row8\" class=\"row_heading level0 row8\" >8</th>\n",
       "                        <td id=\"T_ed9bc_row8_col0\" class=\"data row8 col0\" >1002</td>\n",
       "                        <td id=\"T_ed9bc_row8_col1\" class=\"data row8 col1\" >6</td>\n",
       "                        <td id=\"T_ed9bc_row8_col2\" class=\"data row8 col2\" >4</td>\n",
       "            </tr>\n",
       "            <tr>\n",
       "                        <th id=\"T_ed9bc_level0_row9\" class=\"row_heading level0 row9\" >9</th>\n",
       "                        <td id=\"T_ed9bc_row9_col0\" class=\"data row9 col0\" >1002</td>\n",
       "                        <td id=\"T_ed9bc_row9_col1\" class=\"data row9 col1\" >7</td>\n",
       "                        <td id=\"T_ed9bc_row9_col2\" class=\"data row9 col2\" >11</td>\n",
       "            </tr>\n",
       "    </tbody></table>"
      ],
      "text/plain": [
       "<pandas.io.formats.style.Styler at 0x7f7f5d9ced00>"
      ]
     },
     "execution_count": 26,
     "metadata": {},
     "output_type": "execute_result"
    }
   ],
   "source": [
    "messages_info = messages.pivot_table(\n",
    "    values=['id'], index=['user_id', 'month'], \n",
    "    aggfunc={'id': ['count']}\n",
    ")\n",
    "messages_info.columns = ['messages_per_month']\n",
    "messages_info.head(10).reset_index().style.set_caption('Количество отправленных сообщений по месяцам').set_table_styles(\n",
    "    [{'selector': 'caption', 'props': [('color', 'blue'), ('font-size', '15px')]}]\n",
    ")"
   ]
  },
  {
   "cell_type": "markdown",
   "metadata": {},
   "source": [
    "#### Объем израсходованного интернет-трафика по месяцам"
   ]
  },
  {
   "cell_type": "markdown",
   "metadata": {},
   "source": [
    "Создадим столбец с месяцем в таблице *internet*."
   ]
  },
  {
   "cell_type": "code",
   "execution_count": 27,
   "metadata": {},
   "outputs": [
    {
     "data": {
      "text/plain": [
       "0    11\n",
       "1     9\n",
       "2     6\n",
       "3     8\n",
       "4     9\n",
       "5    10\n",
       "6     9\n",
       "7     7\n",
       "8    10\n",
       "9     9\n",
       "Name: month, dtype: int64"
      ]
     },
     "execution_count": 27,
     "metadata": {},
     "output_type": "execute_result"
    }
   ],
   "source": [
    "internet['month'] = internet['session_date'].dt.month\n",
    "internet['month'].head(10)"
   ]
  },
  {
   "cell_type": "markdown",
   "metadata": {},
   "source": [
    "Создадим таблицу *internet_info* с информацией об объеме израсходованного интернет-трафика по месяцам для каждого пользователя. Добавим столбец с объёмом в ГБ, округленными вверх, так как «Мегалайн» всегда округляет мегабайты до гигабайт."
   ]
  },
  {
   "cell_type": "code",
   "execution_count": 28,
   "metadata": {},
   "outputs": [
    {
     "data": {
      "text/html": [
       "<style  type=\"text/css\" >\n",
       "    #T_380ad_ caption {\n",
       "          color: blue;\n",
       "          font-size: 15px;\n",
       "    }</style><table id=\"T_380ad_\" ><caption>Объем израсходованного интернет-трафика по месяцам</caption><thead>    <tr>        <th class=\"blank level0\" ></th>        <th class=\"col_heading level0 col0\" >user_id</th>        <th class=\"col_heading level0 col1\" >month</th>        <th class=\"col_heading level0 col2\" >mb_per_month</th>        <th class=\"col_heading level0 col3\" >gb_per_month</th>    </tr></thead><tbody>\n",
       "                <tr>\n",
       "                        <th id=\"T_380ad_level0_row0\" class=\"row_heading level0 row0\" >0</th>\n",
       "                        <td id=\"T_380ad_row0_col0\" class=\"data row0 col0\" >1000</td>\n",
       "                        <td id=\"T_380ad_row0_col1\" class=\"data row0 col1\" >5</td>\n",
       "                        <td id=\"T_380ad_row0_col2\" class=\"data row0 col2\" >2253.490000</td>\n",
       "                        <td id=\"T_380ad_row0_col3\" class=\"data row0 col3\" >3</td>\n",
       "            </tr>\n",
       "            <tr>\n",
       "                        <th id=\"T_380ad_level0_row1\" class=\"row_heading level0 row1\" >1</th>\n",
       "                        <td id=\"T_380ad_row1_col0\" class=\"data row1 col0\" >1000</td>\n",
       "                        <td id=\"T_380ad_row1_col1\" class=\"data row1 col1\" >6</td>\n",
       "                        <td id=\"T_380ad_row1_col2\" class=\"data row1 col2\" >23233.770000</td>\n",
       "                        <td id=\"T_380ad_row1_col3\" class=\"data row1 col3\" >23</td>\n",
       "            </tr>\n",
       "            <tr>\n",
       "                        <th id=\"T_380ad_level0_row2\" class=\"row_heading level0 row2\" >2</th>\n",
       "                        <td id=\"T_380ad_row2_col0\" class=\"data row2 col0\" >1000</td>\n",
       "                        <td id=\"T_380ad_row2_col1\" class=\"data row2 col1\" >7</td>\n",
       "                        <td id=\"T_380ad_row2_col2\" class=\"data row2 col2\" >14003.640000</td>\n",
       "                        <td id=\"T_380ad_row2_col3\" class=\"data row2 col3\" >14</td>\n",
       "            </tr>\n",
       "            <tr>\n",
       "                        <th id=\"T_380ad_level0_row3\" class=\"row_heading level0 row3\" >3</th>\n",
       "                        <td id=\"T_380ad_row3_col0\" class=\"data row3 col0\" >1000</td>\n",
       "                        <td id=\"T_380ad_row3_col1\" class=\"data row3 col1\" >8</td>\n",
       "                        <td id=\"T_380ad_row3_col2\" class=\"data row3 col2\" >14055.930000</td>\n",
       "                        <td id=\"T_380ad_row3_col3\" class=\"data row3 col3\" >14</td>\n",
       "            </tr>\n",
       "            <tr>\n",
       "                        <th id=\"T_380ad_level0_row4\" class=\"row_heading level0 row4\" >4</th>\n",
       "                        <td id=\"T_380ad_row4_col0\" class=\"data row4 col0\" >1000</td>\n",
       "                        <td id=\"T_380ad_row4_col1\" class=\"data row4 col1\" >9</td>\n",
       "                        <td id=\"T_380ad_row4_col2\" class=\"data row4 col2\" >14568.910000</td>\n",
       "                        <td id=\"T_380ad_row4_col3\" class=\"data row4 col3\" >15</td>\n",
       "            </tr>\n",
       "            <tr>\n",
       "                        <th id=\"T_380ad_level0_row5\" class=\"row_heading level0 row5\" >5</th>\n",
       "                        <td id=\"T_380ad_row5_col0\" class=\"data row5 col0\" >1000</td>\n",
       "                        <td id=\"T_380ad_row5_col1\" class=\"data row5 col1\" >10</td>\n",
       "                        <td id=\"T_380ad_row5_col2\" class=\"data row5 col2\" >14702.490000</td>\n",
       "                        <td id=\"T_380ad_row5_col3\" class=\"data row5 col3\" >15</td>\n",
       "            </tr>\n",
       "            <tr>\n",
       "                        <th id=\"T_380ad_level0_row6\" class=\"row_heading level0 row6\" >6</th>\n",
       "                        <td id=\"T_380ad_row6_col0\" class=\"data row6 col0\" >1000</td>\n",
       "                        <td id=\"T_380ad_row6_col1\" class=\"data row6 col1\" >11</td>\n",
       "                        <td id=\"T_380ad_row6_col2\" class=\"data row6 col2\" >14756.470000</td>\n",
       "                        <td id=\"T_380ad_row6_col3\" class=\"data row6 col3\" >15</td>\n",
       "            </tr>\n",
       "            <tr>\n",
       "                        <th id=\"T_380ad_level0_row7\" class=\"row_heading level0 row7\" >7</th>\n",
       "                        <td id=\"T_380ad_row7_col0\" class=\"data row7 col0\" >1000</td>\n",
       "                        <td id=\"T_380ad_row7_col1\" class=\"data row7 col1\" >12</td>\n",
       "                        <td id=\"T_380ad_row7_col2\" class=\"data row7 col2\" >9817.610000</td>\n",
       "                        <td id=\"T_380ad_row7_col3\" class=\"data row7 col3\" >10</td>\n",
       "            </tr>\n",
       "            <tr>\n",
       "                        <th id=\"T_380ad_level0_row8\" class=\"row_heading level0 row8\" >8</th>\n",
       "                        <td id=\"T_380ad_row8_col0\" class=\"data row8 col0\" >1001</td>\n",
       "                        <td id=\"T_380ad_row8_col1\" class=\"data row8 col1\" >11</td>\n",
       "                        <td id=\"T_380ad_row8_col2\" class=\"data row8 col2\" >18429.340000</td>\n",
       "                        <td id=\"T_380ad_row8_col3\" class=\"data row8 col3\" >18</td>\n",
       "            </tr>\n",
       "            <tr>\n",
       "                        <th id=\"T_380ad_level0_row9\" class=\"row_heading level0 row9\" >9</th>\n",
       "                        <td id=\"T_380ad_row9_col0\" class=\"data row9 col0\" >1001</td>\n",
       "                        <td id=\"T_380ad_row9_col1\" class=\"data row9 col1\" >12</td>\n",
       "                        <td id=\"T_380ad_row9_col2\" class=\"data row9 col2\" >14036.660000</td>\n",
       "                        <td id=\"T_380ad_row9_col3\" class=\"data row9 col3\" >14</td>\n",
       "            </tr>\n",
       "    </tbody></table>"
      ],
      "text/plain": [
       "<pandas.io.formats.style.Styler at 0x7f7f5c36f5e0>"
      ]
     },
     "execution_count": 28,
     "metadata": {},
     "output_type": "execute_result"
    }
   ],
   "source": [
    "internet_info = internet.pivot_table(\n",
    "    values=['mb_used'], index=['user_id', 'month'], \n",
    "    aggfunc={'mb_used': ['sum']}\n",
    ")\n",
    "internet_info.columns = ['mb_per_month']\n",
    "internet_info['gb_per_month'] = (internet_info['mb_per_month'] / 1024).apply(math.ceil)\n",
    "internet_info.head(10).reset_index().style.set_caption('Объем израсходованного интернет-трафика по месяцам').set_table_styles(\n",
    "    [{'selector': 'caption', 'props': [('color', 'blue'), ('font-size', '15px')]}]\n",
    ")"
   ]
  },
  {
   "cell_type": "markdown",
   "metadata": {},
   "source": [
    "#### Помесячная выручка с каждого пользователя "
   ]
  },
  {
   "cell_type": "markdown",
   "metadata": {},
   "source": [
    "Объединим три предыдущие таблицы *calls_info*, *messages_info* и *internet_info*."
   ]
  },
  {
   "cell_type": "code",
   "execution_count": 29,
   "metadata": {},
   "outputs": [
    {
     "data": {
      "text/html": [
       "<style  type=\"text/css\" >\n",
       "    #T_51576_ caption {\n",
       "          color: blue;\n",
       "          font-size: 15px;\n",
       "    }</style><table id=\"T_51576_\" ><caption>Количество звонков и минут разговора, сообщений, объём интернет-трафика в месяц</caption><thead>    <tr>        <th class=\"blank level0\" ></th>        <th class=\"col_heading level0 col0\" >user_id</th>        <th class=\"col_heading level0 col1\" >month</th>        <th class=\"col_heading level0 col2\" >calls_per_month</th>        <th class=\"col_heading level0 col3\" >minutes_per_month</th>        <th class=\"col_heading level0 col4\" >messages_per_month</th>        <th class=\"col_heading level0 col5\" >mb_per_month</th>        <th class=\"col_heading level0 col6\" >gb_per_month</th>    </tr></thead><tbody>\n",
       "                <tr>\n",
       "                        <th id=\"T_51576_level0_row0\" class=\"row_heading level0 row0\" >0</th>\n",
       "                        <td id=\"T_51576_row0_col0\" class=\"data row0 col0\" >1000</td>\n",
       "                        <td id=\"T_51576_row0_col1\" class=\"data row0 col1\" >5</td>\n",
       "                        <td id=\"T_51576_row0_col2\" class=\"data row0 col2\" >17.000000</td>\n",
       "                        <td id=\"T_51576_row0_col3\" class=\"data row0 col3\" >159.000000</td>\n",
       "                        <td id=\"T_51576_row0_col4\" class=\"data row0 col4\" >22.000000</td>\n",
       "                        <td id=\"T_51576_row0_col5\" class=\"data row0 col5\" >2253.490000</td>\n",
       "                        <td id=\"T_51576_row0_col6\" class=\"data row0 col6\" >3.000000</td>\n",
       "            </tr>\n",
       "            <tr>\n",
       "                        <th id=\"T_51576_level0_row1\" class=\"row_heading level0 row1\" >1</th>\n",
       "                        <td id=\"T_51576_row1_col0\" class=\"data row1 col0\" >1000</td>\n",
       "                        <td id=\"T_51576_row1_col1\" class=\"data row1 col1\" >6</td>\n",
       "                        <td id=\"T_51576_row1_col2\" class=\"data row1 col2\" >28.000000</td>\n",
       "                        <td id=\"T_51576_row1_col3\" class=\"data row1 col3\" >172.000000</td>\n",
       "                        <td id=\"T_51576_row1_col4\" class=\"data row1 col4\" >60.000000</td>\n",
       "                        <td id=\"T_51576_row1_col5\" class=\"data row1 col5\" >23233.770000</td>\n",
       "                        <td id=\"T_51576_row1_col6\" class=\"data row1 col6\" >23.000000</td>\n",
       "            </tr>\n",
       "            <tr>\n",
       "                        <th id=\"T_51576_level0_row2\" class=\"row_heading level0 row2\" >2</th>\n",
       "                        <td id=\"T_51576_row2_col0\" class=\"data row2 col0\" >1000</td>\n",
       "                        <td id=\"T_51576_row2_col1\" class=\"data row2 col1\" >7</td>\n",
       "                        <td id=\"T_51576_row2_col2\" class=\"data row2 col2\" >41.000000</td>\n",
       "                        <td id=\"T_51576_row2_col3\" class=\"data row2 col3\" >340.000000</td>\n",
       "                        <td id=\"T_51576_row2_col4\" class=\"data row2 col4\" >75.000000</td>\n",
       "                        <td id=\"T_51576_row2_col5\" class=\"data row2 col5\" >14003.640000</td>\n",
       "                        <td id=\"T_51576_row2_col6\" class=\"data row2 col6\" >14.000000</td>\n",
       "            </tr>\n",
       "            <tr>\n",
       "                        <th id=\"T_51576_level0_row3\" class=\"row_heading level0 row3\" >3</th>\n",
       "                        <td id=\"T_51576_row3_col0\" class=\"data row3 col0\" >1000</td>\n",
       "                        <td id=\"T_51576_row3_col1\" class=\"data row3 col1\" >8</td>\n",
       "                        <td id=\"T_51576_row3_col2\" class=\"data row3 col2\" >42.000000</td>\n",
       "                        <td id=\"T_51576_row3_col3\" class=\"data row3 col3\" >408.000000</td>\n",
       "                        <td id=\"T_51576_row3_col4\" class=\"data row3 col4\" >81.000000</td>\n",
       "                        <td id=\"T_51576_row3_col5\" class=\"data row3 col5\" >14055.930000</td>\n",
       "                        <td id=\"T_51576_row3_col6\" class=\"data row3 col6\" >14.000000</td>\n",
       "            </tr>\n",
       "            <tr>\n",
       "                        <th id=\"T_51576_level0_row4\" class=\"row_heading level0 row4\" >4</th>\n",
       "                        <td id=\"T_51576_row4_col0\" class=\"data row4 col0\" >1000</td>\n",
       "                        <td id=\"T_51576_row4_col1\" class=\"data row4 col1\" >9</td>\n",
       "                        <td id=\"T_51576_row4_col2\" class=\"data row4 col2\" >46.000000</td>\n",
       "                        <td id=\"T_51576_row4_col3\" class=\"data row4 col3\" >466.000000</td>\n",
       "                        <td id=\"T_51576_row4_col4\" class=\"data row4 col4\" >57.000000</td>\n",
       "                        <td id=\"T_51576_row4_col5\" class=\"data row4 col5\" >14568.910000</td>\n",
       "                        <td id=\"T_51576_row4_col6\" class=\"data row4 col6\" >15.000000</td>\n",
       "            </tr>\n",
       "            <tr>\n",
       "                        <th id=\"T_51576_level0_row5\" class=\"row_heading level0 row5\" >5</th>\n",
       "                        <td id=\"T_51576_row5_col0\" class=\"data row5 col0\" >1000</td>\n",
       "                        <td id=\"T_51576_row5_col1\" class=\"data row5 col1\" >10</td>\n",
       "                        <td id=\"T_51576_row5_col2\" class=\"data row5 col2\" >44.000000</td>\n",
       "                        <td id=\"T_51576_row5_col3\" class=\"data row5 col3\" >350.000000</td>\n",
       "                        <td id=\"T_51576_row5_col4\" class=\"data row5 col4\" >73.000000</td>\n",
       "                        <td id=\"T_51576_row5_col5\" class=\"data row5 col5\" >14702.490000</td>\n",
       "                        <td id=\"T_51576_row5_col6\" class=\"data row5 col6\" >15.000000</td>\n",
       "            </tr>\n",
       "            <tr>\n",
       "                        <th id=\"T_51576_level0_row6\" class=\"row_heading level0 row6\" >6</th>\n",
       "                        <td id=\"T_51576_row6_col0\" class=\"data row6 col0\" >1000</td>\n",
       "                        <td id=\"T_51576_row6_col1\" class=\"data row6 col1\" >11</td>\n",
       "                        <td id=\"T_51576_row6_col2\" class=\"data row6 col2\" >37.000000</td>\n",
       "                        <td id=\"T_51576_row6_col3\" class=\"data row6 col3\" >338.000000</td>\n",
       "                        <td id=\"T_51576_row6_col4\" class=\"data row6 col4\" >58.000000</td>\n",
       "                        <td id=\"T_51576_row6_col5\" class=\"data row6 col5\" >14756.470000</td>\n",
       "                        <td id=\"T_51576_row6_col6\" class=\"data row6 col6\" >15.000000</td>\n",
       "            </tr>\n",
       "            <tr>\n",
       "                        <th id=\"T_51576_level0_row7\" class=\"row_heading level0 row7\" >7</th>\n",
       "                        <td id=\"T_51576_row7_col0\" class=\"data row7 col0\" >1000</td>\n",
       "                        <td id=\"T_51576_row7_col1\" class=\"data row7 col1\" >12</td>\n",
       "                        <td id=\"T_51576_row7_col2\" class=\"data row7 col2\" >38.000000</td>\n",
       "                        <td id=\"T_51576_row7_col3\" class=\"data row7 col3\" >333.000000</td>\n",
       "                        <td id=\"T_51576_row7_col4\" class=\"data row7 col4\" >70.000000</td>\n",
       "                        <td id=\"T_51576_row7_col5\" class=\"data row7 col5\" >9817.610000</td>\n",
       "                        <td id=\"T_51576_row7_col6\" class=\"data row7 col6\" >10.000000</td>\n",
       "            </tr>\n",
       "            <tr>\n",
       "                        <th id=\"T_51576_level0_row8\" class=\"row_heading level0 row8\" >8</th>\n",
       "                        <td id=\"T_51576_row8_col0\" class=\"data row8 col0\" >1001</td>\n",
       "                        <td id=\"T_51576_row8_col1\" class=\"data row8 col1\" >11</td>\n",
       "                        <td id=\"T_51576_row8_col2\" class=\"data row8 col2\" >45.000000</td>\n",
       "                        <td id=\"T_51576_row8_col3\" class=\"data row8 col3\" >430.000000</td>\n",
       "                        <td id=\"T_51576_row8_col4\" class=\"data row8 col4\" >nan</td>\n",
       "                        <td id=\"T_51576_row8_col5\" class=\"data row8 col5\" >18429.340000</td>\n",
       "                        <td id=\"T_51576_row8_col6\" class=\"data row8 col6\" >18.000000</td>\n",
       "            </tr>\n",
       "            <tr>\n",
       "                        <th id=\"T_51576_level0_row9\" class=\"row_heading level0 row9\" >9</th>\n",
       "                        <td id=\"T_51576_row9_col0\" class=\"data row9 col0\" >1001</td>\n",
       "                        <td id=\"T_51576_row9_col1\" class=\"data row9 col1\" >12</td>\n",
       "                        <td id=\"T_51576_row9_col2\" class=\"data row9 col2\" >47.000000</td>\n",
       "                        <td id=\"T_51576_row9_col3\" class=\"data row9 col3\" >414.000000</td>\n",
       "                        <td id=\"T_51576_row9_col4\" class=\"data row9 col4\" >nan</td>\n",
       "                        <td id=\"T_51576_row9_col5\" class=\"data row9 col5\" >14036.660000</td>\n",
       "                        <td id=\"T_51576_row9_col6\" class=\"data row9 col6\" >14.000000</td>\n",
       "            </tr>\n",
       "    </tbody></table>"
      ],
      "text/plain": [
       "<pandas.io.formats.style.Styler at 0x7f7f5c36f520>"
      ]
     },
     "execution_count": 29,
     "metadata": {},
     "output_type": "execute_result"
    }
   ],
   "source": [
    "all_info = calls_info.merge(messages_info, on = ['user_id', 'month'], how = 'outer')\n",
    "all_info = all_info.merge(internet_info, on = ['user_id', 'month'], how = 'outer')\n",
    "all_info.head(10).reset_index().style.set_caption('Количество звонков и минут разговора, сообщений, объём интернет-трафика в месяц').set_table_styles(\n",
    "    [{'selector': 'caption', 'props': [('color', 'blue'), ('font-size', '15px')]}]\n",
    ")"
   ]
  },
  {
   "cell_type": "markdown",
   "metadata": {},
   "source": [
    "Пропущенные значения заменим на нули."
   ]
  },
  {
   "cell_type": "code",
   "execution_count": 30,
   "metadata": {},
   "outputs": [
    {
     "data": {
      "text/plain": [
       "calls_per_month       0\n",
       "minutes_per_month     0\n",
       "messages_per_month    0\n",
       "mb_per_month          0\n",
       "gb_per_month          0\n",
       "dtype: int64"
      ]
     },
     "execution_count": 30,
     "metadata": {},
     "output_type": "execute_result"
    }
   ],
   "source": [
    "all_info = all_info.fillna(0)\n",
    "all_info.isnull().sum()"
   ]
  },
  {
   "cell_type": "markdown",
   "metadata": {},
   "source": [
    "Добавим информацию о тарифе каждого пользователя."
   ]
  },
  {
   "cell_type": "code",
   "execution_count": 31,
   "metadata": {},
   "outputs": [
    {
     "data": {
      "text/html": [
       "<style  type=\"text/css\" >\n",
       "    #T_b438d_ caption {\n",
       "          color: blue;\n",
       "          font-size: 15px;\n",
       "    }</style><table id=\"T_b438d_\" ><caption>Информация о каждом пользователе помесячно с тарифами</caption><thead>    <tr>        <th class=\"blank level0\" ></th>        <th class=\"col_heading level0 col0\" >user_id</th>        <th class=\"col_heading level0 col1\" >month</th>        <th class=\"col_heading level0 col2\" >calls_per_month</th>        <th class=\"col_heading level0 col3\" >minutes_per_month</th>        <th class=\"col_heading level0 col4\" >messages_per_month</th>        <th class=\"col_heading level0 col5\" >mb_per_month</th>        <th class=\"col_heading level0 col6\" >gb_per_month</th>        <th class=\"col_heading level0 col7\" >tariff</th>    </tr></thead><tbody>\n",
       "                <tr>\n",
       "                        <th id=\"T_b438d_level0_row0\" class=\"row_heading level0 row0\" >0</th>\n",
       "                        <td id=\"T_b438d_row0_col0\" class=\"data row0 col0\" >1000</td>\n",
       "                        <td id=\"T_b438d_row0_col1\" class=\"data row0 col1\" >5</td>\n",
       "                        <td id=\"T_b438d_row0_col2\" class=\"data row0 col2\" >17.000000</td>\n",
       "                        <td id=\"T_b438d_row0_col3\" class=\"data row0 col3\" >159.000000</td>\n",
       "                        <td id=\"T_b438d_row0_col4\" class=\"data row0 col4\" >22.000000</td>\n",
       "                        <td id=\"T_b438d_row0_col5\" class=\"data row0 col5\" >2253.490000</td>\n",
       "                        <td id=\"T_b438d_row0_col6\" class=\"data row0 col6\" >3.000000</td>\n",
       "                        <td id=\"T_b438d_row0_col7\" class=\"data row0 col7\" >ultra</td>\n",
       "            </tr>\n",
       "            <tr>\n",
       "                        <th id=\"T_b438d_level0_row1\" class=\"row_heading level0 row1\" >1</th>\n",
       "                        <td id=\"T_b438d_row1_col0\" class=\"data row1 col0\" >1000</td>\n",
       "                        <td id=\"T_b438d_row1_col1\" class=\"data row1 col1\" >6</td>\n",
       "                        <td id=\"T_b438d_row1_col2\" class=\"data row1 col2\" >28.000000</td>\n",
       "                        <td id=\"T_b438d_row1_col3\" class=\"data row1 col3\" >172.000000</td>\n",
       "                        <td id=\"T_b438d_row1_col4\" class=\"data row1 col4\" >60.000000</td>\n",
       "                        <td id=\"T_b438d_row1_col5\" class=\"data row1 col5\" >23233.770000</td>\n",
       "                        <td id=\"T_b438d_row1_col6\" class=\"data row1 col6\" >23.000000</td>\n",
       "                        <td id=\"T_b438d_row1_col7\" class=\"data row1 col7\" >ultra</td>\n",
       "            </tr>\n",
       "            <tr>\n",
       "                        <th id=\"T_b438d_level0_row2\" class=\"row_heading level0 row2\" >2</th>\n",
       "                        <td id=\"T_b438d_row2_col0\" class=\"data row2 col0\" >1000</td>\n",
       "                        <td id=\"T_b438d_row2_col1\" class=\"data row2 col1\" >7</td>\n",
       "                        <td id=\"T_b438d_row2_col2\" class=\"data row2 col2\" >41.000000</td>\n",
       "                        <td id=\"T_b438d_row2_col3\" class=\"data row2 col3\" >340.000000</td>\n",
       "                        <td id=\"T_b438d_row2_col4\" class=\"data row2 col4\" >75.000000</td>\n",
       "                        <td id=\"T_b438d_row2_col5\" class=\"data row2 col5\" >14003.640000</td>\n",
       "                        <td id=\"T_b438d_row2_col6\" class=\"data row2 col6\" >14.000000</td>\n",
       "                        <td id=\"T_b438d_row2_col7\" class=\"data row2 col7\" >ultra</td>\n",
       "            </tr>\n",
       "            <tr>\n",
       "                        <th id=\"T_b438d_level0_row3\" class=\"row_heading level0 row3\" >3</th>\n",
       "                        <td id=\"T_b438d_row3_col0\" class=\"data row3 col0\" >1000</td>\n",
       "                        <td id=\"T_b438d_row3_col1\" class=\"data row3 col1\" >8</td>\n",
       "                        <td id=\"T_b438d_row3_col2\" class=\"data row3 col2\" >42.000000</td>\n",
       "                        <td id=\"T_b438d_row3_col3\" class=\"data row3 col3\" >408.000000</td>\n",
       "                        <td id=\"T_b438d_row3_col4\" class=\"data row3 col4\" >81.000000</td>\n",
       "                        <td id=\"T_b438d_row3_col5\" class=\"data row3 col5\" >14055.930000</td>\n",
       "                        <td id=\"T_b438d_row3_col6\" class=\"data row3 col6\" >14.000000</td>\n",
       "                        <td id=\"T_b438d_row3_col7\" class=\"data row3 col7\" >ultra</td>\n",
       "            </tr>\n",
       "            <tr>\n",
       "                        <th id=\"T_b438d_level0_row4\" class=\"row_heading level0 row4\" >4</th>\n",
       "                        <td id=\"T_b438d_row4_col0\" class=\"data row4 col0\" >1000</td>\n",
       "                        <td id=\"T_b438d_row4_col1\" class=\"data row4 col1\" >9</td>\n",
       "                        <td id=\"T_b438d_row4_col2\" class=\"data row4 col2\" >46.000000</td>\n",
       "                        <td id=\"T_b438d_row4_col3\" class=\"data row4 col3\" >466.000000</td>\n",
       "                        <td id=\"T_b438d_row4_col4\" class=\"data row4 col4\" >57.000000</td>\n",
       "                        <td id=\"T_b438d_row4_col5\" class=\"data row4 col5\" >14568.910000</td>\n",
       "                        <td id=\"T_b438d_row4_col6\" class=\"data row4 col6\" >15.000000</td>\n",
       "                        <td id=\"T_b438d_row4_col7\" class=\"data row4 col7\" >ultra</td>\n",
       "            </tr>\n",
       "            <tr>\n",
       "                        <th id=\"T_b438d_level0_row5\" class=\"row_heading level0 row5\" >5</th>\n",
       "                        <td id=\"T_b438d_row5_col0\" class=\"data row5 col0\" >1000</td>\n",
       "                        <td id=\"T_b438d_row5_col1\" class=\"data row5 col1\" >10</td>\n",
       "                        <td id=\"T_b438d_row5_col2\" class=\"data row5 col2\" >44.000000</td>\n",
       "                        <td id=\"T_b438d_row5_col3\" class=\"data row5 col3\" >350.000000</td>\n",
       "                        <td id=\"T_b438d_row5_col4\" class=\"data row5 col4\" >73.000000</td>\n",
       "                        <td id=\"T_b438d_row5_col5\" class=\"data row5 col5\" >14702.490000</td>\n",
       "                        <td id=\"T_b438d_row5_col6\" class=\"data row5 col6\" >15.000000</td>\n",
       "                        <td id=\"T_b438d_row5_col7\" class=\"data row5 col7\" >ultra</td>\n",
       "            </tr>\n",
       "            <tr>\n",
       "                        <th id=\"T_b438d_level0_row6\" class=\"row_heading level0 row6\" >6</th>\n",
       "                        <td id=\"T_b438d_row6_col0\" class=\"data row6 col0\" >1000</td>\n",
       "                        <td id=\"T_b438d_row6_col1\" class=\"data row6 col1\" >11</td>\n",
       "                        <td id=\"T_b438d_row6_col2\" class=\"data row6 col2\" >37.000000</td>\n",
       "                        <td id=\"T_b438d_row6_col3\" class=\"data row6 col3\" >338.000000</td>\n",
       "                        <td id=\"T_b438d_row6_col4\" class=\"data row6 col4\" >58.000000</td>\n",
       "                        <td id=\"T_b438d_row6_col5\" class=\"data row6 col5\" >14756.470000</td>\n",
       "                        <td id=\"T_b438d_row6_col6\" class=\"data row6 col6\" >15.000000</td>\n",
       "                        <td id=\"T_b438d_row6_col7\" class=\"data row6 col7\" >ultra</td>\n",
       "            </tr>\n",
       "            <tr>\n",
       "                        <th id=\"T_b438d_level0_row7\" class=\"row_heading level0 row7\" >7</th>\n",
       "                        <td id=\"T_b438d_row7_col0\" class=\"data row7 col0\" >1000</td>\n",
       "                        <td id=\"T_b438d_row7_col1\" class=\"data row7 col1\" >12</td>\n",
       "                        <td id=\"T_b438d_row7_col2\" class=\"data row7 col2\" >38.000000</td>\n",
       "                        <td id=\"T_b438d_row7_col3\" class=\"data row7 col3\" >333.000000</td>\n",
       "                        <td id=\"T_b438d_row7_col4\" class=\"data row7 col4\" >70.000000</td>\n",
       "                        <td id=\"T_b438d_row7_col5\" class=\"data row7 col5\" >9817.610000</td>\n",
       "                        <td id=\"T_b438d_row7_col6\" class=\"data row7 col6\" >10.000000</td>\n",
       "                        <td id=\"T_b438d_row7_col7\" class=\"data row7 col7\" >ultra</td>\n",
       "            </tr>\n",
       "            <tr>\n",
       "                        <th id=\"T_b438d_level0_row8\" class=\"row_heading level0 row8\" >8</th>\n",
       "                        <td id=\"T_b438d_row8_col0\" class=\"data row8 col0\" >1001</td>\n",
       "                        <td id=\"T_b438d_row8_col1\" class=\"data row8 col1\" >11</td>\n",
       "                        <td id=\"T_b438d_row8_col2\" class=\"data row8 col2\" >45.000000</td>\n",
       "                        <td id=\"T_b438d_row8_col3\" class=\"data row8 col3\" >430.000000</td>\n",
       "                        <td id=\"T_b438d_row8_col4\" class=\"data row8 col4\" >0.000000</td>\n",
       "                        <td id=\"T_b438d_row8_col5\" class=\"data row8 col5\" >18429.340000</td>\n",
       "                        <td id=\"T_b438d_row8_col6\" class=\"data row8 col6\" >18.000000</td>\n",
       "                        <td id=\"T_b438d_row8_col7\" class=\"data row8 col7\" >smart</td>\n",
       "            </tr>\n",
       "            <tr>\n",
       "                        <th id=\"T_b438d_level0_row9\" class=\"row_heading level0 row9\" >9</th>\n",
       "                        <td id=\"T_b438d_row9_col0\" class=\"data row9 col0\" >1001</td>\n",
       "                        <td id=\"T_b438d_row9_col1\" class=\"data row9 col1\" >12</td>\n",
       "                        <td id=\"T_b438d_row9_col2\" class=\"data row9 col2\" >47.000000</td>\n",
       "                        <td id=\"T_b438d_row9_col3\" class=\"data row9 col3\" >414.000000</td>\n",
       "                        <td id=\"T_b438d_row9_col4\" class=\"data row9 col4\" >0.000000</td>\n",
       "                        <td id=\"T_b438d_row9_col5\" class=\"data row9 col5\" >14036.660000</td>\n",
       "                        <td id=\"T_b438d_row9_col6\" class=\"data row9 col6\" >14.000000</td>\n",
       "                        <td id=\"T_b438d_row9_col7\" class=\"data row9 col7\" >smart</td>\n",
       "            </tr>\n",
       "    </tbody></table>"
      ],
      "text/plain": [
       "<pandas.io.formats.style.Styler at 0x7f7f5d3f9b80>"
      ]
     },
     "execution_count": 31,
     "metadata": {},
     "output_type": "execute_result"
    }
   ],
   "source": [
    "for index in all_info.index:\n",
    "    all_info.loc[index, 'tariff'] = users.loc[index[0] - 1000, 'tariff']\n",
    "all_info.head(10).reset_index().style.set_caption('Информация о каждом пользователе помесячно с тарифами').set_table_styles(\n",
    "    [{'selector': 'caption', 'props': [('color', 'blue'), ('font-size', '15px')]}]\n",
    ")"
   ]
  },
  {
   "cell_type": "markdown",
   "metadata": {},
   "source": [
    "Создадим функцию для определения ежемесячной выручки."
   ]
  },
  {
   "cell_type": "code",
   "execution_count": 32,
   "metadata": {},
   "outputs": [],
   "source": [
    "def proceeds(row):\n",
    "    if row['tariff'] == 'smart':\n",
    "        month_fee = tariffs.loc[0, 'rub_monthly_fee']\n",
    "        \n",
    "        extra_minutes = row['minutes_per_month'] - tariffs.loc[0, 'minutes_included']\n",
    "        if extra_minutes < 0:\n",
    "            extra_minutes = 0\n",
    "        \n",
    "        extra_messages = row['messages_per_month'] - tariffs.loc[0, 'messages_included']\n",
    "        if extra_messages < 0:\n",
    "            extra_messages = 0\n",
    "            \n",
    "        extra_gb = row['gb_per_month'] - (tariffs.loc[0, 'mb_per_month_included']/1024)\n",
    "        if extra_gb < 0:\n",
    "            extra_gb = 0\n",
    "            \n",
    "        extra_fee = tariffs.loc[0, 'rub_per_minute']*extra_minutes + tariffs.loc[0, 'rub_per_message']*extra_messages + tariffs.loc[0, 'rub_per_gb']*extra_gb\n",
    "        \n",
    "        proceeds = month_fee + extra_fee\n",
    "        return proceeds\n",
    "        \n",
    "    elif row['tariff'] == 'ultra':\n",
    "        month_fee = tariffs.loc[1, 'rub_monthly_fee']\n",
    "        \n",
    "        extra_minutes = row['minutes_per_month'] - tariffs.loc[1, 'minutes_included']\n",
    "        if extra_minutes < 0:\n",
    "            extra_minutes = 0\n",
    "        \n",
    "        extra_messages = row['messages_per_month'] - tariffs.loc[1, 'messages_included']\n",
    "        if extra_messages < 0:\n",
    "            extra_messages = 0\n",
    "            \n",
    "        extra_gb = row['gb_per_month'] - (tariffs.loc[1, 'mb_per_month_included']/1024)\n",
    "        if extra_gb < 0:\n",
    "            extra_gb = 0\n",
    "            \n",
    "        extra_fee = tariffs.loc[1, 'rub_per_minute']*extra_minutes + tariffs.loc[1, 'rub_per_message']*extra_messages + tariffs.loc[1, 'rub_per_gb']*extra_gb\n",
    "        \n",
    "        proceeds = month_fee + extra_fee\n",
    "        return proceeds\n",
    "    \n",
    "    else:\n",
    "        return 'error'    "
   ]
  },
  {
   "cell_type": "markdown",
   "metadata": {},
   "source": [
    "Добавим новый столбец в *all_info* со значениями выручки от каждого пользователя."
   ]
  },
  {
   "cell_type": "code",
   "execution_count": 33,
   "metadata": {},
   "outputs": [
    {
     "data": {
      "text/html": [
       "<style  type=\"text/css\" >\n",
       "    #T_21767_ caption {\n",
       "          color: blue;\n",
       "          font-size: 15px;\n",
       "    }</style><table id=\"T_21767_\" ><caption>Информация о каждом пользователе помесячно с тарифами и выручкой</caption><thead>    <tr>        <th class=\"blank level0\" ></th>        <th class=\"col_heading level0 col0\" >user_id</th>        <th class=\"col_heading level0 col1\" >month</th>        <th class=\"col_heading level0 col2\" >calls_per_month</th>        <th class=\"col_heading level0 col3\" >minutes_per_month</th>        <th class=\"col_heading level0 col4\" >messages_per_month</th>        <th class=\"col_heading level0 col5\" >mb_per_month</th>        <th class=\"col_heading level0 col6\" >gb_per_month</th>        <th class=\"col_heading level0 col7\" >tariff</th>        <th class=\"col_heading level0 col8\" >proceeds</th>    </tr></thead><tbody>\n",
       "                <tr>\n",
       "                        <th id=\"T_21767_level0_row0\" class=\"row_heading level0 row0\" >0</th>\n",
       "                        <td id=\"T_21767_row0_col0\" class=\"data row0 col0\" >1000</td>\n",
       "                        <td id=\"T_21767_row0_col1\" class=\"data row0 col1\" >5</td>\n",
       "                        <td id=\"T_21767_row0_col2\" class=\"data row0 col2\" >17.000000</td>\n",
       "                        <td id=\"T_21767_row0_col3\" class=\"data row0 col3\" >159.000000</td>\n",
       "                        <td id=\"T_21767_row0_col4\" class=\"data row0 col4\" >22.000000</td>\n",
       "                        <td id=\"T_21767_row0_col5\" class=\"data row0 col5\" >2253.490000</td>\n",
       "                        <td id=\"T_21767_row0_col6\" class=\"data row0 col6\" >3.000000</td>\n",
       "                        <td id=\"T_21767_row0_col7\" class=\"data row0 col7\" >ultra</td>\n",
       "                        <td id=\"T_21767_row0_col8\" class=\"data row0 col8\" >1950.000000</td>\n",
       "            </tr>\n",
       "            <tr>\n",
       "                        <th id=\"T_21767_level0_row1\" class=\"row_heading level0 row1\" >1</th>\n",
       "                        <td id=\"T_21767_row1_col0\" class=\"data row1 col0\" >1000</td>\n",
       "                        <td id=\"T_21767_row1_col1\" class=\"data row1 col1\" >6</td>\n",
       "                        <td id=\"T_21767_row1_col2\" class=\"data row1 col2\" >28.000000</td>\n",
       "                        <td id=\"T_21767_row1_col3\" class=\"data row1 col3\" >172.000000</td>\n",
       "                        <td id=\"T_21767_row1_col4\" class=\"data row1 col4\" >60.000000</td>\n",
       "                        <td id=\"T_21767_row1_col5\" class=\"data row1 col5\" >23233.770000</td>\n",
       "                        <td id=\"T_21767_row1_col6\" class=\"data row1 col6\" >23.000000</td>\n",
       "                        <td id=\"T_21767_row1_col7\" class=\"data row1 col7\" >ultra</td>\n",
       "                        <td id=\"T_21767_row1_col8\" class=\"data row1 col8\" >1950.000000</td>\n",
       "            </tr>\n",
       "            <tr>\n",
       "                        <th id=\"T_21767_level0_row2\" class=\"row_heading level0 row2\" >2</th>\n",
       "                        <td id=\"T_21767_row2_col0\" class=\"data row2 col0\" >1000</td>\n",
       "                        <td id=\"T_21767_row2_col1\" class=\"data row2 col1\" >7</td>\n",
       "                        <td id=\"T_21767_row2_col2\" class=\"data row2 col2\" >41.000000</td>\n",
       "                        <td id=\"T_21767_row2_col3\" class=\"data row2 col3\" >340.000000</td>\n",
       "                        <td id=\"T_21767_row2_col4\" class=\"data row2 col4\" >75.000000</td>\n",
       "                        <td id=\"T_21767_row2_col5\" class=\"data row2 col5\" >14003.640000</td>\n",
       "                        <td id=\"T_21767_row2_col6\" class=\"data row2 col6\" >14.000000</td>\n",
       "                        <td id=\"T_21767_row2_col7\" class=\"data row2 col7\" >ultra</td>\n",
       "                        <td id=\"T_21767_row2_col8\" class=\"data row2 col8\" >1950.000000</td>\n",
       "            </tr>\n",
       "            <tr>\n",
       "                        <th id=\"T_21767_level0_row3\" class=\"row_heading level0 row3\" >3</th>\n",
       "                        <td id=\"T_21767_row3_col0\" class=\"data row3 col0\" >1000</td>\n",
       "                        <td id=\"T_21767_row3_col1\" class=\"data row3 col1\" >8</td>\n",
       "                        <td id=\"T_21767_row3_col2\" class=\"data row3 col2\" >42.000000</td>\n",
       "                        <td id=\"T_21767_row3_col3\" class=\"data row3 col3\" >408.000000</td>\n",
       "                        <td id=\"T_21767_row3_col4\" class=\"data row3 col4\" >81.000000</td>\n",
       "                        <td id=\"T_21767_row3_col5\" class=\"data row3 col5\" >14055.930000</td>\n",
       "                        <td id=\"T_21767_row3_col6\" class=\"data row3 col6\" >14.000000</td>\n",
       "                        <td id=\"T_21767_row3_col7\" class=\"data row3 col7\" >ultra</td>\n",
       "                        <td id=\"T_21767_row3_col8\" class=\"data row3 col8\" >1950.000000</td>\n",
       "            </tr>\n",
       "            <tr>\n",
       "                        <th id=\"T_21767_level0_row4\" class=\"row_heading level0 row4\" >4</th>\n",
       "                        <td id=\"T_21767_row4_col0\" class=\"data row4 col0\" >1000</td>\n",
       "                        <td id=\"T_21767_row4_col1\" class=\"data row4 col1\" >9</td>\n",
       "                        <td id=\"T_21767_row4_col2\" class=\"data row4 col2\" >46.000000</td>\n",
       "                        <td id=\"T_21767_row4_col3\" class=\"data row4 col3\" >466.000000</td>\n",
       "                        <td id=\"T_21767_row4_col4\" class=\"data row4 col4\" >57.000000</td>\n",
       "                        <td id=\"T_21767_row4_col5\" class=\"data row4 col5\" >14568.910000</td>\n",
       "                        <td id=\"T_21767_row4_col6\" class=\"data row4 col6\" >15.000000</td>\n",
       "                        <td id=\"T_21767_row4_col7\" class=\"data row4 col7\" >ultra</td>\n",
       "                        <td id=\"T_21767_row4_col8\" class=\"data row4 col8\" >1950.000000</td>\n",
       "            </tr>\n",
       "            <tr>\n",
       "                        <th id=\"T_21767_level0_row5\" class=\"row_heading level0 row5\" >5</th>\n",
       "                        <td id=\"T_21767_row5_col0\" class=\"data row5 col0\" >1000</td>\n",
       "                        <td id=\"T_21767_row5_col1\" class=\"data row5 col1\" >10</td>\n",
       "                        <td id=\"T_21767_row5_col2\" class=\"data row5 col2\" >44.000000</td>\n",
       "                        <td id=\"T_21767_row5_col3\" class=\"data row5 col3\" >350.000000</td>\n",
       "                        <td id=\"T_21767_row5_col4\" class=\"data row5 col4\" >73.000000</td>\n",
       "                        <td id=\"T_21767_row5_col5\" class=\"data row5 col5\" >14702.490000</td>\n",
       "                        <td id=\"T_21767_row5_col6\" class=\"data row5 col6\" >15.000000</td>\n",
       "                        <td id=\"T_21767_row5_col7\" class=\"data row5 col7\" >ultra</td>\n",
       "                        <td id=\"T_21767_row5_col8\" class=\"data row5 col8\" >1950.000000</td>\n",
       "            </tr>\n",
       "            <tr>\n",
       "                        <th id=\"T_21767_level0_row6\" class=\"row_heading level0 row6\" >6</th>\n",
       "                        <td id=\"T_21767_row6_col0\" class=\"data row6 col0\" >1000</td>\n",
       "                        <td id=\"T_21767_row6_col1\" class=\"data row6 col1\" >11</td>\n",
       "                        <td id=\"T_21767_row6_col2\" class=\"data row6 col2\" >37.000000</td>\n",
       "                        <td id=\"T_21767_row6_col3\" class=\"data row6 col3\" >338.000000</td>\n",
       "                        <td id=\"T_21767_row6_col4\" class=\"data row6 col4\" >58.000000</td>\n",
       "                        <td id=\"T_21767_row6_col5\" class=\"data row6 col5\" >14756.470000</td>\n",
       "                        <td id=\"T_21767_row6_col6\" class=\"data row6 col6\" >15.000000</td>\n",
       "                        <td id=\"T_21767_row6_col7\" class=\"data row6 col7\" >ultra</td>\n",
       "                        <td id=\"T_21767_row6_col8\" class=\"data row6 col8\" >1950.000000</td>\n",
       "            </tr>\n",
       "            <tr>\n",
       "                        <th id=\"T_21767_level0_row7\" class=\"row_heading level0 row7\" >7</th>\n",
       "                        <td id=\"T_21767_row7_col0\" class=\"data row7 col0\" >1000</td>\n",
       "                        <td id=\"T_21767_row7_col1\" class=\"data row7 col1\" >12</td>\n",
       "                        <td id=\"T_21767_row7_col2\" class=\"data row7 col2\" >38.000000</td>\n",
       "                        <td id=\"T_21767_row7_col3\" class=\"data row7 col3\" >333.000000</td>\n",
       "                        <td id=\"T_21767_row7_col4\" class=\"data row7 col4\" >70.000000</td>\n",
       "                        <td id=\"T_21767_row7_col5\" class=\"data row7 col5\" >9817.610000</td>\n",
       "                        <td id=\"T_21767_row7_col6\" class=\"data row7 col6\" >10.000000</td>\n",
       "                        <td id=\"T_21767_row7_col7\" class=\"data row7 col7\" >ultra</td>\n",
       "                        <td id=\"T_21767_row7_col8\" class=\"data row7 col8\" >1950.000000</td>\n",
       "            </tr>\n",
       "            <tr>\n",
       "                        <th id=\"T_21767_level0_row8\" class=\"row_heading level0 row8\" >8</th>\n",
       "                        <td id=\"T_21767_row8_col0\" class=\"data row8 col0\" >1001</td>\n",
       "                        <td id=\"T_21767_row8_col1\" class=\"data row8 col1\" >11</td>\n",
       "                        <td id=\"T_21767_row8_col2\" class=\"data row8 col2\" >45.000000</td>\n",
       "                        <td id=\"T_21767_row8_col3\" class=\"data row8 col3\" >430.000000</td>\n",
       "                        <td id=\"T_21767_row8_col4\" class=\"data row8 col4\" >0.000000</td>\n",
       "                        <td id=\"T_21767_row8_col5\" class=\"data row8 col5\" >18429.340000</td>\n",
       "                        <td id=\"T_21767_row8_col6\" class=\"data row8 col6\" >18.000000</td>\n",
       "                        <td id=\"T_21767_row8_col7\" class=\"data row8 col7\" >smart</td>\n",
       "                        <td id=\"T_21767_row8_col8\" class=\"data row8 col8\" >1150.000000</td>\n",
       "            </tr>\n",
       "            <tr>\n",
       "                        <th id=\"T_21767_level0_row9\" class=\"row_heading level0 row9\" >9</th>\n",
       "                        <td id=\"T_21767_row9_col0\" class=\"data row9 col0\" >1001</td>\n",
       "                        <td id=\"T_21767_row9_col1\" class=\"data row9 col1\" >12</td>\n",
       "                        <td id=\"T_21767_row9_col2\" class=\"data row9 col2\" >47.000000</td>\n",
       "                        <td id=\"T_21767_row9_col3\" class=\"data row9 col3\" >414.000000</td>\n",
       "                        <td id=\"T_21767_row9_col4\" class=\"data row9 col4\" >0.000000</td>\n",
       "                        <td id=\"T_21767_row9_col5\" class=\"data row9 col5\" >14036.660000</td>\n",
       "                        <td id=\"T_21767_row9_col6\" class=\"data row9 col6\" >14.000000</td>\n",
       "                        <td id=\"T_21767_row9_col7\" class=\"data row9 col7\" >smart</td>\n",
       "                        <td id=\"T_21767_row9_col8\" class=\"data row9 col8\" >550.000000</td>\n",
       "            </tr>\n",
       "    </tbody></table>"
      ],
      "text/plain": [
       "<pandas.io.formats.style.Styler at 0x7f7f5d3f95b0>"
      ]
     },
     "execution_count": 33,
     "metadata": {},
     "output_type": "execute_result"
    }
   ],
   "source": [
    "all_info['proceeds'] = all_info.apply(proceeds, axis=1)\n",
    "all_info.head(10).reset_index().style.set_caption('Информация о каждом пользователе помесячно с тарифами и выручкой').set_table_styles(\n",
    "    [{'selector': 'caption', 'props': [('color', 'blue'), ('font-size', '15px')]}]\n",
    ")"
   ]
  },
  {
   "cell_type": "markdown",
   "metadata": {},
   "source": [
    "Проверяем отсутсвие ошибок."
   ]
  },
  {
   "cell_type": "code",
   "execution_count": 34,
   "metadata": {},
   "outputs": [
    {
     "data": {
      "text/html": [
       "<div>\n",
       "<style scoped>\n",
       "    .dataframe tbody tr th:only-of-type {\n",
       "        vertical-align: middle;\n",
       "    }\n",
       "\n",
       "    .dataframe tbody tr th {\n",
       "        vertical-align: top;\n",
       "    }\n",
       "\n",
       "    .dataframe thead th {\n",
       "        text-align: right;\n",
       "    }\n",
       "</style>\n",
       "<table border=\"1\" class=\"dataframe\">\n",
       "  <thead>\n",
       "    <tr style=\"text-align: right;\">\n",
       "      <th></th>\n",
       "      <th></th>\n",
       "      <th>calls_per_month</th>\n",
       "      <th>minutes_per_month</th>\n",
       "      <th>messages_per_month</th>\n",
       "      <th>mb_per_month</th>\n",
       "      <th>gb_per_month</th>\n",
       "      <th>tariff</th>\n",
       "      <th>proceeds</th>\n",
       "    </tr>\n",
       "    <tr>\n",
       "      <th>user_id</th>\n",
       "      <th>month</th>\n",
       "      <th></th>\n",
       "      <th></th>\n",
       "      <th></th>\n",
       "      <th></th>\n",
       "      <th></th>\n",
       "      <th></th>\n",
       "      <th></th>\n",
       "    </tr>\n",
       "  </thead>\n",
       "  <tbody>\n",
       "  </tbody>\n",
       "</table>\n",
       "</div>"
      ],
      "text/plain": [
       "Empty DataFrame\n",
       "Columns: [calls_per_month, minutes_per_month, messages_per_month, mb_per_month, gb_per_month, tariff, proceeds]\n",
       "Index: []"
      ]
     },
     "execution_count": 34,
     "metadata": {},
     "output_type": "execute_result"
    }
   ],
   "source": [
    "all_info.query('proceeds == \"error\"')"
   ]
  },
  {
   "cell_type": "markdown",
   "metadata": {},
   "source": [
    "### Вывод\n",
    "Данные приведены к удобным типам данных, ошибки исправлены. Данные для анализа сформированы в одну таблицу."
   ]
  },
  {
   "cell_type": "markdown",
   "metadata": {},
   "source": [
    "## Анализ данных"
   ]
  },
  {
   "cell_type": "markdown",
   "metadata": {},
   "source": [
    "Проанализируем поведение клиентов оператора, исходя из выборки. "
   ]
  },
  {
   "cell_type": "markdown",
   "metadata": {},
   "source": [
    "### Средние значения для каждого тарифа по месяцам"
   ]
  },
  {
   "cell_type": "markdown",
   "metadata": {},
   "source": [
    "Найдём средние значения минут разговора, сообщений и объёма интернет-трафика, их дисперсию и стандартное отклонение для каждого пользователя в месяц."
   ]
  },
  {
   "cell_type": "code",
   "execution_count": 35,
   "metadata": {},
   "outputs": [
    {
     "data": {
      "text/html": [
       "<style  type=\"text/css\" >\n",
       "    #T_4b8ba_ caption {\n",
       "          color: blue;\n",
       "          font-size: 15px;\n",
       "    }</style><table id=\"T_4b8ba_\" ><caption>Средние значения для каждого тарифа по месяцам</caption><thead>    <tr>        <th class=\"blank level0\" ></th>        <th class=\"col_heading level0 col0\" >tariff</th>        <th class=\"col_heading level0 col1\" >user_id</th>        <th class=\"col_heading level0 col2\" >gb_mean</th>        <th class=\"col_heading level0 col3\" >messages_mean</th>        <th class=\"col_heading level0 col4\" >minutes_mean</th>        <th class=\"col_heading level0 col5\" >proceeds_mean</th>    </tr></thead><tbody>\n",
       "                <tr>\n",
       "                        <th id=\"T_4b8ba_level0_row0\" class=\"row_heading level0 row0\" >0</th>\n",
       "                        <td id=\"T_4b8ba_row0_col0\" class=\"data row0 col0\" >smart</td>\n",
       "                        <td id=\"T_4b8ba_row0_col1\" class=\"data row0 col1\" >1001</td>\n",
       "                        <td id=\"T_4b8ba_row0_col2\" class=\"data row0 col2\" >16.000000</td>\n",
       "                        <td id=\"T_4b8ba_row0_col3\" class=\"data row0 col3\" >0.000000</td>\n",
       "                        <td id=\"T_4b8ba_row0_col4\" class=\"data row0 col4\" >422.000000</td>\n",
       "                        <td id=\"T_4b8ba_row0_col5\" class=\"data row0 col5\" >850.000000</td>\n",
       "            </tr>\n",
       "            <tr>\n",
       "                        <th id=\"T_4b8ba_level0_row1\" class=\"row_heading level0 row1\" >1</th>\n",
       "                        <td id=\"T_4b8ba_row1_col0\" class=\"data row1 col0\" >smart</td>\n",
       "                        <td id=\"T_4b8ba_row1_col1\" class=\"data row1 col1\" >1002</td>\n",
       "                        <td id=\"T_4b8ba_row1_col2\" class=\"data row1 col2\" >16.714286</td>\n",
       "                        <td id=\"T_4b8ba_row1_col3\" class=\"data row1 col3\" >10.000000</td>\n",
       "                        <td id=\"T_4b8ba_row1_col4\" class=\"data row1 col4\" >216.714286</td>\n",
       "                        <td id=\"T_4b8ba_row1_col5\" class=\"data row1 col5\" >1035.714286</td>\n",
       "            </tr>\n",
       "            <tr>\n",
       "                        <th id=\"T_4b8ba_level0_row2\" class=\"row_heading level0 row2\" >2</th>\n",
       "                        <td id=\"T_4b8ba_row2_col0\" class=\"data row2 col0\" >smart</td>\n",
       "                        <td id=\"T_4b8ba_row2_col1\" class=\"data row2 col1\" >1005</td>\n",
       "                        <td id=\"T_4b8ba_row2_col2\" class=\"data row2 col2\" >8.583333</td>\n",
       "                        <td id=\"T_4b8ba_row2_col3\" class=\"data row2 col3\" >46.000000</td>\n",
       "                        <td id=\"T_4b8ba_row2_col4\" class=\"data row2 col4\" >550.416667</td>\n",
       "                        <td id=\"T_4b8ba_row2_col5\" class=\"data row2 col5\" >827.000000</td>\n",
       "            </tr>\n",
       "            <tr>\n",
       "                        <th id=\"T_4b8ba_level0_row3\" class=\"row_heading level0 row3\" >3</th>\n",
       "                        <td id=\"T_4b8ba_row3_col0\" class=\"data row3 col0\" >smart</td>\n",
       "                        <td id=\"T_4b8ba_row3_col1\" class=\"data row3 col1\" >1006</td>\n",
       "                        <td id=\"T_4b8ba_row3_col2\" class=\"data row3 col2\" >15.090909</td>\n",
       "                        <td id=\"T_4b8ba_row3_col3\" class=\"data row3 col3\" >0.000000</td>\n",
       "                        <td id=\"T_4b8ba_row3_col4\" class=\"data row3 col4\" >318.272727</td>\n",
       "                        <td id=\"T_4b8ba_row3_col5\" class=\"data row3 col5\" >931.818182</td>\n",
       "            </tr>\n",
       "            <tr>\n",
       "                        <th id=\"T_4b8ba_level0_row4\" class=\"row_heading level0 row4\" >4</th>\n",
       "                        <td id=\"T_4b8ba_row4_col0\" class=\"data row4 col0\" >smart</td>\n",
       "                        <td id=\"T_4b8ba_row4_col1\" class=\"data row4 col1\" >1007</td>\n",
       "                        <td id=\"T_4b8ba_row4_col2\" class=\"data row4 col2\" >14.888889</td>\n",
       "                        <td id=\"T_4b8ba_row4_col3\" class=\"data row4 col3\" >25.000000</td>\n",
       "                        <td id=\"T_4b8ba_row4_col4\" class=\"data row4 col4\" >486.555556</td>\n",
       "                        <td id=\"T_4b8ba_row4_col5\" class=\"data row4 col5\" >913.444444</td>\n",
       "            </tr>\n",
       "            <tr>\n",
       "                        <th id=\"T_4b8ba_level0_row5\" class=\"row_heading level0 row5\" >5</th>\n",
       "                        <td id=\"T_4b8ba_row5_col0\" class=\"data row5 col0\" >smart</td>\n",
       "                        <td id=\"T_4b8ba_row5_col1\" class=\"data row5 col1\" >1008</td>\n",
       "                        <td id=\"T_4b8ba_row5_col2\" class=\"data row5 col2\" >13.000000</td>\n",
       "                        <td id=\"T_4b8ba_row5_col3\" class=\"data row5 col3\" >56.000000</td>\n",
       "                        <td id=\"T_4b8ba_row5_col4\" class=\"data row5 col4\" >339.000000</td>\n",
       "                        <td id=\"T_4b8ba_row5_col5\" class=\"data row5 col5\" >568.000000</td>\n",
       "            </tr>\n",
       "            <tr>\n",
       "                        <th id=\"T_4b8ba_level0_row6\" class=\"row_heading level0 row6\" >6</th>\n",
       "                        <td id=\"T_4b8ba_row6_col0\" class=\"data row6 col0\" >smart</td>\n",
       "                        <td id=\"T_4b8ba_row6_col1\" class=\"data row6 col1\" >1009</td>\n",
       "                        <td id=\"T_4b8ba_row6_col2\" class=\"data row6 col2\" >18.000000</td>\n",
       "                        <td id=\"T_4b8ba_row6_col3\" class=\"data row6 col3\" >11.000000</td>\n",
       "                        <td id=\"T_4b8ba_row6_col4\" class=\"data row6 col4\" >218.900000</td>\n",
       "                        <td id=\"T_4b8ba_row6_col5\" class=\"data row6 col5\" >1310.000000</td>\n",
       "            </tr>\n",
       "            <tr>\n",
       "                        <th id=\"T_4b8ba_level0_row7\" class=\"row_heading level0 row7\" >7</th>\n",
       "                        <td id=\"T_4b8ba_row7_col0\" class=\"data row7 col0\" >smart</td>\n",
       "                        <td id=\"T_4b8ba_row7_col1\" class=\"data row7 col1\" >1010</td>\n",
       "                        <td id=\"T_4b8ba_row7_col2\" class=\"data row7 col2\" >16.800000</td>\n",
       "                        <td id=\"T_4b8ba_row7_col3\" class=\"data row7 col3\" >0.000000</td>\n",
       "                        <td id=\"T_4b8ba_row7_col4\" class=\"data row7 col4\" >231.000000</td>\n",
       "                        <td id=\"T_4b8ba_row7_col5\" class=\"data row7 col5\" >910.000000</td>\n",
       "            </tr>\n",
       "            <tr>\n",
       "                        <th id=\"T_4b8ba_level0_row8\" class=\"row_heading level0 row8\" >8</th>\n",
       "                        <td id=\"T_4b8ba_row8_col0\" class=\"data row8 col0\" >smart</td>\n",
       "                        <td id=\"T_4b8ba_row8_col1\" class=\"data row8 col1\" >1011</td>\n",
       "                        <td id=\"T_4b8ba_row8_col2\" class=\"data row8 col2\" >18.700000</td>\n",
       "                        <td id=\"T_4b8ba_row8_col3\" class=\"data row8 col3\" >11.000000</td>\n",
       "                        <td id=\"T_4b8ba_row8_col4\" class=\"data row8 col4\" >432.800000</td>\n",
       "                        <td id=\"T_4b8ba_row8_col5\" class=\"data row8 col5\" >1514.400000</td>\n",
       "            </tr>\n",
       "            <tr>\n",
       "                        <th id=\"T_4b8ba_level0_row9\" class=\"row_heading level0 row9\" >9</th>\n",
       "                        <td id=\"T_4b8ba_row9_col0\" class=\"data row9 col0\" >smart</td>\n",
       "                        <td id=\"T_4b8ba_row9_col1\" class=\"data row9 col1\" >1012</td>\n",
       "                        <td id=\"T_4b8ba_row9_col2\" class=\"data row9 col2\" >20.000000</td>\n",
       "                        <td id=\"T_4b8ba_row9_col3\" class=\"data row9 col3\" >15.000000</td>\n",
       "                        <td id=\"T_4b8ba_row9_col4\" class=\"data row9 col4\" >251.600000</td>\n",
       "                        <td id=\"T_4b8ba_row9_col5\" class=\"data row9 col5\" >1810.000000</td>\n",
       "            </tr>\n",
       "            <tr>\n",
       "                        <th id=\"T_4b8ba_level0_row10\" class=\"row_heading level0 row10\" >10</th>\n",
       "                        <td id=\"T_4b8ba_row10_col0\" class=\"data row10 col0\" >smart</td>\n",
       "                        <td id=\"T_4b8ba_row10_col1\" class=\"data row10 col1\" >1014</td>\n",
       "                        <td id=\"T_4b8ba_row10_col2\" class=\"data row10 col2\" >23.875000</td>\n",
       "                        <td id=\"T_4b8ba_row10_col3\" class=\"data row10 col3\" >44.000000</td>\n",
       "                        <td id=\"T_4b8ba_row10_col4\" class=\"data row10 col4\" >227.125000</td>\n",
       "                        <td id=\"T_4b8ba_row10_col5\" class=\"data row10 col5\" >2376.500000</td>\n",
       "            </tr>\n",
       "            <tr>\n",
       "                        <th id=\"T_4b8ba_level0_row11\" class=\"row_heading level0 row11\" >11</th>\n",
       "                        <td id=\"T_4b8ba_row11_col0\" class=\"data row11 col0\" >smart</td>\n",
       "                        <td id=\"T_4b8ba_row11_col1\" class=\"data row11 col1\" >1015</td>\n",
       "                        <td id=\"T_4b8ba_row11_col2\" class=\"data row11 col2\" >18.666667</td>\n",
       "                        <td id=\"T_4b8ba_row11_col3\" class=\"data row11 col3\" >65.000000</td>\n",
       "                        <td id=\"T_4b8ba_row11_col4\" class=\"data row11 col4\" >423.111111</td>\n",
       "                        <td id=\"T_4b8ba_row11_col5\" class=\"data row11 col5\" >1699.444444</td>\n",
       "            </tr>\n",
       "            <tr>\n",
       "                        <th id=\"T_4b8ba_level0_row12\" class=\"row_heading level0 row12\" >12</th>\n",
       "                        <td id=\"T_4b8ba_row12_col0\" class=\"data row12 col0\" >smart</td>\n",
       "                        <td id=\"T_4b8ba_row12_col1\" class=\"data row12 col1\" >1017</td>\n",
       "                        <td id=\"T_4b8ba_row12_col2\" class=\"data row12 col2\" >16.875000</td>\n",
       "                        <td id=\"T_4b8ba_row12_col3\" class=\"data row12 col3\" >0.000000</td>\n",
       "                        <td id=\"T_4b8ba_row12_col4\" class=\"data row12 col4\" >363.000000</td>\n",
       "                        <td id=\"T_4b8ba_row12_col5\" class=\"data row12 col5\" >1150.000000</td>\n",
       "            </tr>\n",
       "            <tr>\n",
       "                        <th id=\"T_4b8ba_level0_row13\" class=\"row_heading level0 row13\" >13</th>\n",
       "                        <td id=\"T_4b8ba_row13_col0\" class=\"data row13 col0\" >smart</td>\n",
       "                        <td id=\"T_4b8ba_row13_col1\" class=\"data row13 col1\" >1020</td>\n",
       "                        <td id=\"T_4b8ba_row13_col2\" class=\"data row13 col2\" >11.000000</td>\n",
       "                        <td id=\"T_4b8ba_row13_col3\" class=\"data row13 col3\" >12.666667</td>\n",
       "                        <td id=\"T_4b8ba_row13_col4\" class=\"data row13 col4\" >417.666667</td>\n",
       "                        <td id=\"T_4b8ba_row13_col5\" class=\"data row13 col5\" >924.000000</td>\n",
       "            </tr>\n",
       "            <tr>\n",
       "                        <th id=\"T_4b8ba_level0_row14\" class=\"row_heading level0 row14\" >14</th>\n",
       "                        <td id=\"T_4b8ba_row14_col0\" class=\"data row14 col0\" >smart</td>\n",
       "                        <td id=\"T_4b8ba_row14_col1\" class=\"data row14 col1\" >1022</td>\n",
       "                        <td id=\"T_4b8ba_row14_col2\" class=\"data row14 col2\" >16.000000</td>\n",
       "                        <td id=\"T_4b8ba_row14_col3\" class=\"data row14 col3\" >10.000000</td>\n",
       "                        <td id=\"T_4b8ba_row14_col4\" class=\"data row14 col4\" >267.000000</td>\n",
       "                        <td id=\"T_4b8ba_row14_col5\" class=\"data row14 col5\" >750.000000</td>\n",
       "            </tr>\n",
       "            <tr>\n",
       "                        <th id=\"T_4b8ba_level0_row15\" class=\"row_heading level0 row15\" >15</th>\n",
       "                        <td id=\"T_4b8ba_row15_col0\" class=\"data row15 col0\" >smart</td>\n",
       "                        <td id=\"T_4b8ba_row15_col1\" class=\"data row15 col1\" >1023</td>\n",
       "                        <td id=\"T_4b8ba_row15_col2\" class=\"data row15 col2\" >17.333333</td>\n",
       "                        <td id=\"T_4b8ba_row15_col3\" class=\"data row15 col3\" >37.000000</td>\n",
       "                        <td id=\"T_4b8ba_row15_col4\" class=\"data row15 col4\" >408.333333</td>\n",
       "                        <td id=\"T_4b8ba_row15_col5\" class=\"data row15 col5\" >1619.000000</td>\n",
       "            </tr>\n",
       "            <tr>\n",
       "                        <th id=\"T_4b8ba_level0_row16\" class=\"row_heading level0 row16\" >16</th>\n",
       "                        <td id=\"T_4b8ba_row16_col0\" class=\"data row16 col0\" >smart</td>\n",
       "                        <td id=\"T_4b8ba_row16_col1\" class=\"data row16 col1\" >1025</td>\n",
       "                        <td id=\"T_4b8ba_row16_col2\" class=\"data row16 col2\" >14.000000</td>\n",
       "                        <td id=\"T_4b8ba_row16_col3\" class=\"data row16 col3\" >30.000000</td>\n",
       "                        <td id=\"T_4b8ba_row16_col4\" class=\"data row16 col4\" >514.100000</td>\n",
       "                        <td id=\"T_4b8ba_row16_col5\" class=\"data row16 col5\" >893.000000</td>\n",
       "            </tr>\n",
       "            <tr>\n",
       "                        <th id=\"T_4b8ba_level0_row17\" class=\"row_heading level0 row17\" >17</th>\n",
       "                        <td id=\"T_4b8ba_row17_col0\" class=\"data row17 col0\" >smart</td>\n",
       "                        <td id=\"T_4b8ba_row17_col1\" class=\"data row17 col1\" >1026</td>\n",
       "                        <td id=\"T_4b8ba_row17_col2\" class=\"data row17 col2\" >14.333333</td>\n",
       "                        <td id=\"T_4b8ba_row17_col3\" class=\"data row17 col3\" >48.000000</td>\n",
       "                        <td id=\"T_4b8ba_row17_col4\" class=\"data row17 col4\" >511.666667</td>\n",
       "                        <td id=\"T_4b8ba_row17_col5\" class=\"data row17 col5\" >756.333333</td>\n",
       "            </tr>\n",
       "            <tr>\n",
       "                        <th id=\"T_4b8ba_level0_row18\" class=\"row_heading level0 row18\" >18</th>\n",
       "                        <td id=\"T_4b8ba_row18_col0\" class=\"data row18 col0\" >smart</td>\n",
       "                        <td id=\"T_4b8ba_row18_col1\" class=\"data row18 col1\" >1027</td>\n",
       "                        <td id=\"T_4b8ba_row18_col2\" class=\"data row18 col2\" >20.555556</td>\n",
       "                        <td id=\"T_4b8ba_row18_col3\" class=\"data row18 col3\" >15.000000</td>\n",
       "                        <td id=\"T_4b8ba_row18_col4\" class=\"data row18 col4\" >446.555556</td>\n",
       "                        <td id=\"T_4b8ba_row18_col5\" class=\"data row18 col5\" >1774.111111</td>\n",
       "            </tr>\n",
       "            <tr>\n",
       "                        <th id=\"T_4b8ba_level0_row19\" class=\"row_heading level0 row19\" >19</th>\n",
       "                        <td id=\"T_4b8ba_row19_col0\" class=\"data row19 col0\" >smart</td>\n",
       "                        <td id=\"T_4b8ba_row19_col1\" class=\"data row19 col1\" >1029</td>\n",
       "                        <td id=\"T_4b8ba_row19_col2\" class=\"data row19 col2\" >14.500000</td>\n",
       "                        <td id=\"T_4b8ba_row19_col3\" class=\"data row19 col3\" >42.000000</td>\n",
       "                        <td id=\"T_4b8ba_row19_col4\" class=\"data row19 col4\" >650.250000</td>\n",
       "                        <td id=\"T_4b8ba_row19_col5\" class=\"data row19 col5\" >1418.250000</td>\n",
       "            </tr>\n",
       "    </tbody></table>"
      ],
      "text/plain": [
       "<pandas.io.formats.style.Styler at 0x7f7f5c36fca0>"
      ]
     },
     "execution_count": 35,
     "metadata": {},
     "output_type": "execute_result"
    }
   ],
   "source": [
    "general_tariffs_month = all_info.pivot_table(index = ['tariff', 'user_id'],\n",
    "values = ['minutes_per_month', 'messages_per_month', 'gb_per_month', 'proceeds'], aggfunc = ['mean'])\n",
    "general_tariffs_month.columns = ['gb_mean', 'messages_mean', 'minutes_mean', 'proceeds_mean']\n",
    "general_tariffs_month.head(20).reset_index().style.set_caption(\n",
    "    'Средние значения для каждого тарифа по месяцам').set_table_styles(\n",
    "    [{'selector': 'caption', 'props': [('color', 'blue'), ('font-size', '15px')]}]\n",
    ")"
   ]
  },
  {
   "cell_type": "markdown",
   "metadata": {},
   "source": [
    "### Среднее значение, дисперсия и стандартное отклонение для каждого тарифа"
   ]
  },
  {
   "cell_type": "markdown",
   "metadata": {},
   "source": [
    "А теперь найдём среднее значение, дисперсию и среднее отклонение для каждого тарифа."
   ]
  },
  {
   "cell_type": "code",
   "execution_count": 36,
   "metadata": {},
   "outputs": [
    {
     "data": {
      "text/html": [
       "<style  type=\"text/css\" >\n",
       "    #T_6e4f3_ caption {\n",
       "          color: blue;\n",
       "          font-size: 15px;\n",
       "    }</style><table id=\"T_6e4f3_\" ><caption>Среднее значение, дисперсия и стандартное отклонение для каждого тарифа</caption><thead>    <tr>        <th class=\"blank level0\" ></th>        <th class=\"col_heading level0 col0\" >tariff</th>        <th class=\"col_heading level0 col1\" >gb_mean</th>        <th class=\"col_heading level0 col2\" >messages_mean</th>        <th class=\"col_heading level0 col3\" >minutes_mean</th>        <th class=\"col_heading level0 col4\" >gb_var</th>        <th class=\"col_heading level0 col5\" >messages_var</th>        <th class=\"col_heading level0 col6\" >minutes_var</th>        <th class=\"col_heading level0 col7\" >gb_std</th>        <th class=\"col_heading level0 col8\" >messages_std</th>        <th class=\"col_heading level0 col9\" >minutes_std</th>    </tr></thead><tbody>\n",
       "                <tr>\n",
       "                        <th id=\"T_6e4f3_level0_row0\" class=\"row_heading level0 row0\" >0</th>\n",
       "                        <td id=\"T_6e4f3_row0_col0\" class=\"data row0 col0\" >smart</td>\n",
       "                        <td id=\"T_6e4f3_row0_col1\" class=\"data row0 col1\" >16.308519</td>\n",
       "                        <td id=\"T_6e4f3_row0_col2\" class=\"data row0 col2\" >32.352078</td>\n",
       "                        <td id=\"T_6e4f3_row0_col3\" class=\"data row0 col3\" >419.634803</td>\n",
       "                        <td id=\"T_6e4f3_row0_col4\" class=\"data row0 col4\" >12.261503</td>\n",
       "                        <td id=\"T_6e4f3_row0_col5\" class=\"data row0 col5\" >702.909910</td>\n",
       "                        <td id=\"T_6e4f3_row0_col6\" class=\"data row0 col6\" >21034.148607</td>\n",
       "                        <td id=\"T_6e4f3_row0_col7\" class=\"data row0 col7\" >3.501643</td>\n",
       "                        <td id=\"T_6e4f3_row0_col8\" class=\"data row0 col8\" >26.512448</td>\n",
       "                        <td id=\"T_6e4f3_row0_col9\" class=\"data row0 col9\" >145.031543</td>\n",
       "            </tr>\n",
       "            <tr>\n",
       "                        <th id=\"T_6e4f3_level0_row1\" class=\"row_heading level0 row1\" >1</th>\n",
       "                        <td id=\"T_6e4f3_row1_col0\" class=\"data row1 col0\" >ultra</td>\n",
       "                        <td id=\"T_6e4f3_row1_col1\" class=\"data row1 col1\" >19.588446</td>\n",
       "                        <td id=\"T_6e4f3_row1_col2\" class=\"data row1 col2\" >54.030743</td>\n",
       "                        <td id=\"T_6e4f3_row1_col3\" class=\"data row1 col3\" >527.821819</td>\n",
       "                        <td id=\"T_6e4f3_row1_col4\" class=\"data row1 col4\" >65.871402</td>\n",
       "                        <td id=\"T_6e4f3_row1_col5\" class=\"data row1 col5\" >2149.828793</td>\n",
       "                        <td id=\"T_6e4f3_row1_col6\" class=\"data row1 col6\" >79403.551850</td>\n",
       "                        <td id=\"T_6e4f3_row1_col7\" class=\"data row1 col7\" >8.116120</td>\n",
       "                        <td id=\"T_6e4f3_row1_col8\" class=\"data row1 col8\" >46.366246</td>\n",
       "                        <td id=\"T_6e4f3_row1_col9\" class=\"data row1 col9\" >281.786359</td>\n",
       "            </tr>\n",
       "    </tbody></table>"
      ],
      "text/plain": [
       "<pandas.io.formats.style.Styler at 0x7f7fdc673af0>"
      ]
     },
     "execution_count": 36,
     "metadata": {},
     "output_type": "execute_result"
    }
   ],
   "source": [
    "general_tariffs = general_tariffs_month.pivot_table(index = ['tariff'],\n",
    "values = ['minutes_mean', 'messages_mean', 'gb_mean'], aggfunc = ['mean', 'var', 'std'])\n",
    "general_tariffs.columns = ['gb_mean', 'messages_mean', 'minutes_mean', \n",
    "                           'gb_var', 'messages_var', 'minutes_var', \n",
    "                           'gb_std', 'messages_std', 'minutes_std']\n",
    "general_tariffs.reset_index().style.set_caption(\n",
    "    'Среднее значение, дисперсия и стандартное отклонение для каждого тарифа').set_table_styles(\n",
    "    [{'selector': 'caption', 'props': [('color', 'blue'), ('font-size', '15px')]}]\n",
    ")"
   ]
  },
  {
   "cell_type": "markdown",
   "metadata": {},
   "source": [
    "### Гистограммы распределения среднего значения для тарифов Smart и Ultra"
   ]
  },
  {
   "cell_type": "markdown",
   "metadata": {},
   "source": [
    "Построим гистограммы распределения среднего значения минут разговора."
   ]
  },
  {
   "cell_type": "code",
   "execution_count": 37,
   "metadata": {},
   "outputs": [
    {
     "data": {
      "image/png": "[encoded data removed]",
      "text/plain": [
       "<Figure size 432x288 with 1 Axes>"
      ]
     },
     "metadata": {
      "needs_background": "light"
     },
     "output_type": "display_data"
    }
   ],
   "source": [
    "for element in ['smart', 'ultra']:\n",
    "    general_tariffs_month.query('tariff == @element')['minutes_mean'].hist(grid = True, alpha = 0.3)\n",
    "    plt.title('Минуты разговора в месяц')\n",
    "    plt.legend(['smart', 'ultra'])\n",
    "    plt.xlabel('Количество минут')"
   ]
  },
  {
   "cell_type": "markdown",
   "metadata": {},
   "source": [
    "Построим гистограммы распределения среднего значения сообщений."
   ]
  },
  {
   "cell_type": "code",
   "execution_count": 38,
   "metadata": {},
   "outputs": [
    {
     "data": {
      "image/png": "[encoded data removed]",
      "text/plain": [
       "<Figure size 432x288 with 1 Axes>"
      ]
     },
     "metadata": {
      "needs_background": "light"
     },
     "output_type": "display_data"
    }
   ],
   "source": [
    "for element in ['smart', 'ultra']:\n",
    "    general_tariffs_month.query('tariff == @element')['messages_mean'].hist(grid = True, alpha = 0.3)\n",
    "    plt.title('Сообщения в месяц')\n",
    "    plt.legend(['smart', 'ultra'])\n",
    "    plt.xlabel('Количество сообщений')"
   ]
  },
  {
   "cell_type": "markdown",
   "metadata": {},
   "source": [
    "Построим гистограммы распределения среднего значения объём интернет-трафика."
   ]
  },
  {
   "cell_type": "code",
   "execution_count": 39,
   "metadata": {},
   "outputs": [
    {
     "data": {
      "image/png": "[encoded data removed]",
      "text/plain": [
       "<Figure size 432x288 with 1 Axes>"
      ]
     },
     "metadata": {
      "needs_background": "light"
     },
     "output_type": "display_data"
    }
   ],
   "source": [
    "for element in ['smart', 'ultra']:\n",
    "    general_tariffs_month.query('tariff == @element')['gb_mean'].hist(grid = True, alpha = 0.3)\n",
    "    plt.title('Интернет-трафик в месяц')\n",
    "    plt.legend(['smart', 'ultra'])\n",
    "    plt.xlabel('Объём интернет-трафика')"
   ]
  },
  {
   "cell_type": "markdown",
   "metadata": {},
   "source": [
    "В среднем пользователи тарифа *Smart* тратят 420 минут, 32 сообщения и 16 гигабайт в месяц. \n",
    "\n",
    "Дисперсия для звонков равна 21034 минут, для сообщений - 703, для интернет-сессий - 12 ГБ.\n",
    "\n",
    "Стандартное отклонение для звонков равно 145 минут, для сообщений - 27, для интернет-сессий - 4 ГБ.\n",
    "\n",
    "* Количество минут разговоров за месяц имеет нормальное распределение: практически все значения (около 99%) находятся в промежутке (0, 855) \n",
    "* Количество сообщений за месяц имеет распределение Пуассона\n",
    "* Объём израсходованного интернет-трафика за месяц имеет нормальное распределение: практически все значения (около 99%) находятся в промежутке (4, 28) "
   ]
  },
  {
   "cell_type": "markdown",
   "metadata": {},
   "source": [
    "В среднем пользователи тарифа *Ultra* тратят 528 минут, 54 сообщения и 20\tгигабайт в месяц. \n",
    "\n",
    "Дисперсия для звонков равна 79404 минуты, для сообщений - 2150, для интернет-сессий - 66 ГБ.\n",
    "\n",
    "Стандартное отклонение для звонков равно 282 минуты, для сообщений - 46, для интернет-сессий - 8 ГБ.\n",
    "\n",
    "* Количество минут разговоров за месяц имеет нормальное распределение: практически все значения (около 99%) находятся в промежутке (0, 1374) \n",
    "* Количество сообщений за месяц имеет распределение Пуассона\n",
    "* Объём израсходованного интернет-трафика за месяц имеет нормальное распределение: практически все значения (около 99%) находятся в промежутке (0, 44) "
   ]
  },
  {
   "cell_type": "markdown",
   "metadata": {},
   "source": [
    "### Вывод\n",
    "Средние значения *Smart* за месяц:\n",
    "* 420 минут\n",
    "* 32 сообщения \n",
    "* 16 гигабайт\n",
    "\n",
    "Средние значения *Ultra* за месяц:\n",
    "* 528 минут \n",
    "* 54 сообщения \n",
    "* 20 гигабайт\n",
    "\n",
    "Для обоих тарифов минуты разговора в месяц и объем израсходованного интернет-трафика в месяц имеют нормальное распределение, а количество отправленных сообщений в месяц - распределение Пуассона."
   ]
  },
  {
   "cell_type": "markdown",
   "metadata": {},
   "source": [
    "## Проверка гипотез"
   ]
  },
  {
   "cell_type": "markdown",
   "metadata": {},
   "source": [
    "### Гипотеза №1"
   ]
  },
  {
   "cell_type": "markdown",
   "metadata": {},
   "source": [
    "* Нулевая гипотеза: **H0** - средняя выручка пользователей тарифов «Ультра» и «Смарт» равны.\n",
    "\n",
    "* Альтернативная гипотеза: **H1** - средняя выручка пользователей тарифов «Ультра» и «Смарт» различаются.\n",
    "\n",
    "* Критический уровень значимости - 0.05, чтобы вероятность того, что измеренные значения средних двух выборок окажутся близки, была равна 95%."
   ]
  },
  {
   "cell_type": "code",
   "execution_count": 40,
   "metadata": {},
   "outputs": [
    {
     "name": "stdout",
     "output_type": "stream",
     "text": [
      "p-значение:  4.2606313931076085e-250\n",
      "Отвергаем нулевую гипотезу\n"
     ]
    }
   ],
   "source": [
    "smart_proceeds = all_info.query('tariff == \"smart\"')['proceeds']\n",
    "ultra_proceeds = all_info.query('tariff == \"ultra\"')['proceeds']\n",
    "\n",
    "alpha = 0.05\n",
    "\n",
    "results = st.ttest_ind(smart_proceeds, ultra_proceeds, equal_var = False)\n",
    "                               \n",
    "print('p-значение: ', results.pvalue)\n",
    "\n",
    "if results.pvalue < alpha:\n",
    "    print(\"Отвергаем нулевую гипотезу\")\n",
    "else:\n",
    "    print(\"Не получилось отвергнуть нулевую гипотезу\")"
   ]
  },
  {
   "cell_type": "markdown",
   "metadata": {},
   "source": [
    "Отвергаем нулевую гипотезу. Следовательно, гипотеза о том, что средние выручки пользователей тарифов \"Ультра\" и \"Смарт\" различаются, не отвергается."
   ]
  },
  {
   "cell_type": "markdown",
   "metadata": {},
   "source": [
    "Проверим средние значения выручек для каждого тарифа."
   ]
  },
  {
   "cell_type": "code",
   "execution_count": 41,
   "metadata": {},
   "outputs": [
    {
     "data": {
      "text/html": [
       "<div>\n",
       "<style scoped>\n",
       "    .dataframe tbody tr th:only-of-type {\n",
       "        vertical-align: middle;\n",
       "    }\n",
       "\n",
       "    .dataframe tbody tr th {\n",
       "        vertical-align: top;\n",
       "    }\n",
       "\n",
       "    .dataframe thead th {\n",
       "        text-align: right;\n",
       "    }\n",
       "</style>\n",
       "<table border=\"1\" class=\"dataframe\">\n",
       "  <thead>\n",
       "    <tr style=\"text-align: right;\">\n",
       "      <th></th>\n",
       "      <th>proceeds</th>\n",
       "    </tr>\n",
       "    <tr>\n",
       "      <th>tariff</th>\n",
       "      <th></th>\n",
       "    </tr>\n",
       "  </thead>\n",
       "  <tbody>\n",
       "    <tr>\n",
       "      <th>smart</th>\n",
       "      <td>1289.973531</td>\n",
       "    </tr>\n",
       "    <tr>\n",
       "      <th>ultra</th>\n",
       "      <td>2070.152284</td>\n",
       "    </tr>\n",
       "  </tbody>\n",
       "</table>\n",
       "</div>"
      ],
      "text/plain": [
       "           proceeds\n",
       "tariff             \n",
       "smart   1289.973531\n",
       "ultra   2070.152284"
      ]
     },
     "execution_count": 41,
     "metadata": {},
     "output_type": "execute_result"
    }
   ],
   "source": [
    "all_info.pivot_table(index = ['tariff'], values = 'proceeds', aggfunc = 'mean')"
   ]
  },
  {
   "cell_type": "markdown",
   "metadata": {},
   "source": [
    "Построим гистограммы распределения средних выручек в зависимости от тарифа."
   ]
  },
  {
   "cell_type": "code",
   "execution_count": 42,
   "metadata": {},
   "outputs": [
    {
     "data": {
      "image/png": "[encoded data removed]",
      "text/plain": [
       "<Figure size 432x288 with 1 Axes>"
      ]
     },
     "metadata": {
      "needs_background": "light"
     },
     "output_type": "display_data"
    }
   ],
   "source": [
    "for element in ['smart', 'ultra']:\n",
    "    general_tariffs_month.query('tariff == @element')['proceeds_mean'].hist(grid = True, alpha = 0.3)\n",
    "    plt.title('Выручка в месяц')\n",
    "    plt.legend(['smart', 'ultra'])\n",
    "    plt.xlabel('Рубли')"
   ]
  },
  {
   "cell_type": "markdown",
   "metadata": {},
   "source": [
    "Средняя выручка у тарифов отличается почти в два раза. Ежемесечная плата у тарифа Smart равна 550 рублей, а средняя выручка - 1290 рублей. Получается, пользователи Smart переплачивают в среднем на 740 рублей, используя услуги сверх тарифа (очевидно, услуг тарифа Smart для них недотаточно). Пользователи Ultra наоборот почти не переплачивают за услуги сверх тарифа."
   ]
  },
  {
   "cell_type": "markdown",
   "metadata": {},
   "source": [
    "### Гипотеза №2"
   ]
  },
  {
   "cell_type": "markdown",
   "metadata": {},
   "source": [
    "* Нулевая гипотеза: **H0** - средняя выручка пользователей из Москвы равна выручке пользователей из других регионов.\n",
    "\n",
    "* Альтернативная гипотеза: **H1** - средняя выручка пользователей из Москвы отличается от выручки пользователей из других регионов.\n",
    "\n",
    "* Критический уровень значимости - 0.05, чтобы вероятность того, что измеренные значения средних двух выборок окажутся близки, была равна 95%.\n"
   ]
  },
  {
   "cell_type": "markdown",
   "metadata": {},
   "source": [
    "Добавим в таблицу *all_info* информацию о городе пользователя."
   ]
  },
  {
   "cell_type": "code",
   "execution_count": 43,
   "metadata": {},
   "outputs": [
    {
     "data": {
      "text/html": [
       "<style  type=\"text/css\" >\n",
       "    #T_b8915_ caption {\n",
       "          color: blue;\n",
       "          font-size: 15px;\n",
       "    }</style><table id=\"T_b8915_\" ><caption>Информация о каждом пользователе помесячно с городом</caption><thead>    <tr>        <th class=\"blank\" ></th>        <th class=\"blank level0\" ></th>        <th class=\"col_heading level0 col0\" >calls_per_month</th>        <th class=\"col_heading level0 col1\" >minutes_per_month</th>        <th class=\"col_heading level0 col2\" >messages_per_month</th>        <th class=\"col_heading level0 col3\" >mb_per_month</th>        <th class=\"col_heading level0 col4\" >gb_per_month</th>        <th class=\"col_heading level0 col5\" >tariff</th>        <th class=\"col_heading level0 col6\" >proceeds</th>        <th class=\"col_heading level0 col7\" >city</th>    </tr>    <tr>        <th class=\"index_name level0\" >user_id</th>        <th class=\"index_name level1\" >month</th>        <th class=\"blank\" ></th>        <th class=\"blank\" ></th>        <th class=\"blank\" ></th>        <th class=\"blank\" ></th>        <th class=\"blank\" ></th>        <th class=\"blank\" ></th>        <th class=\"blank\" ></th>        <th class=\"blank\" ></th>    </tr></thead><tbody>\n",
       "                <tr>\n",
       "                        <th id=\"T_b8915_level0_row0\" class=\"row_heading level0 row0\" rowspan=\"8\">1000</th>\n",
       "                        <th id=\"T_b8915_level1_row0\" class=\"row_heading level1 row0\" >5</th>\n",
       "                        <td id=\"T_b8915_row0_col0\" class=\"data row0 col0\" >17.000000</td>\n",
       "                        <td id=\"T_b8915_row0_col1\" class=\"data row0 col1\" >159.000000</td>\n",
       "                        <td id=\"T_b8915_row0_col2\" class=\"data row0 col2\" >22.000000</td>\n",
       "                        <td id=\"T_b8915_row0_col3\" class=\"data row0 col3\" >2253.490000</td>\n",
       "                        <td id=\"T_b8915_row0_col4\" class=\"data row0 col4\" >3.000000</td>\n",
       "                        <td id=\"T_b8915_row0_col5\" class=\"data row0 col5\" >ultra</td>\n",
       "                        <td id=\"T_b8915_row0_col6\" class=\"data row0 col6\" >1950.000000</td>\n",
       "                        <td id=\"T_b8915_row0_col7\" class=\"data row0 col7\" >Краснодар</td>\n",
       "            </tr>\n",
       "            <tr>\n",
       "                                <th id=\"T_b8915_level1_row1\" class=\"row_heading level1 row1\" >6</th>\n",
       "                        <td id=\"T_b8915_row1_col0\" class=\"data row1 col0\" >28.000000</td>\n",
       "                        <td id=\"T_b8915_row1_col1\" class=\"data row1 col1\" >172.000000</td>\n",
       "                        <td id=\"T_b8915_row1_col2\" class=\"data row1 col2\" >60.000000</td>\n",
       "                        <td id=\"T_b8915_row1_col3\" class=\"data row1 col3\" >23233.770000</td>\n",
       "                        <td id=\"T_b8915_row1_col4\" class=\"data row1 col4\" >23.000000</td>\n",
       "                        <td id=\"T_b8915_row1_col5\" class=\"data row1 col5\" >ultra</td>\n",
       "                        <td id=\"T_b8915_row1_col6\" class=\"data row1 col6\" >1950.000000</td>\n",
       "                        <td id=\"T_b8915_row1_col7\" class=\"data row1 col7\" >Краснодар</td>\n",
       "            </tr>\n",
       "            <tr>\n",
       "                                <th id=\"T_b8915_level1_row2\" class=\"row_heading level1 row2\" >7</th>\n",
       "                        <td id=\"T_b8915_row2_col0\" class=\"data row2 col0\" >41.000000</td>\n",
       "                        <td id=\"T_b8915_row2_col1\" class=\"data row2 col1\" >340.000000</td>\n",
       "                        <td id=\"T_b8915_row2_col2\" class=\"data row2 col2\" >75.000000</td>\n",
       "                        <td id=\"T_b8915_row2_col3\" class=\"data row2 col3\" >14003.640000</td>\n",
       "                        <td id=\"T_b8915_row2_col4\" class=\"data row2 col4\" >14.000000</td>\n",
       "                        <td id=\"T_b8915_row2_col5\" class=\"data row2 col5\" >ultra</td>\n",
       "                        <td id=\"T_b8915_row2_col6\" class=\"data row2 col6\" >1950.000000</td>\n",
       "                        <td id=\"T_b8915_row2_col7\" class=\"data row2 col7\" >Краснодар</td>\n",
       "            </tr>\n",
       "            <tr>\n",
       "                                <th id=\"T_b8915_level1_row3\" class=\"row_heading level1 row3\" >8</th>\n",
       "                        <td id=\"T_b8915_row3_col0\" class=\"data row3 col0\" >42.000000</td>\n",
       "                        <td id=\"T_b8915_row3_col1\" class=\"data row3 col1\" >408.000000</td>\n",
       "                        <td id=\"T_b8915_row3_col2\" class=\"data row3 col2\" >81.000000</td>\n",
       "                        <td id=\"T_b8915_row3_col3\" class=\"data row3 col3\" >14055.930000</td>\n",
       "                        <td id=\"T_b8915_row3_col4\" class=\"data row3 col4\" >14.000000</td>\n",
       "                        <td id=\"T_b8915_row3_col5\" class=\"data row3 col5\" >ultra</td>\n",
       "                        <td id=\"T_b8915_row3_col6\" class=\"data row3 col6\" >1950.000000</td>\n",
       "                        <td id=\"T_b8915_row3_col7\" class=\"data row3 col7\" >Краснодар</td>\n",
       "            </tr>\n",
       "            <tr>\n",
       "                                <th id=\"T_b8915_level1_row4\" class=\"row_heading level1 row4\" >9</th>\n",
       "                        <td id=\"T_b8915_row4_col0\" class=\"data row4 col0\" >46.000000</td>\n",
       "                        <td id=\"T_b8915_row4_col1\" class=\"data row4 col1\" >466.000000</td>\n",
       "                        <td id=\"T_b8915_row4_col2\" class=\"data row4 col2\" >57.000000</td>\n",
       "                        <td id=\"T_b8915_row4_col3\" class=\"data row4 col3\" >14568.910000</td>\n",
       "                        <td id=\"T_b8915_row4_col4\" class=\"data row4 col4\" >15.000000</td>\n",
       "                        <td id=\"T_b8915_row4_col5\" class=\"data row4 col5\" >ultra</td>\n",
       "                        <td id=\"T_b8915_row4_col6\" class=\"data row4 col6\" >1950.000000</td>\n",
       "                        <td id=\"T_b8915_row4_col7\" class=\"data row4 col7\" >Краснодар</td>\n",
       "            </tr>\n",
       "            <tr>\n",
       "                                <th id=\"T_b8915_level1_row5\" class=\"row_heading level1 row5\" >10</th>\n",
       "                        <td id=\"T_b8915_row5_col0\" class=\"data row5 col0\" >44.000000</td>\n",
       "                        <td id=\"T_b8915_row5_col1\" class=\"data row5 col1\" >350.000000</td>\n",
       "                        <td id=\"T_b8915_row5_col2\" class=\"data row5 col2\" >73.000000</td>\n",
       "                        <td id=\"T_b8915_row5_col3\" class=\"data row5 col3\" >14702.490000</td>\n",
       "                        <td id=\"T_b8915_row5_col4\" class=\"data row5 col4\" >15.000000</td>\n",
       "                        <td id=\"T_b8915_row5_col5\" class=\"data row5 col5\" >ultra</td>\n",
       "                        <td id=\"T_b8915_row5_col6\" class=\"data row5 col6\" >1950.000000</td>\n",
       "                        <td id=\"T_b8915_row5_col7\" class=\"data row5 col7\" >Краснодар</td>\n",
       "            </tr>\n",
       "            <tr>\n",
       "                                <th id=\"T_b8915_level1_row6\" class=\"row_heading level1 row6\" >11</th>\n",
       "                        <td id=\"T_b8915_row6_col0\" class=\"data row6 col0\" >37.000000</td>\n",
       "                        <td id=\"T_b8915_row6_col1\" class=\"data row6 col1\" >338.000000</td>\n",
       "                        <td id=\"T_b8915_row6_col2\" class=\"data row6 col2\" >58.000000</td>\n",
       "                        <td id=\"T_b8915_row6_col3\" class=\"data row6 col3\" >14756.470000</td>\n",
       "                        <td id=\"T_b8915_row6_col4\" class=\"data row6 col4\" >15.000000</td>\n",
       "                        <td id=\"T_b8915_row6_col5\" class=\"data row6 col5\" >ultra</td>\n",
       "                        <td id=\"T_b8915_row6_col6\" class=\"data row6 col6\" >1950.000000</td>\n",
       "                        <td id=\"T_b8915_row6_col7\" class=\"data row6 col7\" >Краснодар</td>\n",
       "            </tr>\n",
       "            <tr>\n",
       "                                <th id=\"T_b8915_level1_row7\" class=\"row_heading level1 row7\" >12</th>\n",
       "                        <td id=\"T_b8915_row7_col0\" class=\"data row7 col0\" >38.000000</td>\n",
       "                        <td id=\"T_b8915_row7_col1\" class=\"data row7 col1\" >333.000000</td>\n",
       "                        <td id=\"T_b8915_row7_col2\" class=\"data row7 col2\" >70.000000</td>\n",
       "                        <td id=\"T_b8915_row7_col3\" class=\"data row7 col3\" >9817.610000</td>\n",
       "                        <td id=\"T_b8915_row7_col4\" class=\"data row7 col4\" >10.000000</td>\n",
       "                        <td id=\"T_b8915_row7_col5\" class=\"data row7 col5\" >ultra</td>\n",
       "                        <td id=\"T_b8915_row7_col6\" class=\"data row7 col6\" >1950.000000</td>\n",
       "                        <td id=\"T_b8915_row7_col7\" class=\"data row7 col7\" >Краснодар</td>\n",
       "            </tr>\n",
       "            <tr>\n",
       "                        <th id=\"T_b8915_level0_row8\" class=\"row_heading level0 row8\" rowspan=\"2\">1001</th>\n",
       "                        <th id=\"T_b8915_level1_row8\" class=\"row_heading level1 row8\" >11</th>\n",
       "                        <td id=\"T_b8915_row8_col0\" class=\"data row8 col0\" >45.000000</td>\n",
       "                        <td id=\"T_b8915_row8_col1\" class=\"data row8 col1\" >430.000000</td>\n",
       "                        <td id=\"T_b8915_row8_col2\" class=\"data row8 col2\" >0.000000</td>\n",
       "                        <td id=\"T_b8915_row8_col3\" class=\"data row8 col3\" >18429.340000</td>\n",
       "                        <td id=\"T_b8915_row8_col4\" class=\"data row8 col4\" >18.000000</td>\n",
       "                        <td id=\"T_b8915_row8_col5\" class=\"data row8 col5\" >smart</td>\n",
       "                        <td id=\"T_b8915_row8_col6\" class=\"data row8 col6\" >1150.000000</td>\n",
       "                        <td id=\"T_b8915_row8_col7\" class=\"data row8 col7\" >Москва</td>\n",
       "            </tr>\n",
       "            <tr>\n",
       "                                <th id=\"T_b8915_level1_row9\" class=\"row_heading level1 row9\" >12</th>\n",
       "                        <td id=\"T_b8915_row9_col0\" class=\"data row9 col0\" >47.000000</td>\n",
       "                        <td id=\"T_b8915_row9_col1\" class=\"data row9 col1\" >414.000000</td>\n",
       "                        <td id=\"T_b8915_row9_col2\" class=\"data row9 col2\" >0.000000</td>\n",
       "                        <td id=\"T_b8915_row9_col3\" class=\"data row9 col3\" >14036.660000</td>\n",
       "                        <td id=\"T_b8915_row9_col4\" class=\"data row9 col4\" >14.000000</td>\n",
       "                        <td id=\"T_b8915_row9_col5\" class=\"data row9 col5\" >smart</td>\n",
       "                        <td id=\"T_b8915_row9_col6\" class=\"data row9 col6\" >550.000000</td>\n",
       "                        <td id=\"T_b8915_row9_col7\" class=\"data row9 col7\" >Москва</td>\n",
       "            </tr>\n",
       "    </tbody></table>"
      ],
      "text/plain": [
       "<pandas.io.formats.style.Styler at 0x7f7f5dc74790>"
      ]
     },
     "execution_count": 43,
     "metadata": {},
     "output_type": "execute_result"
    }
   ],
   "source": [
    "for index in all_info.index:\n",
    "    all_info.loc[index, 'city'] = users.loc[index[0] - 1000, 'city']\n",
    "all_info.head(10).style.set_caption('Информация о каждом пользователе помесячно с городом').set_table_styles(\n",
    "    [{'selector': 'caption', 'props': [('color', 'blue'), ('font-size', '15px')]}]\n",
    ")"
   ]
  },
  {
   "cell_type": "markdown",
   "metadata": {},
   "source": [
    "Проверим гипотезу."
   ]
  },
  {
   "cell_type": "code",
   "execution_count": 44,
   "metadata": {},
   "outputs": [
    {
     "name": "stdout",
     "output_type": "stream",
     "text": [
      "p-значение:  0.5257376663729298\n",
      "Не получилось отвергнуть нулевую гипотезу\n"
     ]
    }
   ],
   "source": [
    "moscow_proceeds = all_info.query('city == \"Москва\"')['proceeds']\n",
    "other_proceeds = all_info.query('city != \"Москва\"')['proceeds']\n",
    "\n",
    "alpha = 0.05\n",
    "\n",
    "results = st.ttest_ind(moscow_proceeds, other_proceeds, equal_var = False)\n",
    "                               \n",
    "print('p-значение: ', results.pvalue)\n",
    "\n",
    "if results.pvalue < alpha:\n",
    "    print(\"Отвергаем нулевую гипотезу\")\n",
    "else:\n",
    "    print(\"Не получилось отвергнуть нулевую гипотезу\")"
   ]
  },
  {
   "cell_type": "markdown",
   "metadata": {},
   "source": [
    "Не получилось отвергнуть гипотезу о том, что средняя выручка пользователей из Москвы равна выручке пользователей из других регионов."
   ]
  },
  {
   "cell_type": "markdown",
   "metadata": {},
   "source": [
    "Проверим средние значения выручек для Москвы и других регионов."
   ]
  },
  {
   "cell_type": "code",
   "execution_count": 45,
   "metadata": {},
   "outputs": [
    {
     "data": {
      "text/html": [
       "<div>\n",
       "<style scoped>\n",
       "    .dataframe tbody tr th:only-of-type {\n",
       "        vertical-align: middle;\n",
       "    }\n",
       "\n",
       "    .dataframe tbody tr th {\n",
       "        vertical-align: top;\n",
       "    }\n",
       "\n",
       "    .dataframe thead th {\n",
       "        text-align: right;\n",
       "    }\n",
       "</style>\n",
       "<table border=\"1\" class=\"dataframe\">\n",
       "  <thead>\n",
       "    <tr style=\"text-align: right;\">\n",
       "      <th></th>\n",
       "      <th>proceeds</th>\n",
       "    </tr>\n",
       "    <tr>\n",
       "      <th>city</th>\n",
       "      <th></th>\n",
       "    </tr>\n",
       "  </thead>\n",
       "  <tbody>\n",
       "    <tr>\n",
       "      <th>Другой</th>\n",
       "      <td>1524.936227</td>\n",
       "    </tr>\n",
       "    <tr>\n",
       "      <th>Москва</th>\n",
       "      <td>1546.713584</td>\n",
       "    </tr>\n",
       "  </tbody>\n",
       "</table>\n",
       "</div>"
      ],
      "text/plain": [
       "           proceeds\n",
       "city               \n",
       "Другой  1524.936227\n",
       "Москва  1546.713584"
      ]
     },
     "execution_count": 45,
     "metadata": {},
     "output_type": "execute_result"
    }
   ],
   "source": [
    "def moscow_or_not(city):\n",
    "    if city != 'Москва': \n",
    "        return 'Другой'\n",
    "    else: \n",
    "        return 'Москва'\n",
    "    \n",
    "all_info['city'] = all_info['city'].apply(moscow_or_not)\n",
    "all_info.pivot_table(index = ['city'], values = 'proceeds', aggfunc = 'mean')"
   ]
  },
  {
   "cell_type": "markdown",
   "metadata": {},
   "source": [
    "Построим гистограммы распределения средних выручек в зависимости от региона."
   ]
  },
  {
   "cell_type": "code",
   "execution_count": 46,
   "metadata": {},
   "outputs": [
    {
     "data": {
      "text/plain": [
       "Text(0.5, 0, 'Рубли')"
      ]
     },
     "execution_count": 46,
     "metadata": {},
     "output_type": "execute_result"
    },
    {
     "data": {
      "image/png": "[encoded data removed]",
      "text/plain": [
       "<Figure size 432x288 with 1 Axes>"
      ]
     },
     "metadata": {
      "needs_background": "light"
     },
     "output_type": "display_data"
    },
    {
     "data": {
      "image/png": "[encoded data removed]",
      "text/plain": [
       "<Figure size 432x288 with 1 Axes>"
      ]
     },
     "metadata": {
      "needs_background": "light"
     },
     "output_type": "display_data"
    }
   ],
   "source": [
    "all_info.query('city == \"Москва\"').pivot_table(index = ['city', 'month'], values = 'proceeds', aggfunc = 'mean').hist(\n",
    "        grid = True, alpha = 0.3)\n",
    "plt.title('Выручка в месяц в Москве')\n",
    "plt.legend(['Москва'])\n",
    "plt.xlabel('Рубли')\n",
    "all_info.query('city != \"Москва\"').pivot_table(index = ['city', 'month'], values = 'proceeds', aggfunc = 'mean').hist(\n",
    "        grid = True, alpha = 0.3)\n",
    "plt.title('Выручка в месяц в других регионах')\n",
    "plt.legend(['Другие'])\n",
    "plt.xlabel('Рубли')"
   ]
  },
  {
   "cell_type": "markdown",
   "metadata": {},
   "source": [
    "Действительно, средние выручки для Москвы и для других регионов приблизительно равны."
   ]
  },
  {
   "cell_type": "markdown",
   "metadata": {},
   "source": [
    "### Вывод"
   ]
  },
  {
   "cell_type": "markdown",
   "metadata": {},
   "source": [
    "* Гипотеза о том, что средние выручки пользователей тарифов \"Ультра\" и \"Смарт\" различаются, не отвергается.\n",
    "* Не получилось отвергнуть гипотезу о том, что средняя выручка пользователей из Москвы равна выручке пользователей из других регионов."
   ]
  },
  {
   "cell_type": "markdown",
   "metadata": {},
   "source": [
    "## Общий вывод"
   ]
  },
  {
   "cell_type": "markdown",
   "metadata": {},
   "source": [
    "В вашем распоряжении были данные 500 пользователей «Мегалайна»: кто они, откуда, каким тарифом пользуются, сколько звонков и сообщений каждый отправил за 2018 год. \n",
    "\n",
    "Нужно было проанализировать поведение клиентов и сделать вывод — какой тариф лучше.\n",
    "\n",
    "В среднем выручка от пользователя тарифа Ultra больше, чем от тарифа Smart: 2070 рублей и 1290 рублей в месяц соответственно.\n",
    "\n",
    "Кроме того:\n",
    "\n",
    "* Пользователи Smart переплачивают в среднем на 740 рублей, используя услуги сверх тарифа. Пользователи Ultra наоборот почти не переплачивают за услуги сверх тарифа.\n",
    "\n",
    "* Средняя выручка от пользователя из Москвы и из других регионов в месяц приблизительно равны.\n",
    "\n",
    "Коммерческому департаменту стоит обратить внимание на тариф **Ultra**, чтобы скорректировать рекламный бюджет, так как он приносит больше выручки."
   ]
  }
 ],
 "metadata": {
  "ExecuteTimeLog": [
   {
    "duration": 596,
    "start_time": "2021-08-25T11:44:42.732Z"
   },
   {
    "duration": 416,
    "start_time": "2021-08-25T11:44:43.330Z"
   },
   {
    "duration": -3416,
    "start_time": "2021-08-25T11:44:47.164Z"
   },
   {
    "duration": 421,
    "start_time": "2021-08-25T11:45:02.460Z"
   },
   {
    "duration": 19,
    "start_time": "2021-08-25T11:45:03.874Z"
   },
   {
    "duration": 9,
    "start_time": "2021-08-25T11:47:49.299Z"
   },
   {
    "duration": 142,
    "start_time": "2021-08-25T11:50:52.399Z"
   },
   {
    "duration": 681,
    "start_time": "2021-08-25T11:51:01.393Z"
   },
   {
    "duration": 10,
    "start_time": "2021-08-25T11:51:23.063Z"
   },
   {
    "duration": 11,
    "start_time": "2021-08-25T11:51:33.200Z"
   },
   {
    "duration": 8,
    "start_time": "2021-08-25T11:51:51.153Z"
   },
   {
    "duration": 7,
    "start_time": "2021-08-25T11:51:59.677Z"
   },
   {
    "duration": 9,
    "start_time": "2021-08-25T11:54:09.532Z"
   },
   {
    "duration": 8,
    "start_time": "2021-08-25T11:54:38.160Z"
   },
   {
    "duration": 8,
    "start_time": "2021-08-25T11:58:57.720Z"
   },
   {
    "duration": 5,
    "start_time": "2021-08-25T11:58:58.591Z"
   },
   {
    "duration": 6,
    "start_time": "2021-08-25T11:59:16.161Z"
   },
   {
    "duration": 7,
    "start_time": "2021-08-25T11:59:32.153Z"
   },
   {
    "duration": 366,
    "start_time": "2021-08-25T12:00:00.444Z"
   },
   {
    "duration": 22,
    "start_time": "2021-08-25T12:00:03.675Z"
   },
   {
    "duration": 6,
    "start_time": "2021-08-25T12:01:55.872Z"
   },
   {
    "duration": 18,
    "start_time": "2021-08-25T12:01:56.531Z"
   },
   {
    "duration": 6,
    "start_time": "2021-08-25T12:02:16.034Z"
   },
   {
    "duration": 6,
    "start_time": "2021-08-25T12:02:25.419Z"
   },
   {
    "duration": 392,
    "start_time": "2021-08-25T12:03:09.060Z"
   },
   {
    "duration": 1120,
    "start_time": "2021-08-25T12:03:14.892Z"
   },
   {
    "duration": 11,
    "start_time": "2021-08-25T12:03:19.459Z"
   },
   {
    "duration": 24,
    "start_time": "2021-08-25T12:03:46.722Z"
   },
   {
    "duration": 7,
    "start_time": "2021-08-25T12:06:17.047Z"
   },
   {
    "duration": 19,
    "start_time": "2021-08-25T12:06:34.229Z"
   },
   {
    "duration": 349,
    "start_time": "2021-08-25T12:10:18.707Z"
   },
   {
    "duration": 7,
    "start_time": "2021-08-25T12:10:27.233Z"
   },
   {
    "duration": 8,
    "start_time": "2021-08-25T12:10:41.651Z"
   },
   {
    "duration": 7,
    "start_time": "2021-08-25T12:28:42.821Z"
   },
   {
    "duration": 58,
    "start_time": "2021-08-25T12:31:00.293Z"
   },
   {
    "duration": 373,
    "start_time": "2021-08-25T12:32:04.032Z"
   },
   {
    "duration": 409,
    "start_time": "2021-08-25T12:32:11.178Z"
   },
   {
    "duration": 360,
    "start_time": "2021-08-25T12:32:20.591Z"
   },
   {
    "duration": 4,
    "start_time": "2021-08-25T12:33:28.072Z"
   },
   {
    "duration": 4,
    "start_time": "2021-08-25T12:33:59.370Z"
   },
   {
    "duration": 4,
    "start_time": "2021-08-25T12:34:08.370Z"
   },
   {
    "duration": 6,
    "start_time": "2021-08-25T12:35:01.153Z"
   },
   {
    "duration": 8,
    "start_time": "2021-08-25T12:38:26.927Z"
   },
   {
    "duration": 2,
    "start_time": "2021-08-25T12:38:49.707Z"
   },
   {
    "duration": 377,
    "start_time": "2021-08-25T12:38:49.711Z"
   },
   {
    "duration": 7,
    "start_time": "2021-08-25T12:38:50.090Z"
   },
   {
    "duration": 7,
    "start_time": "2021-08-25T12:38:50.099Z"
   },
   {
    "duration": 10,
    "start_time": "2021-08-25T12:38:50.107Z"
   },
   {
    "duration": 18,
    "start_time": "2021-08-25T12:38:50.118Z"
   },
   {
    "duration": 5,
    "start_time": "2021-08-25T12:38:50.137Z"
   },
   {
    "duration": 14,
    "start_time": "2021-08-25T12:38:50.144Z"
   },
   {
    "duration": 34,
    "start_time": "2021-08-25T12:38:50.160Z"
   },
   {
    "duration": 27,
    "start_time": "2021-08-25T12:38:50.195Z"
   },
   {
    "duration": 5,
    "start_time": "2021-08-25T12:38:50.224Z"
   },
   {
    "duration": 10,
    "start_time": "2021-08-25T12:38:50.231Z"
   },
   {
    "duration": 56,
    "start_time": "2021-08-25T12:38:50.242Z"
   },
   {
    "duration": 17,
    "start_time": "2021-08-25T12:39:39.914Z"
   },
   {
    "duration": 462,
    "start_time": "2021-08-25T12:41:19.228Z"
   },
   {
    "duration": 7,
    "start_time": "2021-08-25T12:41:28.270Z"
   },
   {
    "duration": 40,
    "start_time": "2021-08-25T12:41:37.081Z"
   },
   {
    "duration": 84,
    "start_time": "2021-08-25T12:41:41.010Z"
   },
   {
    "duration": 462,
    "start_time": "2021-08-25T12:41:54.660Z"
   },
   {
    "duration": 40,
    "start_time": "2021-08-25T12:41:59.240Z"
   },
   {
    "duration": 5,
    "start_time": "2021-08-25T12:42:11.090Z"
   },
   {
    "duration": 16,
    "start_time": "2021-08-25T12:44:24.991Z"
   },
   {
    "duration": 19,
    "start_time": "2021-08-25T12:45:28.000Z"
   },
   {
    "duration": 466,
    "start_time": "2021-08-25T12:46:25.826Z"
   },
   {
    "duration": 177,
    "start_time": "2021-08-25T12:47:11.676Z"
   },
   {
    "duration": 270,
    "start_time": "2021-08-25T12:47:44.786Z"
   },
   {
    "duration": 14,
    "start_time": "2021-08-25T12:48:59.417Z"
   },
   {
    "duration": 2,
    "start_time": "2021-08-25T13:03:39.237Z"
   },
   {
    "duration": 429,
    "start_time": "2021-08-25T13:03:39.241Z"
   },
   {
    "duration": 8,
    "start_time": "2021-08-25T13:03:39.672Z"
   },
   {
    "duration": 27,
    "start_time": "2021-08-25T13:03:39.682Z"
   },
   {
    "duration": 20,
    "start_time": "2021-08-25T13:03:39.710Z"
   },
   {
    "duration": 37,
    "start_time": "2021-08-25T13:03:39.731Z"
   },
   {
    "duration": 6,
    "start_time": "2021-08-25T13:03:39.770Z"
   },
   {
    "duration": 21,
    "start_time": "2021-08-25T13:03:39.777Z"
   },
   {
    "duration": 72,
    "start_time": "2021-08-25T13:03:39.800Z"
   },
   {
    "duration": 33,
    "start_time": "2021-08-25T13:03:39.874Z"
   },
   {
    "duration": 6,
    "start_time": "2021-08-25T13:03:39.908Z"
   },
   {
    "duration": 19,
    "start_time": "2021-08-25T13:03:39.915Z"
   },
   {
    "duration": 64,
    "start_time": "2021-08-25T13:03:39.935Z"
   },
   {
    "duration": 18,
    "start_time": "2021-08-25T13:03:40.001Z"
   },
   {
    "duration": 582,
    "start_time": "2021-08-26T05:18:56.396Z"
   },
   {
    "duration": 399,
    "start_time": "2021-08-26T05:18:56.980Z"
   },
   {
    "duration": 490,
    "start_time": "2021-08-26T05:18:57.381Z"
   },
   {
    "duration": 9,
    "start_time": "2021-08-26T05:18:57.873Z"
   },
   {
    "duration": 12,
    "start_time": "2021-08-26T05:18:57.884Z"
   },
   {
    "duration": 31,
    "start_time": "2021-08-26T05:18:57.898Z"
   },
   {
    "duration": 6,
    "start_time": "2021-08-26T05:18:57.931Z"
   },
   {
    "duration": 21,
    "start_time": "2021-08-26T05:18:57.939Z"
   },
   {
    "duration": 7,
    "start_time": "2021-08-26T05:18:57.963Z"
   },
   {
    "duration": 33,
    "start_time": "2021-08-26T05:18:57.972Z"
   },
   {
    "duration": 7,
    "start_time": "2021-08-26T05:18:58.006Z"
   },
   {
    "duration": 10,
    "start_time": "2021-08-26T05:18:58.015Z"
   },
   {
    "duration": 75,
    "start_time": "2021-08-26T05:18:58.027Z"
   },
   {
    "duration": 23,
    "start_time": "2021-08-26T05:18:58.104Z"
   },
   {
    "duration": 3,
    "start_time": "2021-08-26T05:24:38.203Z"
   },
   {
    "duration": 375,
    "start_time": "2021-08-26T05:24:38.207Z"
   },
   {
    "duration": 8,
    "start_time": "2021-08-26T05:24:38.584Z"
   },
   {
    "duration": 7,
    "start_time": "2021-08-26T05:24:38.594Z"
   },
   {
    "duration": 8,
    "start_time": "2021-08-26T05:24:38.603Z"
   },
   {
    "duration": 18,
    "start_time": "2021-08-26T05:24:38.612Z"
   },
   {
    "duration": 5,
    "start_time": "2021-08-26T05:24:38.633Z"
   },
   {
    "duration": 14,
    "start_time": "2021-08-26T05:24:38.640Z"
   },
   {
    "duration": 6,
    "start_time": "2021-08-26T05:24:38.655Z"
   },
   {
    "duration": 42,
    "start_time": "2021-08-26T05:24:38.663Z"
   },
   {
    "duration": 6,
    "start_time": "2021-08-26T05:24:38.706Z"
   },
   {
    "duration": 13,
    "start_time": "2021-08-26T05:24:38.713Z"
   },
   {
    "duration": 51,
    "start_time": "2021-08-26T05:24:38.728Z"
   },
   {
    "duration": 28,
    "start_time": "2021-08-26T05:24:38.781Z"
   },
   {
    "duration": 321,
    "start_time": "2021-08-26T05:30:42.482Z"
   },
   {
    "duration": 72,
    "start_time": "2021-08-26T05:31:13.418Z"
   },
   {
    "duration": 5,
    "start_time": "2021-08-26T05:31:23.905Z"
   },
   {
    "duration": 3,
    "start_time": "2021-08-26T05:31:46.609Z"
   },
   {
    "duration": 396,
    "start_time": "2021-08-26T05:31:46.614Z"
   },
   {
    "duration": 8,
    "start_time": "2021-08-26T05:31:47.012Z"
   },
   {
    "duration": 11,
    "start_time": "2021-08-26T05:31:47.021Z"
   },
   {
    "duration": 8,
    "start_time": "2021-08-26T05:31:47.034Z"
   },
   {
    "duration": 23,
    "start_time": "2021-08-26T05:31:47.044Z"
   },
   {
    "duration": 6,
    "start_time": "2021-08-26T05:31:47.069Z"
   },
   {
    "duration": 17,
    "start_time": "2021-08-26T05:31:47.078Z"
   },
   {
    "duration": 8,
    "start_time": "2021-08-26T05:31:47.097Z"
   },
   {
    "duration": 16,
    "start_time": "2021-08-26T05:31:47.107Z"
   },
   {
    "duration": 5,
    "start_time": "2021-08-26T05:31:47.125Z"
   },
   {
    "duration": 10,
    "start_time": "2021-08-26T05:31:47.131Z"
   },
   {
    "duration": 69,
    "start_time": "2021-08-26T05:31:47.143Z"
   },
   {
    "duration": 17,
    "start_time": "2021-08-26T05:31:47.213Z"
   },
   {
    "duration": 76,
    "start_time": "2021-08-26T05:31:47.232Z"
   },
   {
    "duration": 5,
    "start_time": "2021-08-26T05:31:47.310Z"
   },
   {
    "duration": 3,
    "start_time": "2021-08-26T05:32:04.239Z"
   },
   {
    "duration": 396,
    "start_time": "2021-08-26T05:32:04.244Z"
   },
   {
    "duration": 7,
    "start_time": "2021-08-26T05:32:04.642Z"
   },
   {
    "duration": 8,
    "start_time": "2021-08-26T05:32:04.651Z"
   },
   {
    "duration": 8,
    "start_time": "2021-08-26T05:32:04.660Z"
   },
   {
    "duration": 18,
    "start_time": "2021-08-26T05:32:04.670Z"
   },
   {
    "duration": 6,
    "start_time": "2021-08-26T05:32:04.689Z"
   },
   {
    "duration": 15,
    "start_time": "2021-08-26T05:32:04.696Z"
   },
   {
    "duration": 6,
    "start_time": "2021-08-26T05:32:04.714Z"
   },
   {
    "duration": 19,
    "start_time": "2021-08-26T05:32:04.722Z"
   },
   {
    "duration": 5,
    "start_time": "2021-08-26T05:32:04.742Z"
   },
   {
    "duration": 10,
    "start_time": "2021-08-26T05:32:04.749Z"
   },
   {
    "duration": 63,
    "start_time": "2021-08-26T05:32:04.760Z"
   },
   {
    "duration": 16,
    "start_time": "2021-08-26T05:32:04.825Z"
   },
   {
    "duration": 4,
    "start_time": "2021-08-26T05:32:04.843Z"
   },
   {
    "duration": 84,
    "start_time": "2021-08-26T05:32:04.849Z"
   },
   {
    "duration": 24,
    "start_time": "2021-08-26T05:38:18.631Z"
   },
   {
    "duration": 7,
    "start_time": "2021-08-26T05:39:08.521Z"
   },
   {
    "duration": 25,
    "start_time": "2021-08-26T05:39:14.762Z"
   },
   {
    "duration": 244,
    "start_time": "2021-08-26T05:46:01.619Z"
   },
   {
    "duration": 5,
    "start_time": "2021-08-26T05:46:18.020Z"
   },
   {
    "duration": 255,
    "start_time": "2021-08-26T05:50:18.909Z"
   },
   {
    "duration": 22,
    "start_time": "2021-08-26T05:50:26.746Z"
   },
   {
    "duration": 259,
    "start_time": "2021-08-26T05:51:15.872Z"
   },
   {
    "duration": 274,
    "start_time": "2021-08-26T05:51:43.844Z"
   },
   {
    "duration": 20,
    "start_time": "2021-08-26T05:51:51.711Z"
   },
   {
    "duration": 40,
    "start_time": "2021-08-26T05:54:03.010Z"
   },
   {
    "duration": 38,
    "start_time": "2021-08-26T05:54:33.824Z"
   },
   {
    "duration": 27,
    "start_time": "2021-08-26T05:56:18.213Z"
   },
   {
    "duration": 26,
    "start_time": "2021-08-26T05:57:12.579Z"
   },
   {
    "duration": 27,
    "start_time": "2021-08-26T05:57:21.271Z"
   },
   {
    "duration": 277,
    "start_time": "2021-08-26T06:02:44.214Z"
   },
   {
    "duration": 113,
    "start_time": "2021-08-26T06:02:49.466Z"
   },
   {
    "duration": 34,
    "start_time": "2021-08-26T06:03:03.866Z"
   },
   {
    "duration": 259,
    "start_time": "2021-08-26T06:03:20.763Z"
   },
   {
    "duration": 53,
    "start_time": "2021-08-26T06:03:24.254Z"
   },
   {
    "duration": 16,
    "start_time": "2021-08-26T06:09:17.677Z"
   },
   {
    "duration": 266,
    "start_time": "2021-08-26T06:11:11.606Z"
   },
   {
    "duration": 31,
    "start_time": "2021-08-26T06:11:42.469Z"
   },
   {
    "duration": 2,
    "start_time": "2021-08-26T07:37:05.391Z"
   },
   {
    "duration": 433,
    "start_time": "2021-08-26T07:37:05.395Z"
   },
   {
    "duration": 8,
    "start_time": "2021-08-26T07:37:05.830Z"
   },
   {
    "duration": 14,
    "start_time": "2021-08-26T07:37:05.840Z"
   },
   {
    "duration": 12,
    "start_time": "2021-08-26T07:37:05.856Z"
   },
   {
    "duration": 24,
    "start_time": "2021-08-26T07:37:05.869Z"
   },
   {
    "duration": 7,
    "start_time": "2021-08-26T07:37:05.895Z"
   },
   {
    "duration": 27,
    "start_time": "2021-08-26T07:37:05.903Z"
   },
   {
    "duration": 16,
    "start_time": "2021-08-26T07:37:05.933Z"
   },
   {
    "duration": 29,
    "start_time": "2021-08-26T07:37:05.951Z"
   },
   {
    "duration": 10,
    "start_time": "2021-08-26T07:37:05.982Z"
   },
   {
    "duration": 19,
    "start_time": "2021-08-26T07:37:05.994Z"
   },
   {
    "duration": 61,
    "start_time": "2021-08-26T07:37:06.015Z"
   },
   {
    "duration": 21,
    "start_time": "2021-08-26T07:37:06.078Z"
   },
   {
    "duration": 9,
    "start_time": "2021-08-26T07:37:06.101Z"
   },
   {
    "duration": 80,
    "start_time": "2021-08-26T07:37:06.112Z"
   },
   {
    "duration": 25,
    "start_time": "2021-08-26T07:37:06.194Z"
   },
   {
    "duration": 75,
    "start_time": "2021-08-26T07:37:06.221Z"
   },
   {
    "duration": 17,
    "start_time": "2021-08-26T07:37:06.298Z"
   },
   {
    "duration": 32,
    "start_time": "2021-08-26T07:37:06.317Z"
   },
   {
    "duration": 17,
    "start_time": "2021-08-26T07:37:06.350Z"
   },
   {
    "duration": 17,
    "start_time": "2021-08-26T07:37:45.307Z"
   },
   {
    "duration": 251,
    "start_time": "2021-08-26T07:37:54.647Z"
   },
   {
    "duration": 277,
    "start_time": "2021-08-26T07:38:22.627Z"
   },
   {
    "duration": 17,
    "start_time": "2021-08-26T07:39:14.338Z"
   },
   {
    "duration": 263,
    "start_time": "2021-08-26T07:39:45.997Z"
   },
   {
    "duration": 17,
    "start_time": "2021-08-26T07:40:49.934Z"
   },
   {
    "duration": 3,
    "start_time": "2021-08-26T07:41:17.899Z"
   },
   {
    "duration": 420,
    "start_time": "2021-08-26T07:41:17.904Z"
   },
   {
    "duration": 8,
    "start_time": "2021-08-26T07:41:18.326Z"
   },
   {
    "duration": 9,
    "start_time": "2021-08-26T07:41:18.336Z"
   },
   {
    "duration": 10,
    "start_time": "2021-08-26T07:41:18.347Z"
   },
   {
    "duration": 23,
    "start_time": "2021-08-26T07:41:18.359Z"
   },
   {
    "duration": 13,
    "start_time": "2021-08-26T07:41:18.384Z"
   },
   {
    "duration": 20,
    "start_time": "2021-08-26T07:41:18.398Z"
   },
   {
    "duration": 7,
    "start_time": "2021-08-26T07:41:18.421Z"
   },
   {
    "duration": 20,
    "start_time": "2021-08-26T07:41:18.429Z"
   },
   {
    "duration": 6,
    "start_time": "2021-08-26T07:41:18.451Z"
   },
   {
    "duration": 13,
    "start_time": "2021-08-26T07:41:18.458Z"
   },
   {
    "duration": 53,
    "start_time": "2021-08-26T07:41:18.491Z"
   },
   {
    "duration": 6,
    "start_time": "2021-08-26T07:41:18.546Z"
   },
   {
    "duration": 37,
    "start_time": "2021-08-26T07:41:18.554Z"
   },
   {
    "duration": 16,
    "start_time": "2021-08-26T07:41:18.593Z"
   },
   {
    "duration": 81,
    "start_time": "2021-08-26T07:41:18.611Z"
   },
   {
    "duration": 23,
    "start_time": "2021-08-26T07:41:18.694Z"
   },
   {
    "duration": 64,
    "start_time": "2021-08-26T07:41:18.719Z"
   },
   {
    "duration": 20,
    "start_time": "2021-08-26T07:41:18.785Z"
   },
   {
    "duration": 38,
    "start_time": "2021-08-26T07:41:18.807Z"
   },
   {
    "duration": 18,
    "start_time": "2021-08-26T07:41:18.847Z"
   },
   {
    "duration": 6,
    "start_time": "2021-08-26T07:42:45.739Z"
   },
   {
    "duration": 3,
    "start_time": "2021-08-26T07:42:48.962Z"
   },
   {
    "duration": 417,
    "start_time": "2021-08-26T07:42:48.967Z"
   },
   {
    "duration": 8,
    "start_time": "2021-08-26T07:42:49.387Z"
   },
   {
    "duration": 8,
    "start_time": "2021-08-26T07:42:49.397Z"
   },
   {
    "duration": 9,
    "start_time": "2021-08-26T07:42:49.407Z"
   },
   {
    "duration": 22,
    "start_time": "2021-08-26T07:42:49.417Z"
   },
   {
    "duration": 7,
    "start_time": "2021-08-26T07:42:49.441Z"
   },
   {
    "duration": 22,
    "start_time": "2021-08-26T07:42:49.449Z"
   },
   {
    "duration": 11,
    "start_time": "2021-08-26T07:42:49.492Z"
   },
   {
    "duration": 19,
    "start_time": "2021-08-26T07:42:49.505Z"
   },
   {
    "duration": 6,
    "start_time": "2021-08-26T07:42:49.526Z"
   },
   {
    "duration": 9,
    "start_time": "2021-08-26T07:42:49.534Z"
   },
   {
    "duration": 83,
    "start_time": "2021-08-26T07:42:49.544Z"
   },
   {
    "duration": 5,
    "start_time": "2021-08-26T07:42:49.629Z"
   },
   {
    "duration": 22,
    "start_time": "2021-08-26T07:42:49.636Z"
   },
   {
    "duration": 6,
    "start_time": "2021-08-26T07:42:49.659Z"
   },
   {
    "duration": 85,
    "start_time": "2021-08-26T07:42:49.667Z"
   },
   {
    "duration": 24,
    "start_time": "2021-08-26T07:42:49.754Z"
   },
   {
    "duration": 65,
    "start_time": "2021-08-26T07:42:49.780Z"
   },
   {
    "duration": 17,
    "start_time": "2021-08-26T07:42:49.847Z"
   },
   {
    "duration": 56,
    "start_time": "2021-08-26T07:42:49.865Z"
   },
   {
    "duration": 18,
    "start_time": "2021-08-26T07:42:49.923Z"
   },
   {
    "duration": 3,
    "start_time": "2021-08-26T07:43:46.249Z"
   },
   {
    "duration": 408,
    "start_time": "2021-08-26T07:43:46.253Z"
   },
   {
    "duration": 9,
    "start_time": "2021-08-26T07:43:46.663Z"
   },
   {
    "duration": 10,
    "start_time": "2021-08-26T07:43:46.673Z"
   },
   {
    "duration": 10,
    "start_time": "2021-08-26T07:43:46.684Z"
   },
   {
    "duration": 19,
    "start_time": "2021-08-26T07:43:46.696Z"
   },
   {
    "duration": 6,
    "start_time": "2021-08-26T07:43:46.717Z"
   },
   {
    "duration": 18,
    "start_time": "2021-08-26T07:43:46.726Z"
   },
   {
    "duration": 8,
    "start_time": "2021-08-26T07:43:46.746Z"
   },
   {
    "duration": 47,
    "start_time": "2021-08-26T07:43:46.756Z"
   },
   {
    "duration": 8,
    "start_time": "2021-08-26T07:43:46.806Z"
   },
   {
    "duration": 8,
    "start_time": "2021-08-26T07:43:46.816Z"
   },
   {
    "duration": 30,
    "start_time": "2021-08-26T07:43:46.826Z"
   },
   {
    "duration": 74,
    "start_time": "2021-08-26T07:43:46.858Z"
   },
   {
    "duration": 6,
    "start_time": "2021-08-26T07:43:46.934Z"
   },
   {
    "duration": 29,
    "start_time": "2021-08-26T07:43:46.942Z"
   },
   {
    "duration": 20,
    "start_time": "2021-08-26T07:43:46.973Z"
   },
   {
    "duration": 67,
    "start_time": "2021-08-26T07:43:46.994Z"
   },
   {
    "duration": 39,
    "start_time": "2021-08-26T07:43:47.062Z"
   },
   {
    "duration": 59,
    "start_time": "2021-08-26T07:43:47.103Z"
   },
   {
    "duration": 33,
    "start_time": "2021-08-26T07:43:47.164Z"
   },
   {
    "duration": 31,
    "start_time": "2021-08-26T07:43:47.199Z"
   },
   {
    "duration": 18,
    "start_time": "2021-08-26T07:43:47.233Z"
   },
   {
    "duration": 6,
    "start_time": "2021-08-26T07:43:55.506Z"
   },
   {
    "duration": 4,
    "start_time": "2021-08-26T07:44:07.063Z"
   },
   {
    "duration": 421,
    "start_time": "2021-08-26T07:44:07.069Z"
   },
   {
    "duration": 10,
    "start_time": "2021-08-26T07:44:07.493Z"
   },
   {
    "duration": 36,
    "start_time": "2021-08-26T07:44:07.505Z"
   },
   {
    "duration": 30,
    "start_time": "2021-08-26T07:44:07.543Z"
   },
   {
    "duration": 20,
    "start_time": "2021-08-26T07:44:07.575Z"
   },
   {
    "duration": 6,
    "start_time": "2021-08-26T07:44:07.597Z"
   },
   {
    "duration": 16,
    "start_time": "2021-08-26T07:44:07.605Z"
   },
   {
    "duration": 8,
    "start_time": "2021-08-26T07:44:07.624Z"
   },
   {
    "duration": 19,
    "start_time": "2021-08-26T07:44:07.634Z"
   },
   {
    "duration": 6,
    "start_time": "2021-08-26T07:44:07.655Z"
   },
   {
    "duration": 33,
    "start_time": "2021-08-26T07:44:07.663Z"
   },
   {
    "duration": 14,
    "start_time": "2021-08-26T07:44:07.698Z"
   },
   {
    "duration": 62,
    "start_time": "2021-08-26T07:44:07.714Z"
   },
   {
    "duration": 14,
    "start_time": "2021-08-26T07:44:07.778Z"
   },
   {
    "duration": 22,
    "start_time": "2021-08-26T07:44:07.794Z"
   },
   {
    "duration": 8,
    "start_time": "2021-08-26T07:44:07.817Z"
   },
   {
    "duration": 89,
    "start_time": "2021-08-26T07:44:07.827Z"
   },
   {
    "duration": 25,
    "start_time": "2021-08-26T07:44:07.917Z"
   },
   {
    "duration": 77,
    "start_time": "2021-08-26T07:44:07.944Z"
   },
   {
    "duration": 16,
    "start_time": "2021-08-26T07:44:08.023Z"
   },
   {
    "duration": 31,
    "start_time": "2021-08-26T07:44:08.041Z"
   },
   {
    "duration": 18,
    "start_time": "2021-08-26T07:44:08.092Z"
   },
   {
    "duration": 2,
    "start_time": "2021-08-26T07:44:44.500Z"
   },
   {
    "duration": 414,
    "start_time": "2021-08-26T07:44:44.504Z"
   },
   {
    "duration": 8,
    "start_time": "2021-08-26T07:44:44.920Z"
   },
   {
    "duration": 9,
    "start_time": "2021-08-26T07:44:44.930Z"
   },
   {
    "duration": 10,
    "start_time": "2021-08-26T07:44:44.941Z"
   },
   {
    "duration": 20,
    "start_time": "2021-08-26T07:44:44.952Z"
   },
   {
    "duration": 7,
    "start_time": "2021-08-26T07:44:44.974Z"
   },
   {
    "duration": 18,
    "start_time": "2021-08-26T07:44:44.982Z"
   },
   {
    "duration": 8,
    "start_time": "2021-08-26T07:44:45.003Z"
   },
   {
    "duration": 34,
    "start_time": "2021-08-26T07:44:45.013Z"
   },
   {
    "duration": 8,
    "start_time": "2021-08-26T07:44:45.048Z"
   },
   {
    "duration": 19,
    "start_time": "2021-08-26T07:44:45.058Z"
   },
   {
    "duration": 62,
    "start_time": "2021-08-26T07:44:45.079Z"
   },
   {
    "duration": 19,
    "start_time": "2021-08-26T07:44:45.142Z"
   },
   {
    "duration": 5,
    "start_time": "2021-08-26T07:44:45.163Z"
   },
   {
    "duration": 83,
    "start_time": "2021-08-26T07:44:45.170Z"
   },
   {
    "duration": 24,
    "start_time": "2021-08-26T07:44:45.254Z"
   },
   {
    "duration": 68,
    "start_time": "2021-08-26T07:44:45.279Z"
   },
   {
    "duration": 17,
    "start_time": "2021-08-26T07:44:45.349Z"
   },
   {
    "duration": 50,
    "start_time": "2021-08-26T07:44:45.367Z"
   },
   {
    "duration": 18,
    "start_time": "2021-08-26T07:44:45.419Z"
   },
   {
    "duration": 32,
    "start_time": "2021-08-26T07:50:33.723Z"
   },
   {
    "duration": 30,
    "start_time": "2021-08-26T07:50:45.598Z"
   },
   {
    "duration": 276,
    "start_time": "2021-08-26T07:56:01.280Z"
   },
   {
    "duration": 18,
    "start_time": "2021-08-26T07:56:06.911Z"
   },
   {
    "duration": 19,
    "start_time": "2021-08-26T07:58:35.325Z"
   },
   {
    "duration": 88,
    "start_time": "2021-08-26T07:58:50.512Z"
   },
   {
    "duration": 18,
    "start_time": "2021-08-26T07:59:11.080Z"
   },
   {
    "duration": 19,
    "start_time": "2021-08-26T07:59:24.874Z"
   },
   {
    "duration": 6,
    "start_time": "2021-08-26T07:59:53.735Z"
   },
   {
    "duration": 6,
    "start_time": "2021-08-26T08:01:58.493Z"
   },
   {
    "duration": 6,
    "start_time": "2021-08-26T08:02:06.804Z"
   },
   {
    "duration": 2,
    "start_time": "2021-08-26T08:02:10.224Z"
   },
   {
    "duration": 422,
    "start_time": "2021-08-26T08:02:10.228Z"
   },
   {
    "duration": 8,
    "start_time": "2021-08-26T08:02:10.652Z"
   },
   {
    "duration": 8,
    "start_time": "2021-08-26T08:02:10.662Z"
   },
   {
    "duration": 9,
    "start_time": "2021-08-26T08:02:10.671Z"
   },
   {
    "duration": 21,
    "start_time": "2021-08-26T08:02:10.682Z"
   },
   {
    "duration": 8,
    "start_time": "2021-08-26T08:02:10.705Z"
   },
   {
    "duration": 16,
    "start_time": "2021-08-26T08:02:10.715Z"
   },
   {
    "duration": 8,
    "start_time": "2021-08-26T08:02:10.735Z"
   },
   {
    "duration": 18,
    "start_time": "2021-08-26T08:02:10.745Z"
   },
   {
    "duration": 7,
    "start_time": "2021-08-26T08:02:10.791Z"
   },
   {
    "duration": 11,
    "start_time": "2021-08-26T08:02:10.799Z"
   },
   {
    "duration": 19,
    "start_time": "2021-08-26T08:02:10.812Z"
   },
   {
    "duration": 60,
    "start_time": "2021-08-26T08:02:10.832Z"
   },
   {
    "duration": 19,
    "start_time": "2021-08-26T08:02:10.894Z"
   },
   {
    "duration": 11,
    "start_time": "2021-08-26T08:02:10.915Z"
   },
   {
    "duration": 78,
    "start_time": "2021-08-26T08:02:10.928Z"
   },
   {
    "duration": 23,
    "start_time": "2021-08-26T08:02:11.008Z"
   },
   {
    "duration": 66,
    "start_time": "2021-08-26T08:02:11.032Z"
   },
   {
    "duration": 16,
    "start_time": "2021-08-26T08:02:11.099Z"
   },
   {
    "duration": 30,
    "start_time": "2021-08-26T08:02:11.117Z"
   },
   {
    "duration": 16,
    "start_time": "2021-08-26T08:02:11.149Z"
   },
   {
    "duration": 52,
    "start_time": "2021-08-26T08:02:11.167Z"
   },
   {
    "duration": 4,
    "start_time": "2021-08-26T08:02:11.221Z"
   },
   {
    "duration": 6,
    "start_time": "2021-08-26T08:02:16.328Z"
   },
   {
    "duration": 3,
    "start_time": "2021-08-26T08:02:19.149Z"
   },
   {
    "duration": 405,
    "start_time": "2021-08-26T08:02:19.153Z"
   },
   {
    "duration": 7,
    "start_time": "2021-08-26T08:02:19.560Z"
   },
   {
    "duration": 10,
    "start_time": "2021-08-26T08:02:19.569Z"
   },
   {
    "duration": 10,
    "start_time": "2021-08-26T08:02:19.580Z"
   },
   {
    "duration": 22,
    "start_time": "2021-08-26T08:02:19.591Z"
   },
   {
    "duration": 6,
    "start_time": "2021-08-26T08:02:19.616Z"
   },
   {
    "duration": 17,
    "start_time": "2021-08-26T08:02:19.624Z"
   },
   {
    "duration": 8,
    "start_time": "2021-08-26T08:02:19.643Z"
   },
   {
    "duration": 39,
    "start_time": "2021-08-26T08:02:19.653Z"
   },
   {
    "duration": 6,
    "start_time": "2021-08-26T08:02:19.694Z"
   },
   {
    "duration": 11,
    "start_time": "2021-08-26T08:02:19.702Z"
   },
   {
    "duration": 16,
    "start_time": "2021-08-26T08:02:19.715Z"
   },
   {
    "duration": 61,
    "start_time": "2021-08-26T08:02:19.732Z"
   },
   {
    "duration": 18,
    "start_time": "2021-08-26T08:02:19.794Z"
   },
   {
    "duration": 6,
    "start_time": "2021-08-26T08:02:19.813Z"
   },
   {
    "duration": 79,
    "start_time": "2021-08-26T08:02:19.821Z"
   },
   {
    "duration": 23,
    "start_time": "2021-08-26T08:02:19.902Z"
   },
   {
    "duration": 74,
    "start_time": "2021-08-26T08:02:19.928Z"
   },
   {
    "duration": 17,
    "start_time": "2021-08-26T08:02:20.004Z"
   },
   {
    "duration": 31,
    "start_time": "2021-08-26T08:02:20.022Z"
   },
   {
    "duration": 16,
    "start_time": "2021-08-26T08:02:20.054Z"
   },
   {
    "duration": 31,
    "start_time": "2021-08-26T08:02:20.092Z"
   },
   {
    "duration": 4,
    "start_time": "2021-08-26T08:02:20.125Z"
   },
   {
    "duration": 582,
    "start_time": "2021-08-26T08:02:46.166Z"
   },
   {
    "duration": 17,
    "start_time": "2021-08-26T08:02:52.687Z"
   },
   {
    "duration": 3,
    "start_time": "2021-08-26T08:04:33.599Z"
   },
   {
    "duration": 386,
    "start_time": "2021-08-26T08:04:33.604Z"
   },
   {
    "duration": 8,
    "start_time": "2021-08-26T08:04:33.992Z"
   },
   {
    "duration": 9,
    "start_time": "2021-08-26T08:04:34.002Z"
   },
   {
    "duration": 9,
    "start_time": "2021-08-26T08:04:34.012Z"
   },
   {
    "duration": 19,
    "start_time": "2021-08-26T08:04:34.023Z"
   },
   {
    "duration": 6,
    "start_time": "2021-08-26T08:04:34.044Z"
   },
   {
    "duration": 40,
    "start_time": "2021-08-26T08:04:34.051Z"
   },
   {
    "duration": 7,
    "start_time": "2021-08-26T08:04:34.094Z"
   },
   {
    "duration": 19,
    "start_time": "2021-08-26T08:04:34.103Z"
   },
   {
    "duration": 6,
    "start_time": "2021-08-26T08:04:34.123Z"
   },
   {
    "duration": 13,
    "start_time": "2021-08-26T08:04:34.130Z"
   },
   {
    "duration": 15,
    "start_time": "2021-08-26T08:04:34.144Z"
   },
   {
    "duration": 70,
    "start_time": "2021-08-26T08:04:34.161Z"
   },
   {
    "duration": 19,
    "start_time": "2021-08-26T08:04:34.233Z"
   },
   {
    "duration": 11,
    "start_time": "2021-08-26T08:04:34.253Z"
   },
   {
    "duration": 77,
    "start_time": "2021-08-26T08:04:34.266Z"
   },
   {
    "duration": 24,
    "start_time": "2021-08-26T08:04:34.344Z"
   },
   {
    "duration": 72,
    "start_time": "2021-08-26T08:04:34.370Z"
   },
   {
    "duration": 17,
    "start_time": "2021-08-26T08:04:34.443Z"
   },
   {
    "duration": 41,
    "start_time": "2021-08-26T08:04:34.462Z"
   },
   {
    "duration": 17,
    "start_time": "2021-08-26T08:04:34.504Z"
   },
   {
    "duration": 32,
    "start_time": "2021-08-26T08:04:34.523Z"
   },
   {
    "duration": 5,
    "start_time": "2021-08-26T08:04:34.556Z"
   },
   {
    "duration": 338,
    "start_time": "2021-08-26T08:05:19.038Z"
   },
   {
    "duration": 250,
    "start_time": "2021-08-26T08:05:24.752Z"
   },
   {
    "duration": 398,
    "start_time": "2021-08-26T08:05:46.583Z"
   },
   {
    "duration": 2,
    "start_time": "2021-08-26T08:06:05.756Z"
   },
   {
    "duration": 387,
    "start_time": "2021-08-26T08:06:05.760Z"
   },
   {
    "duration": 8,
    "start_time": "2021-08-26T08:06:06.149Z"
   },
   {
    "duration": 12,
    "start_time": "2021-08-26T08:06:06.158Z"
   },
   {
    "duration": 13,
    "start_time": "2021-08-26T08:06:06.171Z"
   },
   {
    "duration": 27,
    "start_time": "2021-08-26T08:06:06.186Z"
   },
   {
    "duration": 12,
    "start_time": "2021-08-26T08:06:06.215Z"
   },
   {
    "duration": 16,
    "start_time": "2021-08-26T08:06:06.228Z"
   },
   {
    "duration": 6,
    "start_time": "2021-08-26T08:06:06.247Z"
   },
   {
    "duration": 26,
    "start_time": "2021-08-26T08:06:06.255Z"
   },
   {
    "duration": 5,
    "start_time": "2021-08-26T08:06:06.291Z"
   },
   {
    "duration": 10,
    "start_time": "2021-08-26T08:06:06.298Z"
   },
   {
    "duration": 23,
    "start_time": "2021-08-26T08:06:06.309Z"
   },
   {
    "duration": 59,
    "start_time": "2021-08-26T08:06:06.334Z"
   },
   {
    "duration": 18,
    "start_time": "2021-08-26T08:06:06.395Z"
   },
   {
    "duration": 4,
    "start_time": "2021-08-26T08:06:06.415Z"
   },
   {
    "duration": 79,
    "start_time": "2021-08-26T08:06:06.421Z"
   },
   {
    "duration": 22,
    "start_time": "2021-08-26T08:06:06.502Z"
   },
   {
    "duration": 47,
    "start_time": "2021-08-26T08:06:06.526Z"
   },
   {
    "duration": 17,
    "start_time": "2021-08-26T08:06:06.592Z"
   },
   {
    "duration": 29,
    "start_time": "2021-08-26T08:06:06.610Z"
   },
   {
    "duration": 16,
    "start_time": "2021-08-26T08:06:06.641Z"
   },
   {
    "duration": 52,
    "start_time": "2021-08-26T08:06:06.659Z"
   },
   {
    "duration": 5,
    "start_time": "2021-08-26T08:06:06.713Z"
   },
   {
    "duration": 249,
    "start_time": "2021-08-26T08:07:03.988Z"
   },
   {
    "duration": 8,
    "start_time": "2021-08-26T08:07:50.141Z"
   },
   {
    "duration": 8,
    "start_time": "2021-08-26T08:07:56.126Z"
   },
   {
    "duration": 2,
    "start_time": "2021-08-26T08:09:17.297Z"
   },
   {
    "duration": 403,
    "start_time": "2021-08-26T08:09:17.301Z"
   },
   {
    "duration": 8,
    "start_time": "2021-08-26T08:09:17.707Z"
   },
   {
    "duration": 15,
    "start_time": "2021-08-26T08:09:17.716Z"
   },
   {
    "duration": 18,
    "start_time": "2021-08-26T08:09:17.733Z"
   },
   {
    "duration": 32,
    "start_time": "2021-08-26T08:09:17.753Z"
   },
   {
    "duration": 6,
    "start_time": "2021-08-26T08:09:17.786Z"
   },
   {
    "duration": 31,
    "start_time": "2021-08-26T08:09:17.794Z"
   },
   {
    "duration": 11,
    "start_time": "2021-08-26T08:09:17.828Z"
   },
   {
    "duration": 25,
    "start_time": "2021-08-26T08:09:17.841Z"
   },
   {
    "duration": 6,
    "start_time": "2021-08-26T08:09:17.868Z"
   },
   {
    "duration": 13,
    "start_time": "2021-08-26T08:09:17.875Z"
   },
   {
    "duration": 27,
    "start_time": "2021-08-26T08:09:17.889Z"
   },
   {
    "duration": 19,
    "start_time": "2021-08-26T08:09:17.917Z"
   },
   {
    "duration": 60,
    "start_time": "2021-08-26T08:09:17.937Z"
   },
   {
    "duration": 17,
    "start_time": "2021-08-26T08:09:17.998Z"
   },
   {
    "duration": 15,
    "start_time": "2021-08-26T08:09:18.017Z"
   },
   {
    "duration": 86,
    "start_time": "2021-08-26T08:09:18.033Z"
   },
   {
    "duration": 24,
    "start_time": "2021-08-26T08:09:18.121Z"
   },
   {
    "duration": 63,
    "start_time": "2021-08-26T08:09:18.147Z"
   },
   {
    "duration": 16,
    "start_time": "2021-08-26T08:09:18.212Z"
   },
   {
    "duration": 31,
    "start_time": "2021-08-26T08:09:18.230Z"
   },
   {
    "duration": 37,
    "start_time": "2021-08-26T08:09:18.263Z"
   },
   {
    "duration": 32,
    "start_time": "2021-08-26T08:09:18.301Z"
   },
   {
    "duration": 5,
    "start_time": "2021-08-26T08:09:18.334Z"
   },
   {
    "duration": 3,
    "start_time": "2021-08-26T08:09:58.591Z"
   },
   {
    "duration": 391,
    "start_time": "2021-08-26T08:09:58.596Z"
   },
   {
    "duration": 7,
    "start_time": "2021-08-26T08:09:58.989Z"
   },
   {
    "duration": 12,
    "start_time": "2021-08-26T08:09:58.998Z"
   },
   {
    "duration": 9,
    "start_time": "2021-08-26T08:09:59.012Z"
   },
   {
    "duration": 20,
    "start_time": "2021-08-26T08:09:59.023Z"
   },
   {
    "duration": 6,
    "start_time": "2021-08-26T08:09:59.044Z"
   },
   {
    "duration": 18,
    "start_time": "2021-08-26T08:09:59.052Z"
   },
   {
    "duration": 8,
    "start_time": "2021-08-26T08:09:59.093Z"
   },
   {
    "duration": 24,
    "start_time": "2021-08-26T08:09:59.102Z"
   },
   {
    "duration": 5,
    "start_time": "2021-08-26T08:09:59.128Z"
   },
   {
    "duration": 10,
    "start_time": "2021-08-26T08:09:59.135Z"
   },
   {
    "duration": 6466,
    "start_time": "2021-08-26T08:09:59.147Z"
   },
   {
    "duration": 130,
    "start_time": "2021-08-26T08:10:05.485Z"
   },
   {
    "duration": 129,
    "start_time": "2021-08-26T08:10:05.487Z"
   },
   {
    "duration": 128,
    "start_time": "2021-08-26T08:10:05.489Z"
   },
   {
    "duration": 126,
    "start_time": "2021-08-26T08:10:05.491Z"
   },
   {
    "duration": 125,
    "start_time": "2021-08-26T08:10:05.493Z"
   },
   {
    "duration": 125,
    "start_time": "2021-08-26T08:10:05.494Z"
   },
   {
    "duration": 124,
    "start_time": "2021-08-26T08:10:05.496Z"
   },
   {
    "duration": 119,
    "start_time": "2021-08-26T08:10:05.502Z"
   },
   {
    "duration": 109,
    "start_time": "2021-08-26T08:10:05.513Z"
   },
   {
    "duration": 108,
    "start_time": "2021-08-26T08:10:05.515Z"
   },
   {
    "duration": 3,
    "start_time": "2021-08-26T08:10:45.576Z"
   },
   {
    "duration": 393,
    "start_time": "2021-08-26T08:10:45.580Z"
   },
   {
    "duration": 8,
    "start_time": "2021-08-26T08:10:45.976Z"
   },
   {
    "duration": 9,
    "start_time": "2021-08-26T08:10:45.986Z"
   },
   {
    "duration": 11,
    "start_time": "2021-08-26T08:10:45.997Z"
   },
   {
    "duration": 22,
    "start_time": "2021-08-26T08:10:46.010Z"
   },
   {
    "duration": 8,
    "start_time": "2021-08-26T08:10:46.034Z"
   },
   {
    "duration": 22,
    "start_time": "2021-08-26T08:10:46.044Z"
   },
   {
    "duration": 27,
    "start_time": "2021-08-26T08:10:46.069Z"
   },
   {
    "duration": 19,
    "start_time": "2021-08-26T08:10:46.098Z"
   },
   {
    "duration": 7,
    "start_time": "2021-08-26T08:10:46.119Z"
   },
   {
    "duration": 18,
    "start_time": "2021-08-26T08:10:46.127Z"
   },
   {
    "duration": 6462,
    "start_time": "2021-08-26T08:10:46.146Z"
   },
   {
    "duration": 117,
    "start_time": "2021-08-26T08:10:52.493Z"
   },
   {
    "duration": 116,
    "start_time": "2021-08-26T08:10:52.495Z"
   },
   {
    "duration": 115,
    "start_time": "2021-08-26T08:10:52.498Z"
   },
   {
    "duration": 109,
    "start_time": "2021-08-26T08:10:52.505Z"
   },
   {
    "duration": 106,
    "start_time": "2021-08-26T08:10:52.509Z"
   },
   {
    "duration": 105,
    "start_time": "2021-08-26T08:10:52.511Z"
   },
   {
    "duration": 104,
    "start_time": "2021-08-26T08:10:52.512Z"
   },
   {
    "duration": 103,
    "start_time": "2021-08-26T08:10:52.514Z"
   },
   {
    "duration": 96,
    "start_time": "2021-08-26T08:10:52.522Z"
   },
   {
    "duration": 94,
    "start_time": "2021-08-26T08:10:52.524Z"
   },
   {
    "duration": 2,
    "start_time": "2021-08-26T08:11:19.715Z"
   },
   {
    "duration": 378,
    "start_time": "2021-08-26T08:11:19.719Z"
   },
   {
    "duration": 7,
    "start_time": "2021-08-26T08:11:20.099Z"
   },
   {
    "duration": 23,
    "start_time": "2021-08-26T08:11:20.108Z"
   },
   {
    "duration": 21,
    "start_time": "2021-08-26T08:11:20.132Z"
   },
   {
    "duration": 20,
    "start_time": "2021-08-26T08:11:20.155Z"
   },
   {
    "duration": 7,
    "start_time": "2021-08-26T08:11:20.176Z"
   },
   {
    "duration": 28,
    "start_time": "2021-08-26T08:11:20.186Z"
   },
   {
    "duration": 28,
    "start_time": "2021-08-26T08:11:20.216Z"
   },
   {
    "duration": 28,
    "start_time": "2021-08-26T08:11:20.246Z"
   },
   {
    "duration": 6,
    "start_time": "2021-08-26T08:11:20.276Z"
   },
   {
    "duration": 23,
    "start_time": "2021-08-26T08:11:20.283Z"
   },
   {
    "duration": 76,
    "start_time": "2021-08-26T08:11:20.308Z"
   },
   {
    "duration": 18,
    "start_time": "2021-08-26T08:11:20.385Z"
   },
   {
    "duration": 19,
    "start_time": "2021-08-26T08:11:20.404Z"
   },
   {
    "duration": 74,
    "start_time": "2021-08-26T08:11:20.424Z"
   },
   {
    "duration": 25,
    "start_time": "2021-08-26T08:11:20.499Z"
   },
   {
    "duration": 66,
    "start_time": "2021-08-26T08:11:20.526Z"
   },
   {
    "duration": 6,
    "start_time": "2021-08-26T08:11:20.594Z"
   },
   {
    "duration": 60,
    "start_time": "2021-08-26T08:11:20.602Z"
   },
   {
    "duration": 19,
    "start_time": "2021-08-26T08:11:20.664Z"
   },
   {
    "duration": 32,
    "start_time": "2021-08-26T08:11:20.684Z"
   },
   {
    "duration": 5,
    "start_time": "2021-08-26T08:11:20.720Z"
   },
   {
    "duration": 2,
    "start_time": "2021-08-26T08:12:20.674Z"
   },
   {
    "duration": 392,
    "start_time": "2021-08-26T08:12:20.678Z"
   },
   {
    "duration": 8,
    "start_time": "2021-08-26T08:12:21.072Z"
   },
   {
    "duration": 23,
    "start_time": "2021-08-26T08:12:21.083Z"
   },
   {
    "duration": 13,
    "start_time": "2021-08-26T08:12:21.108Z"
   },
   {
    "duration": 26,
    "start_time": "2021-08-26T08:12:21.122Z"
   },
   {
    "duration": 6,
    "start_time": "2021-08-26T08:12:21.150Z"
   },
   {
    "duration": 21,
    "start_time": "2021-08-26T08:12:21.158Z"
   },
   {
    "duration": 12,
    "start_time": "2021-08-26T08:12:21.182Z"
   },
   {
    "duration": 25,
    "start_time": "2021-08-26T08:12:21.196Z"
   },
   {
    "duration": 7,
    "start_time": "2021-08-26T08:12:21.222Z"
   },
   {
    "duration": 11,
    "start_time": "2021-08-26T08:12:21.230Z"
   },
   {
    "duration": 73,
    "start_time": "2021-08-26T08:12:21.242Z"
   },
   {
    "duration": 17,
    "start_time": "2021-08-26T08:12:21.317Z"
   },
   {
    "duration": 7,
    "start_time": "2021-08-26T08:12:21.336Z"
   },
   {
    "duration": 82,
    "start_time": "2021-08-26T08:12:21.345Z"
   },
   {
    "duration": 24,
    "start_time": "2021-08-26T08:12:21.428Z"
   },
   {
    "duration": 68,
    "start_time": "2021-08-26T08:12:21.454Z"
   },
   {
    "duration": 17,
    "start_time": "2021-08-26T08:12:21.523Z"
   },
   {
    "duration": 30,
    "start_time": "2021-08-26T08:12:21.541Z"
   },
   {
    "duration": 6019,
    "start_time": "2021-08-26T08:12:21.573Z"
   },
   {
    "duration": 115,
    "start_time": "2021-08-26T08:12:27.479Z"
   },
   {
    "duration": 113,
    "start_time": "2021-08-26T08:12:27.481Z"
   },
   {
    "duration": 7177,
    "start_time": "2021-08-26T08:12:36.345Z"
   },
   {
    "duration": -195,
    "start_time": "2021-08-26T08:12:43.719Z"
   },
   {
    "duration": -196,
    "start_time": "2021-08-26T08:12:43.721Z"
   },
   {
    "duration": 19,
    "start_time": "2021-08-26T08:12:47.080Z"
   },
   {
    "duration": 30,
    "start_time": "2021-08-26T08:12:48.306Z"
   },
   {
    "duration": 3,
    "start_time": "2021-08-26T08:20:14.460Z"
   },
   {
    "duration": 367,
    "start_time": "2021-08-26T08:20:14.465Z"
   },
   {
    "duration": 8,
    "start_time": "2021-08-26T08:20:14.835Z"
   },
   {
    "duration": 9,
    "start_time": "2021-08-26T08:20:14.845Z"
   },
   {
    "duration": 16,
    "start_time": "2021-08-26T08:20:14.855Z"
   },
   {
    "duration": 20,
    "start_time": "2021-08-26T08:20:14.873Z"
   },
   {
    "duration": 6,
    "start_time": "2021-08-26T08:20:14.896Z"
   },
   {
    "duration": 22,
    "start_time": "2021-08-26T08:20:14.905Z"
   },
   {
    "duration": 12,
    "start_time": "2021-08-26T08:20:14.929Z"
   },
   {
    "duration": 25,
    "start_time": "2021-08-26T08:20:14.943Z"
   },
   {
    "duration": 10,
    "start_time": "2021-08-26T08:20:14.970Z"
   },
   {
    "duration": 21,
    "start_time": "2021-08-26T08:20:14.982Z"
   },
   {
    "duration": 86,
    "start_time": "2021-08-26T08:20:15.005Z"
   },
   {
    "duration": 16,
    "start_time": "2021-08-26T08:20:15.092Z"
   },
   {
    "duration": 16,
    "start_time": "2021-08-26T08:20:15.110Z"
   },
   {
    "duration": 80,
    "start_time": "2021-08-26T08:20:15.128Z"
   },
   {
    "duration": 23,
    "start_time": "2021-08-26T08:20:15.209Z"
   },
   {
    "duration": 259,
    "start_time": "2021-08-26T08:20:15.234Z"
   },
   {
    "duration": 124,
    "start_time": "2021-08-26T08:20:15.371Z"
   },
   {
    "duration": 117,
    "start_time": "2021-08-26T08:20:15.379Z"
   },
   {
    "duration": 115,
    "start_time": "2021-08-26T08:20:15.382Z"
   },
   {
    "duration": 114,
    "start_time": "2021-08-26T08:20:15.384Z"
   },
   {
    "duration": 114,
    "start_time": "2021-08-26T08:20:15.385Z"
   },
   {
    "duration": 2,
    "start_time": "2021-08-26T08:21:20.033Z"
   },
   {
    "duration": 379,
    "start_time": "2021-08-26T08:21:20.037Z"
   },
   {
    "duration": 8,
    "start_time": "2021-08-26T08:21:20.418Z"
   },
   {
    "duration": 15,
    "start_time": "2021-08-26T08:21:20.427Z"
   },
   {
    "duration": 13,
    "start_time": "2021-08-26T08:21:20.444Z"
   },
   {
    "duration": 24,
    "start_time": "2021-08-26T08:21:20.458Z"
   },
   {
    "duration": 6,
    "start_time": "2021-08-26T08:21:20.484Z"
   },
   {
    "duration": 24,
    "start_time": "2021-08-26T08:21:20.491Z"
   },
   {
    "duration": 11,
    "start_time": "2021-08-26T08:21:20.518Z"
   },
   {
    "duration": 23,
    "start_time": "2021-08-26T08:21:20.531Z"
   },
   {
    "duration": 6,
    "start_time": "2021-08-26T08:21:20.556Z"
   },
   {
    "duration": 19,
    "start_time": "2021-08-26T08:21:20.563Z"
   },
   {
    "duration": 68,
    "start_time": "2021-08-26T08:21:20.584Z"
   },
   {
    "duration": 17,
    "start_time": "2021-08-26T08:21:20.654Z"
   },
   {
    "duration": 6,
    "start_time": "2021-08-26T08:21:20.673Z"
   },
   {
    "duration": 81,
    "start_time": "2021-08-26T08:21:20.681Z"
   },
   {
    "duration": 23,
    "start_time": "2021-08-26T08:21:20.764Z"
   },
   {
    "duration": 50,
    "start_time": "2021-08-26T08:21:20.791Z"
   },
   {
    "duration": 15,
    "start_time": "2021-08-26T08:21:20.843Z"
   },
   {
    "duration": 46,
    "start_time": "2021-08-26T08:21:20.860Z"
   },
   {
    "duration": 18,
    "start_time": "2021-08-26T08:21:20.908Z"
   },
   {
    "duration": 26,
    "start_time": "2021-08-26T08:21:20.927Z"
   },
   {
    "duration": 9,
    "start_time": "2021-08-26T08:21:20.954Z"
   },
   {
    "duration": 9,
    "start_time": "2021-08-26T08:21:39.259Z"
   },
   {
    "duration": 11,
    "start_time": "2021-08-26T08:22:06.563Z"
   },
   {
    "duration": 23,
    "start_time": "2021-08-26T08:22:51.863Z"
   },
   {
    "duration": 290,
    "start_time": "2021-08-26T08:26:53.388Z"
   },
   {
    "duration": 5,
    "start_time": "2021-08-26T08:27:00.303Z"
   },
   {
    "duration": 8,
    "start_time": "2021-08-26T08:27:36.441Z"
   },
   {
    "duration": 4,
    "start_time": "2021-08-26T08:28:21.165Z"
   },
   {
    "duration": 267,
    "start_time": "2021-08-26T08:29:04.665Z"
   },
   {
    "duration": 4,
    "start_time": "2021-08-26T08:32:45.793Z"
   },
   {
    "duration": 6,
    "start_time": "2021-08-26T08:33:03.052Z"
   },
   {
    "duration": 105,
    "start_time": "2021-08-26T08:34:30.434Z"
   },
   {
    "duration": 4,
    "start_time": "2021-08-26T08:34:38.428Z"
   },
   {
    "duration": 270,
    "start_time": "2021-08-26T08:34:46.625Z"
   },
   {
    "duration": 8,
    "start_time": "2021-08-26T08:34:51.880Z"
   },
   {
    "duration": 85,
    "start_time": "2021-08-26T08:35:28.342Z"
   },
   {
    "duration": 8,
    "start_time": "2021-08-26T08:35:33.936Z"
   },
   {
    "duration": 85,
    "start_time": "2021-08-26T08:35:47.851Z"
   },
   {
    "duration": 13,
    "start_time": "2021-08-26T08:36:12.093Z"
   },
   {
    "duration": 14,
    "start_time": "2021-08-26T08:36:38.454Z"
   },
   {
    "duration": 3,
    "start_time": "2021-08-26T08:36:41.210Z"
   },
   {
    "duration": 403,
    "start_time": "2021-08-26T08:36:41.215Z"
   },
   {
    "duration": 9,
    "start_time": "2021-08-26T08:36:41.621Z"
   },
   {
    "duration": 12,
    "start_time": "2021-08-26T08:36:41.632Z"
   },
   {
    "duration": 12,
    "start_time": "2021-08-26T08:36:41.646Z"
   },
   {
    "duration": 21,
    "start_time": "2021-08-26T08:36:41.660Z"
   },
   {
    "duration": 6,
    "start_time": "2021-08-26T08:36:41.683Z"
   },
   {
    "duration": 15,
    "start_time": "2021-08-26T08:36:41.691Z"
   },
   {
    "duration": 7,
    "start_time": "2021-08-26T08:36:41.710Z"
   },
   {
    "duration": 17,
    "start_time": "2021-08-26T08:36:41.719Z"
   },
   {
    "duration": 6,
    "start_time": "2021-08-26T08:36:41.737Z"
   },
   {
    "duration": 11,
    "start_time": "2021-08-26T08:36:41.744Z"
   },
   {
    "duration": 77,
    "start_time": "2021-08-26T08:36:41.756Z"
   },
   {
    "duration": 17,
    "start_time": "2021-08-26T08:36:41.835Z"
   },
   {
    "duration": 5,
    "start_time": "2021-08-26T08:36:41.853Z"
   },
   {
    "duration": 78,
    "start_time": "2021-08-26T08:36:41.860Z"
   },
   {
    "duration": 23,
    "start_time": "2021-08-26T08:36:41.940Z"
   },
   {
    "duration": 65,
    "start_time": "2021-08-26T08:36:41.964Z"
   },
   {
    "duration": 16,
    "start_time": "2021-08-26T08:36:42.031Z"
   },
   {
    "duration": 43,
    "start_time": "2021-08-26T08:36:42.049Z"
   },
   {
    "duration": 18,
    "start_time": "2021-08-26T08:36:42.094Z"
   },
   {
    "duration": 30,
    "start_time": "2021-08-26T08:36:42.113Z"
   },
   {
    "duration": 22,
    "start_time": "2021-08-26T08:36:42.144Z"
   },
   {
    "duration": 28,
    "start_time": "2021-08-26T08:36:42.167Z"
   },
   {
    "duration": 8,
    "start_time": "2021-08-26T08:36:42.197Z"
   },
   {
    "duration": 12,
    "start_time": "2021-08-26T08:36:42.207Z"
   },
   {
    "duration": 326,
    "start_time": "2021-08-26T08:36:42.222Z"
   },
   {
    "duration": 3,
    "start_time": "2021-08-26T08:37:21.602Z"
   },
   {
    "duration": 388,
    "start_time": "2021-08-26T08:37:21.607Z"
   },
   {
    "duration": 8,
    "start_time": "2021-08-26T08:37:21.997Z"
   },
   {
    "duration": 15,
    "start_time": "2021-08-26T08:37:22.008Z"
   },
   {
    "duration": 19,
    "start_time": "2021-08-26T08:37:22.026Z"
   },
   {
    "duration": 33,
    "start_time": "2021-08-26T08:37:22.047Z"
   },
   {
    "duration": 7,
    "start_time": "2021-08-26T08:37:22.083Z"
   },
   {
    "duration": 35,
    "start_time": "2021-08-26T08:37:22.092Z"
   },
   {
    "duration": 13,
    "start_time": "2021-08-26T08:37:22.131Z"
   },
   {
    "duration": 23,
    "start_time": "2021-08-26T08:37:22.147Z"
   },
   {
    "duration": 11,
    "start_time": "2021-08-26T08:37:22.172Z"
   },
   {
    "duration": 23,
    "start_time": "2021-08-26T08:37:22.184Z"
   },
   {
    "duration": 63,
    "start_time": "2021-08-26T08:37:22.209Z"
   },
   {
    "duration": 19,
    "start_time": "2021-08-26T08:37:22.274Z"
   },
   {
    "duration": 18,
    "start_time": "2021-08-26T08:37:22.294Z"
   },
   {
    "duration": 76,
    "start_time": "2021-08-26T08:37:22.315Z"
   },
   {
    "duration": 23,
    "start_time": "2021-08-26T08:37:22.392Z"
   },
   {
    "duration": 51,
    "start_time": "2021-08-26T08:37:22.417Z"
   },
   {
    "duration": 29,
    "start_time": "2021-08-26T08:37:22.470Z"
   },
   {
    "duration": 30,
    "start_time": "2021-08-26T08:37:22.500Z"
   },
   {
    "duration": 18,
    "start_time": "2021-08-26T08:37:22.532Z"
   },
   {
    "duration": 61,
    "start_time": "2021-08-26T08:37:22.551Z"
   },
   {
    "duration": 22,
    "start_time": "2021-08-26T08:37:22.614Z"
   },
   {
    "duration": 5,
    "start_time": "2021-08-26T08:37:22.638Z"
   },
   {
    "duration": 21,
    "start_time": "2021-08-26T08:37:22.644Z"
   },
   {
    "duration": 27,
    "start_time": "2021-08-26T08:37:22.666Z"
   },
   {
    "duration": 2,
    "start_time": "2021-08-26T08:37:22.696Z"
   },
   {
    "duration": 3,
    "start_time": "2021-08-26T08:38:02.937Z"
   },
   {
    "duration": 374,
    "start_time": "2021-08-26T08:38:02.942Z"
   },
   {
    "duration": 8,
    "start_time": "2021-08-26T08:38:03.318Z"
   },
   {
    "duration": 15,
    "start_time": "2021-08-26T08:38:03.328Z"
   },
   {
    "duration": 21,
    "start_time": "2021-08-26T08:38:03.345Z"
   },
   {
    "duration": 33,
    "start_time": "2021-08-26T08:38:03.367Z"
   },
   {
    "duration": 7,
    "start_time": "2021-08-26T08:38:03.402Z"
   },
   {
    "duration": 27,
    "start_time": "2021-08-26T08:38:03.411Z"
   },
   {
    "duration": 12,
    "start_time": "2021-08-26T08:38:03.441Z"
   },
   {
    "duration": 28,
    "start_time": "2021-08-26T08:38:03.456Z"
   },
   {
    "duration": 7,
    "start_time": "2021-08-26T08:38:03.492Z"
   },
   {
    "duration": 18,
    "start_time": "2021-08-26T08:38:03.500Z"
   },
   {
    "duration": 70,
    "start_time": "2021-08-26T08:38:03.519Z"
   },
   {
    "duration": 18,
    "start_time": "2021-08-26T08:38:03.591Z"
   },
   {
    "duration": 7,
    "start_time": "2021-08-26T08:38:03.611Z"
   },
   {
    "duration": 78,
    "start_time": "2021-08-26T08:38:03.620Z"
   },
   {
    "duration": 24,
    "start_time": "2021-08-26T08:38:03.699Z"
   },
   {
    "duration": 69,
    "start_time": "2021-08-26T08:38:03.724Z"
   },
   {
    "duration": 17,
    "start_time": "2021-08-26T08:38:03.795Z"
   },
   {
    "duration": 29,
    "start_time": "2021-08-26T08:38:03.813Z"
   },
   {
    "duration": 19,
    "start_time": "2021-08-26T08:38:03.844Z"
   },
   {
    "duration": 55,
    "start_time": "2021-08-26T08:38:03.864Z"
   },
   {
    "duration": 21,
    "start_time": "2021-08-26T08:38:03.921Z"
   },
   {
    "duration": 5,
    "start_time": "2021-08-26T08:38:03.944Z"
   },
   {
    "duration": 10,
    "start_time": "2021-08-26T08:38:03.950Z"
   },
   {
    "duration": 298,
    "start_time": "2021-08-26T08:38:03.961Z"
   },
   {
    "duration": 112,
    "start_time": "2021-08-26T08:38:04.148Z"
   },
   {
    "duration": 3,
    "start_time": "2021-08-26T08:38:12.937Z"
   },
   {
    "duration": 372,
    "start_time": "2021-08-26T08:38:12.942Z"
   },
   {
    "duration": 9,
    "start_time": "2021-08-26T08:38:13.317Z"
   },
   {
    "duration": 10,
    "start_time": "2021-08-26T08:38:13.328Z"
   },
   {
    "duration": 10,
    "start_time": "2021-08-26T08:38:13.340Z"
   },
   {
    "duration": 22,
    "start_time": "2021-08-26T08:38:13.352Z"
   },
   {
    "duration": 7,
    "start_time": "2021-08-26T08:38:13.376Z"
   },
   {
    "duration": 21,
    "start_time": "2021-08-26T08:38:13.385Z"
   },
   {
    "duration": 7,
    "start_time": "2021-08-26T08:38:13.409Z"
   },
   {
    "duration": 19,
    "start_time": "2021-08-26T08:38:13.418Z"
   },
   {
    "duration": 6,
    "start_time": "2021-08-26T08:38:13.438Z"
   },
   {
    "duration": 13,
    "start_time": "2021-08-26T08:38:13.446Z"
   },
   {
    "duration": 79,
    "start_time": "2021-08-26T08:38:13.461Z"
   },
   {
    "duration": 16,
    "start_time": "2021-08-26T08:38:13.542Z"
   },
   {
    "duration": 5,
    "start_time": "2021-08-26T08:38:13.559Z"
   },
   {
    "duration": 78,
    "start_time": "2021-08-26T08:38:13.565Z"
   },
   {
    "duration": 23,
    "start_time": "2021-08-26T08:38:13.645Z"
   },
   {
    "duration": 66,
    "start_time": "2021-08-26T08:38:13.670Z"
   },
   {
    "duration": 17,
    "start_time": "2021-08-26T08:38:13.738Z"
   },
   {
    "duration": 59,
    "start_time": "2021-08-26T08:38:13.757Z"
   },
   {
    "duration": 21,
    "start_time": "2021-08-26T08:38:13.818Z"
   },
   {
    "duration": 31,
    "start_time": "2021-08-26T08:38:13.841Z"
   },
   {
    "duration": 23,
    "start_time": "2021-08-26T08:38:13.892Z"
   },
   {
    "duration": 6,
    "start_time": "2021-08-26T08:38:13.917Z"
   },
   {
    "duration": 7,
    "start_time": "2021-08-26T08:38:13.924Z"
   },
   {
    "duration": 5,
    "start_time": "2021-08-26T08:38:13.933Z"
   },
   {
    "duration": 80,
    "start_time": "2021-08-26T08:39:10.602Z"
   },
   {
    "duration": 4,
    "start_time": "2021-08-26T08:44:27.637Z"
   },
   {
    "duration": 5,
    "start_time": "2021-08-26T08:55:33.732Z"
   },
   {
    "duration": 4,
    "start_time": "2021-08-26T08:55:40.899Z"
   },
   {
    "duration": 5,
    "start_time": "2021-08-26T08:55:42.076Z"
   },
   {
    "duration": 6734,
    "start_time": "2021-08-26T09:01:29.423Z"
   },
   {
    "duration": 255,
    "start_time": "2021-08-26T09:03:30.158Z"
   },
   {
    "duration": 6,
    "start_time": "2021-08-26T09:13:18.390Z"
   },
   {
    "duration": 3,
    "start_time": "2021-08-26T09:15:59.947Z"
   },
   {
    "duration": 733,
    "start_time": "2021-08-26T09:16:17.025Z"
   },
   {
    "duration": 3,
    "start_time": "2021-08-26T09:20:14.269Z"
   },
   {
    "duration": 366,
    "start_time": "2021-08-26T09:20:14.274Z"
   },
   {
    "duration": 8,
    "start_time": "2021-08-26T09:20:14.643Z"
   },
   {
    "duration": 13,
    "start_time": "2021-08-26T09:20:14.653Z"
   },
   {
    "duration": 10,
    "start_time": "2021-08-26T09:20:14.667Z"
   },
   {
    "duration": 20,
    "start_time": "2021-08-26T09:20:14.679Z"
   },
   {
    "duration": 6,
    "start_time": "2021-08-26T09:20:14.701Z"
   },
   {
    "duration": 17,
    "start_time": "2021-08-26T09:20:14.709Z"
   },
   {
    "duration": 7,
    "start_time": "2021-08-26T09:20:14.728Z"
   },
   {
    "duration": 19,
    "start_time": "2021-08-26T09:20:14.737Z"
   },
   {
    "duration": 7,
    "start_time": "2021-08-26T09:20:14.758Z"
   },
   {
    "duration": 31,
    "start_time": "2021-08-26T09:20:14.767Z"
   },
   {
    "duration": 61,
    "start_time": "2021-08-26T09:20:14.799Z"
   },
   {
    "duration": 33,
    "start_time": "2021-08-26T09:20:14.862Z"
   },
   {
    "duration": 6,
    "start_time": "2021-08-26T09:20:14.897Z"
   },
   {
    "duration": 63,
    "start_time": "2021-08-26T09:20:14.905Z"
   },
   {
    "duration": 40,
    "start_time": "2021-08-26T09:20:14.970Z"
   },
   {
    "duration": 51,
    "start_time": "2021-08-26T09:20:15.012Z"
   },
   {
    "duration": 32,
    "start_time": "2021-08-26T09:20:15.065Z"
   },
   {
    "duration": 27,
    "start_time": "2021-08-26T09:20:15.099Z"
   },
   {
    "duration": 18,
    "start_time": "2021-08-26T09:20:15.128Z"
   },
   {
    "duration": 49,
    "start_time": "2021-08-26T09:20:15.147Z"
   },
   {
    "duration": 22,
    "start_time": "2021-08-26T09:20:15.199Z"
   },
   {
    "duration": 6,
    "start_time": "2021-08-26T09:20:15.223Z"
   },
   {
    "duration": 1864,
    "start_time": "2021-08-26T09:20:17.189Z"
   },
   {
    "duration": 289,
    "start_time": "2021-08-26T09:22:10.844Z"
   },
   {
    "duration": 2775,
    "start_time": "2021-08-26T09:22:57.462Z"
   },
   {
    "duration": 2746,
    "start_time": "2021-08-26T09:23:19.084Z"
   },
   {
    "duration": 1808,
    "start_time": "2021-08-26T09:23:27.165Z"
   },
   {
    "duration": 1903,
    "start_time": "2021-08-26T11:58:51.620Z"
   },
   {
    "duration": 90,
    "start_time": "2021-08-26T12:15:05.531Z"
   },
   {
    "duration": 5,
    "start_time": "2021-08-26T12:15:13.979Z"
   },
   {
    "duration": 280,
    "start_time": "2021-08-26T12:15:20.386Z"
   },
   {
    "duration": 2,
    "start_time": "2021-08-26T12:15:40.463Z"
   },
   {
    "duration": 386,
    "start_time": "2021-08-26T12:15:40.467Z"
   },
   {
    "duration": 7,
    "start_time": "2021-08-26T12:15:40.855Z"
   },
   {
    "duration": 14,
    "start_time": "2021-08-26T12:15:40.864Z"
   },
   {
    "duration": 12,
    "start_time": "2021-08-26T12:15:40.880Z"
   },
   {
    "duration": 25,
    "start_time": "2021-08-26T12:15:40.894Z"
   },
   {
    "duration": 7,
    "start_time": "2021-08-26T12:15:40.922Z"
   },
   {
    "duration": 18,
    "start_time": "2021-08-26T12:15:40.933Z"
   },
   {
    "duration": 8,
    "start_time": "2021-08-26T12:15:40.953Z"
   },
   {
    "duration": 42,
    "start_time": "2021-08-26T12:15:40.963Z"
   },
   {
    "duration": 6,
    "start_time": "2021-08-26T12:15:41.006Z"
   },
   {
    "duration": 7,
    "start_time": "2021-08-26T12:15:41.014Z"
   },
   {
    "duration": 74,
    "start_time": "2021-08-26T12:15:41.023Z"
   },
   {
    "duration": 20,
    "start_time": "2021-08-26T12:15:41.099Z"
   },
   {
    "duration": 6,
    "start_time": "2021-08-26T12:15:41.121Z"
   },
   {
    "duration": 84,
    "start_time": "2021-08-26T12:15:41.129Z"
   },
   {
    "duration": 24,
    "start_time": "2021-08-26T12:15:41.215Z"
   },
   {
    "duration": 80,
    "start_time": "2021-08-26T12:15:41.241Z"
   },
   {
    "duration": 17,
    "start_time": "2021-08-26T12:15:41.323Z"
   },
   {
    "duration": 29,
    "start_time": "2021-08-26T12:15:41.341Z"
   },
   {
    "duration": 34,
    "start_time": "2021-08-26T12:15:41.372Z"
   },
   {
    "duration": 30,
    "start_time": "2021-08-26T12:15:41.408Z"
   },
   {
    "duration": 23,
    "start_time": "2021-08-26T12:15:41.441Z"
   },
   {
    "duration": 30,
    "start_time": "2021-08-26T12:15:41.466Z"
   },
   {
    "duration": 1825,
    "start_time": "2021-08-26T12:15:41.498Z"
   },
   {
    "duration": 6,
    "start_time": "2021-08-26T12:15:43.325Z"
   },
   {
    "duration": 299,
    "start_time": "2021-08-26T12:15:43.333Z"
   },
   {
    "duration": 256,
    "start_time": "2021-08-26T12:16:43.682Z"
   },
   {
    "duration": 10,
    "start_time": "2021-08-26T12:16:53.585Z"
   },
   {
    "duration": 2,
    "start_time": "2021-08-26T12:17:23.075Z"
   },
   {
    "duration": 3,
    "start_time": "2021-08-26T12:27:45.350Z"
   },
   {
    "duration": 398,
    "start_time": "2021-08-26T12:27:45.355Z"
   },
   {
    "duration": 9,
    "start_time": "2021-08-26T12:27:45.756Z"
   },
   {
    "duration": 9,
    "start_time": "2021-08-26T12:27:45.766Z"
   },
   {
    "duration": 11,
    "start_time": "2021-08-26T12:27:45.776Z"
   },
   {
    "duration": 18,
    "start_time": "2021-08-26T12:27:45.789Z"
   },
   {
    "duration": 6,
    "start_time": "2021-08-26T12:27:45.809Z"
   },
   {
    "duration": 16,
    "start_time": "2021-08-26T12:27:45.816Z"
   },
   {
    "duration": 6,
    "start_time": "2021-08-26T12:27:45.835Z"
   },
   {
    "duration": 19,
    "start_time": "2021-08-26T12:27:45.843Z"
   },
   {
    "duration": 28,
    "start_time": "2021-08-26T12:27:45.863Z"
   },
   {
    "duration": 6,
    "start_time": "2021-08-26T12:27:45.893Z"
   },
   {
    "duration": 72,
    "start_time": "2021-08-26T12:27:45.901Z"
   },
   {
    "duration": 33,
    "start_time": "2021-08-26T12:27:45.975Z"
   },
   {
    "duration": 5,
    "start_time": "2021-08-26T12:27:46.009Z"
   },
   {
    "duration": 86,
    "start_time": "2021-08-26T12:27:46.015Z"
   },
   {
    "duration": 24,
    "start_time": "2021-08-26T12:27:46.103Z"
   },
   {
    "duration": 74,
    "start_time": "2021-08-26T12:27:46.128Z"
   },
   {
    "duration": 15,
    "start_time": "2021-08-26T12:27:46.204Z"
   },
   {
    "duration": 30,
    "start_time": "2021-08-26T12:27:46.221Z"
   },
   {
    "duration": 41,
    "start_time": "2021-08-26T12:27:46.252Z"
   },
   {
    "duration": 30,
    "start_time": "2021-08-26T12:27:46.294Z"
   },
   {
    "duration": 22,
    "start_time": "2021-08-26T12:27:46.326Z"
   },
   {
    "duration": 5,
    "start_time": "2021-08-26T12:27:46.350Z"
   },
   {
    "duration": 2355,
    "start_time": "2021-08-26T12:27:46.357Z"
   },
   {
    "duration": 5,
    "start_time": "2021-08-26T12:27:48.713Z"
   },
   {
    "duration": 301,
    "start_time": "2021-08-26T12:27:48.721Z"
   },
   {
    "duration": 12,
    "start_time": "2021-08-26T12:27:49.024Z"
   },
   {
    "duration": 13,
    "start_time": "2021-08-26T12:32:47.556Z"
   },
   {
    "duration": 24,
    "start_time": "2021-08-26T12:32:59.939Z"
   },
   {
    "duration": 17,
    "start_time": "2021-08-26T12:33:58.639Z"
   },
   {
    "duration": 256,
    "start_time": "2021-08-26T12:35:22.001Z"
   },
   {
    "duration": 258,
    "start_time": "2021-08-26T12:35:30.289Z"
   },
   {
    "duration": 268,
    "start_time": "2021-08-26T12:35:39.159Z"
   },
   {
    "duration": 264,
    "start_time": "2021-08-26T12:36:28.673Z"
   },
   {
    "duration": 185,
    "start_time": "2021-08-26T12:37:08.416Z"
   },
   {
    "duration": 90,
    "start_time": "2021-08-26T12:39:35.542Z"
   },
   {
    "duration": 207,
    "start_time": "2021-08-26T12:39:41.619Z"
   },
   {
    "duration": 100,
    "start_time": "2021-08-26T12:40:37.555Z"
   },
   {
    "duration": 285,
    "start_time": "2021-08-26T12:44:31.703Z"
   },
   {
    "duration": 30,
    "start_time": "2021-08-26T12:45:23.083Z"
   },
   {
    "duration": 50,
    "start_time": "2021-08-26T12:45:45.104Z"
   },
   {
    "duration": 112,
    "start_time": "2021-08-26T12:46:25.794Z"
   },
   {
    "duration": 22,
    "start_time": "2021-08-26T12:47:59.330Z"
   },
   {
    "duration": 1842,
    "start_time": "2021-08-26T12:48:35.438Z"
   },
   {
    "duration": 1850,
    "start_time": "2021-08-26T12:48:45.648Z"
   },
   {
    "duration": 2147,
    "start_time": "2021-08-26T12:49:06.384Z"
   },
   {
    "duration": 278,
    "start_time": "2021-08-26T12:49:17.465Z"
   },
   {
    "duration": 280,
    "start_time": "2021-08-26T12:49:24.738Z"
   },
   {
    "duration": 221,
    "start_time": "2021-08-26T12:49:56.321Z"
   },
   {
    "duration": 252,
    "start_time": "2021-08-26T12:53:06.520Z"
   },
   {
    "duration": 3,
    "start_time": "2021-08-26T12:56:25.203Z"
   },
   {
    "duration": 383,
    "start_time": "2021-08-26T12:56:25.207Z"
   },
   {
    "duration": 7,
    "start_time": "2021-08-26T12:56:25.592Z"
   },
   {
    "duration": 17,
    "start_time": "2021-08-26T12:56:25.601Z"
   },
   {
    "duration": 13,
    "start_time": "2021-08-26T12:56:25.619Z"
   },
   {
    "duration": 23,
    "start_time": "2021-08-26T12:56:25.633Z"
   },
   {
    "duration": 6,
    "start_time": "2021-08-26T12:56:25.659Z"
   },
   {
    "duration": 28,
    "start_time": "2021-08-26T12:56:25.667Z"
   },
   {
    "duration": 6,
    "start_time": "2021-08-26T12:56:25.697Z"
   },
   {
    "duration": 20,
    "start_time": "2021-08-26T12:56:25.705Z"
   },
   {
    "duration": 6,
    "start_time": "2021-08-26T12:56:25.726Z"
   },
   {
    "duration": 11,
    "start_time": "2021-08-26T12:56:25.733Z"
   },
   {
    "duration": 80,
    "start_time": "2021-08-26T12:56:25.746Z"
   },
   {
    "duration": 18,
    "start_time": "2021-08-26T12:56:25.828Z"
   },
   {
    "duration": 5,
    "start_time": "2021-08-26T12:56:25.849Z"
   },
   {
    "duration": 85,
    "start_time": "2021-08-26T12:56:25.856Z"
   },
   {
    "duration": 23,
    "start_time": "2021-08-26T12:56:25.944Z"
   },
   {
    "duration": 61,
    "start_time": "2021-08-26T12:56:25.969Z"
   },
   {
    "duration": 17,
    "start_time": "2021-08-26T12:56:26.032Z"
   },
   {
    "duration": 42,
    "start_time": "2021-08-26T12:56:26.050Z"
   },
   {
    "duration": 18,
    "start_time": "2021-08-26T12:56:26.094Z"
   },
   {
    "duration": 25,
    "start_time": "2021-08-26T12:56:26.114Z"
   },
   {
    "duration": 21,
    "start_time": "2021-08-26T12:56:26.140Z"
   },
   {
    "duration": 30,
    "start_time": "2021-08-26T12:56:26.163Z"
   },
   {
    "duration": 1860,
    "start_time": "2021-08-26T12:56:26.194Z"
   },
   {
    "duration": 4,
    "start_time": "2021-08-26T12:56:28.056Z"
   },
   {
    "duration": 292,
    "start_time": "2021-08-26T12:56:28.062Z"
   },
   {
    "duration": 10,
    "start_time": "2021-08-26T12:56:28.356Z"
   },
   {
    "duration": 207,
    "start_time": "2021-08-26T12:56:28.367Z"
   },
   {
    "duration": 245,
    "start_time": "2021-08-26T12:56:28.576Z"
   },
   {
    "duration": 247,
    "start_time": "2021-08-26T12:57:21.893Z"
   },
   {
    "duration": 90,
    "start_time": "2021-08-26T12:59:21.455Z"
   },
   {
    "duration": 253,
    "start_time": "2021-08-26T12:59:35.241Z"
   },
   {
    "duration": 14,
    "start_time": "2021-08-26T13:01:06.486Z"
   },
   {
    "duration": 16,
    "start_time": "2021-08-26T13:01:24.968Z"
   },
   {
    "duration": 252,
    "start_time": "2021-08-26T13:02:26.023Z"
   },
   {
    "duration": 254,
    "start_time": "2021-08-26T13:04:44.690Z"
   },
   {
    "duration": 18,
    "start_time": "2021-08-26T13:08:55.663Z"
   },
   {
    "duration": 20,
    "start_time": "2021-08-26T13:09:05.153Z"
   },
   {
    "duration": 267,
    "start_time": "2021-08-26T13:11:53.809Z"
   },
   {
    "duration": 261,
    "start_time": "2021-08-26T13:11:58.315Z"
   },
   {
    "duration": 251,
    "start_time": "2021-08-26T13:13:06.136Z"
   },
   {
    "duration": 249,
    "start_time": "2021-08-26T13:14:16.245Z"
   },
   {
    "duration": 16,
    "start_time": "2021-08-26T13:14:23.591Z"
   },
   {
    "duration": 1075,
    "start_time": "2021-08-26T13:14:39.463Z"
   },
   {
    "duration": 84,
    "start_time": "2021-08-26T13:14:51.244Z"
   },
   {
    "duration": 29,
    "start_time": "2021-08-26T13:14:58.083Z"
   },
   {
    "duration": 38,
    "start_time": "2021-08-26T13:17:26.697Z"
   },
   {
    "duration": 37,
    "start_time": "2021-08-26T13:19:20.376Z"
   },
   {
    "duration": 3,
    "start_time": "2021-08-26T13:22:18.718Z"
   },
   {
    "duration": 369,
    "start_time": "2021-08-26T13:22:18.728Z"
   },
   {
    "duration": 8,
    "start_time": "2021-08-26T13:22:19.099Z"
   },
   {
    "duration": 25,
    "start_time": "2021-08-26T13:22:19.109Z"
   },
   {
    "duration": 15,
    "start_time": "2021-08-26T13:22:19.136Z"
   },
   {
    "duration": 29,
    "start_time": "2021-08-26T13:22:19.152Z"
   },
   {
    "duration": 6,
    "start_time": "2021-08-26T13:22:19.182Z"
   },
   {
    "duration": 21,
    "start_time": "2021-08-26T13:22:19.190Z"
   },
   {
    "duration": 16,
    "start_time": "2021-08-26T13:22:19.212Z"
   },
   {
    "duration": 17,
    "start_time": "2021-08-26T13:22:19.230Z"
   },
   {
    "duration": 5,
    "start_time": "2021-08-26T13:22:19.249Z"
   },
   {
    "duration": 12,
    "start_time": "2021-08-26T13:22:19.256Z"
   },
   {
    "duration": 57,
    "start_time": "2021-08-26T13:22:19.269Z"
   },
   {
    "duration": 16,
    "start_time": "2021-08-26T13:22:19.328Z"
   },
   {
    "duration": 5,
    "start_time": "2021-08-26T13:22:19.346Z"
   },
   {
    "duration": 78,
    "start_time": "2021-08-26T13:22:19.352Z"
   },
   {
    "duration": 24,
    "start_time": "2021-08-26T13:22:19.431Z"
   },
   {
    "duration": 59,
    "start_time": "2021-08-26T13:22:19.456Z"
   },
   {
    "duration": 16,
    "start_time": "2021-08-26T13:22:19.517Z"
   },
   {
    "duration": 29,
    "start_time": "2021-08-26T13:22:19.535Z"
   },
   {
    "duration": 35,
    "start_time": "2021-08-26T13:22:19.565Z"
   },
   {
    "duration": 29,
    "start_time": "2021-08-26T13:22:19.602Z"
   },
   {
    "duration": 21,
    "start_time": "2021-08-26T13:22:19.632Z"
   },
   {
    "duration": 6,
    "start_time": "2021-08-26T13:22:19.654Z"
   },
   {
    "duration": 1778,
    "start_time": "2021-08-26T13:22:19.691Z"
   },
   {
    "duration": 5,
    "start_time": "2021-08-26T13:22:21.471Z"
   },
   {
    "duration": 291,
    "start_time": "2021-08-26T13:22:21.477Z"
   },
   {
    "duration": 10,
    "start_time": "2021-08-26T13:22:21.771Z"
   },
   {
    "duration": 46,
    "start_time": "2021-08-26T13:22:21.792Z"
   },
   {
    "duration": 240,
    "start_time": "2021-08-26T13:22:21.839Z"
   },
   {
    "duration": 37,
    "start_time": "2021-08-26T13:22:49.806Z"
   },
   {
    "duration": 6120,
    "start_time": "2021-08-26T13:24:19.465Z"
   },
   {
    "duration": 1228,
    "start_time": "2021-08-26T13:24:51.880Z"
   },
   {
    "duration": 4529,
    "start_time": "2021-08-26T13:25:05.267Z"
   },
   {
    "duration": 1053,
    "start_time": "2021-08-26T13:25:19.664Z"
   },
   {
    "duration": 92,
    "start_time": "2021-08-26T13:29:18.532Z"
   },
   {
    "duration": 11454,
    "start_time": "2021-08-26T13:30:08.595Z"
   },
   {
    "duration": 236,
    "start_time": "2021-08-26T13:30:34.456Z"
   },
   {
    "duration": 6801,
    "start_time": "2021-08-26T13:30:46.719Z"
   },
   {
    "duration": 6083,
    "start_time": "2021-08-26T13:34:43.817Z"
   },
   {
    "duration": 259,
    "start_time": "2021-08-26T13:35:05.142Z"
   },
   {
    "duration": 19,
    "start_time": "2021-08-26T13:38:24.285Z"
   },
   {
    "duration": 19,
    "start_time": "2021-08-26T13:40:18.439Z"
   },
   {
    "duration": 18,
    "start_time": "2021-08-26T13:42:51.410Z"
   },
   {
    "duration": 251,
    "start_time": "2021-08-26T13:43:33.903Z"
   },
   {
    "duration": 984,
    "start_time": "2021-08-26T13:43:53.525Z"
   },
   {
    "duration": 26,
    "start_time": "2021-08-26T13:44:28.273Z"
   },
   {
    "duration": 3,
    "start_time": "2021-08-26T13:44:47.813Z"
   },
   {
    "duration": 397,
    "start_time": "2021-08-26T13:44:47.818Z"
   },
   {
    "duration": 8,
    "start_time": "2021-08-26T13:44:48.217Z"
   },
   {
    "duration": 12,
    "start_time": "2021-08-26T13:44:48.226Z"
   },
   {
    "duration": 18,
    "start_time": "2021-08-26T13:44:48.240Z"
   },
   {
    "duration": 28,
    "start_time": "2021-08-26T13:44:48.260Z"
   },
   {
    "duration": 7,
    "start_time": "2021-08-26T13:44:48.290Z"
   },
   {
    "duration": 22,
    "start_time": "2021-08-26T13:44:48.298Z"
   },
   {
    "duration": 7,
    "start_time": "2021-08-26T13:44:48.322Z"
   },
   {
    "duration": 21,
    "start_time": "2021-08-26T13:44:48.331Z"
   },
   {
    "duration": 6,
    "start_time": "2021-08-26T13:44:48.353Z"
   },
   {
    "duration": 31,
    "start_time": "2021-08-26T13:44:48.360Z"
   },
   {
    "duration": 57,
    "start_time": "2021-08-26T13:44:48.393Z"
   },
   {
    "duration": 17,
    "start_time": "2021-08-26T13:44:48.452Z"
   },
   {
    "duration": 21,
    "start_time": "2021-08-26T13:44:48.471Z"
   },
   {
    "duration": 61,
    "start_time": "2021-08-26T13:44:48.494Z"
   },
   {
    "duration": 40,
    "start_time": "2021-08-26T13:44:48.557Z"
   },
   {
    "duration": 51,
    "start_time": "2021-08-26T13:44:48.598Z"
   },
   {
    "duration": 16,
    "start_time": "2021-08-26T13:44:48.651Z"
   },
   {
    "duration": 45,
    "start_time": "2021-08-26T13:44:48.668Z"
   },
   {
    "duration": 19,
    "start_time": "2021-08-26T13:44:48.714Z"
   },
   {
    "duration": 28,
    "start_time": "2021-08-26T13:44:48.735Z"
   },
   {
    "duration": 46,
    "start_time": "2021-08-26T13:44:48.764Z"
   },
   {
    "duration": 6,
    "start_time": "2021-08-26T13:44:48.812Z"
   },
   {
    "duration": 2158,
    "start_time": "2021-08-26T13:44:48.819Z"
   },
   {
    "duration": 14,
    "start_time": "2021-08-26T13:44:50.979Z"
   },
   {
    "duration": 296,
    "start_time": "2021-08-26T13:44:50.996Z"
   },
   {
    "duration": 11,
    "start_time": "2021-08-26T13:44:51.294Z"
   },
   {
    "duration": 23,
    "start_time": "2021-08-26T13:44:51.307Z"
   },
   {
    "duration": 25,
    "start_time": "2021-08-26T13:44:51.332Z"
   },
   {
    "duration": 23,
    "start_time": "2021-08-26T13:45:51.746Z"
   },
   {
    "duration": 21,
    "start_time": "2021-08-26T13:46:07.019Z"
   },
   {
    "duration": 19,
    "start_time": "2021-08-26T13:47:32.287Z"
   },
   {
    "duration": 22,
    "start_time": "2021-08-26T13:47:34.672Z"
   },
   {
    "duration": 271,
    "start_time": "2021-08-26T13:51:50.782Z"
   },
   {
    "duration": 265,
    "start_time": "2021-08-26T13:54:24.494Z"
   },
   {
    "duration": 257,
    "start_time": "2021-08-26T13:54:53.969Z"
   },
   {
    "duration": 275,
    "start_time": "2021-08-26T13:56:29.434Z"
   },
   {
    "duration": 3,
    "start_time": "2021-08-26T13:56:38.768Z"
   },
   {
    "duration": 393,
    "start_time": "2021-08-26T13:56:38.773Z"
   },
   {
    "duration": 8,
    "start_time": "2021-08-26T13:56:39.169Z"
   },
   {
    "duration": 32,
    "start_time": "2021-08-26T13:56:39.179Z"
   },
   {
    "duration": 17,
    "start_time": "2021-08-26T13:56:39.213Z"
   },
   {
    "duration": 30,
    "start_time": "2021-08-26T13:56:39.232Z"
   },
   {
    "duration": 7,
    "start_time": "2021-08-26T13:56:39.263Z"
   },
   {
    "duration": 22,
    "start_time": "2021-08-26T13:56:39.272Z"
   },
   {
    "duration": 13,
    "start_time": "2021-08-26T13:56:39.297Z"
   },
   {
    "duration": 29,
    "start_time": "2021-08-26T13:56:39.312Z"
   },
   {
    "duration": 7,
    "start_time": "2021-08-26T13:56:39.343Z"
   },
   {
    "duration": 17,
    "start_time": "2021-08-26T13:56:39.351Z"
   },
   {
    "duration": 74,
    "start_time": "2021-08-26T13:56:39.369Z"
   },
   {
    "duration": 19,
    "start_time": "2021-08-26T13:56:39.445Z"
   },
   {
    "duration": 5,
    "start_time": "2021-08-26T13:56:39.466Z"
   },
   {
    "duration": 83,
    "start_time": "2021-08-26T13:56:39.473Z"
   },
   {
    "duration": 34,
    "start_time": "2021-08-26T13:56:39.558Z"
   },
   {
    "duration": 55,
    "start_time": "2021-08-26T13:56:39.594Z"
   },
   {
    "duration": 17,
    "start_time": "2021-08-26T13:56:39.650Z"
   },
   {
    "duration": 52,
    "start_time": "2021-08-26T13:56:39.668Z"
   },
   {
    "duration": 21,
    "start_time": "2021-08-26T13:56:39.722Z"
   },
   {
    "duration": 57,
    "start_time": "2021-08-26T13:56:39.745Z"
   },
   {
    "duration": 24,
    "start_time": "2021-08-26T13:56:39.804Z"
   },
   {
    "duration": 6,
    "start_time": "2021-08-26T13:56:39.830Z"
   },
   {
    "duration": 1868,
    "start_time": "2021-08-26T13:56:39.837Z"
   },
   {
    "duration": 5,
    "start_time": "2021-08-26T13:56:41.706Z"
   },
   {
    "duration": 296,
    "start_time": "2021-08-26T13:56:41.715Z"
   },
   {
    "duration": 11,
    "start_time": "2021-08-26T13:56:42.013Z"
   },
   {
    "duration": 22,
    "start_time": "2021-08-26T13:56:42.025Z"
   },
   {
    "duration": 19,
    "start_time": "2021-08-26T13:56:42.048Z"
   },
   {
    "duration": 269,
    "start_time": "2021-08-26T13:56:42.092Z"
   },
   {
    "duration": 12,
    "start_time": "2021-08-26T13:56:52.048Z"
   },
   {
    "duration": 959,
    "start_time": "2021-08-26T13:57:24.785Z"
   },
   {
    "duration": 16,
    "start_time": "2021-08-26T13:59:00.612Z"
   },
   {
    "duration": 19,
    "start_time": "2021-08-26T13:59:17.729Z"
   },
   {
    "duration": 18,
    "start_time": "2021-08-26T13:59:27.484Z"
   },
   {
    "duration": 20,
    "start_time": "2021-08-26T13:59:33.204Z"
   },
   {
    "duration": 1231,
    "start_time": "2021-08-26T13:59:41.183Z"
   },
   {
    "duration": 18,
    "start_time": "2021-08-26T15:09:53.535Z"
   },
   {
    "duration": 20,
    "start_time": "2021-08-26T15:10:18.080Z"
   },
   {
    "duration": 994,
    "start_time": "2021-08-26T15:11:17.843Z"
   },
   {
    "duration": 1007,
    "start_time": "2021-08-26T15:11:26.857Z"
   },
   {
    "duration": 1362,
    "start_time": "2021-08-26T15:11:41.596Z"
   },
   {
    "duration": 1103,
    "start_time": "2021-08-26T15:11:51.163Z"
   },
   {
    "duration": 1200,
    "start_time": "2021-08-26T15:22:18.732Z"
   },
   {
    "duration": 1000,
    "start_time": "2021-08-26T15:35:06.551Z"
   },
   {
    "duration": 1361,
    "start_time": "2021-08-27T08:24:45.762Z"
   },
   {
    "duration": 556,
    "start_time": "2021-08-27T08:24:47.126Z"
   },
   {
    "duration": 701,
    "start_time": "2021-08-27T08:24:47.686Z"
   },
   {
    "duration": 16,
    "start_time": "2021-08-27T08:24:48.390Z"
   },
   {
    "duration": 13,
    "start_time": "2021-08-27T08:24:48.409Z"
   },
   {
    "duration": 58,
    "start_time": "2021-08-27T08:24:48.425Z"
   },
   {
    "duration": 10,
    "start_time": "2021-08-27T08:24:48.487Z"
   },
   {
    "duration": 26,
    "start_time": "2021-08-27T08:24:48.501Z"
   },
   {
    "duration": 41,
    "start_time": "2021-08-27T08:24:48.530Z"
   },
   {
    "duration": 37,
    "start_time": "2021-08-27T08:24:48.576Z"
   },
   {
    "duration": 10,
    "start_time": "2021-08-27T08:24:48.616Z"
   },
   {
    "duration": 33,
    "start_time": "2021-08-27T08:24:48.629Z"
   },
   {
    "duration": 106,
    "start_time": "2021-08-27T08:24:48.665Z"
   },
   {
    "duration": 25,
    "start_time": "2021-08-27T08:24:48.773Z"
   },
   {
    "duration": 6,
    "start_time": "2021-08-27T08:24:48.801Z"
   },
   {
    "duration": 132,
    "start_time": "2021-08-27T08:24:48.810Z"
   },
   {
    "duration": 48,
    "start_time": "2021-08-27T08:24:48.945Z"
   },
   {
    "duration": 105,
    "start_time": "2021-08-27T08:24:48.996Z"
   },
   {
    "duration": 24,
    "start_time": "2021-08-27T08:24:49.103Z"
   },
   {
    "duration": 69,
    "start_time": "2021-08-27T08:24:49.129Z"
   },
   {
    "duration": 28,
    "start_time": "2021-08-27T08:24:49.200Z"
   },
   {
    "duration": 72,
    "start_time": "2021-08-27T08:24:49.231Z"
   },
   {
    "duration": 38,
    "start_time": "2021-08-27T08:24:49.308Z"
   },
   {
    "duration": 11,
    "start_time": "2021-08-27T08:24:49.367Z"
   },
   {
    "duration": 3447,
    "start_time": "2021-08-27T08:24:49.381Z"
   },
   {
    "duration": 10,
    "start_time": "2021-08-27T08:24:52.831Z"
   },
   {
    "duration": 740,
    "start_time": "2021-08-27T08:24:52.844Z"
   },
   {
    "duration": 18,
    "start_time": "2021-08-27T08:24:53.587Z"
   },
   {
    "duration": 28,
    "start_time": "2021-08-27T08:24:53.607Z"
   },
   {
    "duration": 58,
    "start_time": "2021-08-27T08:24:53.638Z"
   },
   {
    "duration": 2418,
    "start_time": "2021-08-27T08:24:53.699Z"
   },
   {
    "duration": 1949,
    "start_time": "2021-08-27T08:24:56.119Z"
   },
   {
    "duration": 429,
    "start_time": "2021-08-27T08:24:58.072Z"
   },
   {
    "duration": 328,
    "start_time": "2021-08-27T09:02:51.321Z"
   },
   {
    "duration": 17,
    "start_time": "2021-08-27T09:04:08.565Z"
   },
   {
    "duration": 24,
    "start_time": "2021-08-27T09:13:02.298Z"
   },
   {
    "duration": 120,
    "start_time": "2021-08-27T09:18:37.384Z"
   },
   {
    "duration": 3090,
    "start_time": "2021-08-27T09:29:08.965Z"
   },
   {
    "duration": 292,
    "start_time": "2021-08-27T09:37:27.504Z"
   },
   {
    "duration": 17,
    "start_time": "2021-08-27T09:40:33.634Z"
   },
   {
    "duration": 110,
    "start_time": "2021-08-27T09:41:16.054Z"
   },
   {
    "duration": 21,
    "start_time": "2021-08-27T09:44:02.312Z"
   },
   {
    "duration": 20,
    "start_time": "2021-08-27T09:44:09.504Z"
   },
   {
    "duration": 22,
    "start_time": "2021-08-27T09:44:27.696Z"
   },
   {
    "duration": 21,
    "start_time": "2021-08-27T09:44:36.225Z"
   },
   {
    "duration": 4,
    "start_time": "2021-08-27T09:44:56.264Z"
   },
   {
    "duration": 565,
    "start_time": "2021-08-27T09:44:56.271Z"
   },
   {
    "duration": 13,
    "start_time": "2021-08-27T09:44:56.839Z"
   },
   {
    "duration": 13,
    "start_time": "2021-08-27T09:44:56.854Z"
   },
   {
    "duration": 24,
    "start_time": "2021-08-27T09:44:56.869Z"
   },
   {
    "duration": 37,
    "start_time": "2021-08-27T09:44:56.895Z"
   },
   {
    "duration": 9,
    "start_time": "2021-08-27T09:44:56.934Z"
   },
   {
    "duration": 19,
    "start_time": "2021-08-27T09:44:56.962Z"
   },
   {
    "duration": 13,
    "start_time": "2021-08-27T09:44:56.985Z"
   },
   {
    "duration": 30,
    "start_time": "2021-08-27T09:44:57.001Z"
   },
   {
    "duration": 7,
    "start_time": "2021-08-27T09:44:57.033Z"
   },
   {
    "duration": 8,
    "start_time": "2021-08-27T09:44:57.063Z"
   },
   {
    "duration": 106,
    "start_time": "2021-08-27T09:44:57.073Z"
   },
   {
    "duration": 24,
    "start_time": "2021-08-27T09:44:57.182Z"
   },
   {
    "duration": 13,
    "start_time": "2021-08-27T09:44:57.209Z"
   },
   {
    "duration": 120,
    "start_time": "2021-08-27T09:44:57.225Z"
   },
   {
    "duration": 40,
    "start_time": "2021-08-27T09:44:57.347Z"
   },
   {
    "duration": 101,
    "start_time": "2021-08-27T09:44:57.390Z"
   },
   {
    "duration": 24,
    "start_time": "2021-08-27T09:44:57.494Z"
   },
   {
    "duration": 65,
    "start_time": "2021-08-27T09:44:57.520Z"
   },
   {
    "duration": 27,
    "start_time": "2021-08-27T09:44:57.587Z"
   },
   {
    "duration": 68,
    "start_time": "2021-08-27T09:44:57.616Z"
   },
   {
    "duration": 34,
    "start_time": "2021-08-27T09:44:57.687Z"
   },
   {
    "duration": 9,
    "start_time": "2021-08-27T09:44:57.724Z"
   },
   {
    "duration": 3101,
    "start_time": "2021-08-27T09:44:57.735Z"
   },
   {
    "duration": 8,
    "start_time": "2021-08-27T09:45:00.839Z"
   },
   {
    "duration": 643,
    "start_time": "2021-08-27T09:45:00.852Z"
   },
   {
    "duration": 17,
    "start_time": "2021-08-27T09:45:01.499Z"
   },
   {
    "duration": 55,
    "start_time": "2021-08-27T09:45:01.519Z"
   },
   {
    "duration": 56,
    "start_time": "2021-08-27T09:45:01.577Z"
   },
   {
    "duration": 1591,
    "start_time": "2021-08-27T09:45:01.636Z"
   },
   {
    "duration": 1787,
    "start_time": "2021-08-27T09:45:03.230Z"
   },
   {
    "duration": 17,
    "start_time": "2021-08-27T09:45:05.020Z"
   },
   {
    "duration": 45,
    "start_time": "2021-08-27T09:45:05.040Z"
   },
   {
    "duration": 3175,
    "start_time": "2021-08-27T09:45:05.088Z"
   },
   {
    "duration": 16,
    "start_time": "2021-08-27T09:45:08.265Z"
   },
   {
    "duration": 29,
    "start_time": "2021-08-27T09:45:08.283Z"
   },
   {
    "duration": 76,
    "start_time": "2021-08-27T09:45:56.632Z"
   },
   {
    "duration": 4,
    "start_time": "2021-08-27T10:00:44.725Z"
   },
   {
    "duration": 534,
    "start_time": "2021-08-27T10:00:44.731Z"
   },
   {
    "duration": 11,
    "start_time": "2021-08-27T10:00:45.268Z"
   },
   {
    "duration": 11,
    "start_time": "2021-08-27T10:00:45.282Z"
   },
   {
    "duration": 12,
    "start_time": "2021-08-27T10:00:45.295Z"
   },
   {
    "duration": 60,
    "start_time": "2021-08-27T10:00:45.309Z"
   },
   {
    "duration": 9,
    "start_time": "2021-08-27T10:00:45.373Z"
   },
   {
    "duration": 20,
    "start_time": "2021-08-27T10:00:45.385Z"
   },
   {
    "duration": 12,
    "start_time": "2021-08-27T10:00:45.408Z"
   },
   {
    "duration": 55,
    "start_time": "2021-08-27T10:00:45.422Z"
   },
   {
    "duration": 9,
    "start_time": "2021-08-27T10:00:45.479Z"
   },
   {
    "duration": 12,
    "start_time": "2021-08-27T10:00:45.490Z"
   },
   {
    "duration": 112,
    "start_time": "2021-08-27T10:00:45.504Z"
   },
   {
    "duration": 22,
    "start_time": "2021-08-27T10:00:45.618Z"
   },
   {
    "duration": 23,
    "start_time": "2021-08-27T10:00:45.643Z"
   },
   {
    "duration": 102,
    "start_time": "2021-08-27T10:00:45.668Z"
   },
   {
    "duration": 34,
    "start_time": "2021-08-27T10:00:45.772Z"
   },
   {
    "duration": 94,
    "start_time": "2021-08-27T10:00:45.808Z"
   },
   {
    "duration": 24,
    "start_time": "2021-08-27T10:00:45.906Z"
   },
   {
    "duration": 61,
    "start_time": "2021-08-27T10:00:45.932Z"
   },
   {
    "duration": 28,
    "start_time": "2021-08-27T10:00:45.995Z"
   },
   {
    "duration": 71,
    "start_time": "2021-08-27T10:00:46.025Z"
   },
   {
    "duration": 35,
    "start_time": "2021-08-27T10:00:46.099Z"
   },
   {
    "duration": 32,
    "start_time": "2021-08-27T10:00:46.137Z"
   },
   {
    "duration": 3123,
    "start_time": "2021-08-27T10:00:46.172Z"
   },
   {
    "duration": 9,
    "start_time": "2021-08-27T10:00:49.299Z"
   },
   {
    "duration": 603,
    "start_time": "2021-08-27T10:00:49.311Z"
   },
   {
    "duration": 15,
    "start_time": "2021-08-27T10:00:49.917Z"
   },
   {
    "duration": 48,
    "start_time": "2021-08-27T10:00:49.934Z"
   },
   {
    "duration": 34,
    "start_time": "2021-08-27T10:00:49.984Z"
   },
   {
    "duration": 1588,
    "start_time": "2021-08-27T10:00:50.020Z"
   },
   {
    "duration": 1658,
    "start_time": "2021-08-27T10:00:51.610Z"
   },
   {
    "duration": 17,
    "start_time": "2021-08-27T10:00:53.270Z"
   },
   {
    "duration": 23,
    "start_time": "2021-08-27T10:00:53.289Z"
   },
   {
    "duration": 3125,
    "start_time": "2021-08-27T10:00:53.314Z"
   },
   {
    "duration": 29,
    "start_time": "2021-08-27T10:00:56.442Z"
   },
   {
    "duration": 4,
    "start_time": "2021-08-27T10:06:10.033Z"
   },
   {
    "duration": 525,
    "start_time": "2021-08-27T10:06:10.040Z"
   },
   {
    "duration": 12,
    "start_time": "2021-08-27T10:06:10.567Z"
   },
   {
    "duration": 10,
    "start_time": "2021-08-27T10:06:10.582Z"
   },
   {
    "duration": 16,
    "start_time": "2021-08-27T10:06:10.594Z"
   },
   {
    "duration": 55,
    "start_time": "2021-08-27T10:06:10.613Z"
   },
   {
    "duration": 10,
    "start_time": "2021-08-27T10:06:10.670Z"
   },
   {
    "duration": 26,
    "start_time": "2021-08-27T10:06:10.682Z"
   },
   {
    "duration": 11,
    "start_time": "2021-08-27T10:06:10.713Z"
   },
   {
    "duration": 51,
    "start_time": "2021-08-27T10:06:10.726Z"
   },
   {
    "duration": 12,
    "start_time": "2021-08-27T10:06:10.780Z"
   },
   {
    "duration": 13,
    "start_time": "2021-08-27T10:06:10.795Z"
   },
   {
    "duration": 169,
    "start_time": "2021-08-27T10:06:10.812Z"
   },
   {
    "duration": 31,
    "start_time": "2021-08-27T10:06:10.984Z"
   },
   {
    "duration": 9,
    "start_time": "2021-08-27T10:06:11.019Z"
   },
   {
    "duration": 209,
    "start_time": "2021-08-27T10:06:11.031Z"
   },
   {
    "duration": 43,
    "start_time": "2021-08-27T10:06:11.242Z"
   },
   {
    "duration": 96,
    "start_time": "2021-08-27T10:06:11.288Z"
   },
   {
    "duration": 23,
    "start_time": "2021-08-27T10:06:11.387Z"
   },
   {
    "duration": 67,
    "start_time": "2021-08-27T10:06:11.413Z"
   },
   {
    "duration": 26,
    "start_time": "2021-08-27T10:06:11.482Z"
   },
   {
    "duration": 83,
    "start_time": "2021-08-27T10:06:11.511Z"
   },
   {
    "duration": 66,
    "start_time": "2021-08-27T10:06:11.597Z"
   },
   {
    "duration": 12,
    "start_time": "2021-08-27T10:06:11.666Z"
   },
   {
    "duration": 3284,
    "start_time": "2021-08-27T10:06:11.681Z"
   },
   {
    "duration": 7,
    "start_time": "2021-08-27T10:06:14.967Z"
   },
   {
    "duration": 601,
    "start_time": "2021-08-27T10:06:14.979Z"
   },
   {
    "duration": 15,
    "start_time": "2021-08-27T10:06:15.582Z"
   },
   {
    "duration": 33,
    "start_time": "2021-08-27T10:06:15.599Z"
   },
   {
    "duration": 53,
    "start_time": "2021-08-27T10:06:15.635Z"
   },
   {
    "duration": 1616,
    "start_time": "2021-08-27T10:06:15.691Z"
   },
   {
    "duration": 1658,
    "start_time": "2021-08-27T10:06:17.309Z"
   },
   {
    "duration": 16,
    "start_time": "2021-08-27T10:06:18.969Z"
   },
   {
    "duration": 32,
    "start_time": "2021-08-27T10:06:18.987Z"
   },
   {
    "duration": 3122,
    "start_time": "2021-08-27T10:06:19.022Z"
   },
   {
    "duration": 16,
    "start_time": "2021-08-27T10:06:22.161Z"
   },
   {
    "duration": 58,
    "start_time": "2021-08-27T10:06:22.179Z"
   },
   {
    "duration": 93,
    "start_time": "2021-08-28T07:04:47.689Z"
   },
   {
    "duration": 1332,
    "start_time": "2021-08-28T07:07:32.578Z"
   },
   {
    "duration": 516,
    "start_time": "2021-08-28T07:07:33.913Z"
   },
   {
    "duration": 682,
    "start_time": "2021-08-28T07:07:34.434Z"
   },
   {
    "duration": 12,
    "start_time": "2021-08-28T07:07:35.120Z"
   },
   {
    "duration": 28,
    "start_time": "2021-08-28T07:07:35.134Z"
   },
   {
    "duration": 44,
    "start_time": "2021-08-28T07:07:35.165Z"
   },
   {
    "duration": 10,
    "start_time": "2021-08-28T07:07:35.212Z"
   },
   {
    "duration": 44,
    "start_time": "2021-08-28T07:07:35.224Z"
   },
   {
    "duration": 14,
    "start_time": "2021-08-28T07:07:35.272Z"
   },
   {
    "duration": 25,
    "start_time": "2021-08-28T07:07:35.289Z"
   },
   {
    "duration": 37,
    "start_time": "2021-08-28T07:07:35.317Z"
   },
   {
    "duration": 11,
    "start_time": "2021-08-28T07:07:35.357Z"
   },
   {
    "duration": 113,
    "start_time": "2021-08-28T07:07:35.371Z"
   },
   {
    "duration": 27,
    "start_time": "2021-08-28T07:07:35.486Z"
   },
   {
    "duration": 7,
    "start_time": "2021-08-28T07:07:35.516Z"
   },
   {
    "duration": 135,
    "start_time": "2021-08-28T07:07:35.526Z"
   },
   {
    "duration": 35,
    "start_time": "2021-08-28T07:07:35.664Z"
   },
   {
    "duration": 106,
    "start_time": "2021-08-28T07:07:35.702Z"
   },
   {
    "duration": 23,
    "start_time": "2021-08-28T07:07:35.811Z"
   },
   {
    "duration": 54,
    "start_time": "2021-08-28T07:07:35.836Z"
   },
   {
    "duration": 27,
    "start_time": "2021-08-28T07:07:35.893Z"
   },
   {
    "duration": 73,
    "start_time": "2021-08-28T07:07:35.923Z"
   },
   {
    "duration": 32,
    "start_time": "2021-08-28T07:07:35.999Z"
   },
   {
    "duration": 27,
    "start_time": "2021-08-28T07:07:36.033Z"
   },
   {
    "duration": 3073,
    "start_time": "2021-08-28T07:07:36.063Z"
   },
   {
    "duration": 16,
    "start_time": "2021-08-28T07:07:39.138Z"
   },
   {
    "duration": 607,
    "start_time": "2021-08-28T07:07:39.159Z"
   },
   {
    "duration": 17,
    "start_time": "2021-08-28T07:07:39.768Z"
   },
   {
    "duration": 40,
    "start_time": "2021-08-28T07:07:39.788Z"
   },
   {
    "duration": 47,
    "start_time": "2021-08-28T07:07:39.831Z"
   },
   {
    "duration": 1833,
    "start_time": "2021-08-28T07:07:39.881Z"
   },
   {
    "duration": 1761,
    "start_time": "2021-08-28T07:07:41.717Z"
   },
   {
    "duration": 16,
    "start_time": "2021-08-28T07:07:43.480Z"
   },
   {
    "duration": 28,
    "start_time": "2021-08-28T07:07:43.499Z"
   },
   {
    "duration": 3179,
    "start_time": "2021-08-28T07:07:43.529Z"
   },
   {
    "duration": 16,
    "start_time": "2021-08-28T07:07:46.711Z"
   },
   {
    "duration": 44,
    "start_time": "2021-08-28T07:07:46.730Z"
   },
   {
    "duration": 81,
    "start_time": "2021-08-28T07:08:52.016Z"
   },
   {
    "duration": 86,
    "start_time": "2021-08-28T07:09:58.698Z"
   },
   {
    "duration": 84,
    "start_time": "2021-08-28T07:21:53.353Z"
   },
   {
    "duration": 91,
    "start_time": "2021-08-28T07:32:50.404Z"
   },
   {
    "duration": 98,
    "start_time": "2021-08-28T07:33:40.243Z"
   },
   {
    "duration": 91,
    "start_time": "2021-08-28T07:35:29.093Z"
   },
   {
    "duration": 99,
    "start_time": "2021-08-28T07:36:56.284Z"
   },
   {
    "duration": 332,
    "start_time": "2021-08-28T13:17:00.964Z"
   },
   {
    "duration": 1386,
    "start_time": "2021-08-28T13:17:04.830Z"
   },
   {
    "duration": 546,
    "start_time": "2021-08-28T13:17:06.219Z"
   },
   {
    "duration": 595,
    "start_time": "2021-08-28T13:17:06.770Z"
   },
   {
    "duration": 12,
    "start_time": "2021-08-28T13:17:07.369Z"
   },
   {
    "duration": 18,
    "start_time": "2021-08-28T13:17:07.384Z"
   },
   {
    "duration": 63,
    "start_time": "2021-08-28T13:17:07.404Z"
   },
   {
    "duration": 10,
    "start_time": "2021-08-28T13:17:07.471Z"
   },
   {
    "duration": 26,
    "start_time": "2021-08-28T13:17:07.486Z"
   },
   {
    "duration": 44,
    "start_time": "2021-08-28T13:17:07.516Z"
   },
   {
    "duration": 36,
    "start_time": "2021-08-28T13:17:07.564Z"
   },
   {
    "duration": 9,
    "start_time": "2021-08-28T13:17:07.602Z"
   },
   {
    "duration": 13,
    "start_time": "2021-08-28T13:17:07.613Z"
   },
   {
    "duration": 181,
    "start_time": "2021-08-28T13:17:07.628Z"
   },
   {
    "duration": 26,
    "start_time": "2021-08-28T13:17:07.811Z"
   },
   {
    "duration": 7,
    "start_time": "2021-08-28T13:17:07.840Z"
   },
   {
    "duration": 143,
    "start_time": "2021-08-28T13:17:07.849Z"
   },
   {
    "duration": 35,
    "start_time": "2021-08-28T13:17:07.995Z"
   },
   {
    "duration": 1388,
    "start_time": "2021-08-28T13:17:08.032Z"
   },
   {
    "duration": 1101,
    "start_time": "2021-08-28T13:17:12.025Z"
   },
   {
    "duration": 341,
    "start_time": "2021-08-28T13:17:23.929Z"
   },
   {
    "duration": 82,
    "start_time": "2021-08-28T13:17:40.540Z"
   },
   {
    "duration": 86,
    "start_time": "2021-08-28T13:18:38.047Z"
   },
   {
    "duration": 73,
    "start_time": "2021-08-28T13:18:53.463Z"
   },
   {
    "duration": 5,
    "start_time": "2021-08-28T13:20:04.050Z"
   },
   {
    "duration": 561,
    "start_time": "2021-08-28T13:20:04.061Z"
   },
   {
    "duration": 13,
    "start_time": "2021-08-28T13:20:04.625Z"
   },
   {
    "duration": 26,
    "start_time": "2021-08-28T13:20:04.642Z"
   },
   {
    "duration": 25,
    "start_time": "2021-08-28T13:20:04.671Z"
   },
   {
    "duration": 39,
    "start_time": "2021-08-28T13:20:04.699Z"
   },
   {
    "duration": 17,
    "start_time": "2021-08-28T13:20:04.742Z"
   },
   {
    "duration": 30,
    "start_time": "2021-08-28T13:20:04.762Z"
   },
   {
    "duration": 16,
    "start_time": "2021-08-28T13:20:04.799Z"
   },
   {
    "duration": 48,
    "start_time": "2021-08-28T13:20:04.818Z"
   },
   {
    "duration": 10,
    "start_time": "2021-08-28T13:20:04.868Z"
   },
   {
    "duration": 22,
    "start_time": "2021-08-28T13:20:04.881Z"
   },
   {
    "duration": 115,
    "start_time": "2021-08-28T13:20:04.906Z"
   },
   {
    "duration": 39,
    "start_time": "2021-08-28T13:20:05.024Z"
   },
   {
    "duration": 14,
    "start_time": "2021-08-28T13:20:05.066Z"
   },
   {
    "duration": 124,
    "start_time": "2021-08-28T13:20:05.083Z"
   },
   {
    "duration": 50,
    "start_time": "2021-08-28T13:20:05.210Z"
   },
   {
    "duration": 94,
    "start_time": "2021-08-28T13:20:05.262Z"
   },
   {
    "duration": 24,
    "start_time": "2021-08-28T13:20:05.358Z"
   },
   {
    "duration": 45,
    "start_time": "2021-08-28T13:20:05.384Z"
   },
   {
    "duration": 27,
    "start_time": "2021-08-28T13:20:05.455Z"
   },
   {
    "duration": 70,
    "start_time": "2021-08-28T13:20:05.484Z"
   },
   {
    "duration": 36,
    "start_time": "2021-08-28T13:20:05.556Z"
   },
   {
    "duration": 9,
    "start_time": "2021-08-28T13:20:05.596Z"
   },
   {
    "duration": 3289,
    "start_time": "2021-08-28T13:20:10.474Z"
   },
   {
    "duration": 4,
    "start_time": "2021-08-28T13:32:08.135Z"
   },
   {
    "duration": 546,
    "start_time": "2021-08-28T13:32:08.142Z"
   },
   {
    "duration": 13,
    "start_time": "2021-08-28T13:32:08.691Z"
   },
   {
    "duration": 20,
    "start_time": "2021-08-28T13:32:08.707Z"
   },
   {
    "duration": 17,
    "start_time": "2021-08-28T13:32:08.729Z"
   },
   {
    "duration": 32,
    "start_time": "2021-08-28T13:32:08.749Z"
   },
   {
    "duration": 10,
    "start_time": "2021-08-28T13:32:08.785Z"
   },
   {
    "duration": 57,
    "start_time": "2021-08-28T13:32:08.798Z"
   },
   {
    "duration": 11,
    "start_time": "2021-08-28T13:32:08.858Z"
   },
   {
    "duration": 32,
    "start_time": "2021-08-28T13:32:08.872Z"
   },
   {
    "duration": 9,
    "start_time": "2021-08-28T13:32:08.906Z"
   },
   {
    "duration": 9,
    "start_time": "2021-08-28T13:32:08.955Z"
   },
   {
    "duration": 171,
    "start_time": "2021-08-28T13:32:08.967Z"
   },
   {
    "duration": 40,
    "start_time": "2021-08-28T13:32:09.141Z"
   },
   {
    "duration": 15,
    "start_time": "2021-08-28T13:32:09.184Z"
   },
   {
    "duration": 133,
    "start_time": "2021-08-28T13:32:09.202Z"
   },
   {
    "duration": 47,
    "start_time": "2021-08-28T13:32:09.338Z"
   },
   {
    "duration": 98,
    "start_time": "2021-08-28T13:32:09.387Z"
   },
   {
    "duration": 23,
    "start_time": "2021-08-28T13:32:09.490Z"
   },
   {
    "duration": 64,
    "start_time": "2021-08-28T13:32:09.516Z"
   },
   {
    "duration": 28,
    "start_time": "2021-08-28T13:32:09.582Z"
   },
   {
    "duration": 74,
    "start_time": "2021-08-28T13:32:09.613Z"
   },
   {
    "duration": 66,
    "start_time": "2021-08-28T13:32:09.691Z"
   },
   {
    "duration": 12,
    "start_time": "2021-08-28T13:32:09.760Z"
   },
   {
    "duration": 4730,
    "start_time": "2021-08-28T13:32:09.775Z"
   },
   {
    "duration": 4,
    "start_time": "2021-08-28T13:32:18.489Z"
   },
   {
    "duration": 535,
    "start_time": "2021-08-28T13:32:18.495Z"
   },
   {
    "duration": 13,
    "start_time": "2021-08-28T13:32:19.033Z"
   },
   {
    "duration": 9,
    "start_time": "2021-08-28T13:32:19.049Z"
   },
   {
    "duration": 13,
    "start_time": "2021-08-28T13:32:19.061Z"
   },
   {
    "duration": 32,
    "start_time": "2021-08-28T13:32:19.077Z"
   },
   {
    "duration": 10,
    "start_time": "2021-08-28T13:32:19.113Z"
   },
   {
    "duration": 57,
    "start_time": "2021-08-28T13:32:19.127Z"
   },
   {
    "duration": 17,
    "start_time": "2021-08-28T13:32:19.187Z"
   },
   {
    "duration": 64,
    "start_time": "2021-08-28T13:32:19.206Z"
   },
   {
    "duration": 12,
    "start_time": "2021-08-28T13:32:19.274Z"
   },
   {
    "duration": 17,
    "start_time": "2021-08-28T13:32:19.289Z"
   },
   {
    "duration": 183,
    "start_time": "2021-08-28T13:32:19.309Z"
   },
   {
    "duration": 36,
    "start_time": "2021-08-28T13:32:19.495Z"
   },
   {
    "duration": 27,
    "start_time": "2021-08-28T13:32:19.534Z"
   },
   {
    "duration": 193,
    "start_time": "2021-08-28T13:32:19.564Z"
   },
   {
    "duration": 46,
    "start_time": "2021-08-28T13:32:19.760Z"
   },
   {
    "duration": 137,
    "start_time": "2021-08-28T13:32:19.809Z"
   },
   {
    "duration": 32,
    "start_time": "2021-08-28T13:32:19.956Z"
   },
   {
    "duration": 89,
    "start_time": "2021-08-28T13:32:19.991Z"
   },
   {
    "duration": 38,
    "start_time": "2021-08-28T13:32:20.083Z"
   },
   {
    "duration": 69,
    "start_time": "2021-08-28T13:32:20.124Z"
   },
   {
    "duration": 57,
    "start_time": "2021-08-28T13:32:20.197Z"
   },
   {
    "duration": 11,
    "start_time": "2021-08-28T13:32:20.257Z"
   },
   {
    "duration": 3242,
    "start_time": "2021-08-28T13:32:20.271Z"
   },
   {
    "duration": 11,
    "start_time": "2021-08-28T13:32:23.516Z"
   },
   {
    "duration": 1371,
    "start_time": "2021-08-28T13:32:25.563Z"
   },
   {
    "duration": 1367,
    "start_time": "2021-08-28T13:32:42.636Z"
   },
   {
    "duration": 1119,
    "start_time": "2021-08-28T13:33:25.127Z"
   },
   {
    "duration": 10,
    "start_time": "2021-08-28T13:34:16.762Z"
   },
   {
    "duration": 2063,
    "start_time": "2021-08-28T13:34:19.049Z"
   },
   {
    "duration": 10,
    "start_time": "2021-08-28T13:34:33.531Z"
   },
   {
    "duration": 1125,
    "start_time": "2021-08-28T13:34:35.522Z"
   },
   {
    "duration": 18,
    "start_time": "2021-08-28T13:34:36.654Z"
   },
   {
    "duration": 1133,
    "start_time": "2021-08-28T13:34:46.554Z"
   },
   {
    "duration": 10,
    "start_time": "2021-08-28T13:35:22.896Z"
   },
   {
    "duration": 1685,
    "start_time": "2021-08-28T13:35:25.684Z"
   },
   {
    "duration": 4,
    "start_time": "2021-08-28T13:36:43.626Z"
   },
   {
    "duration": 530,
    "start_time": "2021-08-28T13:36:43.638Z"
   },
   {
    "duration": 12,
    "start_time": "2021-08-28T13:36:44.170Z"
   },
   {
    "duration": 15,
    "start_time": "2021-08-28T13:36:44.185Z"
   },
   {
    "duration": 19,
    "start_time": "2021-08-28T13:36:44.202Z"
   },
   {
    "duration": 46,
    "start_time": "2021-08-28T13:36:44.224Z"
   },
   {
    "duration": 9,
    "start_time": "2021-08-28T13:36:44.273Z"
   },
   {
    "duration": 30,
    "start_time": "2021-08-28T13:36:44.284Z"
   },
   {
    "duration": 36,
    "start_time": "2021-08-28T13:36:44.318Z"
   },
   {
    "duration": 25,
    "start_time": "2021-08-28T13:36:44.357Z"
   },
   {
    "duration": 9,
    "start_time": "2021-08-28T13:36:44.384Z"
   },
   {
    "duration": 13,
    "start_time": "2021-08-28T13:36:44.396Z"
   },
   {
    "duration": 125,
    "start_time": "2021-08-28T13:36:44.412Z"
   },
   {
    "duration": 34,
    "start_time": "2021-08-28T13:36:44.540Z"
   },
   {
    "duration": 8,
    "start_time": "2021-08-28T13:36:44.577Z"
   },
   {
    "duration": 121,
    "start_time": "2021-08-28T13:36:44.587Z"
   },
   {
    "duration": 45,
    "start_time": "2021-08-28T13:36:44.710Z"
   },
   {
    "duration": 77,
    "start_time": "2021-08-28T13:36:44.758Z"
   },
   {
    "duration": 36,
    "start_time": "2021-08-28T13:36:44.837Z"
   },
   {
    "duration": 42,
    "start_time": "2021-08-28T13:36:44.875Z"
   },
   {
    "duration": 51,
    "start_time": "2021-08-28T13:36:44.920Z"
   },
   {
    "duration": 47,
    "start_time": "2021-08-28T13:36:44.973Z"
   },
   {
    "duration": 62,
    "start_time": "2021-08-28T13:36:45.022Z"
   },
   {
    "duration": 8,
    "start_time": "2021-08-28T13:36:45.088Z"
   },
   {
    "duration": 3300,
    "start_time": "2021-08-28T13:36:45.099Z"
   },
   {
    "duration": 9,
    "start_time": "2021-08-28T13:36:48.401Z"
   },
   {
    "duration": 1099,
    "start_time": "2021-08-28T13:36:58.677Z"
   },
   {
    "duration": 10,
    "start_time": "2021-08-28T13:39:52.435Z"
   },
   {
    "duration": 1201,
    "start_time": "2021-08-28T13:39:54.284Z"
   },
   {
    "duration": 130,
    "start_time": "2021-08-28T13:41:30.258Z"
   },
   {
    "duration": 304,
    "start_time": "2021-08-28T13:47:49.416Z"
   },
   {
    "duration": 4,
    "start_time": "2021-08-28T13:48:08.691Z"
   },
   {
    "duration": 560,
    "start_time": "2021-08-28T13:48:08.699Z"
   },
   {
    "duration": 14,
    "start_time": "2021-08-28T13:48:09.262Z"
   },
   {
    "duration": 24,
    "start_time": "2021-08-28T13:48:09.280Z"
   },
   {
    "duration": 26,
    "start_time": "2021-08-28T13:48:09.307Z"
   },
   {
    "duration": 51,
    "start_time": "2021-08-28T13:48:09.336Z"
   },
   {
    "duration": 12,
    "start_time": "2021-08-28T13:48:09.392Z"
   },
   {
    "duration": 52,
    "start_time": "2021-08-28T13:48:09.407Z"
   },
   {
    "duration": 13,
    "start_time": "2021-08-28T13:48:09.462Z"
   },
   {
    "duration": 40,
    "start_time": "2021-08-28T13:48:09.478Z"
   },
   {
    "duration": 33,
    "start_time": "2021-08-28T13:48:09.521Z"
   },
   {
    "duration": 9,
    "start_time": "2021-08-28T13:48:09.558Z"
   },
   {
    "duration": 115,
    "start_time": "2021-08-28T13:48:09.570Z"
   },
   {
    "duration": 26,
    "start_time": "2021-08-28T13:48:09.688Z"
   },
   {
    "duration": 13,
    "start_time": "2021-08-28T13:48:09.717Z"
   },
   {
    "duration": 225,
    "start_time": "2021-08-28T13:48:09.732Z"
   },
   {
    "duration": 98,
    "start_time": "2021-08-28T13:48:09.975Z"
   },
   {
    "duration": 152,
    "start_time": "2021-08-28T13:48:10.091Z"
   },
   {
    "duration": 39,
    "start_time": "2021-08-28T13:48:10.253Z"
   },
   {
    "duration": 81,
    "start_time": "2021-08-28T13:48:10.295Z"
   },
   {
    "duration": 34,
    "start_time": "2021-08-28T13:48:10.379Z"
   },
   {
    "duration": 70,
    "start_time": "2021-08-28T13:48:10.416Z"
   },
   {
    "duration": 38,
    "start_time": "2021-08-28T13:48:10.489Z"
   },
   {
    "duration": 33,
    "start_time": "2021-08-28T13:48:10.530Z"
   },
   {
    "duration": 3194,
    "start_time": "2021-08-28T13:48:10.566Z"
   },
   {
    "duration": 12,
    "start_time": "2021-08-28T13:48:13.763Z"
   },
   {
    "duration": 1277,
    "start_time": "2021-08-28T13:48:13.777Z"
   },
   {
    "duration": 15,
    "start_time": "2021-08-28T13:48:15.057Z"
   },
   {
    "duration": 51,
    "start_time": "2021-08-28T13:48:15.074Z"
   },
   {
    "duration": 40,
    "start_time": "2021-08-28T13:48:15.128Z"
   },
   {
    "duration": 328,
    "start_time": "2021-08-28T13:48:17.054Z"
   },
   {
    "duration": 31,
    "start_time": "2021-08-28T13:49:35.262Z"
   },
   {
    "duration": 42,
    "start_time": "2021-08-28T13:49:39.299Z"
   },
   {
    "duration": 43,
    "start_time": "2021-08-28T13:49:54.146Z"
   },
   {
    "duration": 327,
    "start_time": "2021-08-28T13:51:02.677Z"
   },
   {
    "duration": 380,
    "start_time": "2021-08-28T13:51:10.622Z"
   },
   {
    "duration": 352,
    "start_time": "2021-08-28T13:52:13.464Z"
   },
   {
    "duration": 389,
    "start_time": "2021-08-28T13:53:54.815Z"
   },
   {
    "duration": 386,
    "start_time": "2021-08-28T13:53:58.600Z"
   },
   {
    "duration": 387,
    "start_time": "2021-08-28T13:54:13.875Z"
   },
   {
    "duration": 434,
    "start_time": "2021-08-28T13:55:01.235Z"
   },
   {
    "duration": 402,
    "start_time": "2021-08-28T13:55:17.717Z"
   },
   {
    "duration": 117,
    "start_time": "2021-08-28T13:55:52.631Z"
   },
   {
    "duration": 33,
    "start_time": "2021-08-28T13:55:55.203Z"
   },
   {
    "duration": 397,
    "start_time": "2021-08-28T13:55:58.659Z"
   },
   {
    "duration": 30,
    "start_time": "2021-08-28T13:56:14.268Z"
   },
   {
    "duration": 31,
    "start_time": "2021-08-28T13:56:15.972Z"
   },
   {
    "duration": 414,
    "start_time": "2021-08-28T13:56:20.068Z"
   },
   {
    "duration": 405,
    "start_time": "2021-08-28T13:57:40.065Z"
   },
   {
    "duration": 373,
    "start_time": "2021-08-28T14:00:18.826Z"
   },
   {
    "duration": 372,
    "start_time": "2021-08-28T14:01:41.912Z"
   },
   {
    "duration": 416,
    "start_time": "2021-08-28T14:02:04.410Z"
   },
   {
    "duration": 88,
    "start_time": "2021-08-28T14:37:41.753Z"
   },
   {
    "duration": 53,
    "start_time": "2021-08-28T14:40:54.944Z"
   },
   {
    "duration": 5,
    "start_time": "2021-08-28T14:41:24.602Z"
   },
   {
    "duration": 555,
    "start_time": "2021-08-28T14:41:24.610Z"
   },
   {
    "duration": 13,
    "start_time": "2021-08-28T14:41:25.168Z"
   },
   {
    "duration": 13,
    "start_time": "2021-08-28T14:41:25.184Z"
   },
   {
    "duration": 21,
    "start_time": "2021-08-28T14:41:25.199Z"
   },
   {
    "duration": 52,
    "start_time": "2021-08-28T14:41:25.222Z"
   },
   {
    "duration": 11,
    "start_time": "2021-08-28T14:41:25.277Z"
   },
   {
    "duration": 44,
    "start_time": "2021-08-28T14:41:25.291Z"
   },
   {
    "duration": 26,
    "start_time": "2021-08-28T14:41:25.338Z"
   },
   {
    "duration": 33,
    "start_time": "2021-08-28T14:41:25.366Z"
   },
   {
    "duration": 10,
    "start_time": "2021-08-28T14:41:25.401Z"
   },
   {
    "duration": 50,
    "start_time": "2021-08-28T14:41:25.414Z"
   },
   {
    "duration": 114,
    "start_time": "2021-08-28T14:41:25.467Z"
   },
   {
    "duration": 28,
    "start_time": "2021-08-28T14:41:25.583Z"
   },
   {
    "duration": 7,
    "start_time": "2021-08-28T14:41:25.613Z"
   },
   {
    "duration": 136,
    "start_time": "2021-08-28T14:41:25.623Z"
   },
   {
    "duration": 37,
    "start_time": "2021-08-28T14:41:25.762Z"
   },
   {
    "duration": 107,
    "start_time": "2021-08-28T14:41:25.802Z"
   },
   {
    "duration": 25,
    "start_time": "2021-08-28T14:41:25.913Z"
   },
   {
    "duration": 57,
    "start_time": "2021-08-28T14:41:25.940Z"
   },
   {
    "duration": 56,
    "start_time": "2021-08-28T14:41:25.999Z"
   },
   {
    "duration": 46,
    "start_time": "2021-08-28T14:41:26.058Z"
   },
   {
    "duration": 56,
    "start_time": "2021-08-28T14:41:26.107Z"
   },
   {
    "duration": 9,
    "start_time": "2021-08-28T14:41:26.165Z"
   },
   {
    "duration": 3189,
    "start_time": "2021-08-28T14:41:26.176Z"
   },
   {
    "duration": 10,
    "start_time": "2021-08-28T14:41:29.367Z"
   },
   {
    "duration": 1135,
    "start_time": "2021-08-28T14:41:29.380Z"
   },
   {
    "duration": 17,
    "start_time": "2021-08-28T14:41:30.518Z"
   },
   {
    "duration": 42,
    "start_time": "2021-08-28T14:41:30.555Z"
   },
   {
    "duration": 62,
    "start_time": "2021-08-28T14:41:30.600Z"
   },
   {
    "duration": 402,
    "start_time": "2021-08-28T14:41:30.665Z"
   },
   {
    "duration": 650,
    "start_time": "2021-08-28T14:41:31.070Z"
   },
   {
    "duration": 558,
    "start_time": "2021-08-28T14:41:31.723Z"
   },
   {
    "duration": 19,
    "start_time": "2021-08-28T14:41:32.284Z"
   },
   {
    "duration": 53,
    "start_time": "2021-08-28T14:41:32.307Z"
   },
   {
    "duration": 19,
    "start_time": "2021-08-28T14:41:34.843Z"
   },
   {
    "duration": 463,
    "start_time": "2021-08-28T14:42:36.379Z"
   },
   {
    "duration": 288,
    "start_time": "2021-08-28T14:47:17.457Z"
   },
   {
    "duration": 4,
    "start_time": "2021-08-28T14:47:22.878Z"
   },
   {
    "duration": 716,
    "start_time": "2021-08-28T14:47:22.887Z"
   },
   {
    "duration": 12,
    "start_time": "2021-08-28T14:47:23.605Z"
   },
   {
    "duration": 22,
    "start_time": "2021-08-28T14:47:23.620Z"
   },
   {
    "duration": 29,
    "start_time": "2021-08-28T14:47:23.645Z"
   },
   {
    "duration": 66,
    "start_time": "2021-08-28T14:47:23.678Z"
   },
   {
    "duration": 16,
    "start_time": "2021-08-28T14:47:23.747Z"
   },
   {
    "duration": 34,
    "start_time": "2021-08-28T14:47:23.766Z"
   },
   {
    "duration": 20,
    "start_time": "2021-08-28T14:47:23.805Z"
   },
   {
    "duration": 42,
    "start_time": "2021-08-28T14:47:23.829Z"
   },
   {
    "duration": 12,
    "start_time": "2021-08-28T14:47:23.874Z"
   },
   {
    "duration": 30,
    "start_time": "2021-08-28T14:47:23.889Z"
   },
   {
    "duration": 165,
    "start_time": "2021-08-28T14:47:23.922Z"
   },
   {
    "duration": 34,
    "start_time": "2021-08-28T14:47:24.090Z"
   },
   {
    "duration": 30,
    "start_time": "2021-08-28T14:47:24.127Z"
   },
   {
    "duration": 143,
    "start_time": "2021-08-28T14:47:24.160Z"
   },
   {
    "duration": 51,
    "start_time": "2021-08-28T14:47:24.305Z"
   },
   {
    "duration": 101,
    "start_time": "2021-08-28T14:47:24.360Z"
   },
   {
    "duration": 26,
    "start_time": "2021-08-28T14:47:24.463Z"
   },
   {
    "duration": 84,
    "start_time": "2021-08-28T14:47:24.492Z"
   },
   {
    "duration": 26,
    "start_time": "2021-08-28T14:47:24.579Z"
   },
   {
    "duration": 51,
    "start_time": "2021-08-28T14:47:24.608Z"
   },
   {
    "duration": 42,
    "start_time": "2021-08-28T14:47:24.663Z"
   },
   {
    "duration": 8,
    "start_time": "2021-08-28T14:47:24.713Z"
   },
   {
    "duration": 3592,
    "start_time": "2021-08-28T14:47:24.756Z"
   },
   {
    "duration": 14,
    "start_time": "2021-08-28T14:47:28.350Z"
   },
   {
    "duration": 1375,
    "start_time": "2021-08-28T14:47:28.368Z"
   },
   {
    "duration": 22,
    "start_time": "2021-08-28T14:47:29.754Z"
   },
   {
    "duration": 43,
    "start_time": "2021-08-28T14:47:29.779Z"
   },
   {
    "duration": 67,
    "start_time": "2021-08-28T14:47:29.826Z"
   },
   {
    "duration": 436,
    "start_time": "2021-08-28T14:47:29.895Z"
   },
   {
    "duration": 412,
    "start_time": "2021-08-28T14:47:30.334Z"
   },
   {
    "duration": 472,
    "start_time": "2021-08-28T14:47:30.749Z"
   },
   {
    "duration": 31,
    "start_time": "2021-08-28T14:47:31.224Z"
   },
   {
    "duration": 38,
    "start_time": "2021-08-28T14:47:31.258Z"
   },
   {
    "duration": 626,
    "start_time": "2021-08-28T14:47:31.299Z"
   },
   {
    "duration": 5097,
    "start_time": "2021-08-28T14:47:31.928Z"
   },
   {
    "duration": 36,
    "start_time": "2021-08-28T14:47:37.028Z"
   },
   {
    "duration": 30,
    "start_time": "2021-08-28T14:47:37.067Z"
   },
   {
    "duration": 282,
    "start_time": "2021-08-28T14:47:37.102Z"
   },
   {
    "duration": 918,
    "start_time": "2021-08-28T14:49:32.320Z"
   },
   {
    "duration": 211,
    "start_time": "2021-08-28T14:49:53.817Z"
   },
   {
    "duration": 691,
    "start_time": "2021-08-28T14:49:57.717Z"
   },
   {
    "duration": 4,
    "start_time": "2021-08-28T14:50:04.348Z"
   },
   {
    "duration": 729,
    "start_time": "2021-08-28T14:50:04.359Z"
   },
   {
    "duration": 12,
    "start_time": "2021-08-28T14:50:05.091Z"
   },
   {
    "duration": 12,
    "start_time": "2021-08-28T14:50:05.106Z"
   },
   {
    "duration": 125,
    "start_time": "2021-08-28T14:50:05.120Z"
   },
   {
    "duration": 38,
    "start_time": "2021-08-28T14:50:05.248Z"
   },
   {
    "duration": 10,
    "start_time": "2021-08-28T14:50:05.288Z"
   },
   {
    "duration": 21,
    "start_time": "2021-08-28T14:50:05.301Z"
   },
   {
    "duration": 18,
    "start_time": "2021-08-28T14:50:05.355Z"
   },
   {
    "duration": 27,
    "start_time": "2021-08-28T14:50:05.378Z"
   },
   {
    "duration": 50,
    "start_time": "2021-08-28T14:50:05.407Z"
   },
   {
    "duration": 12,
    "start_time": "2021-08-28T14:50:05.461Z"
   },
   {
    "duration": 126,
    "start_time": "2021-08-28T14:50:05.475Z"
   },
   {
    "duration": 22,
    "start_time": "2021-08-28T14:50:05.603Z"
   },
   {
    "duration": 35,
    "start_time": "2021-08-28T14:50:05.627Z"
   },
   {
    "duration": 110,
    "start_time": "2021-08-28T14:50:05.665Z"
   },
   {
    "duration": 33,
    "start_time": "2021-08-28T14:50:05.778Z"
   },
   {
    "duration": 97,
    "start_time": "2021-08-28T14:50:05.814Z"
   },
   {
    "duration": 25,
    "start_time": "2021-08-28T14:50:05.914Z"
   },
   {
    "duration": 49,
    "start_time": "2021-08-28T14:50:05.957Z"
   },
   {
    "duration": 49,
    "start_time": "2021-08-28T14:50:06.009Z"
   },
   {
    "duration": 64,
    "start_time": "2021-08-28T14:50:06.061Z"
   },
   {
    "duration": 78,
    "start_time": "2021-08-28T14:50:06.128Z"
   },
   {
    "duration": 12,
    "start_time": "2021-08-28T14:50:06.213Z"
   },
   {
    "duration": 5004,
    "start_time": "2021-08-28T14:50:06.228Z"
   },
   {
    "duration": 20,
    "start_time": "2021-08-28T14:50:11.235Z"
   },
   {
    "duration": 1329,
    "start_time": "2021-08-28T14:50:11.258Z"
   },
   {
    "duration": 18,
    "start_time": "2021-08-28T14:50:12.590Z"
   },
   {
    "duration": 60,
    "start_time": "2021-08-28T14:50:12.611Z"
   },
   {
    "duration": 40,
    "start_time": "2021-08-28T14:50:12.674Z"
   },
   {
    "duration": 441,
    "start_time": "2021-08-28T14:50:12.716Z"
   },
   {
    "duration": 426,
    "start_time": "2021-08-28T14:50:13.160Z"
   },
   {
    "duration": 445,
    "start_time": "2021-08-28T14:50:13.589Z"
   },
   {
    "duration": 28,
    "start_time": "2021-08-28T14:50:14.036Z"
   },
   {
    "duration": 21,
    "start_time": "2021-08-28T14:50:14.067Z"
   },
   {
    "duration": 432,
    "start_time": "2021-08-28T14:50:14.091Z"
   },
   {
    "duration": 3461,
    "start_time": "2021-08-28T14:50:14.526Z"
   },
   {
    "duration": 16,
    "start_time": "2021-08-28T14:50:17.990Z"
   },
   {
    "duration": 48,
    "start_time": "2021-08-28T14:50:18.008Z"
   },
   {
    "duration": 677,
    "start_time": "2021-08-28T14:52:25.318Z"
   },
   {
    "duration": 697,
    "start_time": "2021-08-28T14:53:10.832Z"
   },
   {
    "duration": 776,
    "start_time": "2021-08-28T14:54:20.338Z"
   },
   {
    "duration": 838,
    "start_time": "2021-08-28T14:54:39.222Z"
   },
   {
    "duration": 1102,
    "start_time": "2021-08-28T14:55:27.620Z"
   },
   {
    "duration": 1100,
    "start_time": "2021-08-28T14:55:32.529Z"
   },
   {
    "duration": 4,
    "start_time": "2021-08-28T14:56:18.360Z"
   },
   {
    "duration": 697,
    "start_time": "2021-08-28T14:56:18.368Z"
   },
   {
    "duration": 16,
    "start_time": "2021-08-28T14:56:19.068Z"
   },
   {
    "duration": 14,
    "start_time": "2021-08-28T14:56:19.088Z"
   },
   {
    "duration": 15,
    "start_time": "2021-08-28T14:56:19.105Z"
   },
   {
    "duration": 70,
    "start_time": "2021-08-28T14:56:19.123Z"
   },
   {
    "duration": 12,
    "start_time": "2021-08-28T14:56:19.196Z"
   },
   {
    "duration": 51,
    "start_time": "2021-08-28T14:56:19.211Z"
   },
   {
    "duration": 14,
    "start_time": "2021-08-28T14:56:19.266Z"
   },
   {
    "duration": 32,
    "start_time": "2021-08-28T14:56:19.284Z"
   },
   {
    "duration": 10,
    "start_time": "2021-08-28T14:56:19.319Z"
   },
   {
    "duration": 12,
    "start_time": "2021-08-28T14:56:19.355Z"
   },
   {
    "duration": 227,
    "start_time": "2021-08-28T14:56:19.371Z"
   },
   {
    "duration": 37,
    "start_time": "2021-08-28T14:56:19.601Z"
   },
   {
    "duration": 9,
    "start_time": "2021-08-28T14:56:19.656Z"
   },
   {
    "duration": 116,
    "start_time": "2021-08-28T14:56:19.668Z"
   },
   {
    "duration": 34,
    "start_time": "2021-08-28T14:56:19.786Z"
   },
   {
    "duration": 99,
    "start_time": "2021-08-28T14:56:19.822Z"
   },
   {
    "duration": 44,
    "start_time": "2021-08-28T14:56:19.923Z"
   },
   {
    "duration": 60,
    "start_time": "2021-08-28T14:56:19.969Z"
   },
   {
    "duration": 49,
    "start_time": "2021-08-28T14:56:20.032Z"
   },
   {
    "duration": 72,
    "start_time": "2021-08-28T14:56:20.084Z"
   },
   {
    "duration": 37,
    "start_time": "2021-08-28T14:56:20.159Z"
   },
   {
    "duration": 8,
    "start_time": "2021-08-28T14:56:20.198Z"
   },
   {
    "duration": 3198,
    "start_time": "2021-08-28T14:56:20.208Z"
   },
   {
    "duration": 9,
    "start_time": "2021-08-28T14:56:23.408Z"
   },
   {
    "duration": 1369,
    "start_time": "2021-08-28T14:56:23.422Z"
   },
   {
    "duration": 15,
    "start_time": "2021-08-28T14:56:24.794Z"
   },
   {
    "duration": 59,
    "start_time": "2021-08-28T14:56:24.812Z"
   },
   {
    "duration": 82,
    "start_time": "2021-08-28T14:56:24.874Z"
   },
   {
    "duration": 617,
    "start_time": "2021-08-28T14:56:24.959Z"
   },
   {
    "duration": 637,
    "start_time": "2021-08-28T14:56:25.580Z"
   },
   {
    "duration": 674,
    "start_time": "2021-08-28T14:56:26.220Z"
   },
   {
    "duration": 23,
    "start_time": "2021-08-28T14:56:26.898Z"
   },
   {
    "duration": 50,
    "start_time": "2021-08-28T14:56:26.925Z"
   },
   {
    "duration": 776,
    "start_time": "2021-08-28T14:56:26.978Z"
   },
   {
    "duration": 5137,
    "start_time": "2021-08-28T14:56:27.758Z"
   },
   {
    "duration": 15,
    "start_time": "2021-08-28T14:56:32.898Z"
   },
   {
    "duration": 46,
    "start_time": "2021-08-28T14:56:32.916Z"
   },
   {
    "duration": 715,
    "start_time": "2021-08-28T14:56:32.964Z"
   },
   {
    "duration": 83,
    "start_time": "2021-08-29T05:57:50.984Z"
   },
   {
    "duration": 108,
    "start_time": "2021-08-29T05:58:22.479Z"
   },
   {
    "duration": 89,
    "start_time": "2021-08-29T05:59:01.288Z"
   },
   {
    "duration": 106,
    "start_time": "2021-08-29T05:59:51.920Z"
   },
   {
    "duration": 99,
    "start_time": "2021-08-29T06:00:59.324Z"
   },
   {
    "duration": 1314,
    "start_time": "2022-06-25T10:33:29.029Z"
   },
   {
    "duration": 995,
    "start_time": "2022-06-25T10:33:30.345Z"
   },
   {
    "duration": 47,
    "start_time": "2022-06-25T10:33:31.343Z"
   },
   {
    "duration": 8,
    "start_time": "2022-06-25T10:34:03.524Z"
   },
   {
    "duration": 472,
    "start_time": "2022-06-25T10:34:03.539Z"
   },
   {
    "duration": 10,
    "start_time": "2022-06-25T10:34:04.013Z"
   },
   {
    "duration": 4,
    "start_time": "2022-06-25T10:34:06.611Z"
   },
   {
    "duration": 444,
    "start_time": "2022-06-25T10:34:06.618Z"
   },
   {
    "duration": 16,
    "start_time": "2022-06-25T10:34:07.065Z"
   },
   {
    "duration": 32,
    "start_time": "2022-06-25T10:34:07.083Z"
   },
   {
    "duration": 18,
    "start_time": "2022-06-25T10:34:07.118Z"
   },
   {
    "duration": 41,
    "start_time": "2022-06-25T10:34:07.137Z"
   },
   {
    "duration": 8,
    "start_time": "2022-06-25T10:34:07.180Z"
   },
   {
    "duration": 46,
    "start_time": "2022-06-25T10:34:07.190Z"
   },
   {
    "duration": 12,
    "start_time": "2022-06-25T10:34:07.239Z"
   },
   {
    "duration": 34,
    "start_time": "2022-06-25T10:34:07.253Z"
   },
   {
    "duration": 19,
    "start_time": "2022-06-25T10:34:07.290Z"
   },
   {
    "duration": 13,
    "start_time": "2022-06-25T10:34:07.327Z"
   },
   {
    "duration": 98,
    "start_time": "2022-06-25T10:34:07.342Z"
   },
   {
    "duration": 27,
    "start_time": "2022-06-25T10:34:07.442Z"
   },
   {
    "duration": 6,
    "start_time": "2022-06-25T10:34:07.472Z"
   },
   {
    "duration": 96,
    "start_time": "2022-06-25T10:34:07.480Z"
   },
   {
    "duration": 28,
    "start_time": "2022-06-25T10:34:07.578Z"
   },
   {
    "duration": 85,
    "start_time": "2022-06-25T10:34:07.609Z"
   },
   {
    "duration": 34,
    "start_time": "2022-06-25T10:34:07.696Z"
   },
   {
    "duration": 56,
    "start_time": "2022-06-25T10:34:07.732Z"
   },
   {
    "duration": 38,
    "start_time": "2022-06-25T10:34:07.790Z"
   },
   {
    "duration": 42,
    "start_time": "2022-06-25T10:34:07.830Z"
   },
   {
    "duration": 28,
    "start_time": "2022-06-25T10:34:07.876Z"
   },
   {
    "duration": 19,
    "start_time": "2022-06-25T10:34:07.929Z"
   },
   {
    "duration": 1178,
    "start_time": "2022-06-25T10:34:07.950Z"
   },
   {
    "duration": 7,
    "start_time": "2022-06-25T10:34:09.129Z"
   },
   {
    "duration": 321,
    "start_time": "2022-06-25T10:34:09.138Z"
   },
   {
    "duration": 12,
    "start_time": "2022-06-25T10:34:09.460Z"
   },
   {
    "duration": 28,
    "start_time": "2022-06-25T10:34:09.475Z"
   },
   {
    "duration": 44,
    "start_time": "2022-06-25T10:34:09.504Z"
   },
   {
    "duration": 226,
    "start_time": "2022-06-25T10:34:09.550Z"
   },
   {
    "duration": 194,
    "start_time": "2022-06-25T10:34:09.777Z"
   },
   {
    "duration": 226,
    "start_time": "2022-06-25T10:34:09.972Z"
   },
   {
    "duration": 10,
    "start_time": "2022-06-25T10:34:10.200Z"
   },
   {
    "duration": 30,
    "start_time": "2022-06-25T10:34:10.212Z"
   },
   {
    "duration": 203,
    "start_time": "2022-06-25T10:34:10.244Z"
   },
   {
    "duration": 1217,
    "start_time": "2022-06-25T10:34:10.449Z"
   },
   {
    "duration": 18,
    "start_time": "2022-06-25T10:34:11.669Z"
   },
   {
    "duration": 23,
    "start_time": "2022-06-25T10:34:11.689Z"
   },
   {
    "duration": 373,
    "start_time": "2022-06-25T10:34:11.727Z"
   }
  ],
  "kernelspec": {
   "display_name": "Python 3 (ipykernel)",
   "language": "python",
   "name": "python3"
  },
  "language_info": {
   "codemirror_mode": {
    "name": "ipython",
    "version": 3
   },
   "file_extension": ".py",
   "mimetype": "text/x-python",
   "name": "python",
   "nbconvert_exporter": "python",
   "pygments_lexer": "ipython3",
   "version": "3.10.0"
  },
  "toc": {
   "base_numbering": 1,
   "nav_menu": {},
   "number_sections": true,
   "sideBar": true,
   "skip_h1_title": true,
   "title_cell": "Содержание",
   "title_sidebar": "Contents",
   "toc_cell": true,
   "toc_position": {
    "height": "calc(100% - 180px)",
    "left": "10px",
    "top": "150px",
    "width": "323.694px"
   },
   "toc_section_display": true,
   "toc_window_display": true
  }
 },
 "nbformat": 4,
 "nbformat_minor": 2
}
