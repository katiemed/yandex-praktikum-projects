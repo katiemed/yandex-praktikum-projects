{
 "cells": [
  {
   "cell_type": "markdown",
   "metadata": {},
   "source": [
    "# Отток клиентов"
   ]
  },
  {
   "cell_type": "markdown",
   "metadata": {},
   "source": [
    "Из «Бета-Банка» стали уходить клиенты. Каждый месяц. Немного, но заметно. Банковские маркетологи посчитали: сохранять текущих клиентов дешевле, чем привлекать новых.\n",
    "\n",
    "Необходимо спрогнозировать, уйдёт клиент из банка в ближайшее время или нет. Предоставлены исторические данные о поведении клиентов и расторжении договоров с банком. \n",
    "\n",
    "Необходимо построить модель с предельно большим значением *F1*-меры и довести метрику до 0.59.\n",
    "\n",
    "Дополнительно измеряйте *AUC-ROC*, сравнивайте её значение с *F1*-мерой.\n",
    "\n",
    "Источник данных: [https://www.kaggle.com/barelydedicated/bank-customer-churn-modeling](https://www.kaggle.com/barelydedicated/bank-customer-churn-modeling)"
   ]
  },
  {
   "cell_type": "markdown",
   "metadata": {
    "toc": true
   },
   "source": [
    "<h1>Содержание<span class=\"tocSkip\"></span></h1>\n",
    "<div class=\"toc\"><ul class=\"toc-item\"><li><span><a href=\"#Подготовка-данных\" data-toc-modified-id=\"Подготовка-данных-1\"><span class=\"toc-item-num\">1&nbsp;&nbsp;</span>Подготовка данных</a></span></li><li><span><a href=\"#Исследование-задачи\" data-toc-modified-id=\"Исследование-задачи-2\"><span class=\"toc-item-num\">2&nbsp;&nbsp;</span>Исследование задачи</a></span><ul class=\"toc-item\"><li><span><a href=\"#Вывод\" data-toc-modified-id=\"Вывод-2.1\"><span class=\"toc-item-num\">2.1&nbsp;&nbsp;</span>Вывод</a></span></li></ul></li><li><span><a href=\"#Борьба-с-дисбалансом\" data-toc-modified-id=\"Борьба-с-дисбалансом-3\"><span class=\"toc-item-num\">3&nbsp;&nbsp;</span>Борьба с дисбалансом</a></span><ul class=\"toc-item\"><li><span><a href=\"#Увеличение-выборки\" data-toc-modified-id=\"Увеличение-выборки-3.1\"><span class=\"toc-item-num\">3.1&nbsp;&nbsp;</span>Увеличение выборки</a></span></li><li><span><a href=\"#Уменьшение-выборки\" data-toc-modified-id=\"Уменьшение-выборки-3.2\"><span class=\"toc-item-num\">3.2&nbsp;&nbsp;</span>Уменьшение выборки</a></span></li><li><span><a href=\"#Дерево-решений\" data-toc-modified-id=\"Дерево-решений-3.3\"><span class=\"toc-item-num\">3.3&nbsp;&nbsp;</span>Дерево решений</a></span></li><li><span><a href=\"#Лес-решений\" data-toc-modified-id=\"Лес-решений-3.4\"><span class=\"toc-item-num\">3.4&nbsp;&nbsp;</span>Лес решений</a></span></li><li><span><a href=\"#Вывод\" data-toc-modified-id=\"Вывод-3.5\"><span class=\"toc-item-num\">3.5&nbsp;&nbsp;</span>Вывод</a></span></li></ul></li><li><span><a href=\"#Тестирование-модели\" data-toc-modified-id=\"Тестирование-модели-4\"><span class=\"toc-item-num\">4&nbsp;&nbsp;</span>Тестирование модели</a></span><ul class=\"toc-item\"><li><span><a href=\"#Общий-вывод\" data-toc-modified-id=\"Общий-вывод-4.1\"><span class=\"toc-item-num\">4.1&nbsp;&nbsp;</span>Общий вывод</a></span></li></ul></li><li><span><a href=\"#Чек-лист-готовности-проекта\" data-toc-modified-id=\"Чек-лист-готовности-проекта-5\"><span class=\"toc-item-num\">5&nbsp;&nbsp;</span>Чек-лист готовности проекта</a></span></li></ul></div>"
   ]
  },
  {
   "cell_type": "markdown",
   "metadata": {},
   "source": [
    "## Подготовка данных"
   ]
  },
  {
   "cell_type": "code",
   "execution_count": 114,
   "metadata": {},
   "outputs": [],
   "source": [
    "import pandas as pd\n",
    "from sklearn.preprocessing import StandardScaler\n",
    "from sklearn.model_selection import train_test_split\n",
    "from sklearn.tree import DecisionTreeClassifier\n",
    "from sklearn.ensemble import RandomForestClassifier\n",
    "from sklearn.linear_model import LogisticRegression\n",
    "from sklearn.metrics import accuracy_score\n",
    "import matplotlib.pyplot as plt\n",
    "from sklearn.metrics import recall_score\n",
    "from sklearn.metrics import precision_score\n",
    "from sklearn.metrics import roc_auc_score\n",
    "from sklearn.metrics import f1_score\n",
    "from sklearn.utils import shuffle\n",
    "from sklearn.metrics import roc_curve "
   ]
  },
  {
   "cell_type": "markdown",
   "metadata": {},
   "source": [
    "Загрузим данные, с которыми нам предстоит работать. "
   ]
  },
  {
   "cell_type": "code",
   "execution_count": 115,
   "metadata": {},
   "outputs": [
    {
     "data": {
      "text/html": [
       "<div>\n",
       "<style scoped>\n",
       "    .dataframe tbody tr th:only-of-type {\n",
       "        vertical-align: middle;\n",
       "    }\n",
       "\n",
       "    .dataframe tbody tr th {\n",
       "        vertical-align: top;\n",
       "    }\n",
       "\n",
       "    .dataframe thead th {\n",
       "        text-align: right;\n",
       "    }\n",
       "</style>\n",
       "<table border=\"1\" class=\"dataframe\">\n",
       "  <thead>\n",
       "    <tr style=\"text-align: right;\">\n",
       "      <th></th>\n",
       "      <th>RowNumber</th>\n",
       "      <th>CustomerId</th>\n",
       "      <th>Surname</th>\n",
       "      <th>CreditScore</th>\n",
       "      <th>Geography</th>\n",
       "      <th>Gender</th>\n",
       "      <th>Age</th>\n",
       "      <th>Tenure</th>\n",
       "      <th>Balance</th>\n",
       "      <th>NumOfProducts</th>\n",
       "      <th>HasCrCard</th>\n",
       "      <th>IsActiveMember</th>\n",
       "      <th>EstimatedSalary</th>\n",
       "      <th>Exited</th>\n",
       "    </tr>\n",
       "  </thead>\n",
       "  <tbody>\n",
       "    <tr>\n",
       "      <td>0</td>\n",
       "      <td>1</td>\n",
       "      <td>15634602</td>\n",
       "      <td>Hargrave</td>\n",
       "      <td>619</td>\n",
       "      <td>France</td>\n",
       "      <td>Female</td>\n",
       "      <td>42</td>\n",
       "      <td>2.0</td>\n",
       "      <td>0.00</td>\n",
       "      <td>1</td>\n",
       "      <td>1</td>\n",
       "      <td>1</td>\n",
       "      <td>101348.88</td>\n",
       "      <td>1</td>\n",
       "    </tr>\n",
       "    <tr>\n",
       "      <td>1</td>\n",
       "      <td>2</td>\n",
       "      <td>15647311</td>\n",
       "      <td>Hill</td>\n",
       "      <td>608</td>\n",
       "      <td>Spain</td>\n",
       "      <td>Female</td>\n",
       "      <td>41</td>\n",
       "      <td>1.0</td>\n",
       "      <td>83807.86</td>\n",
       "      <td>1</td>\n",
       "      <td>0</td>\n",
       "      <td>1</td>\n",
       "      <td>112542.58</td>\n",
       "      <td>0</td>\n",
       "    </tr>\n",
       "    <tr>\n",
       "      <td>2</td>\n",
       "      <td>3</td>\n",
       "      <td>15619304</td>\n",
       "      <td>Onio</td>\n",
       "      <td>502</td>\n",
       "      <td>France</td>\n",
       "      <td>Female</td>\n",
       "      <td>42</td>\n",
       "      <td>8.0</td>\n",
       "      <td>159660.80</td>\n",
       "      <td>3</td>\n",
       "      <td>1</td>\n",
       "      <td>0</td>\n",
       "      <td>113931.57</td>\n",
       "      <td>1</td>\n",
       "    </tr>\n",
       "    <tr>\n",
       "      <td>3</td>\n",
       "      <td>4</td>\n",
       "      <td>15701354</td>\n",
       "      <td>Boni</td>\n",
       "      <td>699</td>\n",
       "      <td>France</td>\n",
       "      <td>Female</td>\n",
       "      <td>39</td>\n",
       "      <td>1.0</td>\n",
       "      <td>0.00</td>\n",
       "      <td>2</td>\n",
       "      <td>0</td>\n",
       "      <td>0</td>\n",
       "      <td>93826.63</td>\n",
       "      <td>0</td>\n",
       "    </tr>\n",
       "    <tr>\n",
       "      <td>4</td>\n",
       "      <td>5</td>\n",
       "      <td>15737888</td>\n",
       "      <td>Mitchell</td>\n",
       "      <td>850</td>\n",
       "      <td>Spain</td>\n",
       "      <td>Female</td>\n",
       "      <td>43</td>\n",
       "      <td>2.0</td>\n",
       "      <td>125510.82</td>\n",
       "      <td>1</td>\n",
       "      <td>1</td>\n",
       "      <td>1</td>\n",
       "      <td>79084.10</td>\n",
       "      <td>0</td>\n",
       "    </tr>\n",
       "    <tr>\n",
       "      <td>5</td>\n",
       "      <td>6</td>\n",
       "      <td>15574012</td>\n",
       "      <td>Chu</td>\n",
       "      <td>645</td>\n",
       "      <td>Spain</td>\n",
       "      <td>Male</td>\n",
       "      <td>44</td>\n",
       "      <td>8.0</td>\n",
       "      <td>113755.78</td>\n",
       "      <td>2</td>\n",
       "      <td>1</td>\n",
       "      <td>0</td>\n",
       "      <td>149756.71</td>\n",
       "      <td>1</td>\n",
       "    </tr>\n",
       "    <tr>\n",
       "      <td>6</td>\n",
       "      <td>7</td>\n",
       "      <td>15592531</td>\n",
       "      <td>Bartlett</td>\n",
       "      <td>822</td>\n",
       "      <td>France</td>\n",
       "      <td>Male</td>\n",
       "      <td>50</td>\n",
       "      <td>7.0</td>\n",
       "      <td>0.00</td>\n",
       "      <td>2</td>\n",
       "      <td>1</td>\n",
       "      <td>1</td>\n",
       "      <td>10062.80</td>\n",
       "      <td>0</td>\n",
       "    </tr>\n",
       "    <tr>\n",
       "      <td>7</td>\n",
       "      <td>8</td>\n",
       "      <td>15656148</td>\n",
       "      <td>Obinna</td>\n",
       "      <td>376</td>\n",
       "      <td>Germany</td>\n",
       "      <td>Female</td>\n",
       "      <td>29</td>\n",
       "      <td>4.0</td>\n",
       "      <td>115046.74</td>\n",
       "      <td>4</td>\n",
       "      <td>1</td>\n",
       "      <td>0</td>\n",
       "      <td>119346.88</td>\n",
       "      <td>1</td>\n",
       "    </tr>\n",
       "    <tr>\n",
       "      <td>8</td>\n",
       "      <td>9</td>\n",
       "      <td>15792365</td>\n",
       "      <td>He</td>\n",
       "      <td>501</td>\n",
       "      <td>France</td>\n",
       "      <td>Male</td>\n",
       "      <td>44</td>\n",
       "      <td>4.0</td>\n",
       "      <td>142051.07</td>\n",
       "      <td>2</td>\n",
       "      <td>0</td>\n",
       "      <td>1</td>\n",
       "      <td>74940.50</td>\n",
       "      <td>0</td>\n",
       "    </tr>\n",
       "    <tr>\n",
       "      <td>9</td>\n",
       "      <td>10</td>\n",
       "      <td>15592389</td>\n",
       "      <td>H?</td>\n",
       "      <td>684</td>\n",
       "      <td>France</td>\n",
       "      <td>Male</td>\n",
       "      <td>27</td>\n",
       "      <td>2.0</td>\n",
       "      <td>134603.88</td>\n",
       "      <td>1</td>\n",
       "      <td>1</td>\n",
       "      <td>1</td>\n",
       "      <td>71725.73</td>\n",
       "      <td>0</td>\n",
       "    </tr>\n",
       "  </tbody>\n",
       "</table>\n",
       "</div>"
      ],
      "text/plain": [
       "   RowNumber  CustomerId   Surname  CreditScore Geography  Gender  Age  \\\n",
       "0          1    15634602  Hargrave          619    France  Female   42   \n",
       "1          2    15647311      Hill          608     Spain  Female   41   \n",
       "2          3    15619304      Onio          502    France  Female   42   \n",
       "3          4    15701354      Boni          699    France  Female   39   \n",
       "4          5    15737888  Mitchell          850     Spain  Female   43   \n",
       "5          6    15574012       Chu          645     Spain    Male   44   \n",
       "6          7    15592531  Bartlett          822    France    Male   50   \n",
       "7          8    15656148    Obinna          376   Germany  Female   29   \n",
       "8          9    15792365        He          501    France    Male   44   \n",
       "9         10    15592389        H?          684    France    Male   27   \n",
       "\n",
       "   Tenure    Balance  NumOfProducts  HasCrCard  IsActiveMember  \\\n",
       "0     2.0       0.00              1          1               1   \n",
       "1     1.0   83807.86              1          0               1   \n",
       "2     8.0  159660.80              3          1               0   \n",
       "3     1.0       0.00              2          0               0   \n",
       "4     2.0  125510.82              1          1               1   \n",
       "5     8.0  113755.78              2          1               0   \n",
       "6     7.0       0.00              2          1               1   \n",
       "7     4.0  115046.74              4          1               0   \n",
       "8     4.0  142051.07              2          0               1   \n",
       "9     2.0  134603.88              1          1               1   \n",
       "\n",
       "   EstimatedSalary  Exited  \n",
       "0        101348.88       1  \n",
       "1        112542.58       0  \n",
       "2        113931.57       1  \n",
       "3         93826.63       0  \n",
       "4         79084.10       0  \n",
       "5        149756.71       1  \n",
       "6         10062.80       0  \n",
       "7        119346.88       1  \n",
       "8         74940.50       0  \n",
       "9         71725.73       0  "
      ]
     },
     "execution_count": 115,
     "metadata": {},
     "output_type": "execute_result"
    }
   ],
   "source": [
    "df = pd.read_csv('/datasets/Churn.csv')\n",
    "df.head(10)"
   ]
  },
  {
   "cell_type": "markdown",
   "metadata": {},
   "source": [
    "В данном датасете представлены:\n",
    "* Признаки\n",
    "    * RowNumber — индекс строки в данных\n",
    "    * CustomerId — уникальный идентификатор клиента\n",
    "    * Surname — фамилия\n",
    "    * CreditScore — кредитный рейтинг\n",
    "    * Geography — страна проживания\n",
    "    * Gender — пол\n",
    "    * Age — возраст\n",
    "    * Tenure — сколько лет человек является клиентом банка\n",
    "    * Balance — баланс на счёте\n",
    "    * NumOfProducts — количество продуктов банка, используемых клиентом\n",
    "    * HasCrCard — наличие кредитной карты\n",
    "    * IsActiveMember — активность клиента\n",
    "    * EstimatedSalary — предполагаемая зарплата\n",
    "* Целевой признак\n",
    "    * Exited — факт ухода клиента"
   ]
  },
  {
   "cell_type": "markdown",
   "metadata": {},
   "source": [
    "Столбцы *RowNumber*, *CustomerId* и *Surname* не влияют на формирование целевого признака, поэтому их можно удалить."
   ]
  },
  {
   "cell_type": "code",
   "execution_count": 116,
   "metadata": {},
   "outputs": [
    {
     "data": {
      "text/html": [
       "<div>\n",
       "<style scoped>\n",
       "    .dataframe tbody tr th:only-of-type {\n",
       "        vertical-align: middle;\n",
       "    }\n",
       "\n",
       "    .dataframe tbody tr th {\n",
       "        vertical-align: top;\n",
       "    }\n",
       "\n",
       "    .dataframe thead th {\n",
       "        text-align: right;\n",
       "    }\n",
       "</style>\n",
       "<table border=\"1\" class=\"dataframe\">\n",
       "  <thead>\n",
       "    <tr style=\"text-align: right;\">\n",
       "      <th></th>\n",
       "      <th>CreditScore</th>\n",
       "      <th>Geography</th>\n",
       "      <th>Gender</th>\n",
       "      <th>Age</th>\n",
       "      <th>Tenure</th>\n",
       "      <th>Balance</th>\n",
       "      <th>NumOfProducts</th>\n",
       "      <th>HasCrCard</th>\n",
       "      <th>IsActiveMember</th>\n",
       "      <th>EstimatedSalary</th>\n",
       "      <th>Exited</th>\n",
       "    </tr>\n",
       "  </thead>\n",
       "  <tbody>\n",
       "    <tr>\n",
       "      <td>0</td>\n",
       "      <td>619</td>\n",
       "      <td>France</td>\n",
       "      <td>Female</td>\n",
       "      <td>42</td>\n",
       "      <td>2.0</td>\n",
       "      <td>0.00</td>\n",
       "      <td>1</td>\n",
       "      <td>1</td>\n",
       "      <td>1</td>\n",
       "      <td>101348.88</td>\n",
       "      <td>1</td>\n",
       "    </tr>\n",
       "    <tr>\n",
       "      <td>1</td>\n",
       "      <td>608</td>\n",
       "      <td>Spain</td>\n",
       "      <td>Female</td>\n",
       "      <td>41</td>\n",
       "      <td>1.0</td>\n",
       "      <td>83807.86</td>\n",
       "      <td>1</td>\n",
       "      <td>0</td>\n",
       "      <td>1</td>\n",
       "      <td>112542.58</td>\n",
       "      <td>0</td>\n",
       "    </tr>\n",
       "    <tr>\n",
       "      <td>2</td>\n",
       "      <td>502</td>\n",
       "      <td>France</td>\n",
       "      <td>Female</td>\n",
       "      <td>42</td>\n",
       "      <td>8.0</td>\n",
       "      <td>159660.80</td>\n",
       "      <td>3</td>\n",
       "      <td>1</td>\n",
       "      <td>0</td>\n",
       "      <td>113931.57</td>\n",
       "      <td>1</td>\n",
       "    </tr>\n",
       "    <tr>\n",
       "      <td>3</td>\n",
       "      <td>699</td>\n",
       "      <td>France</td>\n",
       "      <td>Female</td>\n",
       "      <td>39</td>\n",
       "      <td>1.0</td>\n",
       "      <td>0.00</td>\n",
       "      <td>2</td>\n",
       "      <td>0</td>\n",
       "      <td>0</td>\n",
       "      <td>93826.63</td>\n",
       "      <td>0</td>\n",
       "    </tr>\n",
       "    <tr>\n",
       "      <td>4</td>\n",
       "      <td>850</td>\n",
       "      <td>Spain</td>\n",
       "      <td>Female</td>\n",
       "      <td>43</td>\n",
       "      <td>2.0</td>\n",
       "      <td>125510.82</td>\n",
       "      <td>1</td>\n",
       "      <td>1</td>\n",
       "      <td>1</td>\n",
       "      <td>79084.10</td>\n",
       "      <td>0</td>\n",
       "    </tr>\n",
       "    <tr>\n",
       "      <td>5</td>\n",
       "      <td>645</td>\n",
       "      <td>Spain</td>\n",
       "      <td>Male</td>\n",
       "      <td>44</td>\n",
       "      <td>8.0</td>\n",
       "      <td>113755.78</td>\n",
       "      <td>2</td>\n",
       "      <td>1</td>\n",
       "      <td>0</td>\n",
       "      <td>149756.71</td>\n",
       "      <td>1</td>\n",
       "    </tr>\n",
       "    <tr>\n",
       "      <td>6</td>\n",
       "      <td>822</td>\n",
       "      <td>France</td>\n",
       "      <td>Male</td>\n",
       "      <td>50</td>\n",
       "      <td>7.0</td>\n",
       "      <td>0.00</td>\n",
       "      <td>2</td>\n",
       "      <td>1</td>\n",
       "      <td>1</td>\n",
       "      <td>10062.80</td>\n",
       "      <td>0</td>\n",
       "    </tr>\n",
       "    <tr>\n",
       "      <td>7</td>\n",
       "      <td>376</td>\n",
       "      <td>Germany</td>\n",
       "      <td>Female</td>\n",
       "      <td>29</td>\n",
       "      <td>4.0</td>\n",
       "      <td>115046.74</td>\n",
       "      <td>4</td>\n",
       "      <td>1</td>\n",
       "      <td>0</td>\n",
       "      <td>119346.88</td>\n",
       "      <td>1</td>\n",
       "    </tr>\n",
       "    <tr>\n",
       "      <td>8</td>\n",
       "      <td>501</td>\n",
       "      <td>France</td>\n",
       "      <td>Male</td>\n",
       "      <td>44</td>\n",
       "      <td>4.0</td>\n",
       "      <td>142051.07</td>\n",
       "      <td>2</td>\n",
       "      <td>0</td>\n",
       "      <td>1</td>\n",
       "      <td>74940.50</td>\n",
       "      <td>0</td>\n",
       "    </tr>\n",
       "    <tr>\n",
       "      <td>9</td>\n",
       "      <td>684</td>\n",
       "      <td>France</td>\n",
       "      <td>Male</td>\n",
       "      <td>27</td>\n",
       "      <td>2.0</td>\n",
       "      <td>134603.88</td>\n",
       "      <td>1</td>\n",
       "      <td>1</td>\n",
       "      <td>1</td>\n",
       "      <td>71725.73</td>\n",
       "      <td>0</td>\n",
       "    </tr>\n",
       "  </tbody>\n",
       "</table>\n",
       "</div>"
      ],
      "text/plain": [
       "   CreditScore Geography  Gender  Age  Tenure    Balance  NumOfProducts  \\\n",
       "0          619    France  Female   42     2.0       0.00              1   \n",
       "1          608     Spain  Female   41     1.0   83807.86              1   \n",
       "2          502    France  Female   42     8.0  159660.80              3   \n",
       "3          699    France  Female   39     1.0       0.00              2   \n",
       "4          850     Spain  Female   43     2.0  125510.82              1   \n",
       "5          645     Spain    Male   44     8.0  113755.78              2   \n",
       "6          822    France    Male   50     7.0       0.00              2   \n",
       "7          376   Germany  Female   29     4.0  115046.74              4   \n",
       "8          501    France    Male   44     4.0  142051.07              2   \n",
       "9          684    France    Male   27     2.0  134603.88              1   \n",
       "\n",
       "   HasCrCard  IsActiveMember  EstimatedSalary  Exited  \n",
       "0          1               1        101348.88       1  \n",
       "1          0               1        112542.58       0  \n",
       "2          1               0        113931.57       1  \n",
       "3          0               0         93826.63       0  \n",
       "4          1               1         79084.10       0  \n",
       "5          1               0        149756.71       1  \n",
       "6          1               1         10062.80       0  \n",
       "7          1               0        119346.88       1  \n",
       "8          0               1         74940.50       0  \n",
       "9          1               1         71725.73       0  "
      ]
     },
     "execution_count": 116,
     "metadata": {},
     "output_type": "execute_result"
    }
   ],
   "source": [
    "df = df.drop(['RowNumber', 'CustomerId', 'Surname'], axis = 1)\n",
    "df.head(10)"
   ]
  },
  {
   "cell_type": "markdown",
   "metadata": {},
   "source": [
    "Преобразуем категориальные признаки в численные с помощью техники прямого кодирования(One-Hot Encoding)."
   ]
  },
  {
   "cell_type": "code",
   "execution_count": 117,
   "metadata": {},
   "outputs": [
    {
     "data": {
      "text/html": [
       "<div>\n",
       "<style scoped>\n",
       "    .dataframe tbody tr th:only-of-type {\n",
       "        vertical-align: middle;\n",
       "    }\n",
       "\n",
       "    .dataframe tbody tr th {\n",
       "        vertical-align: top;\n",
       "    }\n",
       "\n",
       "    .dataframe thead th {\n",
       "        text-align: right;\n",
       "    }\n",
       "</style>\n",
       "<table border=\"1\" class=\"dataframe\">\n",
       "  <thead>\n",
       "    <tr style=\"text-align: right;\">\n",
       "      <th></th>\n",
       "      <th>CreditScore</th>\n",
       "      <th>Age</th>\n",
       "      <th>Tenure</th>\n",
       "      <th>Balance</th>\n",
       "      <th>NumOfProducts</th>\n",
       "      <th>HasCrCard</th>\n",
       "      <th>IsActiveMember</th>\n",
       "      <th>EstimatedSalary</th>\n",
       "      <th>Exited</th>\n",
       "      <th>Germany</th>\n",
       "      <th>Spain</th>\n",
       "      <th>Male</th>\n",
       "    </tr>\n",
       "  </thead>\n",
       "  <tbody>\n",
       "    <tr>\n",
       "      <td>0</td>\n",
       "      <td>619</td>\n",
       "      <td>42</td>\n",
       "      <td>2.0</td>\n",
       "      <td>0.00</td>\n",
       "      <td>1</td>\n",
       "      <td>1</td>\n",
       "      <td>1</td>\n",
       "      <td>101348.88</td>\n",
       "      <td>1</td>\n",
       "      <td>0</td>\n",
       "      <td>0</td>\n",
       "      <td>0</td>\n",
       "    </tr>\n",
       "    <tr>\n",
       "      <td>1</td>\n",
       "      <td>608</td>\n",
       "      <td>41</td>\n",
       "      <td>1.0</td>\n",
       "      <td>83807.86</td>\n",
       "      <td>1</td>\n",
       "      <td>0</td>\n",
       "      <td>1</td>\n",
       "      <td>112542.58</td>\n",
       "      <td>0</td>\n",
       "      <td>0</td>\n",
       "      <td>1</td>\n",
       "      <td>0</td>\n",
       "    </tr>\n",
       "    <tr>\n",
       "      <td>2</td>\n",
       "      <td>502</td>\n",
       "      <td>42</td>\n",
       "      <td>8.0</td>\n",
       "      <td>159660.80</td>\n",
       "      <td>3</td>\n",
       "      <td>1</td>\n",
       "      <td>0</td>\n",
       "      <td>113931.57</td>\n",
       "      <td>1</td>\n",
       "      <td>0</td>\n",
       "      <td>0</td>\n",
       "      <td>0</td>\n",
       "    </tr>\n",
       "    <tr>\n",
       "      <td>3</td>\n",
       "      <td>699</td>\n",
       "      <td>39</td>\n",
       "      <td>1.0</td>\n",
       "      <td>0.00</td>\n",
       "      <td>2</td>\n",
       "      <td>0</td>\n",
       "      <td>0</td>\n",
       "      <td>93826.63</td>\n",
       "      <td>0</td>\n",
       "      <td>0</td>\n",
       "      <td>0</td>\n",
       "      <td>0</td>\n",
       "    </tr>\n",
       "    <tr>\n",
       "      <td>4</td>\n",
       "      <td>850</td>\n",
       "      <td>43</td>\n",
       "      <td>2.0</td>\n",
       "      <td>125510.82</td>\n",
       "      <td>1</td>\n",
       "      <td>1</td>\n",
       "      <td>1</td>\n",
       "      <td>79084.10</td>\n",
       "      <td>0</td>\n",
       "      <td>0</td>\n",
       "      <td>1</td>\n",
       "      <td>0</td>\n",
       "    </tr>\n",
       "    <tr>\n",
       "      <td>5</td>\n",
       "      <td>645</td>\n",
       "      <td>44</td>\n",
       "      <td>8.0</td>\n",
       "      <td>113755.78</td>\n",
       "      <td>2</td>\n",
       "      <td>1</td>\n",
       "      <td>0</td>\n",
       "      <td>149756.71</td>\n",
       "      <td>1</td>\n",
       "      <td>0</td>\n",
       "      <td>1</td>\n",
       "      <td>1</td>\n",
       "    </tr>\n",
       "    <tr>\n",
       "      <td>6</td>\n",
       "      <td>822</td>\n",
       "      <td>50</td>\n",
       "      <td>7.0</td>\n",
       "      <td>0.00</td>\n",
       "      <td>2</td>\n",
       "      <td>1</td>\n",
       "      <td>1</td>\n",
       "      <td>10062.80</td>\n",
       "      <td>0</td>\n",
       "      <td>0</td>\n",
       "      <td>0</td>\n",
       "      <td>1</td>\n",
       "    </tr>\n",
       "    <tr>\n",
       "      <td>7</td>\n",
       "      <td>376</td>\n",
       "      <td>29</td>\n",
       "      <td>4.0</td>\n",
       "      <td>115046.74</td>\n",
       "      <td>4</td>\n",
       "      <td>1</td>\n",
       "      <td>0</td>\n",
       "      <td>119346.88</td>\n",
       "      <td>1</td>\n",
       "      <td>1</td>\n",
       "      <td>0</td>\n",
       "      <td>0</td>\n",
       "    </tr>\n",
       "    <tr>\n",
       "      <td>8</td>\n",
       "      <td>501</td>\n",
       "      <td>44</td>\n",
       "      <td>4.0</td>\n",
       "      <td>142051.07</td>\n",
       "      <td>2</td>\n",
       "      <td>0</td>\n",
       "      <td>1</td>\n",
       "      <td>74940.50</td>\n",
       "      <td>0</td>\n",
       "      <td>0</td>\n",
       "      <td>0</td>\n",
       "      <td>1</td>\n",
       "    </tr>\n",
       "    <tr>\n",
       "      <td>9</td>\n",
       "      <td>684</td>\n",
       "      <td>27</td>\n",
       "      <td>2.0</td>\n",
       "      <td>134603.88</td>\n",
       "      <td>1</td>\n",
       "      <td>1</td>\n",
       "      <td>1</td>\n",
       "      <td>71725.73</td>\n",
       "      <td>0</td>\n",
       "      <td>0</td>\n",
       "      <td>0</td>\n",
       "      <td>1</td>\n",
       "    </tr>\n",
       "  </tbody>\n",
       "</table>\n",
       "</div>"
      ],
      "text/plain": [
       "   CreditScore  Age  Tenure    Balance  NumOfProducts  HasCrCard  \\\n",
       "0          619   42     2.0       0.00              1          1   \n",
       "1          608   41     1.0   83807.86              1          0   \n",
       "2          502   42     8.0  159660.80              3          1   \n",
       "3          699   39     1.0       0.00              2          0   \n",
       "4          850   43     2.0  125510.82              1          1   \n",
       "5          645   44     8.0  113755.78              2          1   \n",
       "6          822   50     7.0       0.00              2          1   \n",
       "7          376   29     4.0  115046.74              4          1   \n",
       "8          501   44     4.0  142051.07              2          0   \n",
       "9          684   27     2.0  134603.88              1          1   \n",
       "\n",
       "   IsActiveMember  EstimatedSalary  Exited  Germany  Spain  Male  \n",
       "0               1        101348.88       1        0      0     0  \n",
       "1               1        112542.58       0        0      1     0  \n",
       "2               0        113931.57       1        0      0     0  \n",
       "3               0         93826.63       0        0      0     0  \n",
       "4               1         79084.10       0        0      1     0  \n",
       "5               0        149756.71       1        0      1     1  \n",
       "6               1         10062.80       0        0      0     1  \n",
       "7               0        119346.88       1        1      0     0  \n",
       "8               1         74940.50       0        0      0     1  \n",
       "9               1         71725.73       0        0      0     1  "
      ]
     },
     "execution_count": 117,
     "metadata": {},
     "output_type": "execute_result"
    }
   ],
   "source": [
    "Geography_ohe = pd.get_dummies(df['Geography'], drop_first=True)\n",
    "Gender_ohe = pd.get_dummies(df['Gender'], drop_first=True)\n",
    "df = df.drop(['Geography', 'Gender'], axis = 1)\n",
    "df = pd.concat([df, Geography_ohe, Gender_ohe], axis = 1)\n",
    "df.head(10)"
   ]
  },
  {
   "cell_type": "markdown",
   "metadata": {},
   "source": [
    "Посмотрим общую информацию о нашем датасете."
   ]
  },
  {
   "cell_type": "code",
   "execution_count": 118,
   "metadata": {},
   "outputs": [
    {
     "name": "stdout",
     "output_type": "stream",
     "text": [
      "<class 'pandas.core.frame.DataFrame'>\n",
      "RangeIndex: 10000 entries, 0 to 9999\n",
      "Data columns (total 12 columns):\n",
      "CreditScore        10000 non-null int64\n",
      "Age                10000 non-null int64\n",
      "Tenure             9091 non-null float64\n",
      "Balance            10000 non-null float64\n",
      "NumOfProducts      10000 non-null int64\n",
      "HasCrCard          10000 non-null int64\n",
      "IsActiveMember     10000 non-null int64\n",
      "EstimatedSalary    10000 non-null float64\n",
      "Exited             10000 non-null int64\n",
      "Germany            10000 non-null uint8\n",
      "Spain              10000 non-null uint8\n",
      "Male               10000 non-null uint8\n",
      "dtypes: float64(3), int64(6), uint8(3)\n",
      "memory usage: 732.5 KB\n"
     ]
    }
   ],
   "source": [
    "df.info()"
   ]
  },
  {
   "cell_type": "markdown",
   "metadata": {},
   "source": [
    "Столбец *Tenure* имеет пропуски. Заполним их."
   ]
  },
  {
   "cell_type": "code",
   "execution_count": 119,
   "metadata": {},
   "outputs": [],
   "source": [
    "df['Tenure'] = df['Tenure'].fillna(-1)"
   ]
  },
  {
   "cell_type": "markdown",
   "metadata": {},
   "source": [
    "Разделим исходные данные на обучающую, валидационную и тестовую выборки в соотношении 0.6, 0.2 и 0.2."
   ]
  },
  {
   "cell_type": "code",
   "execution_count": 120,
   "metadata": {},
   "outputs": [],
   "source": [
    "df_train, df_test = train_test_split(df, test_size = 0.2, random_state = 12345, stratify=df['Exited'])\n",
    "df_train, df_valid = train_test_split(df_train, test_size = 0.25, random_state = 12345, stratify = df_train['Exited'])"
   ]
  },
  {
   "cell_type": "markdown",
   "metadata": {},
   "source": [
    "Выведем на экран размеры таблиц, которые хранятся в трех переменных."
   ]
  },
  {
   "cell_type": "code",
   "execution_count": 121,
   "metadata": {},
   "outputs": [
    {
     "name": "stdout",
     "output_type": "stream",
     "text": [
      "Обучающая выборка: (6000, 12)\n",
      "Валидационная выборка: (2000, 12)\n",
      "Тестовая выборка: (2000, 12)\n"
     ]
    }
   ],
   "source": [
    "print('Обучающая выборка:', df_train.shape)\n",
    "print('Валидационная выборка:', df_valid.shape)\n",
    "print('Тестовая выборка:', df_test.shape)"
   ]
  },
  {
   "cell_type": "markdown",
   "metadata": {},
   "source": [
    "Приведём количественные признаки обучающей выборки к одному масштабу с помощью одного из методов масштабирования — стандартизации данных."
   ]
  },
  {
   "cell_type": "code",
   "execution_count": 122,
   "metadata": {},
   "outputs": [
    {
     "data": {
      "text/html": [
       "<div>\n",
       "<style scoped>\n",
       "    .dataframe tbody tr th:only-of-type {\n",
       "        vertical-align: middle;\n",
       "    }\n",
       "\n",
       "    .dataframe tbody tr th {\n",
       "        vertical-align: top;\n",
       "    }\n",
       "\n",
       "    .dataframe thead th {\n",
       "        text-align: right;\n",
       "    }\n",
       "</style>\n",
       "<table border=\"1\" class=\"dataframe\">\n",
       "  <thead>\n",
       "    <tr style=\"text-align: right;\">\n",
       "      <th></th>\n",
       "      <th>CreditScore</th>\n",
       "      <th>Age</th>\n",
       "      <th>Tenure</th>\n",
       "      <th>Balance</th>\n",
       "      <th>NumOfProducts</th>\n",
       "      <th>HasCrCard</th>\n",
       "      <th>IsActiveMember</th>\n",
       "      <th>EstimatedSalary</th>\n",
       "      <th>Exited</th>\n",
       "      <th>Germany</th>\n",
       "      <th>Spain</th>\n",
       "      <th>Male</th>\n",
       "    </tr>\n",
       "  </thead>\n",
       "  <tbody>\n",
       "    <tr>\n",
       "      <td>5536</td>\n",
       "      <td>-0.143332</td>\n",
       "      <td>0.577533</td>\n",
       "      <td>-1.668334</td>\n",
       "      <td>-1.220573</td>\n",
       "      <td>0.797767</td>\n",
       "      <td>1</td>\n",
       "      <td>1</td>\n",
       "      <td>1.029613</td>\n",
       "      <td>0</td>\n",
       "      <td>0</td>\n",
       "      <td>1</td>\n",
       "      <td>1</td>\n",
       "    </tr>\n",
       "    <tr>\n",
       "      <td>8530</td>\n",
       "      <td>1.632702</td>\n",
       "      <td>-0.564119</td>\n",
       "      <td>-0.748043</td>\n",
       "      <td>0.435807</td>\n",
       "      <td>-0.916018</td>\n",
       "      <td>1</td>\n",
       "      <td>0</td>\n",
       "      <td>0.237986</td>\n",
       "      <td>0</td>\n",
       "      <td>0</td>\n",
       "      <td>0</td>\n",
       "      <td>0</td>\n",
       "    </tr>\n",
       "    <tr>\n",
       "      <td>1762</td>\n",
       "      <td>1.116413</td>\n",
       "      <td>-0.468981</td>\n",
       "      <td>-1.054807</td>\n",
       "      <td>1.245822</td>\n",
       "      <td>-0.916018</td>\n",
       "      <td>1</td>\n",
       "      <td>1</td>\n",
       "      <td>-0.686104</td>\n",
       "      <td>0</td>\n",
       "      <td>0</td>\n",
       "      <td>0</td>\n",
       "      <td>0</td>\n",
       "    </tr>\n",
       "    <tr>\n",
       "      <td>9090</td>\n",
       "      <td>1.643028</td>\n",
       "      <td>0.006707</td>\n",
       "      <td>0.172248</td>\n",
       "      <td>-1.220573</td>\n",
       "      <td>-0.916018</td>\n",
       "      <td>1</td>\n",
       "      <td>0</td>\n",
       "      <td>-0.391097</td>\n",
       "      <td>0</td>\n",
       "      <td>0</td>\n",
       "      <td>0</td>\n",
       "      <td>0</td>\n",
       "    </tr>\n",
       "    <tr>\n",
       "      <td>8777</td>\n",
       "      <td>-0.484083</td>\n",
       "      <td>-1.420358</td>\n",
       "      <td>-1.054807</td>\n",
       "      <td>1.421989</td>\n",
       "      <td>0.797767</td>\n",
       "      <td>1</td>\n",
       "      <td>0</td>\n",
       "      <td>-1.361559</td>\n",
       "      <td>0</td>\n",
       "      <td>0</td>\n",
       "      <td>1</td>\n",
       "      <td>1</td>\n",
       "    </tr>\n",
       "    <tr>\n",
       "      <td>6144</td>\n",
       "      <td>0.445237</td>\n",
       "      <td>0.672671</td>\n",
       "      <td>-0.441279</td>\n",
       "      <td>1.206938</td>\n",
       "      <td>-0.916018</td>\n",
       "      <td>1</td>\n",
       "      <td>0</td>\n",
       "      <td>1.399264</td>\n",
       "      <td>0</td>\n",
       "      <td>0</td>\n",
       "      <td>1</td>\n",
       "      <td>0</td>\n",
       "    </tr>\n",
       "    <tr>\n",
       "      <td>5497</td>\n",
       "      <td>1.281625</td>\n",
       "      <td>-0.278706</td>\n",
       "      <td>1.092539</td>\n",
       "      <td>0.653989</td>\n",
       "      <td>-0.916018</td>\n",
       "      <td>0</td>\n",
       "      <td>0</td>\n",
       "      <td>0.028082</td>\n",
       "      <td>0</td>\n",
       "      <td>0</td>\n",
       "      <td>1</td>\n",
       "      <td>0</td>\n",
       "    </tr>\n",
       "    <tr>\n",
       "      <td>8656</td>\n",
       "      <td>0.104487</td>\n",
       "      <td>-0.754394</td>\n",
       "      <td>-1.054807</td>\n",
       "      <td>0.132478</td>\n",
       "      <td>-0.916018</td>\n",
       "      <td>1</td>\n",
       "      <td>1</td>\n",
       "      <td>0.652887</td>\n",
       "      <td>0</td>\n",
       "      <td>0</td>\n",
       "      <td>1</td>\n",
       "      <td>1</td>\n",
       "    </tr>\n",
       "    <tr>\n",
       "      <td>8833</td>\n",
       "      <td>-0.577015</td>\n",
       "      <td>1.053222</td>\n",
       "      <td>0.785775</td>\n",
       "      <td>0.080479</td>\n",
       "      <td>-0.916018</td>\n",
       "      <td>1</td>\n",
       "      <td>1</td>\n",
       "      <td>1.453685</td>\n",
       "      <td>0</td>\n",
       "      <td>0</td>\n",
       "      <td>0</td>\n",
       "      <td>1</td>\n",
       "    </tr>\n",
       "    <tr>\n",
       "      <td>6384</td>\n",
       "      <td>-1.248190</td>\n",
       "      <td>-0.754394</td>\n",
       "      <td>0.785775</td>\n",
       "      <td>-1.220573</td>\n",
       "      <td>0.797767</td>\n",
       "      <td>1</td>\n",
       "      <td>1</td>\n",
       "      <td>1.311712</td>\n",
       "      <td>0</td>\n",
       "      <td>0</td>\n",
       "      <td>0</td>\n",
       "      <td>0</td>\n",
       "    </tr>\n",
       "  </tbody>\n",
       "</table>\n",
       "</div>"
      ],
      "text/plain": [
       "      CreditScore       Age    Tenure   Balance  NumOfProducts  HasCrCard  \\\n",
       "5536    -0.143332  0.577533 -1.668334 -1.220573       0.797767          1   \n",
       "8530     1.632702 -0.564119 -0.748043  0.435807      -0.916018          1   \n",
       "1762     1.116413 -0.468981 -1.054807  1.245822      -0.916018          1   \n",
       "9090     1.643028  0.006707  0.172248 -1.220573      -0.916018          1   \n",
       "8777    -0.484083 -1.420358 -1.054807  1.421989       0.797767          1   \n",
       "6144     0.445237  0.672671 -0.441279  1.206938      -0.916018          1   \n",
       "5497     1.281625 -0.278706  1.092539  0.653989      -0.916018          0   \n",
       "8656     0.104487 -0.754394 -1.054807  0.132478      -0.916018          1   \n",
       "8833    -0.577015  1.053222  0.785775  0.080479      -0.916018          1   \n",
       "6384    -1.248190 -0.754394  0.785775 -1.220573       0.797767          1   \n",
       "\n",
       "      IsActiveMember  EstimatedSalary  Exited  Germany  Spain  Male  \n",
       "5536               1         1.029613       0        0      1     1  \n",
       "8530               0         0.237986       0        0      0     0  \n",
       "1762               1        -0.686104       0        0      0     0  \n",
       "9090               0        -0.391097       0        0      0     0  \n",
       "8777               0        -1.361559       0        0      1     1  \n",
       "6144               0         1.399264       0        0      1     0  \n",
       "5497               0         0.028082       0        0      1     0  \n",
       "8656               1         0.652887       0        0      1     1  \n",
       "8833               1         1.453685       0        0      0     1  \n",
       "6384               1         1.311712       0        0      0     0  "
      ]
     },
     "execution_count": 122,
     "metadata": {},
     "output_type": "execute_result"
    }
   ],
   "source": [
    "scaler = StandardScaler()\n",
    "scaler.fit(df_train[['CreditScore', 'Age', 'Tenure', 'Balance', 'NumOfProducts', 'EstimatedSalary']]) \n",
    "df_train[['CreditScore', 'Age', 'Tenure', 'Balance', 'NumOfProducts', 'EstimatedSalary']] = scaler.transform(df_train[['CreditScore', 'Age', 'Tenure', 'Balance', 'NumOfProducts', 'EstimatedSalary']])\n",
    "df_train.head(10)"
   ]
  },
  {
   "cell_type": "code",
   "execution_count": 123,
   "metadata": {},
   "outputs": [
    {
     "data": {
      "text/html": [
       "<div>\n",
       "<style scoped>\n",
       "    .dataframe tbody tr th:only-of-type {\n",
       "        vertical-align: middle;\n",
       "    }\n",
       "\n",
       "    .dataframe tbody tr th {\n",
       "        vertical-align: top;\n",
       "    }\n",
       "\n",
       "    .dataframe thead th {\n",
       "        text-align: right;\n",
       "    }\n",
       "</style>\n",
       "<table border=\"1\" class=\"dataframe\">\n",
       "  <thead>\n",
       "    <tr style=\"text-align: right;\">\n",
       "      <th></th>\n",
       "      <th>CreditScore</th>\n",
       "      <th>Age</th>\n",
       "      <th>Tenure</th>\n",
       "      <th>Balance</th>\n",
       "      <th>NumOfProducts</th>\n",
       "      <th>HasCrCard</th>\n",
       "      <th>IsActiveMember</th>\n",
       "      <th>EstimatedSalary</th>\n",
       "      <th>Exited</th>\n",
       "      <th>Germany</th>\n",
       "      <th>Spain</th>\n",
       "      <th>Male</th>\n",
       "    </tr>\n",
       "  </thead>\n",
       "  <tbody>\n",
       "    <tr>\n",
       "      <td>9375</td>\n",
       "      <td>0.094161</td>\n",
       "      <td>0.862946</td>\n",
       "      <td>-0.134516</td>\n",
       "      <td>0.757050</td>\n",
       "      <td>0.797767</td>\n",
       "      <td>1</td>\n",
       "      <td>0</td>\n",
       "      <td>-0.308325</td>\n",
       "      <td>1</td>\n",
       "      <td>1</td>\n",
       "      <td>0</td>\n",
       "      <td>1</td>\n",
       "    </tr>\n",
       "    <tr>\n",
       "      <td>9536</td>\n",
       "      <td>-1.031349</td>\n",
       "      <td>0.292120</td>\n",
       "      <td>1.706066</td>\n",
       "      <td>0.838881</td>\n",
       "      <td>-0.916018</td>\n",
       "      <td>1</td>\n",
       "      <td>0</td>\n",
       "      <td>-0.645029</td>\n",
       "      <td>1</td>\n",
       "      <td>1</td>\n",
       "      <td>0</td>\n",
       "      <td>0</td>\n",
       "    </tr>\n",
       "    <tr>\n",
       "      <td>6344</td>\n",
       "      <td>2.066384</td>\n",
       "      <td>0.196983</td>\n",
       "      <td>-0.441279</td>\n",
       "      <td>-1.220573</td>\n",
       "      <td>0.797767</td>\n",
       "      <td>1</td>\n",
       "      <td>0</td>\n",
       "      <td>0.498373</td>\n",
       "      <td>0</td>\n",
       "      <td>0</td>\n",
       "      <td>0</td>\n",
       "      <td>1</td>\n",
       "    </tr>\n",
       "    <tr>\n",
       "      <td>4357</td>\n",
       "      <td>1.085435</td>\n",
       "      <td>-0.278706</td>\n",
       "      <td>1.092539</td>\n",
       "      <td>-1.220573</td>\n",
       "      <td>0.797767</td>\n",
       "      <td>1</td>\n",
       "      <td>0</td>\n",
       "      <td>1.331035</td>\n",
       "      <td>0</td>\n",
       "      <td>0</td>\n",
       "      <td>0</td>\n",
       "      <td>1</td>\n",
       "    </tr>\n",
       "    <tr>\n",
       "      <td>9120</td>\n",
       "      <td>0.548495</td>\n",
       "      <td>1.814323</td>\n",
       "      <td>-0.134516</td>\n",
       "      <td>0.266421</td>\n",
       "      <td>-0.916018</td>\n",
       "      <td>0</td>\n",
       "      <td>1</td>\n",
       "      <td>-0.261760</td>\n",
       "      <td>0</td>\n",
       "      <td>0</td>\n",
       "      <td>1</td>\n",
       "      <td>1</td>\n",
       "    </tr>\n",
       "    <tr>\n",
       "      <td>3964</td>\n",
       "      <td>-1.795457</td>\n",
       "      <td>-0.183568</td>\n",
       "      <td>-0.134516</td>\n",
       "      <td>-1.220573</td>\n",
       "      <td>-0.916018</td>\n",
       "      <td>1</td>\n",
       "      <td>1</td>\n",
       "      <td>-0.772173</td>\n",
       "      <td>1</td>\n",
       "      <td>0</td>\n",
       "      <td>0</td>\n",
       "      <td>1</td>\n",
       "    </tr>\n",
       "    <tr>\n",
       "      <td>4759</td>\n",
       "      <td>-0.959069</td>\n",
       "      <td>-0.468981</td>\n",
       "      <td>-0.441279</td>\n",
       "      <td>-1.220573</td>\n",
       "      <td>-0.916018</td>\n",
       "      <td>0</td>\n",
       "      <td>1</td>\n",
       "      <td>0.403418</td>\n",
       "      <td>0</td>\n",
       "      <td>0</td>\n",
       "      <td>1</td>\n",
       "      <td>1</td>\n",
       "    </tr>\n",
       "    <tr>\n",
       "      <td>4033</td>\n",
       "      <td>-0.184635</td>\n",
       "      <td>0.862946</td>\n",
       "      <td>0.479011</td>\n",
       "      <td>0.796622</td>\n",
       "      <td>-0.916018</td>\n",
       "      <td>1</td>\n",
       "      <td>0</td>\n",
       "      <td>-0.623256</td>\n",
       "      <td>1</td>\n",
       "      <td>1</td>\n",
       "      <td>0</td>\n",
       "      <td>1</td>\n",
       "    </tr>\n",
       "    <tr>\n",
       "      <td>7658</td>\n",
       "      <td>0.579472</td>\n",
       "      <td>1.338635</td>\n",
       "      <td>-0.441279</td>\n",
       "      <td>-1.220573</td>\n",
       "      <td>2.511553</td>\n",
       "      <td>0</td>\n",
       "      <td>0</td>\n",
       "      <td>-0.203890</td>\n",
       "      <td>1</td>\n",
       "      <td>0</td>\n",
       "      <td>1</td>\n",
       "      <td>0</td>\n",
       "    </tr>\n",
       "    <tr>\n",
       "      <td>3605</td>\n",
       "      <td>-0.638969</td>\n",
       "      <td>-0.468981</td>\n",
       "      <td>-1.668334</td>\n",
       "      <td>0.850250</td>\n",
       "      <td>-0.916018</td>\n",
       "      <td>1</td>\n",
       "      <td>0</td>\n",
       "      <td>0.929930</td>\n",
       "      <td>0</td>\n",
       "      <td>1</td>\n",
       "      <td>0</td>\n",
       "      <td>0</td>\n",
       "    </tr>\n",
       "  </tbody>\n",
       "</table>\n",
       "</div>"
      ],
      "text/plain": [
       "      CreditScore       Age    Tenure   Balance  NumOfProducts  HasCrCard  \\\n",
       "9375     0.094161  0.862946 -0.134516  0.757050       0.797767          1   \n",
       "9536    -1.031349  0.292120  1.706066  0.838881      -0.916018          1   \n",
       "6344     2.066384  0.196983 -0.441279 -1.220573       0.797767          1   \n",
       "4357     1.085435 -0.278706  1.092539 -1.220573       0.797767          1   \n",
       "9120     0.548495  1.814323 -0.134516  0.266421      -0.916018          0   \n",
       "3964    -1.795457 -0.183568 -0.134516 -1.220573      -0.916018          1   \n",
       "4759    -0.959069 -0.468981 -0.441279 -1.220573      -0.916018          0   \n",
       "4033    -0.184635  0.862946  0.479011  0.796622      -0.916018          1   \n",
       "7658     0.579472  1.338635 -0.441279 -1.220573       2.511553          0   \n",
       "3605    -0.638969 -0.468981 -1.668334  0.850250      -0.916018          1   \n",
       "\n",
       "      IsActiveMember  EstimatedSalary  Exited  Germany  Spain  Male  \n",
       "9375               0        -0.308325       1        1      0     1  \n",
       "9536               0        -0.645029       1        1      0     0  \n",
       "6344               0         0.498373       0        0      0     1  \n",
       "4357               0         1.331035       0        0      0     1  \n",
       "9120               1        -0.261760       0        0      1     1  \n",
       "3964               1        -0.772173       1        0      0     1  \n",
       "4759               1         0.403418       0        0      1     1  \n",
       "4033               0        -0.623256       1        1      0     1  \n",
       "7658               0        -0.203890       1        0      1     0  \n",
       "3605               0         0.929930       0        1      0     0  "
      ]
     },
     "execution_count": 123,
     "metadata": {},
     "output_type": "execute_result"
    }
   ],
   "source": [
    "df_valid[['CreditScore', 'Age', 'Tenure', 'Balance', 'NumOfProducts', 'EstimatedSalary']] = scaler.transform(df_valid[['CreditScore', 'Age', 'Tenure', 'Balance', 'NumOfProducts', 'EstimatedSalary']])\n",
    "df_valid.head(10)"
   ]
  },
  {
   "cell_type": "code",
   "execution_count": 124,
   "metadata": {},
   "outputs": [
    {
     "data": {
      "text/html": [
       "<div>\n",
       "<style scoped>\n",
       "    .dataframe tbody tr th:only-of-type {\n",
       "        vertical-align: middle;\n",
       "    }\n",
       "\n",
       "    .dataframe tbody tr th {\n",
       "        vertical-align: top;\n",
       "    }\n",
       "\n",
       "    .dataframe thead th {\n",
       "        text-align: right;\n",
       "    }\n",
       "</style>\n",
       "<table border=\"1\" class=\"dataframe\">\n",
       "  <thead>\n",
       "    <tr style=\"text-align: right;\">\n",
       "      <th></th>\n",
       "      <th>CreditScore</th>\n",
       "      <th>Age</th>\n",
       "      <th>Tenure</th>\n",
       "      <th>Balance</th>\n",
       "      <th>NumOfProducts</th>\n",
       "      <th>HasCrCard</th>\n",
       "      <th>IsActiveMember</th>\n",
       "      <th>EstimatedSalary</th>\n",
       "      <th>Exited</th>\n",
       "      <th>Germany</th>\n",
       "      <th>Spain</th>\n",
       "      <th>Male</th>\n",
       "    </tr>\n",
       "  </thead>\n",
       "  <tbody>\n",
       "    <tr>\n",
       "      <td>7837</td>\n",
       "      <td>2.066384</td>\n",
       "      <td>0.862946</td>\n",
       "      <td>-0.748043</td>\n",
       "      <td>-1.220573</td>\n",
       "      <td>-0.916018</td>\n",
       "      <td>1</td>\n",
       "      <td>0</td>\n",
       "      <td>1.202714</td>\n",
       "      <td>1</td>\n",
       "      <td>0</td>\n",
       "      <td>1</td>\n",
       "      <td>1</td>\n",
       "    </tr>\n",
       "    <tr>\n",
       "      <td>9505</td>\n",
       "      <td>0.011555</td>\n",
       "      <td>-1.039807</td>\n",
       "      <td>1.706066</td>\n",
       "      <td>0.052520</td>\n",
       "      <td>-0.916018</td>\n",
       "      <td>1</td>\n",
       "      <td>1</td>\n",
       "      <td>-0.443548</td>\n",
       "      <td>0</td>\n",
       "      <td>0</td>\n",
       "      <td>0</td>\n",
       "      <td>1</td>\n",
       "    </tr>\n",
       "    <tr>\n",
       "      <td>6208</td>\n",
       "      <td>0.662079</td>\n",
       "      <td>-0.468981</td>\n",
       "      <td>1.706066</td>\n",
       "      <td>-1.220573</td>\n",
       "      <td>0.797767</td>\n",
       "      <td>1</td>\n",
       "      <td>1</td>\n",
       "      <td>-0.347161</td>\n",
       "      <td>0</td>\n",
       "      <td>0</td>\n",
       "      <td>0</td>\n",
       "      <td>1</td>\n",
       "    </tr>\n",
       "    <tr>\n",
       "      <td>5642</td>\n",
       "      <td>1.364231</td>\n",
       "      <td>0.196983</td>\n",
       "      <td>-0.134516</td>\n",
       "      <td>-1.220573</td>\n",
       "      <td>-0.916018</td>\n",
       "      <td>1</td>\n",
       "      <td>0</td>\n",
       "      <td>0.568776</td>\n",
       "      <td>0</td>\n",
       "      <td>0</td>\n",
       "      <td>1</td>\n",
       "      <td>0</td>\n",
       "    </tr>\n",
       "    <tr>\n",
       "      <td>9643</td>\n",
       "      <td>-1.330797</td>\n",
       "      <td>0.196983</td>\n",
       "      <td>-0.748043</td>\n",
       "      <td>-1.220573</td>\n",
       "      <td>0.797767</td>\n",
       "      <td>1</td>\n",
       "      <td>1</td>\n",
       "      <td>0.223765</td>\n",
       "      <td>0</td>\n",
       "      <td>0</td>\n",
       "      <td>0</td>\n",
       "      <td>0</td>\n",
       "    </tr>\n",
       "    <tr>\n",
       "      <td>732</td>\n",
       "      <td>0.073509</td>\n",
       "      <td>-0.754394</td>\n",
       "      <td>-0.441279</td>\n",
       "      <td>0.782233</td>\n",
       "      <td>-0.916018</td>\n",
       "      <td>0</td>\n",
       "      <td>0</td>\n",
       "      <td>-0.024188</td>\n",
       "      <td>0</td>\n",
       "      <td>0</td>\n",
       "      <td>1</td>\n",
       "      <td>1</td>\n",
       "    </tr>\n",
       "    <tr>\n",
       "      <td>2897</td>\n",
       "      <td>-1.258516</td>\n",
       "      <td>-0.944670</td>\n",
       "      <td>-1.668334</td>\n",
       "      <td>1.503036</td>\n",
       "      <td>0.797767</td>\n",
       "      <td>1</td>\n",
       "      <td>0</td>\n",
       "      <td>-0.884982</td>\n",
       "      <td>0</td>\n",
       "      <td>1</td>\n",
       "      <td>0</td>\n",
       "      <td>0</td>\n",
       "    </tr>\n",
       "    <tr>\n",
       "      <td>7256</td>\n",
       "      <td>1.766937</td>\n",
       "      <td>-0.754394</td>\n",
       "      <td>-1.668334</td>\n",
       "      <td>-0.117658</td>\n",
       "      <td>-0.916018</td>\n",
       "      <td>1</td>\n",
       "      <td>1</td>\n",
       "      <td>-1.299232</td>\n",
       "      <td>0</td>\n",
       "      <td>1</td>\n",
       "      <td>0</td>\n",
       "      <td>0</td>\n",
       "    </tr>\n",
       "    <tr>\n",
       "      <td>9161</td>\n",
       "      <td>-0.298219</td>\n",
       "      <td>0.101845</td>\n",
       "      <td>1.706066</td>\n",
       "      <td>1.400776</td>\n",
       "      <td>-0.916018</td>\n",
       "      <td>0</td>\n",
       "      <td>0</td>\n",
       "      <td>-0.185810</td>\n",
       "      <td>0</td>\n",
       "      <td>0</td>\n",
       "      <td>0</td>\n",
       "      <td>1</td>\n",
       "    </tr>\n",
       "    <tr>\n",
       "      <td>2914</td>\n",
       "      <td>-0.473757</td>\n",
       "      <td>-1.039807</td>\n",
       "      <td>0.785775</td>\n",
       "      <td>-1.220573</td>\n",
       "      <td>0.797767</td>\n",
       "      <td>0</td>\n",
       "      <td>0</td>\n",
       "      <td>-0.723174</td>\n",
       "      <td>0</td>\n",
       "      <td>0</td>\n",
       "      <td>0</td>\n",
       "      <td>1</td>\n",
       "    </tr>\n",
       "  </tbody>\n",
       "</table>\n",
       "</div>"
      ],
      "text/plain": [
       "      CreditScore       Age    Tenure   Balance  NumOfProducts  HasCrCard  \\\n",
       "7837     2.066384  0.862946 -0.748043 -1.220573      -0.916018          1   \n",
       "9505     0.011555 -1.039807  1.706066  0.052520      -0.916018          1   \n",
       "6208     0.662079 -0.468981  1.706066 -1.220573       0.797767          1   \n",
       "5642     1.364231  0.196983 -0.134516 -1.220573      -0.916018          1   \n",
       "9643    -1.330797  0.196983 -0.748043 -1.220573       0.797767          1   \n",
       "732      0.073509 -0.754394 -0.441279  0.782233      -0.916018          0   \n",
       "2897    -1.258516 -0.944670 -1.668334  1.503036       0.797767          1   \n",
       "7256     1.766937 -0.754394 -1.668334 -0.117658      -0.916018          1   \n",
       "9161    -0.298219  0.101845  1.706066  1.400776      -0.916018          0   \n",
       "2914    -0.473757 -1.039807  0.785775 -1.220573       0.797767          0   \n",
       "\n",
       "      IsActiveMember  EstimatedSalary  Exited  Germany  Spain  Male  \n",
       "7837               0         1.202714       1        0      1     1  \n",
       "9505               1        -0.443548       0        0      0     1  \n",
       "6208               1        -0.347161       0        0      0     1  \n",
       "5642               0         0.568776       0        0      1     0  \n",
       "9643               1         0.223765       0        0      0     0  \n",
       "732                0        -0.024188       0        0      1     1  \n",
       "2897               0        -0.884982       0        1      0     0  \n",
       "7256               1        -1.299232       0        1      0     0  \n",
       "9161               0        -0.185810       0        0      0     1  \n",
       "2914               0        -0.723174       0        0      0     1  "
      ]
     },
     "execution_count": 124,
     "metadata": {},
     "output_type": "execute_result"
    }
   ],
   "source": [
    "pd.options.mode.chained_assignment = None\n",
    "numeric = ['CreditScore', 'Age', 'Tenure', 'Balance', 'NumOfProducts', 'EstimatedSalary']\n",
    "df_test[numeric] = scaler.transform(df_test[numeric])\n",
    "df_test.head(10)"
   ]
  },
  {
   "cell_type": "markdown",
   "metadata": {},
   "source": [
    "## Исследование задачи"
   ]
  },
  {
   "cell_type": "markdown",
   "metadata": {},
   "source": [
    "Cоздадим переменные для признаков и целевого признака для обучающей и валидационной выборок."
   ]
  },
  {
   "cell_type": "code",
   "execution_count": 125,
   "metadata": {},
   "outputs": [],
   "source": [
    "features_train = df_train.drop(['Exited'], axis=1)\n",
    "target_train = df_train['Exited']\n",
    "features_valid = df_valid.drop(['Exited'], axis=1)\n",
    "target_valid = df_valid['Exited']"
   ]
  },
  {
   "cell_type": "markdown",
   "metadata": {},
   "source": [
    "Проверим данные на баланс классов."
   ]
  },
  {
   "cell_type": "code",
   "execution_count": 126,
   "metadata": {},
   "outputs": [
    {
     "data": {
      "text/plain": [
       "0    0.796167\n",
       "1    0.203833\n",
       "Name: Exited, dtype: float64"
      ]
     },
     "execution_count": 126,
     "metadata": {},
     "output_type": "execute_result"
    }
   ],
   "source": [
    "target_train.value_counts(normalize = 1)"
   ]
  },
  {
   "cell_type": "code",
   "execution_count": 127,
   "metadata": {},
   "outputs": [
    {
     "data": {
      "text/plain": [
       "0    0.7965\n",
       "1    0.2035\n",
       "Name: Exited, dtype: float64"
      ]
     },
     "execution_count": 127,
     "metadata": {},
     "output_type": "execute_result"
    }
   ],
   "source": [
    "target_valid.value_counts(normalize = 1)"
   ]
  },
  {
   "cell_type": "markdown",
   "metadata": {},
   "source": [
    "Наблюдается сильный дисбаланс классов - отрицательных объектов намного больше, чем положительных (примерно 4:1), что плохо\n",
    "скажется на обучении модели."
   ]
  },
  {
   "cell_type": "markdown",
   "metadata": {},
   "source": [
    "Запустим обучение модели без учёта дисбаланса."
   ]
  },
  {
   "cell_type": "code",
   "execution_count": 128,
   "metadata": {},
   "outputs": [
    {
     "name": "stdout",
     "output_type": "stream",
     "text": [
      "Дерево решений\n",
      "Recall: 0.49385749385749383\n",
      "Precision: 0.4878640776699029\n",
      "F1-score: 0.4908424908424908\n",
      "AUC-ROC: 0.680701502735401\n"
     ]
    }
   ],
   "source": [
    "print('Дерево решений')\n",
    "model = DecisionTreeClassifier(random_state = 12345)\n",
    "model.fit(features_train, target_train)\n",
    "predicted_valid = model.predict(features_valid)\n",
    "recall = recall_score(target_valid, predicted_valid)\n",
    "precision = precision_score(target_valid, predicted_valid)\n",
    "f1 = f1_score(target_valid, predicted_valid)\n",
    "auc_roc = roc_auc_score(target_valid, predicted_valid)\n",
    "print('Recall:', recall)\n",
    "print('Precision:', precision)\n",
    "print('F1-score:', f1)\n",
    "print('AUC-ROC:', auc_roc)"
   ]
  },
  {
   "cell_type": "code",
   "execution_count": 129,
   "metadata": {},
   "outputs": [
    {
     "name": "stdout",
     "output_type": "stream",
     "text": [
      "Лес решений\n",
      "Recall: 0.42997542997543\n",
      "Precision: 0.7383966244725738\n",
      "F1-score: 0.5434782608695652\n",
      "AUC-ROC: 0.6955275768835091\n"
     ]
    }
   ],
   "source": [
    "print('Лес решений')\n",
    "model = RandomForestClassifier(random_state = 12345, n_estimators = 10)\n",
    "model.fit(features_train, target_train)\n",
    "predicted_valid = model.predict(features_valid)\n",
    "recall = recall_score(target_valid, predicted_valid)\n",
    "precision = precision_score(target_valid, predicted_valid)\n",
    "f1 = f1_score(target_valid, predicted_valid)\n",
    "auc_roc = roc_auc_score(target_valid, predicted_valid)\n",
    "print('Recall:', recall)\n",
    "print('Precision:', precision)\n",
    "print('F1-score:', f1)\n",
    "print('AUC-ROC:', auc_roc)"
   ]
  },
  {
   "cell_type": "code",
   "execution_count": 130,
   "metadata": {},
   "outputs": [
    {
     "name": "stdout",
     "output_type": "stream",
     "text": [
      "Логистическая регрессия\n",
      "Recall: 0.2113022113022113\n",
      "Precision: 0.6666666666666666\n",
      "F1-score: 0.32089552238805974\n",
      "AUC-ROC: 0.5921545582562533\n"
     ]
    }
   ],
   "source": [
    "print('Логистическая регрессия')\n",
    "model = LogisticRegression(random_state = 12345, solver = 'liblinear')\n",
    "model.fit(features_train, target_train)\n",
    "predicted_valid = model.predict(features_valid)\n",
    "recall = recall_score(target_valid, predicted_valid)\n",
    "precision = precision_score(target_valid, predicted_valid)\n",
    "f1 = f1_score(target_valid, predicted_valid)\n",
    "auc_roc = roc_auc_score(target_valid, predicted_valid)\n",
    "print('Recall:', recall)\n",
    "print('Precision:', precision)\n",
    "print('F1-score:', f1)\n",
    "print('AUC-ROC:', auc_roc)"
   ]
  },
  {
   "cell_type": "markdown",
   "metadata": {},
   "source": [
    "### Вывод"
   ]
  },
  {
   "cell_type": "markdown",
   "metadata": {},
   "source": [
    "Наблюдается сильный дисбаланс классов, из-за этого F1-мера имеет низкое значение, следовательно, модель имеет низкое качество. "
   ]
  },
  {
   "cell_type": "markdown",
   "metadata": {},
   "source": [
    "## Борьба с дисбалансом"
   ]
  },
  {
   "cell_type": "markdown",
   "metadata": {},
   "source": [
    "### Увеличение выборки"
   ]
  },
  {
   "cell_type": "markdown",
   "metadata": {},
   "source": [
    "Создадим функцию upsample() с тремя параметрами:\n",
    "* features — признаки,\n",
    "* target — целевой признак,\n",
    "* repeat — количество повторений"
   ]
  },
  {
   "cell_type": "markdown",
   "metadata": {},
   "source": [
    "Она будет производить преобразование в несколько этапов:\n",
    "* Разделит обучающую выборку на отрицательные и положительные объекты;\n",
    "* Скопирует несколько раз положительные объекты;\n",
    "* С учётом полученных данных создаст новую обучающую выборку;\n",
    "* Перемешает данные."
   ]
  },
  {
   "cell_type": "code",
   "execution_count": 131,
   "metadata": {},
   "outputs": [],
   "source": [
    "def upsample(features, target, repeat):\n",
    "    features_zeros = features[target == 0]\n",
    "    features_ones = features[target == 1]\n",
    "    target_zeros = target[target == 0]\n",
    "    target_ones = target[target == 1]\n",
    "    \n",
    "    features_upsampled = pd.concat([features_zeros] + [features_ones] * repeat)\n",
    "    target_upsampled = pd.concat([target_zeros] + [target_ones] * repeat)\n",
    "    \n",
    "    features_upsampled, target_upsampled = shuffle(features_upsampled, target_upsampled, random_state = 12345)\n",
    "    return features_upsampled, target_upsampled"
   ]
  },
  {
   "cell_type": "markdown",
   "metadata": {},
   "source": [
    "Вызовем функцию для обучающих данных со значением repeat = 4 (так как отрицательных объектов было больше в 4 раза)."
   ]
  },
  {
   "cell_type": "code",
   "execution_count": 132,
   "metadata": {},
   "outputs": [],
   "source": [
    "features_upsampled_train, target_upsampled_train = upsample(features_train, target_train, 4)"
   ]
  },
  {
   "cell_type": "markdown",
   "metadata": {},
   "source": [
    "Теперь снова проверим данные на баланс классов."
   ]
  },
  {
   "cell_type": "code",
   "execution_count": 133,
   "metadata": {},
   "outputs": [
    {
     "data": {
      "text/plain": [
       "1    0.505947\n",
       "0    0.494053\n",
       "Name: Exited, dtype: float64"
      ]
     },
     "execution_count": 133,
     "metadata": {},
     "output_type": "execute_result"
    }
   ],
   "source": [
    "target_upsampled_train.value_counts(normalize = 1)"
   ]
  },
  {
   "cell_type": "markdown",
   "metadata": {},
   "source": [
    "### Уменьшение выборки"
   ]
  },
  {
   "cell_type": "code",
   "execution_count": 134,
   "metadata": {},
   "outputs": [],
   "source": [
    "def downsample(features, target, fraction):\n",
    "    features_zeros = features[target == 0]\n",
    "    features_ones = features[target == 1]\n",
    "    target_zeros = target[target == 0]\n",
    "    target_ones = target[target == 1]\n",
    "\n",
    "    features_downsampled = pd.concat(\n",
    "        [features_zeros.sample(frac=fraction, random_state=12345)] + [features_ones])\n",
    "    target_downsampled = pd.concat(\n",
    "        [target_zeros.sample(frac=fraction, random_state=12345)] + [target_ones])\n",
    "    \n",
    "    features_downsampled, target_downsampled = shuffle(\n",
    "        features_downsampled, target_downsampled, random_state=12345)\n",
    "    \n",
    "    return features_downsampled, target_downsampled\n",
    "\n",
    "features_downsampled_train, target_downsampled_train = downsample(features_train, target_train, 0.1)"
   ]
  },
  {
   "cell_type": "code",
   "execution_count": 135,
   "metadata": {},
   "outputs": [
    {
     "data": {
      "text/plain": [
       "1    0.718989\n",
       "0    0.281011\n",
       "Name: Exited, dtype: float64"
      ]
     },
     "execution_count": 135,
     "metadata": {},
     "output_type": "execute_result"
    }
   ],
   "source": [
    "target_downsampled_train.value_counts(normalize = 1)"
   ]
  },
  {
   "cell_type": "markdown",
   "metadata": {},
   "source": [
    "Баланс классов достигнут c помощью увеличения выборки, теперь можно перейти к выбору лучшей модели."
   ]
  },
  {
   "cell_type": "markdown",
   "metadata": {},
   "source": [
    "### Дерево решений"
   ]
  },
  {
   "cell_type": "markdown",
   "metadata": {},
   "source": [
    "Запустим обучение модели \"Дерево решений\" для разных глубин."
   ]
  },
  {
   "cell_type": "code",
   "execution_count": 136,
   "metadata": {},
   "outputs": [
    {
     "name": "stdout",
     "output_type": "stream",
     "text": [
      "max_depth = 1 : 0.49916527545909845\n",
      "max_depth = 2 : 0.5074135090609556\n",
      "max_depth = 3 : 0.5074135090609556\n",
      "max_depth = 4 : 0.5422594142259414\n",
      "max_depth = 5 : 0.5606190885640585\n",
      "max_depth = 6 : 0.5752688172043011\n",
      "max_depth = 7 : 0.5665467625899281\n",
      "max_depth = 8 : 0.542910447761194\n",
      "max_depth = 9 : 0.5368126747437092\n",
      "max_depth = 10 : 0.5214007782101168\n",
      "max_depth = 11 : 0.5214723926380368\n",
      "max_depth = 12 : 0.5081967213114754\n",
      "max_depth = 13 : 0.5090090090090089\n",
      "max_depth = 14 : 0.49885057471264366\n",
      "max_depth = 15 : 0.4948216340621404\n",
      "\n",
      "\n"
     ]
    }
   ],
   "source": [
    "depths = []\n",
    "f1 = []\n",
    "best_model = None\n",
    "best_result = 0\n",
    "best_depth = 0\n",
    "for depth in range(1, 16):\n",
    "    depths.append(depth)\n",
    "    model = DecisionTreeClassifier(random_state = 12345, max_depth = depth)\n",
    "    model.fit(features_upsampled_train, target_upsampled_train)\n",
    "    predictions_valid = model.predict(features_valid)\n",
    "    result = f1_score(target_valid, predictions_valid)\n",
    "    f1.append(result)\n",
    "    print('max_depth =', depth, \":\", result)\n",
    "    if result > best_result:\n",
    "        best_model = model\n",
    "        best_result = result\n",
    "        best_depth = depth\n",
    "print('\\n')"
   ]
  },
  {
   "cell_type": "markdown",
   "metadata": {},
   "source": [
    "Построим график зависимости F1 меры от глубины дерева решений."
   ]
  },
  {
   "cell_type": "code",
   "execution_count": 137,
   "metadata": {},
   "outputs": [
    {
     "data": {
      "image/png": "[encoded data removed]",
      "text/plain": [
       "<Figure size 1080x576 with 1 Axes>"
      ]
     },
     "metadata": {
      "needs_background": "light"
     },
     "output_type": "display_data"
    }
   ],
   "source": [
    "depth_f1 = pd.DataFrame({'depth': depths, 'f1': f1})\n",
    "\n",
    "depth_f1.plot.line(x = 'depth', y = 'f1', grid = True, figsize = (15,8))\n",
    "plt.title('Зависимость f1-score от глубины дерева')\n",
    "plt.xlabel('Depth')\n",
    "plt.ylabel('F1-score')\n",
    "plt.show()"
   ]
  },
  {
   "cell_type": "code",
   "execution_count": 138,
   "metadata": {},
   "outputs": [
    {
     "name": "stdout",
     "output_type": "stream",
     "text": [
      "Глубина наилучшего дерева решений: 6\n",
      "F1-score наилучшего дерева решений: 0.5752688172043011\n"
     ]
    }
   ],
   "source": [
    "print('Глубина наилучшего дерева решений:', best_depth)\n",
    "print('F1-score наилучшего дерева решений:', best_result)"
   ]
  },
  {
   "cell_type": "markdown",
   "metadata": {},
   "source": [
    "### Лес решений"
   ]
  },
  {
   "cell_type": "markdown",
   "metadata": {},
   "source": [
    "Запустим обучение модели \"Случайный лес\" для разного числа деревьев и разных глубин. Начнём с подбора с подбора глубины при небольшом числе деревьев."
   ]
  },
  {
   "cell_type": "code",
   "execution_count": 139,
   "metadata": {},
   "outputs": [
    {
     "name": "stdout",
     "output_type": "stream",
     "text": [
      "Глубина наилучшего дерева решений: 8\n",
      "F1-score наилучшего леса решений: 0.6282828282828282\n"
     ]
    }
   ],
   "source": [
    "best_model = None\n",
    "best_result = 0\n",
    "best_depth = 0\n",
    "for depth in range(1, 16, 1):\n",
    "    model = RandomForestClassifier(n_estimators=20, max_depth=depth, random_state=12345)\n",
    "    model.fit(features_upsampled_train, target_upsampled_train)\n",
    "    predictions_valid = model.predict(features_valid)\n",
    "    result = f1_score(target_valid, predictions_valid)\n",
    "    if result > best_result:\n",
    "        best_model = model\n",
    "        best_result = result\n",
    "        best_depth = depth\n",
    "print('Глубина наилучшего дерева решений:', best_depth)\n",
    "print('F1-score наилучшего леса решений:', best_result)"
   ]
  },
  {
   "cell_type": "markdown",
   "metadata": {},
   "source": [
    "Теперь с наилучшей глубиной будем искать наилучшее число деревьев."
   ]
  },
  {
   "cell_type": "code",
   "execution_count": 140,
   "metadata": {},
   "outputs": [
    {
     "name": "stdout",
     "output_type": "stream",
     "text": [
      "max_est = 20 : 0.6282828282828282\n",
      "max_est = 30 : 0.619718309859155\n",
      "max_est = 40 : 0.6236125126135217\n",
      "max_est = 50 : 0.6208291203235592\n",
      "max_est = 60 : 0.6234817813765182\n",
      "max_est = 70 : 0.624113475177305\n",
      "max_est = 80 : 0.6220871327254306\n",
      "max_est = 90 : 0.6186612576064908\n",
      "max_est = 100 : 0.625254582484725\n",
      "max_est = 110 : 0.6218144750254843\n",
      "max_est = 120 : 0.6244897959183674\n",
      "max_est = 130 : 0.6188068756319515\n",
      "max_est = 140 : 0.6192893401015229\n",
      "max_est = 150 : 0.6208291203235592\n",
      "max_est = 160 : 0.6215943491422806\n",
      "max_est = 170 : 0.619718309859155\n",
      "max_est = 180 : 0.6209677419354838\n",
      "max_est = 190 : 0.6243705941591137\n"
     ]
    }
   ],
   "source": [
    "ests = []\n",
    "f1 = []\n",
    "best_model = None\n",
    "best_result = 0\n",
    "best_est = 0\n",
    "for est in range(20, 200, 10):\n",
    "    ests.append(est)\n",
    "    model = RandomForestClassifier(n_estimators=est, max_depth=best_depth, random_state=12345)\n",
    "    model.fit(features_upsampled_train, target_upsampled_train)\n",
    "    predictions_valid = model.predict(features_valid)\n",
    "    result = f1_score(target_valid, predictions_valid)\n",
    "    f1.append(result)\n",
    "    print('max_est =', est, \":\", result)\n",
    "    if result > best_result:\n",
    "        best_model = model\n",
    "        best_result = result\n",
    "        best_est = est"
   ]
  },
  {
   "cell_type": "code",
   "execution_count": 141,
   "metadata": {},
   "outputs": [
    {
     "data": {
      "image/png": "[encoded data removed]",
      "text/plain": [
       "<Figure size 1080x576 with 1 Axes>"
      ]
     },
     "metadata": {
      "needs_background": "light"
     },
     "output_type": "display_data"
    }
   ],
   "source": [
    "depth_f1 = pd.DataFrame({'est': ests, 'f1': f1})\n",
    "\n",
    "depth_f1.plot.line(x = 'est', y = 'f1', grid = True, figsize = (15,8))\n",
    "plt.title('Зависимость f1-score от числа деревьев')\n",
    "plt.xlabel('n_estimators')\n",
    "plt.ylabel('F1-score')\n",
    "plt.show()"
   ]
  },
  {
   "cell_type": "code",
   "execution_count": 142,
   "metadata": {},
   "outputs": [
    {
     "name": "stdout",
     "output_type": "stream",
     "text": [
      "F1-score наилучшей модели случайного леса: 0.6282828282828282\n",
      "Число деревьев наилучшей модели случайного леса: 20\n"
     ]
    }
   ],
   "source": [
    "print(\"F1-score наилучшей модели случайного леса:\", best_result)\n",
    "print(\"Число деревьев наилучшей модели случайного леса:\", best_est)"
   ]
  },
  {
   "cell_type": "code",
   "execution_count": 143,
   "metadata": {},
   "outputs": [
    {
     "name": "stdout",
     "output_type": "stream",
     "text": [
      "F1-score модели логистической регрессии: 0.5068493150684932\n"
     ]
    }
   ],
   "source": [
    "model = LogisticRegression(random_state = 12345, solver = 'liblinear')\n",
    "model.fit(features_upsampled_train, target_upsampled_train)\n",
    "predictions_valid = model.predict(features_valid)\n",
    "result = f1_score(target_valid, predictions_valid)\n",
    "\n",
    "print(\"F1-score модели логистической регрессии:\", result)"
   ]
  },
  {
   "cell_type": "markdown",
   "metadata": {},
   "source": [
    "### Вывод"
   ]
  },
  {
   "cell_type": "markdown",
   "metadata": {},
   "source": [
    "В результате исследования различных моделей: \n",
    "* Дерево решений:\n",
    "    * Глубина наилучшего дерева решений: 6\n",
    "    * F1-score наилучшего дерева решений: 0.5752688172043011\n",
    "* Случайный лес:\n",
    "    * F1-score наилучшей модели случайного леса: 0.6282828282828282\n",
    "    * Число деревьев и максимальная глубина наилучшей модели случайного леса: 20 и 8\n",
    "* Логистическая регрессия:\n",
    "    * F1-score модели логистической регрессии: 0.5068493150684932\n",
    "    \n",
    "Модель случайного леса с числом деревьев, равным 20, и с  максимальной глубиной, равной 8, лучшая по качеству."
   ]
  },
  {
   "cell_type": "markdown",
   "metadata": {},
   "source": [
    "## Тестирование модели"
   ]
  },
  {
   "cell_type": "markdown",
   "metadata": {},
   "source": [
    "Cоздадим переменные для признаков и целевого признака для тестовой выборки."
   ]
  },
  {
   "cell_type": "code",
   "execution_count": 144,
   "metadata": {},
   "outputs": [],
   "source": [
    "features_test = df_test.drop(['Exited'], axis=1)\n",
    "target_test = df_test['Exited']"
   ]
  },
  {
   "cell_type": "markdown",
   "metadata": {},
   "source": [
    "Проведём финальное тестирование."
   ]
  },
  {
   "cell_type": "code",
   "execution_count": 145,
   "metadata": {},
   "outputs": [
    {
     "name": "stdout",
     "output_type": "stream",
     "text": [
      "F1-score дерева решений на тестовой выборке: 0.6234042553191489\n"
     ]
    }
   ],
   "source": [
    "model = RandomForestClassifier(n_estimators=20, max_depth=9, random_state=12345)\n",
    "model.fit(features_upsampled_train, target_upsampled_train)\n",
    "predictions_test = model.predict(features_test)\n",
    "result = f1_score(target_test, predictions_test)\n",
    "print('F1-score дерева решений на тестовой выборке:', result)"
   ]
  },
  {
   "cell_type": "markdown",
   "metadata": {},
   "source": [
    "Построим ROC-кривую."
   ]
  },
  {
   "cell_type": "code",
   "execution_count": 146,
   "metadata": {},
   "outputs": [
    {
     "data": {
      "image/png": "[encoded data removed]",
      "text/plain": [
       "<Figure size 432x288 with 1 Axes>"
      ]
     },
     "metadata": {
      "needs_background": "light"
     },
     "output_type": "display_data"
    }
   ],
   "source": [
    "probabilities_test = model.predict_proba(features_test)\n",
    "probabilities_one_test = probabilities_test[:, 1]\n",
    "\n",
    "fpr, tpr, thresholds = roc_curve(target_test, probabilities_one_test) \n",
    "\n",
    "plt.figure()\n",
    "\n",
    "plt.plot(fpr, tpr)\n",
    "\n",
    "# ROC-кривая случайной модели (выглядит как прямая)\n",
    "plt.plot([0, 1], [0, 1], linestyle='--')\n",
    "\n",
    "plt.xlim([0.0, 1.0])\n",
    "plt.ylim([0.0, 1.0])\n",
    "\n",
    "plt.xlabel(\"False Positive Rate\")\n",
    "plt.ylabel(\"True Positive Rate\")\n",
    "\n",
    "plt.title(\"ROC-кривая\")\n",
    "\n",
    "plt.show()"
   ]
  },
  {
   "cell_type": "markdown",
   "metadata": {},
   "source": [
    "Посчитаем AUC-ROC."
   ]
  },
  {
   "cell_type": "code",
   "execution_count": 147,
   "metadata": {},
   "outputs": [
    {
     "name": "stdout",
     "output_type": "stream",
     "text": [
      "0.8591966388576556\n"
     ]
    }
   ],
   "source": [
    "auc_roc = roc_auc_score(target_test, probabilities_one_test)\n",
    "print(auc_roc)"
   ]
  },
  {
   "cell_type": "markdown",
   "metadata": {},
   "source": [
    "### Общий вывод"
   ]
  },
  {
   "cell_type": "markdown",
   "metadata": {},
   "source": [
    "Финальная модель доведена до метрики, равной 0.62 (F1-мера). Это большое значение, свидетельствующее о высоком качестве, следовательно, поможет точнее предсказывать, уйдёт клиент из банка в ближайшее время или нет.\n",
    "ROC-кривая показывает, что график выше, тем больше значение TPR и лучше качество модели. Чтобы выявить, как сильно наша модель отличается от случайной, посчитали площадь под ROC-кривой — AUC-ROC. Она равна 0.86."
   ]
  }
 ],
 "metadata": {
  "ExecuteTimeLog": [
   {
    "duration": 177,
    "start_time": "2021-10-09T07:28:46.843Z"
   },
   {
    "duration": 497,
    "start_time": "2021-10-09T07:28:49.341Z"
   },
   {
    "duration": 44,
    "start_time": "2021-10-09T07:28:49.840Z"
   },
   {
    "duration": 9,
    "start_time": "2021-10-09T07:29:56.439Z"
   },
   {
    "duration": 2,
    "start_time": "2021-10-09T07:37:41.950Z"
   },
   {
    "duration": 38,
    "start_time": "2021-10-09T07:37:42.649Z"
   },
   {
    "duration": 10,
    "start_time": "2021-10-09T07:37:45.653Z"
   },
   {
    "duration": 9,
    "start_time": "2021-10-09T07:37:48.631Z"
   },
   {
    "duration": 12,
    "start_time": "2021-10-09T07:37:50.523Z"
   },
   {
    "duration": 22166,
    "start_time": "2021-10-09T07:38:09.746Z"
   },
   {
    "duration": 161,
    "start_time": "2021-10-09T07:44:52.325Z"
   },
   {
    "duration": 14,
    "start_time": "2021-10-09T07:45:08.207Z"
   },
   {
    "duration": 11,
    "start_time": "2021-10-09T07:53:02.241Z"
   },
   {
    "duration": 157,
    "start_time": "2021-10-09T07:53:22.424Z"
   },
   {
    "duration": 2,
    "start_time": "2021-10-09T07:53:25.849Z"
   },
   {
    "duration": 40,
    "start_time": "2021-10-09T07:53:25.854Z"
   },
   {
    "duration": 14,
    "start_time": "2021-10-09T07:53:25.896Z"
   },
   {
    "duration": 11,
    "start_time": "2021-10-09T07:53:25.912Z"
   },
   {
    "duration": 13,
    "start_time": "2021-10-09T07:56:34.047Z"
   },
   {
    "duration": 18,
    "start_time": "2021-10-09T09:36:11.189Z"
   },
   {
    "duration": 422,
    "start_time": "2021-10-09T09:49:51.020Z"
   },
   {
    "duration": 53,
    "start_time": "2021-10-09T09:53:10.804Z"
   },
   {
    "duration": 19,
    "start_time": "2021-10-09T09:53:13.845Z"
   },
   {
    "duration": 176,
    "start_time": "2021-10-09T09:53:21.501Z"
   },
   {
    "duration": 12,
    "start_time": "2021-10-09T09:53:35.422Z"
   },
   {
    "duration": 4697,
    "start_time": "2021-10-09T09:57:52.978Z"
   },
   {
    "duration": 17,
    "start_time": "2021-10-09T09:58:18.419Z"
   },
   {
    "duration": 146,
    "start_time": "2021-10-09T09:59:46.149Z"
   },
   {
    "duration": 6,
    "start_time": "2021-10-09T10:01:33.999Z"
   },
   {
    "duration": 162,
    "start_time": "2021-10-09T10:02:42.978Z"
   },
   {
    "duration": 162,
    "start_time": "2021-10-09T10:02:47.596Z"
   },
   {
    "duration": 166,
    "start_time": "2021-10-09T10:02:54.669Z"
   },
   {
    "duration": 4,
    "start_time": "2021-10-09T10:06:13.589Z"
   },
   {
    "duration": 6,
    "start_time": "2021-10-09T10:06:47.691Z"
   },
   {
    "duration": 349,
    "start_time": "2021-10-09T14:54:26.965Z"
   },
   {
    "duration": 1228,
    "start_time": "2021-10-09T14:54:30.036Z"
   },
   {
    "duration": 118,
    "start_time": "2021-10-09T14:54:31.267Z"
   },
   {
    "duration": 20,
    "start_time": "2021-10-09T14:54:31.387Z"
   },
   {
    "duration": 43,
    "start_time": "2021-10-09T14:54:31.410Z"
   },
   {
    "duration": 26,
    "start_time": "2021-10-09T14:54:31.455Z"
   },
   {
    "duration": 15,
    "start_time": "2021-10-09T14:54:31.484Z"
   },
   {
    "duration": 5,
    "start_time": "2021-10-09T14:54:31.523Z"
   },
   {
    "duration": 90,
    "start_time": "2021-10-09T15:02:57.709Z"
   },
   {
    "duration": 300,
    "start_time": "2021-10-09T15:05:47.778Z"
   },
   {
    "duration": 174,
    "start_time": "2021-10-09T15:06:02.621Z"
   },
   {
    "duration": 12,
    "start_time": "2021-10-09T15:06:06.545Z"
   },
   {
    "duration": 5,
    "start_time": "2021-10-09T15:06:37.347Z"
   },
   {
    "duration": 7,
    "start_time": "2021-10-09T15:09:20.487Z"
   },
   {
    "duration": 5,
    "start_time": "2021-10-09T15:11:03.693Z"
   },
   {
    "duration": 59,
    "start_time": "2021-10-09T15:11:03.701Z"
   },
   {
    "duration": 21,
    "start_time": "2021-10-09T15:11:03.762Z"
   },
   {
    "duration": 50,
    "start_time": "2021-10-09T15:11:03.786Z"
   },
   {
    "duration": 38,
    "start_time": "2021-10-09T15:11:03.838Z"
   },
   {
    "duration": 10,
    "start_time": "2021-10-09T15:11:03.879Z"
   },
   {
    "duration": 5,
    "start_time": "2021-10-09T15:11:03.892Z"
   },
   {
    "duration": 11,
    "start_time": "2021-10-09T15:11:03.922Z"
   },
   {
    "duration": 6,
    "start_time": "2021-10-09T15:11:03.936Z"
   },
   {
    "duration": 14,
    "start_time": "2021-10-09T15:11:03.944Z"
   },
   {
    "duration": 213,
    "start_time": "2021-10-09T15:19:38.810Z"
   },
   {
    "duration": 5,
    "start_time": "2021-10-09T15:21:28.905Z"
   },
   {
    "duration": 6,
    "start_time": "2021-10-09T15:21:48.648Z"
   },
   {
    "duration": 265,
    "start_time": "2021-10-09T15:24:56.412Z"
   },
   {
    "duration": 247,
    "start_time": "2021-10-09T15:25:10.788Z"
   },
   {
    "duration": 258,
    "start_time": "2021-10-09T15:25:30.434Z"
   },
   {
    "duration": 5,
    "start_time": "2021-10-09T15:26:11.654Z"
   },
   {
    "duration": 5,
    "start_time": "2021-10-09T15:26:30.248Z"
   },
   {
    "duration": 650,
    "start_time": "2021-10-09T15:26:34.102Z"
   },
   {
    "duration": 656,
    "start_time": "2021-10-09T15:26:53.117Z"
   },
   {
    "duration": 460,
    "start_time": "2021-10-09T15:28:03.024Z"
   },
   {
    "duration": 13,
    "start_time": "2021-10-09T15:38:43.667Z"
   },
   {
    "duration": 8,
    "start_time": "2021-10-09T15:38:53.277Z"
   },
   {
    "duration": 5,
    "start_time": "2021-10-09T15:46:01.436Z"
   },
   {
    "duration": 241,
    "start_time": "2021-10-09T15:48:24.659Z"
   },
   {
    "duration": 327,
    "start_time": "2021-10-09T15:48:30.107Z"
   },
   {
    "duration": 54,
    "start_time": "2021-10-09T15:48:48.703Z"
   },
   {
    "duration": 55,
    "start_time": "2021-10-09T15:54:06.016Z"
   },
   {
    "duration": 122,
    "start_time": "2021-10-09T15:54:14.000Z"
   },
   {
    "duration": 123,
    "start_time": "2021-10-09T15:55:15.905Z"
   },
   {
    "duration": 126,
    "start_time": "2021-10-09T15:55:45.299Z"
   },
   {
    "duration": 311,
    "start_time": "2021-10-09T15:55:59.079Z"
   },
   {
    "duration": 119,
    "start_time": "2021-10-09T15:56:12.888Z"
   },
   {
    "duration": 90,
    "start_time": "2021-10-09T15:56:18.840Z"
   },
   {
    "duration": 1402,
    "start_time": "2021-10-10T07:15:33.792Z"
   },
   {
    "duration": 56,
    "start_time": "2021-10-10T07:15:35.196Z"
   },
   {
    "duration": 20,
    "start_time": "2021-10-10T07:15:35.257Z"
   },
   {
    "duration": 28,
    "start_time": "2021-10-10T07:15:35.280Z"
   },
   {
    "duration": 72,
    "start_time": "2021-10-10T07:15:35.311Z"
   },
   {
    "duration": 11,
    "start_time": "2021-10-10T07:15:35.386Z"
   },
   {
    "duration": 6,
    "start_time": "2021-10-10T07:15:35.399Z"
   },
   {
    "duration": 12,
    "start_time": "2021-10-10T07:15:35.409Z"
   },
   {
    "duration": 36,
    "start_time": "2021-10-10T07:15:35.424Z"
   },
   {
    "duration": 14,
    "start_time": "2021-10-10T07:15:35.463Z"
   },
   {
    "duration": 23,
    "start_time": "2021-10-10T07:15:35.480Z"
   },
   {
    "duration": 14,
    "start_time": "2021-10-10T07:15:35.506Z"
   },
   {
    "duration": 71,
    "start_time": "2021-10-10T07:15:35.523Z"
   },
   {
    "duration": 136,
    "start_time": "2021-10-10T07:15:35.596Z"
   },
   {
    "duration": 128,
    "start_time": "2021-10-10T07:15:35.735Z"
   },
   {
    "duration": 10,
    "start_time": "2021-10-10T07:19:17.183Z"
   },
   {
    "duration": 11,
    "start_time": "2021-10-10T07:20:17.519Z"
   },
   {
    "duration": 9,
    "start_time": "2021-10-10T07:20:56.017Z"
   },
   {
    "duration": 9,
    "start_time": "2021-10-10T07:21:03.069Z"
   },
   {
    "duration": 8,
    "start_time": "2021-10-10T07:21:03.953Z"
   },
   {
    "duration": 10,
    "start_time": "2021-10-10T07:21:47.452Z"
   },
   {
    "duration": 5,
    "start_time": "2021-10-10T07:22:12.351Z"
   },
   {
    "duration": 6,
    "start_time": "2021-10-10T07:25:18.685Z"
   },
   {
    "duration": 16,
    "start_time": "2021-10-10T07:27:04.221Z"
   },
   {
    "duration": 110,
    "start_time": "2021-10-10T07:52:12.110Z"
   },
   {
    "duration": 7,
    "start_time": "2021-10-10T07:54:44.609Z"
   },
   {
    "duration": 55,
    "start_time": "2021-10-10T07:54:44.618Z"
   },
   {
    "duration": 20,
    "start_time": "2021-10-10T07:54:44.675Z"
   },
   {
    "duration": 27,
    "start_time": "2021-10-10T07:54:44.698Z"
   },
   {
    "duration": 63,
    "start_time": "2021-10-10T07:54:44.727Z"
   },
   {
    "duration": 9,
    "start_time": "2021-10-10T07:54:44.792Z"
   },
   {
    "duration": 4,
    "start_time": "2021-10-10T07:54:44.803Z"
   },
   {
    "duration": 12,
    "start_time": "2021-10-10T07:54:44.809Z"
   },
   {
    "duration": 35,
    "start_time": "2021-10-10T07:54:44.824Z"
   },
   {
    "duration": 7,
    "start_time": "2021-10-10T07:54:44.861Z"
   },
   {
    "duration": 8,
    "start_time": "2021-10-10T07:54:44.871Z"
   },
   {
    "duration": 7,
    "start_time": "2021-10-10T07:54:44.882Z"
   },
   {
    "duration": 95,
    "start_time": "2021-10-10T07:54:44.891Z"
   },
   {
    "duration": 132,
    "start_time": "2021-10-10T07:54:44.988Z"
   },
   {
    "duration": 235,
    "start_time": "2021-10-10T07:54:45.122Z"
   },
   {
    "duration": 6,
    "start_time": "2021-10-10T07:54:45.360Z"
   },
   {
    "duration": 30,
    "start_time": "2021-10-10T07:54:45.369Z"
   },
   {
    "duration": 9,
    "start_time": "2021-10-10T07:54:45.401Z"
   },
   {
    "duration": 9,
    "start_time": "2021-10-10T07:55:23.259Z"
   },
   {
    "duration": 8,
    "start_time": "2021-10-10T07:55:31.498Z"
   },
   {
    "duration": 1431,
    "start_time": "2021-10-10T11:33:30.005Z"
   },
   {
    "duration": 56,
    "start_time": "2021-10-10T11:33:31.439Z"
   },
   {
    "duration": 20,
    "start_time": "2021-10-10T11:33:31.498Z"
   },
   {
    "duration": 32,
    "start_time": "2021-10-10T11:33:31.521Z"
   },
   {
    "duration": 62,
    "start_time": "2021-10-10T11:33:31.556Z"
   },
   {
    "duration": 11,
    "start_time": "2021-10-10T11:33:31.620Z"
   },
   {
    "duration": 5,
    "start_time": "2021-10-10T11:33:31.633Z"
   },
   {
    "duration": 45,
    "start_time": "2021-10-10T11:33:31.642Z"
   },
   {
    "duration": 6,
    "start_time": "2021-10-10T11:33:31.690Z"
   },
   {
    "duration": 8,
    "start_time": "2021-10-10T11:33:31.699Z"
   },
   {
    "duration": 23,
    "start_time": "2021-10-10T11:33:31.709Z"
   },
   {
    "duration": 11,
    "start_time": "2021-10-10T11:33:31.734Z"
   },
   {
    "duration": 79,
    "start_time": "2021-10-10T11:33:31.747Z"
   },
   {
    "duration": 133,
    "start_time": "2021-10-10T11:33:31.828Z"
   },
   {
    "duration": 123,
    "start_time": "2021-10-10T11:33:31.963Z"
   },
   {
    "duration": 96,
    "start_time": "2021-10-10T11:33:32.089Z"
   },
   {
    "duration": 38,
    "start_time": "2021-10-10T11:33:32.187Z"
   },
   {
    "duration": 7,
    "start_time": "2021-10-10T11:33:32.228Z"
   },
   {
    "duration": 12,
    "start_time": "2021-10-10T11:33:32.237Z"
   },
   {
    "duration": 109,
    "start_time": "2021-10-10T11:33:32.251Z"
   },
   {
    "duration": 286,
    "start_time": "2021-10-10T11:41:29.823Z"
   },
   {
    "duration": 6,
    "start_time": "2021-10-10T11:44:37.630Z"
   },
   {
    "duration": 77,
    "start_time": "2021-10-10T11:44:37.639Z"
   },
   {
    "duration": 28,
    "start_time": "2021-10-10T11:44:37.719Z"
   },
   {
    "duration": 64,
    "start_time": "2021-10-10T11:44:37.750Z"
   },
   {
    "duration": 65,
    "start_time": "2021-10-10T11:44:37.817Z"
   },
   {
    "duration": 10,
    "start_time": "2021-10-10T11:44:37.884Z"
   },
   {
    "duration": 4,
    "start_time": "2021-10-10T11:44:37.897Z"
   },
   {
    "duration": 15,
    "start_time": "2021-10-10T11:44:37.904Z"
   },
   {
    "duration": 5,
    "start_time": "2021-10-10T11:44:37.921Z"
   },
   {
    "duration": 9,
    "start_time": "2021-10-10T11:44:37.928Z"
   },
   {
    "duration": 44,
    "start_time": "2021-10-10T11:44:37.940Z"
   },
   {
    "duration": 12,
    "start_time": "2021-10-10T11:44:37.986Z"
   },
   {
    "duration": 66,
    "start_time": "2021-10-10T11:44:38.000Z"
   },
   {
    "duration": 139,
    "start_time": "2021-10-10T11:44:38.068Z"
   },
   {
    "duration": 175,
    "start_time": "2021-10-10T11:44:38.210Z"
   },
   {
    "duration": 6,
    "start_time": "2021-10-10T11:44:38.388Z"
   },
   {
    "duration": 32,
    "start_time": "2021-10-10T11:44:38.396Z"
   },
   {
    "duration": 9,
    "start_time": "2021-10-10T11:44:38.430Z"
   },
   {
    "duration": 40,
    "start_time": "2021-10-10T11:44:38.443Z"
   },
   {
    "duration": 303,
    "start_time": "2021-10-10T11:44:38.485Z"
   },
   {
    "duration": 494,
    "start_time": "2021-10-10T11:44:38.791Z"
   },
   {
    "duration": 5,
    "start_time": "2021-10-10T11:45:08.881Z"
   },
   {
    "duration": 6,
    "start_time": "2021-10-10T12:11:34.294Z"
   },
   {
    "duration": 55,
    "start_time": "2021-10-10T12:11:34.303Z"
   },
   {
    "duration": 32,
    "start_time": "2021-10-10T12:11:34.363Z"
   },
   {
    "duration": 30,
    "start_time": "2021-10-10T12:11:34.399Z"
   },
   {
    "duration": 71,
    "start_time": "2021-10-10T12:11:34.432Z"
   },
   {
    "duration": 11,
    "start_time": "2021-10-10T12:11:34.505Z"
   },
   {
    "duration": 4,
    "start_time": "2021-10-10T12:11:34.520Z"
   },
   {
    "duration": 15,
    "start_time": "2021-10-10T12:11:34.527Z"
   },
   {
    "duration": 7,
    "start_time": "2021-10-10T12:11:34.545Z"
   },
   {
    "duration": 8,
    "start_time": "2021-10-10T12:11:34.583Z"
   },
   {
    "duration": 13,
    "start_time": "2021-10-10T12:11:34.594Z"
   },
   {
    "duration": 9,
    "start_time": "2021-10-10T12:11:34.610Z"
   },
   {
    "duration": 92,
    "start_time": "2021-10-10T12:11:34.621Z"
   },
   {
    "duration": 137,
    "start_time": "2021-10-10T12:11:34.715Z"
   },
   {
    "duration": 130,
    "start_time": "2021-10-10T12:11:34.855Z"
   },
   {
    "duration": 6,
    "start_time": "2021-10-10T12:11:34.987Z"
   },
   {
    "duration": 41,
    "start_time": "2021-10-10T12:11:35.083Z"
   },
   {
    "duration": 9,
    "start_time": "2021-10-10T12:11:35.127Z"
   },
   {
    "duration": 11,
    "start_time": "2021-10-10T12:11:35.140Z"
   },
   {
    "duration": 340,
    "start_time": "2021-10-10T12:11:35.153Z"
   },
   {
    "duration": 529,
    "start_time": "2021-10-10T12:11:35.496Z"
   },
   {
    "duration": 5,
    "start_time": "2021-10-10T12:11:36.028Z"
   },
   {
    "duration": 306,
    "start_time": "2021-10-10T12:13:13.452Z"
   },
   {
    "duration": 474,
    "start_time": "2021-10-10T12:13:20.773Z"
   },
   {
    "duration": 6,
    "start_time": "2021-10-10T12:13:24.138Z"
   },
   {
    "duration": 894,
    "start_time": "2021-10-10T12:13:49.067Z"
   },
   {
    "duration": 2994,
    "start_time": "2021-10-10T12:14:25.141Z"
   },
   {
    "duration": 560,
    "start_time": "2021-10-10T12:18:36.899Z"
   },
   {
    "duration": 464,
    "start_time": "2021-10-10T12:18:37.855Z"
   },
   {
    "duration": 6,
    "start_time": "2021-10-10T12:18:39.169Z"
   },
   {
    "duration": 3065,
    "start_time": "2021-10-10T12:18:44.774Z"
   },
   {
    "duration": 2982,
    "start_time": "2021-10-10T12:18:56.512Z"
   },
   {
    "duration": 108,
    "start_time": "2021-10-10T12:19:36.847Z"
   },
   {
    "duration": 641,
    "start_time": "2021-10-10T12:21:04.637Z"
   },
   {
    "duration": 488,
    "start_time": "2021-10-10T12:21:06.054Z"
   },
   {
    "duration": 564,
    "start_time": "2021-10-10T12:21:15.612Z"
   },
   {
    "duration": 469,
    "start_time": "2021-10-10T12:21:16.585Z"
   },
   {
    "duration": 353,
    "start_time": "2021-10-10T12:27:16.428Z"
   },
   {
    "duration": 3307,
    "start_time": "2021-10-10T12:27:30.346Z"
   },
   {
    "duration": 364,
    "start_time": "2021-10-10T12:27:33.656Z"
   },
   {
    "duration": 356,
    "start_time": "2021-10-10T12:27:51.717Z"
   },
   {
    "duration": 355,
    "start_time": "2021-10-10T12:28:38.952Z"
   },
   {
    "duration": 3147,
    "start_time": "2021-10-10T12:28:46.976Z"
   },
   {
    "duration": 353,
    "start_time": "2021-10-10T12:28:51.216Z"
   },
   {
    "duration": 3034,
    "start_time": "2021-10-10T12:29:29.040Z"
   },
   {
    "duration": 3058,
    "start_time": "2021-10-10T12:29:51.411Z"
   },
   {
    "duration": 17410,
    "start_time": "2021-10-10T12:30:09.777Z"
   },
   {
    "duration": 303,
    "start_time": "2021-10-10T12:46:56.586Z"
   },
   {
    "duration": 3043,
    "start_time": "2021-10-10T12:48:35.745Z"
   },
   {
    "duration": 2959,
    "start_time": "2021-10-10T12:48:54.184Z"
   },
   {
    "duration": 17665,
    "start_time": "2021-10-10T12:49:03.128Z"
   },
   {
    "duration": 497,
    "start_time": "2021-10-10T12:50:22.742Z"
   },
   {
    "duration": 5,
    "start_time": "2021-10-10T12:50:29.574Z"
   },
   {
    "duration": 70,
    "start_time": "2021-10-10T12:54:21.713Z"
   },
   {
    "duration": 109,
    "start_time": "2021-10-10T12:58:03.719Z"
   },
   {
    "duration": 132,
    "start_time": "2021-10-10T12:59:47.571Z"
   },
   {
    "duration": 333,
    "start_time": "2021-10-10T13:00:28.195Z"
   },
   {
    "duration": 6,
    "start_time": "2021-10-10T13:00:57.313Z"
   },
   {
    "duration": 15,
    "start_time": "2021-10-10T13:01:31.331Z"
   },
   {
    "duration": 36,
    "start_time": "2021-10-10T13:03:07.574Z"
   },
   {
    "duration": 36,
    "start_time": "2021-10-10T13:03:48.107Z"
   },
   {
    "duration": 6,
    "start_time": "2021-10-10T13:05:59.663Z"
   },
   {
    "duration": 318,
    "start_time": "2021-10-10T13:06:11.041Z"
   },
   {
    "duration": 258,
    "start_time": "2021-10-10T13:06:22.019Z"
   },
   {
    "duration": 7,
    "start_time": "2021-10-10T13:08:20.249Z"
   },
   {
    "duration": 7,
    "start_time": "2021-10-10T13:08:49.508Z"
   },
   {
    "duration": 19,
    "start_time": "2021-10-10T13:20:26.485Z"
   },
   {
    "duration": 9,
    "start_time": "2021-10-10T13:20:35.905Z"
   },
   {
    "duration": 319,
    "start_time": "2021-10-10T13:20:49.134Z"
   },
   {
    "duration": 19,
    "start_time": "2021-10-10T13:21:15.911Z"
   },
   {
    "duration": 9,
    "start_time": "2021-10-10T13:21:16.912Z"
   },
   {
    "duration": 6,
    "start_time": "2021-10-10T13:22:37.770Z"
   },
   {
    "duration": 49,
    "start_time": "2021-10-10T13:22:37.820Z"
   },
   {
    "duration": 19,
    "start_time": "2021-10-10T13:22:37.873Z"
   },
   {
    "duration": 35,
    "start_time": "2021-10-10T13:22:37.895Z"
   },
   {
    "duration": 51,
    "start_time": "2021-10-10T13:22:37.933Z"
   },
   {
    "duration": 10,
    "start_time": "2021-10-10T13:22:37.986Z"
   },
   {
    "duration": 4,
    "start_time": "2021-10-10T13:22:37.999Z"
   },
   {
    "duration": 11,
    "start_time": "2021-10-10T13:22:38.006Z"
   },
   {
    "duration": 14,
    "start_time": "2021-10-10T13:22:38.020Z"
   },
   {
    "duration": 14,
    "start_time": "2021-10-10T13:22:38.037Z"
   },
   {
    "duration": 35,
    "start_time": "2021-10-10T13:22:38.054Z"
   },
   {
    "duration": 11,
    "start_time": "2021-10-10T13:22:38.091Z"
   },
   {
    "duration": 79,
    "start_time": "2021-10-10T13:22:38.104Z"
   },
   {
    "duration": 132,
    "start_time": "2021-10-10T13:22:38.186Z"
   },
   {
    "duration": 161,
    "start_time": "2021-10-10T13:22:38.321Z"
   },
   {
    "duration": 5,
    "start_time": "2021-10-10T13:22:38.485Z"
   },
   {
    "duration": 32,
    "start_time": "2021-10-10T13:22:38.492Z"
   },
   {
    "duration": 8,
    "start_time": "2021-10-10T13:22:38.527Z"
   },
   {
    "duration": 10,
    "start_time": "2021-10-10T13:22:38.537Z"
   },
   {
    "duration": 19,
    "start_time": "2021-10-10T13:22:38.583Z"
   },
   {
    "duration": 7,
    "start_time": "2021-10-10T13:22:38.605Z"
   },
   {
    "duration": 591,
    "start_time": "2021-10-10T13:22:38.615Z"
   },
   {
    "duration": 482,
    "start_time": "2021-10-10T13:22:39.209Z"
   },
   {
    "duration": 4,
    "start_time": "2021-10-10T13:22:39.696Z"
   },
   {
    "duration": 3002,
    "start_time": "2021-10-10T13:22:39.702Z"
   },
   {
    "duration": 18632,
    "start_time": "2021-10-10T13:22:42.706Z"
   },
   {
    "duration": 516,
    "start_time": "2021-10-10T13:23:01.341Z"
   },
   {
    "duration": 5,
    "start_time": "2021-10-10T13:23:01.860Z"
   },
   {
    "duration": 200,
    "start_time": "2021-10-10T13:23:01.882Z"
   },
   {
    "duration": 5,
    "start_time": "2021-10-10T13:23:02.085Z"
   },
   {
    "duration": 25,
    "start_time": "2021-10-10T13:23:02.092Z"
   },
   {
    "duration": 35,
    "start_time": "2021-10-10T13:23:02.119Z"
   },
   {
    "duration": 291,
    "start_time": "2021-10-10T13:23:02.156Z"
   },
   {
    "duration": 9,
    "start_time": "2021-10-10T13:23:02.450Z"
   },
   {
    "duration": 1482,
    "start_time": "2021-10-11T07:12:52.720Z"
   },
   {
    "duration": 53,
    "start_time": "2021-10-11T07:12:54.205Z"
   },
   {
    "duration": 22,
    "start_time": "2021-10-11T07:12:54.261Z"
   },
   {
    "duration": 29,
    "start_time": "2021-10-11T07:12:54.286Z"
   },
   {
    "duration": 44,
    "start_time": "2021-10-11T07:12:54.317Z"
   },
   {
    "duration": 5,
    "start_time": "2021-10-11T07:12:54.364Z"
   },
   {
    "duration": 13,
    "start_time": "2021-10-11T07:12:54.379Z"
   },
   {
    "duration": 6,
    "start_time": "2021-10-11T07:12:54.395Z"
   },
   {
    "duration": 34,
    "start_time": "2021-10-11T07:12:56.379Z"
   },
   {
    "duration": 105,
    "start_time": "2021-10-11T07:14:17.105Z"
   },
   {
    "duration": 6,
    "start_time": "2021-10-11T07:16:30.117Z"
   },
   {
    "duration": 60,
    "start_time": "2021-10-11T07:16:30.126Z"
   },
   {
    "duration": 19,
    "start_time": "2021-10-11T07:16:30.189Z"
   },
   {
    "duration": 30,
    "start_time": "2021-10-11T07:16:30.211Z"
   },
   {
    "duration": 11,
    "start_time": "2021-10-11T07:16:30.261Z"
   },
   {
    "duration": 8,
    "start_time": "2021-10-11T07:16:30.275Z"
   },
   {
    "duration": 19,
    "start_time": "2021-10-11T07:16:30.285Z"
   },
   {
    "duration": 12,
    "start_time": "2021-10-11T07:16:30.307Z"
   },
   {
    "duration": 57,
    "start_time": "2021-10-11T07:16:30.323Z"
   },
   {
    "duration": 8,
    "start_time": "2021-10-11T07:16:30.382Z"
   },
   {
    "duration": 16,
    "start_time": "2021-10-11T07:16:30.392Z"
   },
   {
    "duration": 27,
    "start_time": "2021-10-11T07:16:30.411Z"
   },
   {
    "duration": 67,
    "start_time": "2021-10-11T07:16:30.440Z"
   },
   {
    "duration": 139,
    "start_time": "2021-10-11T07:16:30.509Z"
   },
   {
    "duration": 115,
    "start_time": "2021-10-11T07:16:30.650Z"
   },
   {
    "duration": 96,
    "start_time": "2021-10-11T07:16:30.769Z"
   },
   {
    "duration": 17,
    "start_time": "2021-10-11T07:16:54.978Z"
   },
   {
    "duration": 9,
    "start_time": "2021-10-11T07:16:56.398Z"
   },
   {
    "duration": 578,
    "start_time": "2021-10-11T07:17:44.301Z"
   },
   {
    "duration": 589,
    "start_time": "2021-10-11T07:24:58.792Z"
   },
   {
    "duration": 480,
    "start_time": "2021-10-11T07:25:02.745Z"
   },
   {
    "duration": 5,
    "start_time": "2021-10-11T07:25:08.170Z"
   },
   {
    "duration": 558,
    "start_time": "2021-10-11T07:25:24.279Z"
   },
   {
    "duration": 374,
    "start_time": "2021-10-11T07:25:39.127Z"
   },
   {
    "duration": 3007,
    "start_time": "2021-10-11T07:25:59.347Z"
   },
   {
    "duration": 15166,
    "start_time": "2021-10-11T07:26:25.529Z"
   },
   {
    "duration": 490,
    "start_time": "2021-10-11T07:26:44.114Z"
   },
   {
    "duration": 5,
    "start_time": "2021-10-11T07:26:48.467Z"
   },
   {
    "duration": 90,
    "start_time": "2021-10-11T07:26:59.777Z"
   },
   {
    "duration": 6,
    "start_time": "2021-10-11T07:37:19.677Z"
   },
   {
    "duration": 55,
    "start_time": "2021-10-11T07:37:19.685Z"
   },
   {
    "duration": 20,
    "start_time": "2021-10-11T07:37:19.743Z"
   },
   {
    "duration": 28,
    "start_time": "2021-10-11T07:37:19.766Z"
   },
   {
    "duration": 11,
    "start_time": "2021-10-11T07:37:19.797Z"
   },
   {
    "duration": 4,
    "start_time": "2021-10-11T07:37:19.810Z"
   },
   {
    "duration": 537,
    "start_time": "2021-10-11T07:37:22.810Z"
   },
   {
    "duration": 328,
    "start_time": "2021-10-11T07:37:44.476Z"
   },
   {
    "duration": 304,
    "start_time": "2021-10-11T07:38:55.838Z"
   },
   {
    "duration": 335,
    "start_time": "2021-10-11T07:39:40.427Z"
   },
   {
    "duration": 15,
    "start_time": "2021-10-11T07:39:56.393Z"
   },
   {
    "duration": 7,
    "start_time": "2021-10-11T07:41:55.804Z"
   },
   {
    "duration": 61,
    "start_time": "2021-10-11T07:41:55.813Z"
   },
   {
    "duration": 24,
    "start_time": "2021-10-11T07:41:55.878Z"
   },
   {
    "duration": 58,
    "start_time": "2021-10-11T07:41:55.905Z"
   },
   {
    "duration": 14,
    "start_time": "2021-10-11T07:41:55.966Z"
   },
   {
    "duration": 6,
    "start_time": "2021-10-11T07:41:55.982Z"
   },
   {
    "duration": 22,
    "start_time": "2021-10-11T07:41:58.241Z"
   },
   {
    "duration": 6,
    "start_time": "2021-10-11T07:41:59.789Z"
   },
   {
    "duration": 37,
    "start_time": "2021-10-11T07:42:01.349Z"
   },
   {
    "duration": 8,
    "start_time": "2021-10-11T07:42:05.371Z"
   },
   {
    "duration": 8,
    "start_time": "2021-10-11T07:42:06.766Z"
   },
   {
    "duration": 9,
    "start_time": "2021-10-11T07:42:07.259Z"
   },
   {
    "duration": 61,
    "start_time": "2021-10-11T07:42:13.536Z"
   },
   {
    "duration": 122,
    "start_time": "2021-10-11T07:42:14.179Z"
   },
   {
    "duration": 79,
    "start_time": "2021-10-11T07:42:14.989Z"
   },
   {
    "duration": 6,
    "start_time": "2021-10-11T07:42:35.077Z"
   },
   {
    "duration": 17,
    "start_time": "2021-10-11T07:42:37.032Z"
   },
   {
    "duration": 10,
    "start_time": "2021-10-11T07:42:41.036Z"
   },
   {
    "duration": 18,
    "start_time": "2021-10-11T07:42:43.658Z"
   },
   {
    "duration": 9,
    "start_time": "2021-10-11T07:42:44.165Z"
   },
   {
    "duration": 603,
    "start_time": "2021-10-11T07:42:46.765Z"
   },
   {
    "duration": 495,
    "start_time": "2021-10-11T07:43:09.104Z"
   },
   {
    "duration": 5,
    "start_time": "2021-10-11T07:43:10.449Z"
   },
   {
    "duration": 2990,
    "start_time": "2021-10-11T07:43:13.139Z"
   },
   {
    "duration": 16384,
    "start_time": "2021-10-11T07:43:20.697Z"
   },
   {
    "duration": 495,
    "start_time": "2021-10-11T07:43:37.085Z"
   },
   {
    "duration": 5,
    "start_time": "2021-10-11T07:43:40.055Z"
   },
   {
    "duration": 42,
    "start_time": "2021-10-11T07:43:41.136Z"
   },
   {
    "duration": 5,
    "start_time": "2021-10-11T07:46:09.651Z"
   },
   {
    "duration": 75,
    "start_time": "2021-10-11T07:46:09.663Z"
   },
   {
    "duration": 39,
    "start_time": "2021-10-11T07:46:09.741Z"
   },
   {
    "duration": 28,
    "start_time": "2021-10-11T07:46:09.785Z"
   },
   {
    "duration": 46,
    "start_time": "2021-10-11T07:46:09.817Z"
   },
   {
    "duration": 6,
    "start_time": "2021-10-11T07:46:09.866Z"
   },
   {
    "duration": 22,
    "start_time": "2021-10-11T07:46:09.875Z"
   },
   {
    "duration": 5,
    "start_time": "2021-10-11T07:46:09.900Z"
   },
   {
    "duration": 79,
    "start_time": "2021-10-11T07:46:09.908Z"
   },
   {
    "duration": 8,
    "start_time": "2021-10-11T07:46:09.991Z"
   },
   {
    "duration": 8,
    "start_time": "2021-10-11T07:46:10.002Z"
   },
   {
    "duration": 18,
    "start_time": "2021-10-11T07:46:10.013Z"
   },
   {
    "duration": 59,
    "start_time": "2021-10-11T07:46:10.062Z"
   },
   {
    "duration": 148,
    "start_time": "2021-10-11T07:46:10.123Z"
   },
   {
    "duration": 91,
    "start_time": "2021-10-11T07:46:10.274Z"
   },
   {
    "duration": 95,
    "start_time": "2021-10-11T07:46:10.370Z"
   },
   {
    "duration": 17,
    "start_time": "2021-10-11T07:46:10.468Z"
   },
   {
    "duration": 8,
    "start_time": "2021-10-11T07:46:10.488Z"
   },
   {
    "duration": 17,
    "start_time": "2021-10-11T07:46:10.499Z"
   },
   {
    "duration": 49,
    "start_time": "2021-10-11T07:46:10.518Z"
   },
   {
    "duration": 584,
    "start_time": "2021-10-11T07:46:10.569Z"
   },
   {
    "duration": 540,
    "start_time": "2021-10-11T07:46:11.162Z"
   },
   {
    "duration": 5,
    "start_time": "2021-10-11T07:46:11.704Z"
   },
   {
    "duration": 3252,
    "start_time": "2021-10-11T07:46:11.711Z"
   },
   {
    "duration": 17092,
    "start_time": "2021-10-11T07:46:14.966Z"
   },
   {
    "duration": 539,
    "start_time": "2021-10-11T07:46:32.061Z"
   },
   {
    "duration": 5,
    "start_time": "2021-10-11T07:46:32.603Z"
   },
   {
    "duration": 73,
    "start_time": "2021-10-11T07:46:32.612Z"
   },
   {
    "duration": 8,
    "start_time": "2021-10-11T07:46:32.764Z"
   },
   {
    "duration": 25,
    "start_time": "2021-10-11T07:46:32.863Z"
   },
   {
    "duration": 41,
    "start_time": "2021-10-11T07:46:32.891Z"
   },
   {
    "duration": 298,
    "start_time": "2021-10-11T07:46:32.934Z"
   },
   {
    "duration": 27,
    "start_time": "2021-10-11T07:46:33.235Z"
   },
   {
    "duration": 33,
    "start_time": "2021-10-11T07:59:01.274Z"
   },
   {
    "duration": 30,
    "start_time": "2021-10-11T07:59:02.054Z"
   },
   {
    "duration": 6,
    "start_time": "2021-10-11T07:59:05.694Z"
   },
   {
    "duration": 68,
    "start_time": "2021-10-11T07:59:05.702Z"
   },
   {
    "duration": 20,
    "start_time": "2021-10-11T07:59:05.773Z"
   },
   {
    "duration": 36,
    "start_time": "2021-10-11T07:59:05.796Z"
   },
   {
    "duration": 35,
    "start_time": "2021-10-11T07:59:05.835Z"
   },
   {
    "duration": 10,
    "start_time": "2021-10-11T07:59:05.873Z"
   },
   {
    "duration": 23,
    "start_time": "2021-10-11T07:59:05.886Z"
   },
   {
    "duration": 10,
    "start_time": "2021-10-11T07:59:05.912Z"
   },
   {
    "duration": 64,
    "start_time": "2021-10-11T07:59:05.924Z"
   },
   {
    "duration": 29,
    "start_time": "2021-10-11T07:59:05.990Z"
   },
   {
    "duration": 8,
    "start_time": "2021-10-11T07:59:06.022Z"
   },
   {
    "duration": 30,
    "start_time": "2021-10-11T07:59:06.033Z"
   },
   {
    "duration": 8,
    "start_time": "2021-10-11T07:59:06.066Z"
   },
   {
    "duration": 88,
    "start_time": "2021-10-11T07:59:06.077Z"
   },
   {
    "duration": 136,
    "start_time": "2021-10-11T07:59:06.168Z"
   },
   {
    "duration": 161,
    "start_time": "2021-10-11T07:59:06.307Z"
   },
   {
    "duration": 5,
    "start_time": "2021-10-11T07:59:06.472Z"
   },
   {
    "duration": 93,
    "start_time": "2021-10-11T07:59:06.480Z"
   },
   {
    "duration": 8,
    "start_time": "2021-10-11T07:59:06.575Z"
   },
   {
    "duration": 17,
    "start_time": "2021-10-11T07:59:06.586Z"
   },
   {
    "duration": 7,
    "start_time": "2021-10-11T07:59:06.606Z"
   },
   {
    "duration": 616,
    "start_time": "2021-10-11T07:59:06.616Z"
   },
   {
    "duration": 510,
    "start_time": "2021-10-11T07:59:07.234Z"
   },
   {
    "duration": 15,
    "start_time": "2021-10-11T07:59:07.747Z"
   },
   {
    "duration": 3118,
    "start_time": "2021-10-11T07:59:07.764Z"
   },
   {
    "duration": 20833,
    "start_time": "2021-10-11T07:59:10.885Z"
   },
   {
    "duration": 471,
    "start_time": "2021-10-11T07:59:31.720Z"
   },
   {
    "duration": 4,
    "start_time": "2021-10-11T07:59:32.193Z"
   },
   {
    "duration": 161,
    "start_time": "2021-10-11T07:59:32.201Z"
   },
   {
    "duration": 98,
    "start_time": "2021-10-11T07:59:32.365Z"
   },
   {
    "duration": 18,
    "start_time": "2021-10-11T07:59:32.466Z"
   },
   {
    "duration": 42,
    "start_time": "2021-10-11T07:59:32.487Z"
   },
   {
    "duration": 309,
    "start_time": "2021-10-11T07:59:32.531Z"
   },
   {
    "duration": 8,
    "start_time": "2021-10-11T07:59:32.842Z"
   },
   {
    "duration": 108,
    "start_time": "2021-10-11T08:00:59.640Z"
   },
   {
    "duration": 6,
    "start_time": "2021-10-11T08:01:23.460Z"
   },
   {
    "duration": 57,
    "start_time": "2021-10-11T08:01:23.468Z"
   },
   {
    "duration": 34,
    "start_time": "2021-10-11T08:01:23.528Z"
   },
   {
    "duration": 28,
    "start_time": "2021-10-11T08:01:23.564Z"
   },
   {
    "duration": 10,
    "start_time": "2021-10-11T08:01:23.595Z"
   },
   {
    "duration": 4,
    "start_time": "2021-10-11T08:01:23.608Z"
   },
   {
    "duration": 63,
    "start_time": "2021-10-11T08:01:23.614Z"
   },
   {
    "duration": 6,
    "start_time": "2021-10-11T08:01:23.680Z"
   },
   {
    "duration": 33,
    "start_time": "2021-10-11T08:01:23.691Z"
   },
   {
    "duration": 29,
    "start_time": "2021-10-11T08:01:23.762Z"
   },
   {
    "duration": 9,
    "start_time": "2021-10-11T08:01:23.794Z"
   },
   {
    "duration": 9,
    "start_time": "2021-10-11T08:01:23.805Z"
   },
   {
    "duration": 8,
    "start_time": "2021-10-11T08:01:23.816Z"
   },
   {
    "duration": 57,
    "start_time": "2021-10-11T08:01:23.863Z"
   },
   {
    "duration": 186,
    "start_time": "2021-10-11T08:01:23.922Z"
   },
   {
    "duration": 153,
    "start_time": "2021-10-11T08:01:24.112Z"
   },
   {
    "duration": 96,
    "start_time": "2021-10-11T08:01:24.269Z"
   },
   {
    "duration": 17,
    "start_time": "2021-10-11T08:01:24.367Z"
   },
   {
    "duration": 8,
    "start_time": "2021-10-11T08:01:24.386Z"
   },
   {
    "duration": 19,
    "start_time": "2021-10-11T08:01:24.396Z"
   },
   {
    "duration": 47,
    "start_time": "2021-10-11T08:01:24.417Z"
   },
   {
    "duration": 622,
    "start_time": "2021-10-11T08:01:24.466Z"
   },
   {
    "duration": 511,
    "start_time": "2021-10-11T08:01:25.091Z"
   },
   {
    "duration": 5,
    "start_time": "2021-10-11T08:01:25.604Z"
   },
   {
    "duration": 3085,
    "start_time": "2021-10-11T08:01:25.612Z"
   },
   {
    "duration": 21643,
    "start_time": "2021-10-11T08:01:28.700Z"
   },
   {
    "duration": 501,
    "start_time": "2021-10-11T08:01:50.348Z"
   },
   {
    "duration": 6,
    "start_time": "2021-10-11T08:01:50.861Z"
   },
   {
    "duration": 96,
    "start_time": "2021-10-11T08:01:50.869Z"
   },
   {
    "duration": 96,
    "start_time": "2021-10-11T08:01:50.968Z"
   },
   {
    "duration": 42,
    "start_time": "2021-10-11T08:01:51.066Z"
   },
   {
    "duration": 287,
    "start_time": "2021-10-11T08:01:51.111Z"
   },
   {
    "duration": 8,
    "start_time": "2021-10-11T08:01:51.400Z"
   },
   {
    "duration": 6,
    "start_time": "2021-10-11T08:03:32.903Z"
   },
   {
    "duration": 230,
    "start_time": "2021-10-11T08:03:57.699Z"
   },
   {
    "duration": 6,
    "start_time": "2021-10-11T08:04:11.655Z"
   },
   {
    "duration": 18,
    "start_time": "2021-10-11T08:04:12.034Z"
   },
   {
    "duration": 226,
    "start_time": "2021-10-11T08:04:26.776Z"
   },
   {
    "duration": 6,
    "start_time": "2021-10-11T08:04:37.207Z"
   },
   {
    "duration": 16,
    "start_time": "2021-10-11T08:04:37.519Z"
   },
   {
    "duration": 232,
    "start_time": "2021-10-11T08:04:46.876Z"
   },
   {
    "duration": 346,
    "start_time": "2021-10-11T08:04:49.572Z"
   },
   {
    "duration": 7,
    "start_time": "2021-10-11T08:04:54.139Z"
   },
   {
    "duration": 6,
    "start_time": "2021-10-11T08:05:12.470Z"
   },
   {
    "duration": 56,
    "start_time": "2021-10-11T08:05:12.478Z"
   },
   {
    "duration": 35,
    "start_time": "2021-10-11T08:05:12.537Z"
   },
   {
    "duration": 28,
    "start_time": "2021-10-11T08:05:12.575Z"
   },
   {
    "duration": 11,
    "start_time": "2021-10-11T08:05:12.606Z"
   },
   {
    "duration": 43,
    "start_time": "2021-10-11T08:05:12.620Z"
   },
   {
    "duration": 26,
    "start_time": "2021-10-11T08:05:12.667Z"
   },
   {
    "duration": 5,
    "start_time": "2021-10-11T08:05:12.696Z"
   },
   {
    "duration": 61,
    "start_time": "2021-10-11T08:05:12.704Z"
   },
   {
    "duration": 29,
    "start_time": "2021-10-11T08:05:12.768Z"
   },
   {
    "duration": 11,
    "start_time": "2021-10-11T08:05:12.800Z"
   },
   {
    "duration": 15,
    "start_time": "2021-10-11T08:05:12.813Z"
   },
   {
    "duration": 41,
    "start_time": "2021-10-11T08:05:12.831Z"
   },
   {
    "duration": 57,
    "start_time": "2021-10-11T08:05:12.875Z"
   },
   {
    "duration": 135,
    "start_time": "2021-10-11T08:05:12.962Z"
   },
   {
    "duration": 70,
    "start_time": "2021-10-11T08:05:13.100Z"
   },
   {
    "duration": 92,
    "start_time": "2021-10-11T08:05:13.173Z"
   },
   {
    "duration": 21,
    "start_time": "2021-10-11T08:05:13.268Z"
   },
   {
    "duration": 8,
    "start_time": "2021-10-11T08:05:13.294Z"
   },
   {
    "duration": 59,
    "start_time": "2021-10-11T08:05:13.305Z"
   },
   {
    "duration": 10,
    "start_time": "2021-10-11T08:05:13.367Z"
   },
   {
    "duration": 835,
    "start_time": "2021-10-11T08:05:13.380Z"
   },
   {
    "duration": 668,
    "start_time": "2021-10-11T08:05:14.218Z"
   },
   {
    "duration": 6,
    "start_time": "2021-10-11T08:05:14.889Z"
   },
   {
    "duration": 3292,
    "start_time": "2021-10-11T08:05:14.898Z"
   },
   {
    "duration": 21661,
    "start_time": "2021-10-11T08:05:18.193Z"
   },
   {
    "duration": 478,
    "start_time": "2021-10-11T08:05:39.861Z"
   },
   {
    "duration": 4,
    "start_time": "2021-10-11T08:05:40.342Z"
   },
   {
    "duration": 116,
    "start_time": "2021-10-11T08:05:40.348Z"
   },
   {
    "duration": 96,
    "start_time": "2021-10-11T08:05:40.466Z"
   },
   {
    "duration": 20,
    "start_time": "2021-10-11T08:05:40.565Z"
   },
   {
    "duration": 253,
    "start_time": "2021-10-11T08:05:40.587Z"
   },
   {
    "duration": 298,
    "start_time": "2021-10-11T08:05:40.844Z"
   },
   {
    "duration": 22,
    "start_time": "2021-10-11T08:05:41.145Z"
   },
   {
    "duration": 5,
    "start_time": "2021-10-11T08:06:26.181Z"
   },
   {
    "duration": 16,
    "start_time": "2021-10-11T08:06:26.543Z"
   },
   {
    "duration": 240,
    "start_time": "2021-10-11T08:06:29.060Z"
   },
   {
    "duration": 292,
    "start_time": "2021-10-11T08:06:32.081Z"
   },
   {
    "duration": 232,
    "start_time": "2021-10-11T08:10:09.847Z"
   },
   {
    "duration": 6,
    "start_time": "2021-10-11T08:10:36.480Z"
   },
   {
    "duration": 234,
    "start_time": "2021-10-11T08:10:38.212Z"
   },
   {
    "duration": 276,
    "start_time": "2021-10-11T08:10:39.985Z"
   },
   {
    "duration": 81,
    "start_time": "2021-10-12T07:30:48.763Z"
   },
   {
    "duration": 304,
    "start_time": "2021-10-12T07:33:10.509Z"
   },
   {
    "duration": 1469,
    "start_time": "2021-10-12T07:33:17.791Z"
   },
   {
    "duration": 55,
    "start_time": "2021-10-12T07:33:19.263Z"
   },
   {
    "duration": 20,
    "start_time": "2021-10-12T07:33:19.321Z"
   },
   {
    "duration": 51,
    "start_time": "2021-10-12T07:33:19.344Z"
   },
   {
    "duration": 12,
    "start_time": "2021-10-12T07:33:19.397Z"
   },
   {
    "duration": 11,
    "start_time": "2021-10-12T07:33:19.423Z"
   },
   {
    "duration": 46,
    "start_time": "2021-10-12T07:33:19.436Z"
   },
   {
    "duration": 11,
    "start_time": "2021-10-12T07:33:19.486Z"
   },
   {
    "duration": 47,
    "start_time": "2021-10-12T07:33:19.500Z"
   },
   {
    "duration": 30,
    "start_time": "2021-10-12T07:33:19.550Z"
   },
   {
    "duration": 307,
    "start_time": "2021-10-12T07:33:19.583Z"
   },
   {
    "duration": 260,
    "start_time": "2021-10-12T07:33:19.633Z"
   },
   {
    "duration": 252,
    "start_time": "2021-10-12T07:33:19.642Z"
   },
   {
    "duration": 243,
    "start_time": "2021-10-12T07:33:19.653Z"
   },
   {
    "duration": 234,
    "start_time": "2021-10-12T07:33:19.663Z"
   },
   {
    "duration": 225,
    "start_time": "2021-10-12T07:33:19.673Z"
   },
   {
    "duration": 216,
    "start_time": "2021-10-12T07:33:19.684Z"
   },
   {
    "duration": 207,
    "start_time": "2021-10-12T07:33:19.694Z"
   },
   {
    "duration": 198,
    "start_time": "2021-10-12T07:33:19.704Z"
   },
   {
    "duration": 190,
    "start_time": "2021-10-12T07:33:19.714Z"
   },
   {
    "duration": 169,
    "start_time": "2021-10-12T07:33:19.736Z"
   },
   {
    "duration": 160,
    "start_time": "2021-10-12T07:33:19.746Z"
   },
   {
    "duration": 153,
    "start_time": "2021-10-12T07:33:19.755Z"
   },
   {
    "duration": 144,
    "start_time": "2021-10-12T07:33:19.765Z"
   },
   {
    "duration": 130,
    "start_time": "2021-10-12T07:33:19.780Z"
   },
   {
    "duration": 120,
    "start_time": "2021-10-12T07:33:19.792Z"
   },
   {
    "duration": 109,
    "start_time": "2021-10-12T07:33:19.804Z"
   },
   {
    "duration": 95,
    "start_time": "2021-10-12T07:33:19.819Z"
   },
   {
    "duration": 87,
    "start_time": "2021-10-12T07:33:19.829Z"
   },
   {
    "duration": 65,
    "start_time": "2021-10-12T07:33:19.852Z"
   },
   {
    "duration": 56,
    "start_time": "2021-10-12T07:33:19.862Z"
   },
   {
    "duration": 48,
    "start_time": "2021-10-12T07:33:19.872Z"
   },
   {
    "duration": 40,
    "start_time": "2021-10-12T07:33:19.881Z"
   },
   {
    "duration": 31,
    "start_time": "2021-10-12T07:33:19.891Z"
   },
   {
    "duration": 6,
    "start_time": "2021-10-12T07:34:09.512Z"
   },
   {
    "duration": 62,
    "start_time": "2021-10-12T07:34:09.527Z"
   },
   {
    "duration": 30,
    "start_time": "2021-10-12T07:34:09.592Z"
   },
   {
    "duration": 31,
    "start_time": "2021-10-12T07:34:09.627Z"
   },
   {
    "duration": 14,
    "start_time": "2021-10-12T07:34:09.662Z"
   },
   {
    "duration": 6,
    "start_time": "2021-10-12T07:34:09.723Z"
   },
   {
    "duration": 24,
    "start_time": "2021-10-12T07:34:09.732Z"
   },
   {
    "duration": 7,
    "start_time": "2021-10-12T07:34:09.759Z"
   },
   {
    "duration": 77,
    "start_time": "2021-10-12T07:34:09.770Z"
   },
   {
    "duration": 30,
    "start_time": "2021-10-12T07:34:09.850Z"
   },
   {
    "duration": 358,
    "start_time": "2021-10-12T07:34:09.883Z"
   },
   {
    "duration": 129,
    "start_time": "2021-10-12T07:34:10.115Z"
   },
   {
    "duration": 120,
    "start_time": "2021-10-12T07:34:10.126Z"
   },
   {
    "duration": 110,
    "start_time": "2021-10-12T07:34:10.137Z"
   },
   {
    "duration": 103,
    "start_time": "2021-10-12T07:34:10.146Z"
   },
   {
    "duration": 91,
    "start_time": "2021-10-12T07:34:10.159Z"
   },
   {
    "duration": 81,
    "start_time": "2021-10-12T07:34:10.170Z"
   },
   {
    "duration": 60,
    "start_time": "2021-10-12T07:34:10.193Z"
   },
   {
    "duration": 51,
    "start_time": "2021-10-12T07:34:10.203Z"
   },
   {
    "duration": 42,
    "start_time": "2021-10-12T07:34:10.213Z"
   },
   {
    "duration": 30,
    "start_time": "2021-10-12T07:34:10.228Z"
   },
   {
    "duration": 17,
    "start_time": "2021-10-12T07:34:10.242Z"
   },
   {
    "duration": 8,
    "start_time": "2021-10-12T07:34:10.252Z"
   },
   {
    "duration": -2,
    "start_time": "2021-10-12T07:34:10.263Z"
   },
   {
    "duration": -12,
    "start_time": "2021-10-12T07:34:10.275Z"
   },
   {
    "duration": -23,
    "start_time": "2021-10-12T07:34:10.287Z"
   },
   {
    "duration": -44,
    "start_time": "2021-10-12T07:34:10.310Z"
   },
   {
    "duration": -53,
    "start_time": "2021-10-12T07:34:10.320Z"
   },
   {
    "duration": -59,
    "start_time": "2021-10-12T07:34:10.328Z"
   },
   {
    "duration": -68,
    "start_time": "2021-10-12T07:34:10.338Z"
   },
   {
    "duration": -76,
    "start_time": "2021-10-12T07:34:10.347Z"
   },
   {
    "duration": -85,
    "start_time": "2021-10-12T07:34:10.357Z"
   },
   {
    "duration": -93,
    "start_time": "2021-10-12T07:34:10.367Z"
   },
   {
    "duration": -103,
    "start_time": "2021-10-12T07:34:10.378Z"
   },
   {
    "duration": 234,
    "start_time": "2021-10-12T07:34:19.335Z"
   },
   {
    "duration": 251,
    "start_time": "2021-10-12T07:34:31.955Z"
   },
   {
    "duration": 231,
    "start_time": "2021-10-12T07:34:43.689Z"
   },
   {
    "duration": 34,
    "start_time": "2021-10-12T07:34:50.966Z"
   },
   {
    "duration": 26,
    "start_time": "2021-10-12T07:34:51.864Z"
   },
   {
    "duration": 317,
    "start_time": "2021-10-12T07:34:52.682Z"
   },
   {
    "duration": 34,
    "start_time": "2021-10-12T07:36:08.648Z"
   },
   {
    "duration": 27,
    "start_time": "2021-10-12T07:36:09.847Z"
   },
   {
    "duration": 234,
    "start_time": "2021-10-12T07:36:10.771Z"
   },
   {
    "duration": 219,
    "start_time": "2021-10-12T07:36:17.410Z"
   },
   {
    "duration": 34,
    "start_time": "2021-10-12T07:36:20.980Z"
   },
   {
    "duration": 26,
    "start_time": "2021-10-12T07:36:21.525Z"
   },
   {
    "duration": 31,
    "start_time": "2021-10-12T07:36:22.218Z"
   },
   {
    "duration": 28,
    "start_time": "2021-10-12T07:38:58.602Z"
   },
   {
    "duration": 30,
    "start_time": "2021-10-12T07:39:14.155Z"
   },
   {
    "duration": 287,
    "start_time": "2021-10-12T07:40:21.557Z"
   },
   {
    "duration": 23,
    "start_time": "2021-10-12T07:40:29.567Z"
   },
   {
    "duration": 5,
    "start_time": "2021-10-12T07:40:44.077Z"
   },
   {
    "duration": 54,
    "start_time": "2021-10-12T07:40:44.088Z"
   },
   {
    "duration": 20,
    "start_time": "2021-10-12T07:40:44.145Z"
   },
   {
    "duration": 68,
    "start_time": "2021-10-12T07:40:44.168Z"
   },
   {
    "duration": 24,
    "start_time": "2021-10-12T07:40:44.239Z"
   },
   {
    "duration": 63,
    "start_time": "2021-10-12T07:40:44.266Z"
   },
   {
    "duration": 29,
    "start_time": "2021-10-12T07:40:44.331Z"
   },
   {
    "duration": 14,
    "start_time": "2021-10-12T07:40:44.362Z"
   },
   {
    "duration": 53,
    "start_time": "2021-10-12T07:40:44.379Z"
   },
   {
    "duration": 28,
    "start_time": "2021-10-12T07:40:44.434Z"
   },
   {
    "duration": 23,
    "start_time": "2021-10-12T07:40:44.464Z"
   },
   {
    "duration": 9,
    "start_time": "2021-10-12T07:40:44.489Z"
   },
   {
    "duration": 14,
    "start_time": "2021-10-12T07:40:44.523Z"
   },
   {
    "duration": 17,
    "start_time": "2021-10-12T07:40:44.539Z"
   },
   {
    "duration": 67,
    "start_time": "2021-10-12T07:40:44.558Z"
   },
   {
    "duration": 133,
    "start_time": "2021-10-12T07:40:44.627Z"
   },
   {
    "duration": 71,
    "start_time": "2021-10-12T07:40:44.762Z"
   },
   {
    "duration": 7,
    "start_time": "2021-10-12T07:40:44.924Z"
   },
   {
    "duration": 28,
    "start_time": "2021-10-12T07:40:44.933Z"
   },
   {
    "duration": 8,
    "start_time": "2021-10-12T07:40:44.963Z"
   },
   {
    "duration": 20,
    "start_time": "2021-10-12T07:40:45.022Z"
   },
   {
    "duration": 17,
    "start_time": "2021-10-12T07:40:45.045Z"
   },
   {
    "duration": 598,
    "start_time": "2021-10-12T07:40:45.065Z"
   },
   {
    "duration": 519,
    "start_time": "2021-10-12T07:40:45.668Z"
   },
   {
    "duration": 5,
    "start_time": "2021-10-12T07:40:46.190Z"
   },
   {
    "duration": 3178,
    "start_time": "2021-10-12T07:40:46.197Z"
   },
   {
    "duration": 19304,
    "start_time": "2021-10-12T07:40:49.377Z"
   },
   {
    "duration": 491,
    "start_time": "2021-10-12T07:41:08.683Z"
   },
   {
    "duration": 5,
    "start_time": "2021-10-12T07:41:09.177Z"
   },
   {
    "duration": 64,
    "start_time": "2021-10-12T07:41:09.184Z"
   },
   {
    "duration": 99,
    "start_time": "2021-10-12T07:41:09.324Z"
   },
   {
    "duration": 687,
    "start_time": "2021-10-12T07:41:09.425Z"
   },
   {
    "duration": 549,
    "start_time": "2021-10-12T07:41:09.566Z"
   },
   {
    "duration": 534,
    "start_time": "2021-10-12T07:41:09.582Z"
   },
   {
    "duration": 528,
    "start_time": "2021-10-12T07:43:14.720Z"
   },
   {
    "duration": 238,
    "start_time": "2021-10-12T07:43:23.412Z"
   },
   {
    "duration": 33,
    "start_time": "2021-10-12T07:44:31.040Z"
   },
   {
    "duration": 5,
    "start_time": "2021-10-12T07:44:48.796Z"
   },
   {
    "duration": 54,
    "start_time": "2021-10-12T07:44:48.807Z"
   },
   {
    "duration": 23,
    "start_time": "2021-10-12T07:44:48.864Z"
   },
   {
    "duration": 58,
    "start_time": "2021-10-12T07:44:48.890Z"
   },
   {
    "duration": 10,
    "start_time": "2021-10-12T07:44:48.951Z"
   },
   {
    "duration": 5,
    "start_time": "2021-10-12T07:44:48.964Z"
   },
   {
    "duration": 68,
    "start_time": "2021-10-12T07:44:48.971Z"
   },
   {
    "duration": 6,
    "start_time": "2021-10-12T07:44:49.041Z"
   },
   {
    "duration": 41,
    "start_time": "2021-10-12T07:44:49.050Z"
   },
   {
    "duration": 30,
    "start_time": "2021-10-12T07:44:49.122Z"
   },
   {
    "duration": 29,
    "start_time": "2021-10-12T07:44:49.155Z"
   },
   {
    "duration": 12,
    "start_time": "2021-10-12T07:44:49.223Z"
   },
   {
    "duration": 10,
    "start_time": "2021-10-12T07:44:49.237Z"
   },
   {
    "duration": 16,
    "start_time": "2021-10-12T07:44:49.250Z"
   },
   {
    "duration": 88,
    "start_time": "2021-10-12T07:44:49.269Z"
   },
   {
    "duration": 140,
    "start_time": "2021-10-12T07:44:49.360Z"
   },
   {
    "duration": 121,
    "start_time": "2021-10-12T07:44:49.503Z"
   },
   {
    "duration": 93,
    "start_time": "2021-10-12T07:44:49.630Z"
   },
   {
    "duration": 28,
    "start_time": "2021-10-12T07:44:49.725Z"
   },
   {
    "duration": 8,
    "start_time": "2021-10-12T07:44:49.755Z"
   },
   {
    "duration": 28,
    "start_time": "2021-10-12T07:44:49.765Z"
   },
   {
    "duration": 20,
    "start_time": "2021-10-12T07:44:49.795Z"
   },
   {
    "duration": 578,
    "start_time": "2021-10-12T07:44:49.817Z"
   },
   {
    "duration": 478,
    "start_time": "2021-10-12T07:44:50.400Z"
   },
   {
    "duration": 5,
    "start_time": "2021-10-12T07:44:50.881Z"
   },
   {
    "duration": 3104,
    "start_time": "2021-10-12T07:44:50.888Z"
   },
   {
    "duration": 19872,
    "start_time": "2021-10-12T07:44:53.994Z"
   },
   {
    "duration": 484,
    "start_time": "2021-10-12T07:45:13.869Z"
   },
   {
    "duration": 6,
    "start_time": "2021-10-12T07:45:14.356Z"
   },
   {
    "duration": 66,
    "start_time": "2021-10-12T07:45:14.365Z"
   },
   {
    "duration": 89,
    "start_time": "2021-10-12T07:45:14.435Z"
   },
   {
    "duration": 337,
    "start_time": "2021-10-12T07:45:14.527Z"
   },
   {
    "duration": 336,
    "start_time": "2021-10-12T07:45:14.866Z"
   },
   {
    "duration": 619,
    "start_time": "2021-10-12T07:45:14.585Z"
   },
   {
    "duration": 266,
    "start_time": "2021-10-12T07:45:47.221Z"
   },
   {
    "duration": 228,
    "start_time": "2021-10-12T07:45:50.609Z"
   },
   {
    "duration": 8,
    "start_time": "2021-10-12T07:45:55.393Z"
   },
   {
    "duration": 28,
    "start_time": "2021-10-12T07:46:55.278Z"
   },
   {
    "duration": 5,
    "start_time": "2021-10-12T07:46:58.718Z"
   },
   {
    "duration": 65,
    "start_time": "2021-10-12T07:46:58.729Z"
   },
   {
    "duration": 20,
    "start_time": "2021-10-12T07:46:58.796Z"
   },
   {
    "duration": 39,
    "start_time": "2021-10-12T07:46:58.823Z"
   },
   {
    "duration": 11,
    "start_time": "2021-10-12T07:46:58.865Z"
   },
   {
    "duration": 22,
    "start_time": "2021-10-12T07:46:58.878Z"
   },
   {
    "duration": 121,
    "start_time": "2021-10-12T07:46:58.902Z"
   },
   {
    "duration": 5,
    "start_time": "2021-10-12T07:46:59.025Z"
   },
   {
    "duration": 44,
    "start_time": "2021-10-12T07:46:59.034Z"
   },
   {
    "duration": 44,
    "start_time": "2021-10-12T07:46:59.081Z"
   },
   {
    "duration": 29,
    "start_time": "2021-10-12T07:46:59.127Z"
   },
   {
    "duration": 9,
    "start_time": "2021-10-12T07:46:59.159Z"
   },
   {
    "duration": 28,
    "start_time": "2021-10-12T07:46:59.170Z"
   },
   {
    "duration": 27,
    "start_time": "2021-10-12T07:46:59.201Z"
   },
   {
    "duration": 58,
    "start_time": "2021-10-12T07:46:59.230Z"
   },
   {
    "duration": 146,
    "start_time": "2021-10-12T07:46:59.290Z"
   },
   {
    "duration": 186,
    "start_time": "2021-10-12T07:46:59.438Z"
   },
   {
    "duration": 6,
    "start_time": "2021-10-12T07:46:59.627Z"
   },
   {
    "duration": 21,
    "start_time": "2021-10-12T07:46:59.635Z"
   },
   {
    "duration": 25,
    "start_time": "2021-10-12T07:46:59.658Z"
   },
   {
    "duration": 23,
    "start_time": "2021-10-12T07:46:59.686Z"
   },
   {
    "duration": 9,
    "start_time": "2021-10-12T07:46:59.722Z"
   },
   {
    "duration": 589,
    "start_time": "2021-10-12T07:46:59.733Z"
   },
   {
    "duration": 491,
    "start_time": "2021-10-12T07:47:00.327Z"
   },
   {
    "duration": 5,
    "start_time": "2021-10-12T07:47:00.823Z"
   },
   {
    "duration": 3158,
    "start_time": "2021-10-12T07:47:00.830Z"
   },
   {
    "duration": 19230,
    "start_time": "2021-10-12T07:47:03.990Z"
   },
   {
    "duration": 480,
    "start_time": "2021-10-12T07:47:23.223Z"
   },
   {
    "duration": 17,
    "start_time": "2021-10-12T07:47:23.705Z"
   },
   {
    "duration": 102,
    "start_time": "2021-10-12T07:47:23.724Z"
   },
   {
    "duration": 97,
    "start_time": "2021-10-12T07:47:23.829Z"
   },
   {
    "duration": 246,
    "start_time": "2021-10-12T07:47:23.929Z"
   },
   {
    "duration": 381,
    "start_time": "2021-10-12T07:47:24.177Z"
   },
   {
    "duration": 8,
    "start_time": "2021-10-12T07:47:24.560Z"
   }
  ],
  "kernelspec": {
   "display_name": "Python 3 (ipykernel)",
   "language": "python",
   "name": "python3"
  },
  "language_info": {
   "codemirror_mode": {
    "name": "ipython",
    "version": 3
   },
   "file_extension": ".py",
   "mimetype": "text/x-python",
   "name": "python",
   "nbconvert_exporter": "python",
   "pygments_lexer": "ipython3",
   "version": "3.10.0"
  },
  "toc": {
   "base_numbering": 1,
   "nav_menu": {},
   "number_sections": true,
   "sideBar": true,
   "skip_h1_title": true,
   "title_cell": "Содержание",
   "title_sidebar": "Contents",
   "toc_cell": true,
   "toc_position": {
    "height": "calc(100% - 180px)",
    "left": "10px",
    "top": "150px",
    "width": "323.708px"
   },
   "toc_section_display": true,
   "toc_window_display": true
  }
 },
 "nbformat": 4,
 "nbformat_minor": 2
}
