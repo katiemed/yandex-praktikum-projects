{
 "cells": [
  {
   "cell_type": "markdown",
   "metadata": {},
   "source": [
    "# Выбор локации для скважины"
   ]
  },
  {
   "cell_type": "markdown",
   "metadata": {},
   "source": [
    "Добывающей компании «ГлавРосГосНефть» нужно решить, где бурить новую скважину.\n",
    "\n",
    "Предоставлены пробы нефти в трёх регионах: в каждом 10 000 месторождений, где измерили качество нефти и объём её запасов. Необходимо построить модель машинного обучения, которая поможет определить регион, где добыча принесёт наибольшую прибыль. Проанализируйте возможную прибыль и риски.\n",
    "\n",
    "Шаги для выбора локации:\n",
    "\n",
    "- В избранном регионе ищут месторождения, для каждого определяют значения признаков;\n",
    "- Строят модель и оценивают объём запасов;\n",
    "- Выбирают месторождения с самым высокими оценками значений. Количество месторождений зависит от бюджета компании и стоимости разработки одной скважины;\n",
    "- Прибыль равна суммарной прибыли отобранных месторождений."
   ]
  },
  {
   "cell_type": "markdown",
   "metadata": {
    "toc": true
   },
   "source": [
    "<h1>Содержание<span class=\"tocSkip\"></span></h1>\n",
    "<div class=\"toc\"><ul class=\"toc-item\"><li><span><a href=\"#Загрузка-и-подготовка-данных\" data-toc-modified-id=\"Загрузка-и-подготовка-данных-1\"><span class=\"toc-item-num\">1&nbsp;&nbsp;</span>Загрузка и подготовка данных</a></span></li><li><span><a href=\"#Обучение-и-проверка-модели\" data-toc-modified-id=\"Обучение-и-проверка-модели-2\"><span class=\"toc-item-num\">2&nbsp;&nbsp;</span>Обучение и проверка модели</a></span><ul class=\"toc-item\"><li><span><a href=\"#Вывод\" data-toc-modified-id=\"Вывод-2.1\"><span class=\"toc-item-num\">2.1&nbsp;&nbsp;</span>Вывод</a></span></li></ul></li><li><span><a href=\"#Подготовка-к-расчёту-прибыли\" data-toc-modified-id=\"Подготовка-к-расчёту-прибыли-3\"><span class=\"toc-item-num\">3&nbsp;&nbsp;</span>Подготовка к расчёту прибыли</a></span><ul class=\"toc-item\"><li><span><a href=\"#Вывод\" data-toc-modified-id=\"Вывод-3.1\"><span class=\"toc-item-num\">3.1&nbsp;&nbsp;</span>Вывод</a></span></li></ul></li><li><span><a href=\"#Расчёт-прибыли-и-рисков\" data-toc-modified-id=\"Расчёт-прибыли-и-рисков-4\"><span class=\"toc-item-num\">4&nbsp;&nbsp;</span>Расчёт прибыли и рисков</a></span><ul class=\"toc-item\"><li><span><a href=\"#Вывод\" data-toc-modified-id=\"Вывод-4.1\"><span class=\"toc-item-num\">4.1&nbsp;&nbsp;</span>Вывод</a></span></li></ul></li><li><span><a href=\"#Чек-лист-готовности-проекта\" data-toc-modified-id=\"Чек-лист-готовности-проекта-5\"><span class=\"toc-item-num\">5&nbsp;&nbsp;</span>Чек-лист готовности проекта</a></span></li></ul></div>"
   ]
  },
  {
   "cell_type": "markdown",
   "metadata": {},
   "source": [
    "## Загрузка и подготовка данных"
   ]
  },
  {
   "cell_type": "code",
   "execution_count": 109,
   "metadata": {},
   "outputs": [],
   "source": [
    "import pandas as pd\n",
    "import matplotlib.pyplot as plt\n",
    "from numpy.random import RandomState\n",
    "from sklearn.model_selection import train_test_split\n",
    "from sklearn.linear_model import LinearRegression\n",
    "from sklearn.metrics import mean_squared_error"
   ]
  },
  {
   "cell_type": "markdown",
   "metadata": {},
   "source": [
    "Загрузим данные, с которыми нам предстоит работать."
   ]
  },
  {
   "cell_type": "code",
   "execution_count": 110,
   "metadata": {},
   "outputs": [],
   "source": [
    "data_one = pd.read_csv('/datasets/geo_data_0.csv')\n",
    "data_two = pd.read_csv('/datasets/geo_data_1.csv')\n",
    "data_three = pd.read_csv('/datasets/geo_data_2.csv')"
   ]
  },
  {
   "cell_type": "markdown",
   "metadata": {},
   "source": [
    "Данные содержат следующие характеристики:\n",
    "* **id** — уникальный идентификатор скважины;\n",
    "* **f0, f1, f2** — три признака точек (неважно, что они означают, но сами признаки значимы);\n",
    "* **product** — объём запасов в скважине (тыс. баррелей)."
   ]
  },
  {
   "cell_type": "code",
   "execution_count": 111,
   "metadata": {},
   "outputs": [
    {
     "data": {
      "text/html": [
       "<style  type=\"text/css\" >\n",
       "    #T_bfcf10b0_3659_11ec_86b0_02420a39ef74 caption {\n",
       "          color: blue;\n",
       "          font-size: 15px;\n",
       "    }</style><table id=\"T_bfcf10b0_3659_11ec_86b0_02420a39ef74\" ><caption>Данные геологоразведки в первом регионе</caption><thead>    <tr>        <th class=\"blank level0\" ></th>        <th class=\"col_heading level0 col0\" >id</th>        <th class=\"col_heading level0 col1\" >f0</th>        <th class=\"col_heading level0 col2\" >f1</th>        <th class=\"col_heading level0 col3\" >f2</th>        <th class=\"col_heading level0 col4\" >product</th>    </tr></thead><tbody>\n",
       "                <tr>\n",
       "                        <th id=\"T_bfcf10b0_3659_11ec_86b0_02420a39ef74level0_row0\" class=\"row_heading level0 row0\" >0</th>\n",
       "                        <td id=\"T_bfcf10b0_3659_11ec_86b0_02420a39ef74row0_col0\" class=\"data row0 col0\" >txEyH</td>\n",
       "                        <td id=\"T_bfcf10b0_3659_11ec_86b0_02420a39ef74row0_col1\" class=\"data row0 col1\" >0.705745</td>\n",
       "                        <td id=\"T_bfcf10b0_3659_11ec_86b0_02420a39ef74row0_col2\" class=\"data row0 col2\" >-0.497823</td>\n",
       "                        <td id=\"T_bfcf10b0_3659_11ec_86b0_02420a39ef74row0_col3\" class=\"data row0 col3\" >1.22117</td>\n",
       "                        <td id=\"T_bfcf10b0_3659_11ec_86b0_02420a39ef74row0_col4\" class=\"data row0 col4\" >105.28</td>\n",
       "            </tr>\n",
       "            <tr>\n",
       "                        <th id=\"T_bfcf10b0_3659_11ec_86b0_02420a39ef74level0_row1\" class=\"row_heading level0 row1\" >1</th>\n",
       "                        <td id=\"T_bfcf10b0_3659_11ec_86b0_02420a39ef74row1_col0\" class=\"data row1 col0\" >2acmU</td>\n",
       "                        <td id=\"T_bfcf10b0_3659_11ec_86b0_02420a39ef74row1_col1\" class=\"data row1 col1\" >1.33471</td>\n",
       "                        <td id=\"T_bfcf10b0_3659_11ec_86b0_02420a39ef74row1_col2\" class=\"data row1 col2\" >-0.340164</td>\n",
       "                        <td id=\"T_bfcf10b0_3659_11ec_86b0_02420a39ef74row1_col3\" class=\"data row1 col3\" >4.36508</td>\n",
       "                        <td id=\"T_bfcf10b0_3659_11ec_86b0_02420a39ef74row1_col4\" class=\"data row1 col4\" >73.0378</td>\n",
       "            </tr>\n",
       "            <tr>\n",
       "                        <th id=\"T_bfcf10b0_3659_11ec_86b0_02420a39ef74level0_row2\" class=\"row_heading level0 row2\" >2</th>\n",
       "                        <td id=\"T_bfcf10b0_3659_11ec_86b0_02420a39ef74row2_col0\" class=\"data row2 col0\" >409Wp</td>\n",
       "                        <td id=\"T_bfcf10b0_3659_11ec_86b0_02420a39ef74row2_col1\" class=\"data row2 col1\" >1.02273</td>\n",
       "                        <td id=\"T_bfcf10b0_3659_11ec_86b0_02420a39ef74row2_col2\" class=\"data row2 col2\" >0.15199</td>\n",
       "                        <td id=\"T_bfcf10b0_3659_11ec_86b0_02420a39ef74row2_col3\" class=\"data row2 col3\" >1.41993</td>\n",
       "                        <td id=\"T_bfcf10b0_3659_11ec_86b0_02420a39ef74row2_col4\" class=\"data row2 col4\" >85.2656</td>\n",
       "            </tr>\n",
       "            <tr>\n",
       "                        <th id=\"T_bfcf10b0_3659_11ec_86b0_02420a39ef74level0_row3\" class=\"row_heading level0 row3\" >3</th>\n",
       "                        <td id=\"T_bfcf10b0_3659_11ec_86b0_02420a39ef74row3_col0\" class=\"data row3 col0\" >iJLyR</td>\n",
       "                        <td id=\"T_bfcf10b0_3659_11ec_86b0_02420a39ef74row3_col1\" class=\"data row3 col1\" >-0.0321716</td>\n",
       "                        <td id=\"T_bfcf10b0_3659_11ec_86b0_02420a39ef74row3_col2\" class=\"data row3 col2\" >0.139033</td>\n",
       "                        <td id=\"T_bfcf10b0_3659_11ec_86b0_02420a39ef74row3_col3\" class=\"data row3 col3\" >2.97857</td>\n",
       "                        <td id=\"T_bfcf10b0_3659_11ec_86b0_02420a39ef74row3_col4\" class=\"data row3 col4\" >168.621</td>\n",
       "            </tr>\n",
       "            <tr>\n",
       "                        <th id=\"T_bfcf10b0_3659_11ec_86b0_02420a39ef74level0_row4\" class=\"row_heading level0 row4\" >4</th>\n",
       "                        <td id=\"T_bfcf10b0_3659_11ec_86b0_02420a39ef74row4_col0\" class=\"data row4 col0\" >Xdl7t</td>\n",
       "                        <td id=\"T_bfcf10b0_3659_11ec_86b0_02420a39ef74row4_col1\" class=\"data row4 col1\" >1.98843</td>\n",
       "                        <td id=\"T_bfcf10b0_3659_11ec_86b0_02420a39ef74row4_col2\" class=\"data row4 col2\" >0.155413</td>\n",
       "                        <td id=\"T_bfcf10b0_3659_11ec_86b0_02420a39ef74row4_col3\" class=\"data row4 col3\" >4.75177</td>\n",
       "                        <td id=\"T_bfcf10b0_3659_11ec_86b0_02420a39ef74row4_col4\" class=\"data row4 col4\" >154.037</td>\n",
       "            </tr>\n",
       "            <tr>\n",
       "                        <th id=\"T_bfcf10b0_3659_11ec_86b0_02420a39ef74level0_row5\" class=\"row_heading level0 row5\" >5</th>\n",
       "                        <td id=\"T_bfcf10b0_3659_11ec_86b0_02420a39ef74row5_col0\" class=\"data row5 col0\" >wX4Hy</td>\n",
       "                        <td id=\"T_bfcf10b0_3659_11ec_86b0_02420a39ef74row5_col1\" class=\"data row5 col1\" >0.96957</td>\n",
       "                        <td id=\"T_bfcf10b0_3659_11ec_86b0_02420a39ef74row5_col2\" class=\"data row5 col2\" >0.489775</td>\n",
       "                        <td id=\"T_bfcf10b0_3659_11ec_86b0_02420a39ef74row5_col3\" class=\"data row5 col3\" >-0.735383</td>\n",
       "                        <td id=\"T_bfcf10b0_3659_11ec_86b0_02420a39ef74row5_col4\" class=\"data row5 col4\" >64.7415</td>\n",
       "            </tr>\n",
       "            <tr>\n",
       "                        <th id=\"T_bfcf10b0_3659_11ec_86b0_02420a39ef74level0_row6\" class=\"row_heading level0 row6\" >6</th>\n",
       "                        <td id=\"T_bfcf10b0_3659_11ec_86b0_02420a39ef74row6_col0\" class=\"data row6 col0\" >tL6pL</td>\n",
       "                        <td id=\"T_bfcf10b0_3659_11ec_86b0_02420a39ef74row6_col1\" class=\"data row6 col1\" >0.645075</td>\n",
       "                        <td id=\"T_bfcf10b0_3659_11ec_86b0_02420a39ef74row6_col2\" class=\"data row6 col2\" >0.530656</td>\n",
       "                        <td id=\"T_bfcf10b0_3659_11ec_86b0_02420a39ef74row6_col3\" class=\"data row6 col3\" >1.78027</td>\n",
       "                        <td id=\"T_bfcf10b0_3659_11ec_86b0_02420a39ef74row6_col4\" class=\"data row6 col4\" >49.0553</td>\n",
       "            </tr>\n",
       "            <tr>\n",
       "                        <th id=\"T_bfcf10b0_3659_11ec_86b0_02420a39ef74level0_row7\" class=\"row_heading level0 row7\" >7</th>\n",
       "                        <td id=\"T_bfcf10b0_3659_11ec_86b0_02420a39ef74row7_col0\" class=\"data row7 col0\" >BYPU6</td>\n",
       "                        <td id=\"T_bfcf10b0_3659_11ec_86b0_02420a39ef74row7_col1\" class=\"data row7 col1\" >-0.400648</td>\n",
       "                        <td id=\"T_bfcf10b0_3659_11ec_86b0_02420a39ef74row7_col2\" class=\"data row7 col2\" >0.808337</td>\n",
       "                        <td id=\"T_bfcf10b0_3659_11ec_86b0_02420a39ef74row7_col3\" class=\"data row7 col3\" >-5.62467</td>\n",
       "                        <td id=\"T_bfcf10b0_3659_11ec_86b0_02420a39ef74row7_col4\" class=\"data row7 col4\" >72.9433</td>\n",
       "            </tr>\n",
       "            <tr>\n",
       "                        <th id=\"T_bfcf10b0_3659_11ec_86b0_02420a39ef74level0_row8\" class=\"row_heading level0 row8\" >8</th>\n",
       "                        <td id=\"T_bfcf10b0_3659_11ec_86b0_02420a39ef74row8_col0\" class=\"data row8 col0\" >j9Oui</td>\n",
       "                        <td id=\"T_bfcf10b0_3659_11ec_86b0_02420a39ef74row8_col1\" class=\"data row8 col1\" >0.643105</td>\n",
       "                        <td id=\"T_bfcf10b0_3659_11ec_86b0_02420a39ef74row8_col2\" class=\"data row8 col2\" >-0.551583</td>\n",
       "                        <td id=\"T_bfcf10b0_3659_11ec_86b0_02420a39ef74row8_col3\" class=\"data row8 col3\" >2.37214</td>\n",
       "                        <td id=\"T_bfcf10b0_3659_11ec_86b0_02420a39ef74row8_col4\" class=\"data row8 col4\" >113.356</td>\n",
       "            </tr>\n",
       "            <tr>\n",
       "                        <th id=\"T_bfcf10b0_3659_11ec_86b0_02420a39ef74level0_row9\" class=\"row_heading level0 row9\" >9</th>\n",
       "                        <td id=\"T_bfcf10b0_3659_11ec_86b0_02420a39ef74row9_col0\" class=\"data row9 col0\" >OLuZU</td>\n",
       "                        <td id=\"T_bfcf10b0_3659_11ec_86b0_02420a39ef74row9_col1\" class=\"data row9 col1\" >2.17338</td>\n",
       "                        <td id=\"T_bfcf10b0_3659_11ec_86b0_02420a39ef74row9_col2\" class=\"data row9 col2\" >0.563698</td>\n",
       "                        <td id=\"T_bfcf10b0_3659_11ec_86b0_02420a39ef74row9_col3\" class=\"data row9 col3\" >9.44185</td>\n",
       "                        <td id=\"T_bfcf10b0_3659_11ec_86b0_02420a39ef74row9_col4\" class=\"data row9 col4\" >127.911</td>\n",
       "            </tr>\n",
       "    </tbody></table>"
      ],
      "text/plain": [
       "<pandas.io.formats.style.Styler at 0x7f6de9f05b10>"
      ]
     },
     "execution_count": 111,
     "metadata": {},
     "output_type": "execute_result"
    }
   ],
   "source": [
    "data_one.head(10).style.set_caption('Данные геологоразведки в первом регионе').set_table_styles([{\n",
    "    'selector': 'caption', 'props': [('color', 'blue'), ('font-size', '15px')]\n",
    "}])"
   ]
  },
  {
   "cell_type": "code",
   "execution_count": 112,
   "metadata": {},
   "outputs": [
    {
     "data": {
      "text/html": [
       "<style  type=\"text/css\" >\n",
       "    #T_bfd09caa_3659_11ec_86b0_02420a39ef74 caption {\n",
       "          color: blue;\n",
       "          font-size: 15px;\n",
       "    }</style><table id=\"T_bfd09caa_3659_11ec_86b0_02420a39ef74\" ><caption>Данные геологоразведки во втором регионе</caption><thead>    <tr>        <th class=\"blank level0\" ></th>        <th class=\"col_heading level0 col0\" >id</th>        <th class=\"col_heading level0 col1\" >f0</th>        <th class=\"col_heading level0 col2\" >f1</th>        <th class=\"col_heading level0 col3\" >f2</th>        <th class=\"col_heading level0 col4\" >product</th>    </tr></thead><tbody>\n",
       "                <tr>\n",
       "                        <th id=\"T_bfd09caa_3659_11ec_86b0_02420a39ef74level0_row0\" class=\"row_heading level0 row0\" >0</th>\n",
       "                        <td id=\"T_bfd09caa_3659_11ec_86b0_02420a39ef74row0_col0\" class=\"data row0 col0\" >kBEdx</td>\n",
       "                        <td id=\"T_bfd09caa_3659_11ec_86b0_02420a39ef74row0_col1\" class=\"data row0 col1\" >-15.0013</td>\n",
       "                        <td id=\"T_bfd09caa_3659_11ec_86b0_02420a39ef74row0_col2\" class=\"data row0 col2\" >-8.276</td>\n",
       "                        <td id=\"T_bfd09caa_3659_11ec_86b0_02420a39ef74row0_col3\" class=\"data row0 col3\" >-0.00587601</td>\n",
       "                        <td id=\"T_bfd09caa_3659_11ec_86b0_02420a39ef74row0_col4\" class=\"data row0 col4\" >3.1791</td>\n",
       "            </tr>\n",
       "            <tr>\n",
       "                        <th id=\"T_bfd09caa_3659_11ec_86b0_02420a39ef74level0_row1\" class=\"row_heading level0 row1\" >1</th>\n",
       "                        <td id=\"T_bfd09caa_3659_11ec_86b0_02420a39ef74row1_col0\" class=\"data row1 col0\" >62mP7</td>\n",
       "                        <td id=\"T_bfd09caa_3659_11ec_86b0_02420a39ef74row1_col1\" class=\"data row1 col1\" >14.2721</td>\n",
       "                        <td id=\"T_bfd09caa_3659_11ec_86b0_02420a39ef74row1_col2\" class=\"data row1 col2\" >-3.47508</td>\n",
       "                        <td id=\"T_bfd09caa_3659_11ec_86b0_02420a39ef74row1_col3\" class=\"data row1 col3\" >0.999183</td>\n",
       "                        <td id=\"T_bfd09caa_3659_11ec_86b0_02420a39ef74row1_col4\" class=\"data row1 col4\" >26.9533</td>\n",
       "            </tr>\n",
       "            <tr>\n",
       "                        <th id=\"T_bfd09caa_3659_11ec_86b0_02420a39ef74level0_row2\" class=\"row_heading level0 row2\" >2</th>\n",
       "                        <td id=\"T_bfd09caa_3659_11ec_86b0_02420a39ef74row2_col0\" class=\"data row2 col0\" >vyE1P</td>\n",
       "                        <td id=\"T_bfd09caa_3659_11ec_86b0_02420a39ef74row2_col1\" class=\"data row2 col1\" >6.26319</td>\n",
       "                        <td id=\"T_bfd09caa_3659_11ec_86b0_02420a39ef74row2_col2\" class=\"data row2 col2\" >-5.94839</td>\n",
       "                        <td id=\"T_bfd09caa_3659_11ec_86b0_02420a39ef74row2_col3\" class=\"data row2 col3\" >5.00116</td>\n",
       "                        <td id=\"T_bfd09caa_3659_11ec_86b0_02420a39ef74row2_col4\" class=\"data row2 col4\" >134.766</td>\n",
       "            </tr>\n",
       "            <tr>\n",
       "                        <th id=\"T_bfd09caa_3659_11ec_86b0_02420a39ef74level0_row3\" class=\"row_heading level0 row3\" >3</th>\n",
       "                        <td id=\"T_bfd09caa_3659_11ec_86b0_02420a39ef74row3_col0\" class=\"data row3 col0\" >KcrkZ</td>\n",
       "                        <td id=\"T_bfd09caa_3659_11ec_86b0_02420a39ef74row3_col1\" class=\"data row3 col1\" >-13.0812</td>\n",
       "                        <td id=\"T_bfd09caa_3659_11ec_86b0_02420a39ef74row3_col2\" class=\"data row3 col2\" >-11.5061</td>\n",
       "                        <td id=\"T_bfd09caa_3659_11ec_86b0_02420a39ef74row3_col3\" class=\"data row3 col3\" >4.99941</td>\n",
       "                        <td id=\"T_bfd09caa_3659_11ec_86b0_02420a39ef74row3_col4\" class=\"data row3 col4\" >137.945</td>\n",
       "            </tr>\n",
       "            <tr>\n",
       "                        <th id=\"T_bfd09caa_3659_11ec_86b0_02420a39ef74level0_row4\" class=\"row_heading level0 row4\" >4</th>\n",
       "                        <td id=\"T_bfd09caa_3659_11ec_86b0_02420a39ef74row4_col0\" class=\"data row4 col0\" >AHL4O</td>\n",
       "                        <td id=\"T_bfd09caa_3659_11ec_86b0_02420a39ef74row4_col1\" class=\"data row4 col1\" >12.7022</td>\n",
       "                        <td id=\"T_bfd09caa_3659_11ec_86b0_02420a39ef74row4_col2\" class=\"data row4 col2\" >-8.14743</td>\n",
       "                        <td id=\"T_bfd09caa_3659_11ec_86b0_02420a39ef74row4_col3\" class=\"data row4 col3\" >5.00436</td>\n",
       "                        <td id=\"T_bfd09caa_3659_11ec_86b0_02420a39ef74row4_col4\" class=\"data row4 col4\" >134.766</td>\n",
       "            </tr>\n",
       "            <tr>\n",
       "                        <th id=\"T_bfd09caa_3659_11ec_86b0_02420a39ef74level0_row5\" class=\"row_heading level0 row5\" >5</th>\n",
       "                        <td id=\"T_bfd09caa_3659_11ec_86b0_02420a39ef74row5_col0\" class=\"data row5 col0\" >HHckp</td>\n",
       "                        <td id=\"T_bfd09caa_3659_11ec_86b0_02420a39ef74row5_col1\" class=\"data row5 col1\" >-3.32759</td>\n",
       "                        <td id=\"T_bfd09caa_3659_11ec_86b0_02420a39ef74row5_col2\" class=\"data row5 col2\" >-2.20528</td>\n",
       "                        <td id=\"T_bfd09caa_3659_11ec_86b0_02420a39ef74row5_col3\" class=\"data row5 col3\" >3.00365</td>\n",
       "                        <td id=\"T_bfd09caa_3659_11ec_86b0_02420a39ef74row5_col4\" class=\"data row5 col4\" >84.0389</td>\n",
       "            </tr>\n",
       "            <tr>\n",
       "                        <th id=\"T_bfd09caa_3659_11ec_86b0_02420a39ef74level0_row6\" class=\"row_heading level0 row6\" >6</th>\n",
       "                        <td id=\"T_bfd09caa_3659_11ec_86b0_02420a39ef74row6_col0\" class=\"data row6 col0\" >h5Ujo</td>\n",
       "                        <td id=\"T_bfd09caa_3659_11ec_86b0_02420a39ef74row6_col1\" class=\"data row6 col1\" >-11.1427</td>\n",
       "                        <td id=\"T_bfd09caa_3659_11ec_86b0_02420a39ef74row6_col2\" class=\"data row6 col2\" >-10.1334</td>\n",
       "                        <td id=\"T_bfd09caa_3659_11ec_86b0_02420a39ef74row6_col3\" class=\"data row6 col3\" >4.00238</td>\n",
       "                        <td id=\"T_bfd09caa_3659_11ec_86b0_02420a39ef74row6_col4\" class=\"data row6 col4\" >110.992</td>\n",
       "            </tr>\n",
       "            <tr>\n",
       "                        <th id=\"T_bfd09caa_3659_11ec_86b0_02420a39ef74level0_row7\" class=\"row_heading level0 row7\" >7</th>\n",
       "                        <td id=\"T_bfd09caa_3659_11ec_86b0_02420a39ef74row7_col0\" class=\"data row7 col0\" >muH9x</td>\n",
       "                        <td id=\"T_bfd09caa_3659_11ec_86b0_02420a39ef74row7_col1\" class=\"data row7 col1\" >4.23472</td>\n",
       "                        <td id=\"T_bfd09caa_3659_11ec_86b0_02420a39ef74row7_col2\" class=\"data row7 col2\" >-0.00135394</td>\n",
       "                        <td id=\"T_bfd09caa_3659_11ec_86b0_02420a39ef74row7_col3\" class=\"data row7 col3\" >2.00459</td>\n",
       "                        <td id=\"T_bfd09caa_3659_11ec_86b0_02420a39ef74row7_col4\" class=\"data row7 col4\" >53.9065</td>\n",
       "            </tr>\n",
       "            <tr>\n",
       "                        <th id=\"T_bfd09caa_3659_11ec_86b0_02420a39ef74level0_row8\" class=\"row_heading level0 row8\" >8</th>\n",
       "                        <td id=\"T_bfd09caa_3659_11ec_86b0_02420a39ef74row8_col0\" class=\"data row8 col0\" >YiRkx</td>\n",
       "                        <td id=\"T_bfd09caa_3659_11ec_86b0_02420a39ef74row8_col1\" class=\"data row8 col1\" >13.3551</td>\n",
       "                        <td id=\"T_bfd09caa_3659_11ec_86b0_02420a39ef74row8_col2\" class=\"data row8 col2\" >-0.332068</td>\n",
       "                        <td id=\"T_bfd09caa_3659_11ec_86b0_02420a39ef74row8_col3\" class=\"data row8 col3\" >4.99865</td>\n",
       "                        <td id=\"T_bfd09caa_3659_11ec_86b0_02420a39ef74row8_col4\" class=\"data row8 col4\" >134.766</td>\n",
       "            </tr>\n",
       "            <tr>\n",
       "                        <th id=\"T_bfd09caa_3659_11ec_86b0_02420a39ef74level0_row9\" class=\"row_heading level0 row9\" >9</th>\n",
       "                        <td id=\"T_bfd09caa_3659_11ec_86b0_02420a39ef74row9_col0\" class=\"data row9 col0\" >jG6Gi</td>\n",
       "                        <td id=\"T_bfd09caa_3659_11ec_86b0_02420a39ef74row9_col1\" class=\"data row9 col1\" >1.06923</td>\n",
       "                        <td id=\"T_bfd09caa_3659_11ec_86b0_02420a39ef74row9_col2\" class=\"data row9 col2\" >-11.0257</td>\n",
       "                        <td id=\"T_bfd09caa_3659_11ec_86b0_02420a39ef74row9_col3\" class=\"data row9 col3\" >4.99784</td>\n",
       "                        <td id=\"T_bfd09caa_3659_11ec_86b0_02420a39ef74row9_col4\" class=\"data row9 col4\" >137.945</td>\n",
       "            </tr>\n",
       "    </tbody></table>"
      ],
      "text/plain": [
       "<pandas.io.formats.style.Styler at 0x7f6de9f08fd0>"
      ]
     },
     "execution_count": 112,
     "metadata": {},
     "output_type": "execute_result"
    }
   ],
   "source": [
    "data_two.head(10).style.set_caption('Данные геологоразведки во втором регионе').set_table_styles([{\n",
    "    'selector': 'caption', 'props': [('color', 'blue'), ('font-size', '15px')]\n",
    "}])"
   ]
  },
  {
   "cell_type": "code",
   "execution_count": 113,
   "metadata": {},
   "outputs": [
    {
     "data": {
      "text/html": [
       "<style  type=\"text/css\" >\n",
       "    #T_bfd3ecf2_3659_11ec_86b0_02420a39ef74 caption {\n",
       "          color: blue;\n",
       "          font-size: 15px;\n",
       "    }</style><table id=\"T_bfd3ecf2_3659_11ec_86b0_02420a39ef74\" ><caption>Данные геологоразведки в третьем регионе</caption><thead>    <tr>        <th class=\"blank level0\" ></th>        <th class=\"col_heading level0 col0\" >id</th>        <th class=\"col_heading level0 col1\" >f0</th>        <th class=\"col_heading level0 col2\" >f1</th>        <th class=\"col_heading level0 col3\" >f2</th>        <th class=\"col_heading level0 col4\" >product</th>    </tr></thead><tbody>\n",
       "                <tr>\n",
       "                        <th id=\"T_bfd3ecf2_3659_11ec_86b0_02420a39ef74level0_row0\" class=\"row_heading level0 row0\" >0</th>\n",
       "                        <td id=\"T_bfd3ecf2_3659_11ec_86b0_02420a39ef74row0_col0\" class=\"data row0 col0\" >fwXo0</td>\n",
       "                        <td id=\"T_bfd3ecf2_3659_11ec_86b0_02420a39ef74row0_col1\" class=\"data row0 col1\" >-1.14699</td>\n",
       "                        <td id=\"T_bfd3ecf2_3659_11ec_86b0_02420a39ef74row0_col2\" class=\"data row0 col2\" >0.963328</td>\n",
       "                        <td id=\"T_bfd3ecf2_3659_11ec_86b0_02420a39ef74row0_col3\" class=\"data row0 col3\" >-0.828965</td>\n",
       "                        <td id=\"T_bfd3ecf2_3659_11ec_86b0_02420a39ef74row0_col4\" class=\"data row0 col4\" >27.7587</td>\n",
       "            </tr>\n",
       "            <tr>\n",
       "                        <th id=\"T_bfd3ecf2_3659_11ec_86b0_02420a39ef74level0_row1\" class=\"row_heading level0 row1\" >1</th>\n",
       "                        <td id=\"T_bfd3ecf2_3659_11ec_86b0_02420a39ef74row1_col0\" class=\"data row1 col0\" >WJtFt</td>\n",
       "                        <td id=\"T_bfd3ecf2_3659_11ec_86b0_02420a39ef74row1_col1\" class=\"data row1 col1\" >0.262778</td>\n",
       "                        <td id=\"T_bfd3ecf2_3659_11ec_86b0_02420a39ef74row1_col2\" class=\"data row1 col2\" >0.269839</td>\n",
       "                        <td id=\"T_bfd3ecf2_3659_11ec_86b0_02420a39ef74row1_col3\" class=\"data row1 col3\" >-2.53019</td>\n",
       "                        <td id=\"T_bfd3ecf2_3659_11ec_86b0_02420a39ef74row1_col4\" class=\"data row1 col4\" >56.0697</td>\n",
       "            </tr>\n",
       "            <tr>\n",
       "                        <th id=\"T_bfd3ecf2_3659_11ec_86b0_02420a39ef74level0_row2\" class=\"row_heading level0 row2\" >2</th>\n",
       "                        <td id=\"T_bfd3ecf2_3659_11ec_86b0_02420a39ef74row2_col0\" class=\"data row2 col0\" >ovLUW</td>\n",
       "                        <td id=\"T_bfd3ecf2_3659_11ec_86b0_02420a39ef74row2_col1\" class=\"data row2 col1\" >0.194587</td>\n",
       "                        <td id=\"T_bfd3ecf2_3659_11ec_86b0_02420a39ef74row2_col2\" class=\"data row2 col2\" >0.289035</td>\n",
       "                        <td id=\"T_bfd3ecf2_3659_11ec_86b0_02420a39ef74row2_col3\" class=\"data row2 col3\" >-5.58643</td>\n",
       "                        <td id=\"T_bfd3ecf2_3659_11ec_86b0_02420a39ef74row2_col4\" class=\"data row2 col4\" >62.8719</td>\n",
       "            </tr>\n",
       "            <tr>\n",
       "                        <th id=\"T_bfd3ecf2_3659_11ec_86b0_02420a39ef74level0_row3\" class=\"row_heading level0 row3\" >3</th>\n",
       "                        <td id=\"T_bfd3ecf2_3659_11ec_86b0_02420a39ef74row3_col0\" class=\"data row3 col0\" >q6cA6</td>\n",
       "                        <td id=\"T_bfd3ecf2_3659_11ec_86b0_02420a39ef74row3_col1\" class=\"data row3 col1\" >2.23606</td>\n",
       "                        <td id=\"T_bfd3ecf2_3659_11ec_86b0_02420a39ef74row3_col2\" class=\"data row3 col2\" >-0.55376</td>\n",
       "                        <td id=\"T_bfd3ecf2_3659_11ec_86b0_02420a39ef74row3_col3\" class=\"data row3 col3\" >0.930038</td>\n",
       "                        <td id=\"T_bfd3ecf2_3659_11ec_86b0_02420a39ef74row3_col4\" class=\"data row3 col4\" >114.573</td>\n",
       "            </tr>\n",
       "            <tr>\n",
       "                        <th id=\"T_bfd3ecf2_3659_11ec_86b0_02420a39ef74level0_row4\" class=\"row_heading level0 row4\" >4</th>\n",
       "                        <td id=\"T_bfd3ecf2_3659_11ec_86b0_02420a39ef74row4_col0\" class=\"data row4 col0\" >WPMUX</td>\n",
       "                        <td id=\"T_bfd3ecf2_3659_11ec_86b0_02420a39ef74row4_col1\" class=\"data row4 col1\" >-0.515993</td>\n",
       "                        <td id=\"T_bfd3ecf2_3659_11ec_86b0_02420a39ef74row4_col2\" class=\"data row4 col2\" >1.71627</td>\n",
       "                        <td id=\"T_bfd3ecf2_3659_11ec_86b0_02420a39ef74row4_col3\" class=\"data row4 col3\" >5.89901</td>\n",
       "                        <td id=\"T_bfd3ecf2_3659_11ec_86b0_02420a39ef74row4_col4\" class=\"data row4 col4\" >149.601</td>\n",
       "            </tr>\n",
       "            <tr>\n",
       "                        <th id=\"T_bfd3ecf2_3659_11ec_86b0_02420a39ef74level0_row5\" class=\"row_heading level0 row5\" >5</th>\n",
       "                        <td id=\"T_bfd3ecf2_3659_11ec_86b0_02420a39ef74row5_col0\" class=\"data row5 col0\" >LzZXx</td>\n",
       "                        <td id=\"T_bfd3ecf2_3659_11ec_86b0_02420a39ef74row5_col1\" class=\"data row5 col1\" >-0.758092</td>\n",
       "                        <td id=\"T_bfd3ecf2_3659_11ec_86b0_02420a39ef74row5_col2\" class=\"data row5 col2\" >0.710691</td>\n",
       "                        <td id=\"T_bfd3ecf2_3659_11ec_86b0_02420a39ef74row5_col3\" class=\"data row5 col3\" >2.58589</td>\n",
       "                        <td id=\"T_bfd3ecf2_3659_11ec_86b0_02420a39ef74row5_col4\" class=\"data row5 col4\" >90.2225</td>\n",
       "            </tr>\n",
       "            <tr>\n",
       "                        <th id=\"T_bfd3ecf2_3659_11ec_86b0_02420a39ef74level0_row6\" class=\"row_heading level0 row6\" >6</th>\n",
       "                        <td id=\"T_bfd3ecf2_3659_11ec_86b0_02420a39ef74row6_col0\" class=\"data row6 col0\" >WBHRv</td>\n",
       "                        <td id=\"T_bfd3ecf2_3659_11ec_86b0_02420a39ef74row6_col1\" class=\"data row6 col1\" >-0.574891</td>\n",
       "                        <td id=\"T_bfd3ecf2_3659_11ec_86b0_02420a39ef74row6_col2\" class=\"data row6 col2\" >0.317727</td>\n",
       "                        <td id=\"T_bfd3ecf2_3659_11ec_86b0_02420a39ef74row6_col3\" class=\"data row6 col3\" >1.77374</td>\n",
       "                        <td id=\"T_bfd3ecf2_3659_11ec_86b0_02420a39ef74row6_col4\" class=\"data row6 col4\" >45.6415</td>\n",
       "            </tr>\n",
       "            <tr>\n",
       "                        <th id=\"T_bfd3ecf2_3659_11ec_86b0_02420a39ef74level0_row7\" class=\"row_heading level0 row7\" >7</th>\n",
       "                        <td id=\"T_bfd3ecf2_3659_11ec_86b0_02420a39ef74row7_col0\" class=\"data row7 col0\" >XO8fn</td>\n",
       "                        <td id=\"T_bfd3ecf2_3659_11ec_86b0_02420a39ef74row7_col1\" class=\"data row7 col1\" >-1.90665</td>\n",
       "                        <td id=\"T_bfd3ecf2_3659_11ec_86b0_02420a39ef74row7_col2\" class=\"data row7 col2\" >-2.45835</td>\n",
       "                        <td id=\"T_bfd3ecf2_3659_11ec_86b0_02420a39ef74row7_col3\" class=\"data row7 col3\" >-0.177097</td>\n",
       "                        <td id=\"T_bfd3ecf2_3659_11ec_86b0_02420a39ef74row7_col4\" class=\"data row7 col4\" >72.4806</td>\n",
       "            </tr>\n",
       "            <tr>\n",
       "                        <th id=\"T_bfd3ecf2_3659_11ec_86b0_02420a39ef74level0_row8\" class=\"row_heading level0 row8\" >8</th>\n",
       "                        <td id=\"T_bfd3ecf2_3659_11ec_86b0_02420a39ef74row8_col0\" class=\"data row8 col0\" >ybmQ5</td>\n",
       "                        <td id=\"T_bfd3ecf2_3659_11ec_86b0_02420a39ef74row8_col1\" class=\"data row8 col1\" >1.77629</td>\n",
       "                        <td id=\"T_bfd3ecf2_3659_11ec_86b0_02420a39ef74row8_col2\" class=\"data row8 col2\" >-0.279356</td>\n",
       "                        <td id=\"T_bfd3ecf2_3659_11ec_86b0_02420a39ef74row8_col3\" class=\"data row8 col3\" >3.00416</td>\n",
       "                        <td id=\"T_bfd3ecf2_3659_11ec_86b0_02420a39ef74row8_col4\" class=\"data row8 col4\" >106.617</td>\n",
       "            </tr>\n",
       "            <tr>\n",
       "                        <th id=\"T_bfd3ecf2_3659_11ec_86b0_02420a39ef74level0_row9\" class=\"row_heading level0 row9\" >9</th>\n",
       "                        <td id=\"T_bfd3ecf2_3659_11ec_86b0_02420a39ef74row9_col0\" class=\"data row9 col0\" >OilcN</td>\n",
       "                        <td id=\"T_bfd3ecf2_3659_11ec_86b0_02420a39ef74row9_col1\" class=\"data row9 col1\" >-1.21445</td>\n",
       "                        <td id=\"T_bfd3ecf2_3659_11ec_86b0_02420a39ef74row9_col2\" class=\"data row9 col2\" >-0.439314</td>\n",
       "                        <td id=\"T_bfd3ecf2_3659_11ec_86b0_02420a39ef74row9_col3\" class=\"data row9 col3\" >5.92251</td>\n",
       "                        <td id=\"T_bfd3ecf2_3659_11ec_86b0_02420a39ef74row9_col4\" class=\"data row9 col4\" >52.9545</td>\n",
       "            </tr>\n",
       "    </tbody></table>"
      ],
      "text/plain": [
       "<pandas.io.formats.style.Styler at 0x7f6de9f0ab90>"
      ]
     },
     "execution_count": 113,
     "metadata": {},
     "output_type": "execute_result"
    }
   ],
   "source": [
    "data_three.head(10).style.set_caption('Данные геологоразведки в третьем регионе').set_table_styles([{\n",
    "    'selector': 'caption', 'props': [('color', 'blue'), ('font-size', '15px')]\n",
    "}])"
   ]
  },
  {
   "cell_type": "markdown",
   "metadata": {},
   "source": [
    "Посмотрим общую информацию о наших датасетах."
   ]
  },
  {
   "cell_type": "code",
   "execution_count": 114,
   "metadata": {},
   "outputs": [],
   "source": [
    "datas = [data_one, data_two, data_three]"
   ]
  },
  {
   "cell_type": "code",
   "execution_count": 115,
   "metadata": {},
   "outputs": [
    {
     "name": "stdout",
     "output_type": "stream",
     "text": [
      "<class 'pandas.core.frame.DataFrame'>\n",
      "RangeIndex: 100000 entries, 0 to 99999\n",
      "Data columns (total 5 columns):\n",
      "id         100000 non-null object\n",
      "f0         100000 non-null float64\n",
      "f1         100000 non-null float64\n",
      "f2         100000 non-null float64\n",
      "product    100000 non-null float64\n",
      "dtypes: float64(4), object(1)\n",
      "memory usage: 3.8+ MB\n",
      "\n",
      "\n",
      "<class 'pandas.core.frame.DataFrame'>\n",
      "RangeIndex: 100000 entries, 0 to 99999\n",
      "Data columns (total 5 columns):\n",
      "id         100000 non-null object\n",
      "f0         100000 non-null float64\n",
      "f1         100000 non-null float64\n",
      "f2         100000 non-null float64\n",
      "product    100000 non-null float64\n",
      "dtypes: float64(4), object(1)\n",
      "memory usage: 3.8+ MB\n",
      "\n",
      "\n",
      "<class 'pandas.core.frame.DataFrame'>\n",
      "RangeIndex: 100000 entries, 0 to 99999\n",
      "Data columns (total 5 columns):\n",
      "id         100000 non-null object\n",
      "f0         100000 non-null float64\n",
      "f1         100000 non-null float64\n",
      "f2         100000 non-null float64\n",
      "product    100000 non-null float64\n",
      "dtypes: float64(4), object(1)\n",
      "memory usage: 3.8+ MB\n",
      "\n",
      "\n"
     ]
    }
   ],
   "source": [
    "for data in datas:\n",
    "    data.info()\n",
    "    print('\\n')"
   ]
  },
  {
   "cell_type": "markdown",
   "metadata": {},
   "source": [
    "Пропусков в данных нет. Проверим данные на дубликаты."
   ]
  },
  {
   "cell_type": "code",
   "execution_count": 116,
   "metadata": {},
   "outputs": [
    {
     "name": "stdout",
     "output_type": "stream",
     "text": [
      "data 1 - 0\n",
      "data 2 - 0\n",
      "data 3 - 0\n"
     ]
    }
   ],
   "source": [
    "i = 1\n",
    "for data in datas:\n",
    "    print('data',i, '-', data.duplicated().sum())\n",
    "    i += 1"
   ]
  },
  {
   "cell_type": "markdown",
   "metadata": {},
   "source": [
    "Дубликатов в данных нет. "
   ]
  },
  {
   "cell_type": "markdown",
   "metadata": {},
   "source": [
    "Исследуем факторы на мультиколлинерность."
   ]
  },
  {
   "cell_type": "code",
   "execution_count": 117,
   "metadata": {},
   "outputs": [
    {
     "name": "stdout",
     "output_type": "stream",
     "text": [
      "data 1\n",
      "               f0        f1        f2   product\n",
      "f0       1.000000 -0.440723 -0.003153  0.143536\n",
      "f1      -0.440723  1.000000  0.001724 -0.192356\n",
      "f2      -0.003153  0.001724  1.000000  0.483663\n",
      "product  0.143536 -0.192356  0.483663  1.000000\n",
      "\n",
      "\n",
      "data 2\n",
      "               f0        f1        f2   product\n",
      "f0       1.000000  0.182287 -0.001777 -0.030491\n",
      "f1       0.182287  1.000000 -0.002595 -0.010155\n",
      "f2      -0.001777 -0.002595  1.000000  0.999397\n",
      "product -0.030491 -0.010155  0.999397  1.000000\n",
      "\n",
      "\n",
      "data 3\n",
      "               f0        f1        f2   product\n",
      "f0       1.000000  0.000528 -0.000448 -0.001987\n",
      "f1       0.000528  1.000000  0.000779 -0.001012\n",
      "f2      -0.000448  0.000779  1.000000  0.445871\n",
      "product -0.001987 -0.001012  0.445871  1.000000\n",
      "\n",
      "\n"
     ]
    }
   ],
   "source": [
    "i = 1\n",
    "for data in datas:  \n",
    "    print('data', i)\n",
    "    print(data.corr()) \n",
    "    i += 1\n",
    "    print('\\n')"
   ]
  },
  {
   "cell_type": "markdown",
   "metadata": {},
   "source": [
    "Данные подготовлены, можно приступать к этапу обучения."
   ]
  },
  {
   "cell_type": "markdown",
   "metadata": {},
   "source": [
    "## Обучение и проверка модели"
   ]
  },
  {
   "cell_type": "markdown",
   "metadata": {},
   "source": [
    "Разделим исходные данные каждого региона на обучающую и валидационную выборки в соотношении 75:25. Обучим модель и сделаем предсказания на валидационной выборке. Напечатаем на экране средний запас предсказанного сырья и RMSE модели."
   ]
  },
  {
   "cell_type": "code",
   "execution_count": 118,
   "metadata": {},
   "outputs": [],
   "source": [
    "state = RandomState(12345)\n",
    "dframes = [data_one, data_two, data_three]"
   ]
  },
  {
   "cell_type": "code",
   "execution_count": 119,
   "metadata": {},
   "outputs": [
    {
     "name": "stdout",
     "output_type": "stream",
     "text": [
      "Region 1\n",
      "Средний запас предсказанного сырья: 92.59256778438038\n",
      "RMSE модели: 37.5794217150813\n",
      "\n",
      "\n",
      "Region 2\n",
      "Средний запас предсказанного сырья: 68.76995145799754\n",
      "RMSE модели: 0.889736773768064\n",
      "\n",
      "\n",
      "Region 3\n",
      "Средний запас предсказанного сырья: 95.087528122523\n",
      "RMSE модели: 39.958042459521614\n"
     ]
    }
   ],
   "source": [
    "i = 1\n",
    "for df in dframes:\n",
    "    print('Region', i)\n",
    "    features = df.drop(['id', 'product'], axis=1)\n",
    "    target = df['product']\n",
    "    features_train, features_valid, target_train, target_valid = train_test_split(\n",
    "        features, target, test_size = 0.25, random_state = state\n",
    "    )\n",
    "    model = LinearRegression().fit(features_train, target_train)\n",
    "    predictions = model.predict(features_valid) \n",
    "    mean_predict = predictions.mean()\n",
    "    mse = mean_squared_error(target_valid, predictions)\n",
    "    rmse = mse**0.5\n",
    "    print('Средний запас предсказанного сырья:', mean_predict)\n",
    "    print('RMSE модели:', rmse)\n",
    "    i += 1\n",
    "    if i <= 3:\n",
    "        print('\\n')"
   ]
  },
  {
   "cell_type": "markdown",
   "metadata": {},
   "source": [
    "### Вывод"
   ]
  },
  {
   "cell_type": "markdown",
   "metadata": {},
   "source": [
    "* Самый большой объём запасов сырья - в 3-м регионе\n",
    "* Наименьшая среднеквадратичная ошибка - во 2-м регионе\n",
    "* Наименьший объём запасов сырья - так же во 2-м регионе"
   ]
  },
  {
   "cell_type": "markdown",
   "metadata": {},
   "source": [
    "## Подготовка к расчёту прибыли"
   ]
  },
  {
   "cell_type": "markdown",
   "metadata": {},
   "source": [
    "Все ключевые значения для расчётов сохраним в отдельных переменных."
   ]
  },
  {
   "cell_type": "code",
   "execution_count": 120,
   "metadata": {},
   "outputs": [],
   "source": [
    "points = 500\n",
    "best_points = 200\n",
    "budget = 10000000000\n",
    "price_one_barrel = 450\n",
    "prob_of_loss = 0.025"
   ]
  },
  {
   "cell_type": "markdown",
   "metadata": {},
   "source": [
    "Рассчитаем достаточный объём сырья для безубыточной разработки новой скважины. "
   ]
  },
  {
   "cell_type": "code",
   "execution_count": 121,
   "metadata": {},
   "outputs": [
    {
     "name": "stdout",
     "output_type": "stream",
     "text": [
      "Достаточный объём сырья для безубыточной разработки новой скважины: 111.11111111111111 тыс. баррелей\n"
     ]
    }
   ],
   "source": [
    "enough_volume = budget / (price_one_barrel * 1000)/ best_points \n",
    "print('Достаточный объём сырья для безубыточной разработки новой скважины:', enough_volume, 'тыс. баррелей')"
   ]
  },
  {
   "cell_type": "markdown",
   "metadata": {},
   "source": [
    "Сравним полученный объём сырья со средним запасом в каждом регионе."
   ]
  },
  {
   "cell_type": "code",
   "execution_count": 122,
   "metadata": {},
   "outputs": [
    {
     "name": "stdout",
     "output_type": "stream",
     "text": [
      "Region 1\n",
      "Средний запас сырья: 92.50000000000001\n",
      "Region 2\n",
      "Средний запас сырья: 68.82500000000002\n",
      "Region 3\n",
      "Средний запас сырья: 95.00000000000004\n"
     ]
    }
   ],
   "source": [
    "i = 1\n",
    "for df in datasets:\n",
    "    print('Region', i)\n",
    "    print('Средний запас сырья:', df['product'].mean())\n",
    "    i += 1"
   ]
  },
  {
   "cell_type": "markdown",
   "metadata": {},
   "source": [
    "Напишем функцию для расчёта прибыли по выбранным скважинам и предсказаниям модели."
   ]
  },
  {
   "cell_type": "code",
   "execution_count": 123,
   "metadata": {},
   "outputs": [],
   "source": [
    "def oil_profit(target, predictions):\n",
    "    sorted_predictions = pd.Series(predictions, index = target.index).sort_values(ascending = False)\n",
    "    appropriate_target = target[sorted_predictions.index][:best_points]\n",
    "    return appropriate_target.sum() * price_one_barrel * 1000 - budget"
   ]
  },
  {
   "cell_type": "markdown",
   "metadata": {},
   "source": [
    "### Вывод"
   ]
  },
  {
   "cell_type": "markdown",
   "metadata": {},
   "source": [
    "Достаточный объём сырья для безубыточной разработки новой скважины равен 111.11 тыс. баррелей. Средние запасы 1, 2 и 3 регионов - 92.5, 68.825 и 95 тыс. баррелей соответственно. Среднего запаса недостаточно, значит, необходимо выбирать скважины, который дают наибольший объём."
   ]
  },
  {
   "cell_type": "markdown",
   "metadata": {},
   "source": [
    "## Расчёт прибыли и рисков "
   ]
  },
  {
   "cell_type": "markdown",
   "metadata": {},
   "source": [
    "Посчитаем риски и прибыль для каждого региона."
   ]
  },
  {
   "cell_type": "markdown",
   "metadata": {},
   "source": [
    "Техника Bootstrap с 1000 выборок."
   ]
  },
  {
   "cell_type": "code",
   "execution_count": 124,
   "metadata": {},
   "outputs": [],
   "source": [
    "state = RandomState(555555)\n",
    "def bootstrap(true_target, pred_target):\n",
    "    values = []\n",
    "    loss = 0\n",
    "    for i in range(1000):\n",
    "        target_subsample = true_target.sample(n = points, replace = True, random_state = state)\n",
    "        predictions_subsample = pred_target[target_subsample.index]\n",
    "        profit = oil_profit(target_subsample, predictions_subsample)\n",
    "        values.append(profit)\n",
    "        if profit < 0:\n",
    "            loss += 1\n",
    "\n",
    "    values = pd.Series(values)\n",
    "    lower = values.quantile(q = 0.025)\n",
    "    upper = values.quantile(q = 0.975)\n",
    "    mean = values.mean()\n",
    "    risk = loss / 1000\n",
    "    \n",
    "    print('Средняя прибыль:', mean)\n",
    "    print('95%-й доверительный интервал: от', lower, 'до', upper, 'рублей')\n",
    "    print('Риск убытка:', risk*100, '%')"
   ]
  },
  {
   "cell_type": "markdown",
   "metadata": {},
   "source": [
    "Найдём среднюю прибыль, 95%-й доверительный интервал и риск убытков."
   ]
  },
  {
   "cell_type": "code",
   "execution_count": 125,
   "metadata": {},
   "outputs": [],
   "source": [
    "state = RandomState(12345)\n",
    "datasets = [data_one, data_two, data_three]"
   ]
  },
  {
   "cell_type": "code",
   "execution_count": 126,
   "metadata": {},
   "outputs": [
    {
     "name": "stdout",
     "output_type": "stream",
     "text": [
      "Region 1\n",
      "Средняя прибыль: 426272370.7738765\n",
      "95%-й доверительный интервал: от -126790034.5866479 до 983427683.7188534 рублей\n",
      "Риск убытка: 6.800000000000001 %\n",
      "\n",
      "\n",
      "Region 2\n",
      "Средняя прибыль: 509144419.148401\n",
      "95%-й доверительный интервал: от 103030263.74466619 до 948591900.5358982 рублей\n",
      "Риск убытка: 1.2 %\n",
      "\n",
      "\n",
      "Region 3\n",
      "Средняя прибыль: 345891112.8435471\n",
      "95%-й доверительный интервал: от -188658819.97242478 до 875761830.8790745 рублей\n",
      "Риск убытка: 9.8 %\n"
     ]
    }
   ],
   "source": [
    "m = 1\n",
    "for df in datasets:\n",
    "    print('Region', m)\n",
    "    features = df.drop(['id', 'product'], axis=1)\n",
    "    target = df['product']\n",
    "    features_train, features_valid, target_train, target_valid = train_test_split(\n",
    "        features, target, test_size = 0.25, random_state = state\n",
    "    )\n",
    "    model = LinearRegression().fit(features_train, target_train)\n",
    "    predictions = model.predict(features_valid) \n",
    "    target_valid = pd.Series(target_valid).reset_index(drop=True)  # Вот здесь советуют страховаться и ставить .reset_index(drop=True)\n",
    "    predictions = pd.Series(predictions, index = target_valid.index)\n",
    "    bootstrap(target_valid, predictions)\n",
    "    m += 1\n",
    "    if m <= 3:\n",
    "        print('\\n')"
   ]
  },
  {
   "cell_type": "markdown",
   "metadata": {},
   "source": [
    "### Вывод"
   ]
  },
  {
   "cell_type": "markdown",
   "metadata": {},
   "source": [
    "Наименее рисковый вариант для места, где бурить новую скважину, - второй регион (риск убытков - 1.2%). Кроме того, у этого решиона самая большая средняя прибыль - 509144419 рублей."
   ]
  }
 ],
 "metadata": {
  "ExecuteTimeLog": [
   {
    "duration": 581,
    "start_time": "2021-10-25T07:10:08.785Z"
   },
   {
    "duration": 305,
    "start_time": "2021-10-25T07:28:25.616Z"
   },
   {
    "duration": 386,
    "start_time": "2021-10-25T07:28:28.794Z"
   },
   {
    "duration": 252,
    "start_time": "2021-10-25T07:31:38.610Z"
   },
   {
    "duration": 9,
    "start_time": "2021-10-25T07:32:38.098Z"
   },
   {
    "duration": 79,
    "start_time": "2021-10-25T07:33:59.672Z"
   },
   {
    "duration": 246,
    "start_time": "2021-10-25T07:36:05.102Z"
   },
   {
    "duration": 375,
    "start_time": "2021-10-25T07:36:12.058Z"
   },
   {
    "duration": 7,
    "start_time": "2021-10-25T07:36:13.722Z"
   },
   {
    "duration": 7,
    "start_time": "2021-10-25T07:36:20.974Z"
   },
   {
    "duration": 7,
    "start_time": "2021-10-25T07:36:43.863Z"
   },
   {
    "duration": 79,
    "start_time": "2021-10-25T07:37:37.677Z"
   },
   {
    "duration": 11,
    "start_time": "2021-10-25T07:39:09.151Z"
   },
   {
    "duration": 10,
    "start_time": "2021-10-25T07:39:23.363Z"
   },
   {
    "duration": 12,
    "start_time": "2021-10-25T07:39:33.138Z"
   },
   {
    "duration": 77,
    "start_time": "2021-10-25T07:40:23.528Z"
   },
   {
    "duration": 253,
    "start_time": "2021-10-25T07:42:49.877Z"
   },
   {
    "duration": 43,
    "start_time": "2021-10-25T07:42:54.482Z"
   },
   {
    "duration": 40,
    "start_time": "2021-10-25T07:43:04.943Z"
   },
   {
    "duration": 40,
    "start_time": "2021-10-25T07:43:11.036Z"
   },
   {
    "duration": 3,
    "start_time": "2021-10-25T08:15:04.465Z"
   },
   {
    "duration": 26,
    "start_time": "2021-10-25T08:15:40.084Z"
   },
   {
    "duration": 29,
    "start_time": "2021-10-25T08:16:05.659Z"
   },
   {
    "duration": 234,
    "start_time": "2021-10-25T08:16:26.414Z"
   },
   {
    "duration": 119,
    "start_time": "2021-10-25T08:16:38.169Z"
   },
   {
    "duration": 108,
    "start_time": "2021-10-25T08:16:50.321Z"
   },
   {
    "duration": 121,
    "start_time": "2021-10-25T08:17:02.938Z"
   },
   {
    "duration": 120,
    "start_time": "2021-10-25T08:17:34.845Z"
   },
   {
    "duration": 122,
    "start_time": "2021-10-25T08:18:40.624Z"
   },
   {
    "duration": 113,
    "start_time": "2021-10-25T08:21:46.509Z"
   },
   {
    "duration": 76,
    "start_time": "2021-10-25T08:22:11.068Z"
   },
   {
    "duration": 22,
    "start_time": "2021-10-25T08:23:03.498Z"
   },
   {
    "duration": 250,
    "start_time": "2021-10-25T08:23:54.748Z"
   },
   {
    "duration": 413,
    "start_time": "2021-10-25T08:23:58.216Z"
   },
   {
    "duration": 250,
    "start_time": "2021-10-25T08:24:01.988Z"
   },
   {
    "duration": 115,
    "start_time": "2021-10-25T08:25:33.706Z"
   },
   {
    "duration": 23,
    "start_time": "2021-10-25T08:25:55.505Z"
   },
   {
    "duration": 24,
    "start_time": "2021-10-25T08:26:05.677Z"
   },
   {
    "duration": 237,
    "start_time": "2021-10-25T08:37:14.218Z"
   },
   {
    "duration": 53998,
    "start_time": "2021-10-25T08:37:20.391Z"
   },
   {
    "duration": 237,
    "start_time": "2021-10-25T08:39:48.442Z"
   },
   {
    "duration": 3,
    "start_time": "2021-10-25T08:40:09.762Z"
   },
   {
    "duration": 443,
    "start_time": "2021-10-25T08:40:18.149Z"
   },
   {
    "duration": 385,
    "start_time": "2021-10-25T08:40:37.469Z"
   },
   {
    "duration": 3,
    "start_time": "2021-10-25T10:02:19.793Z"
   },
   {
    "duration": 404,
    "start_time": "2021-10-25T10:02:19.798Z"
   },
   {
    "duration": 9,
    "start_time": "2021-10-25T10:02:20.204Z"
   },
   {
    "duration": 9,
    "start_time": "2021-10-25T10:02:20.216Z"
   },
   {
    "duration": 9,
    "start_time": "2021-10-25T10:02:20.227Z"
   },
   {
    "duration": 27,
    "start_time": "2021-10-25T10:02:20.238Z"
   },
   {
    "duration": 38,
    "start_time": "2021-10-25T10:02:20.267Z"
   },
   {
    "duration": 152,
    "start_time": "2021-10-25T10:02:20.307Z"
   },
   {
    "duration": 27,
    "start_time": "2021-10-25T10:02:20.465Z"
   },
   {
    "duration": 18695,
    "start_time": "2021-10-25T10:03:13.902Z"
   },
   {
    "duration": 8,
    "start_time": "2021-10-25T11:11:55.042Z"
   },
   {
    "duration": 3,
    "start_time": "2021-10-25T11:21:41.268Z"
   },
   {
    "duration": 235,
    "start_time": "2021-10-25T11:21:53.985Z"
   },
   {
    "duration": 6,
    "start_time": "2021-10-25T11:22:01.935Z"
   },
   {
    "duration": 7,
    "start_time": "2021-10-25T11:22:26.255Z"
   },
   {
    "duration": 3,
    "start_time": "2021-10-25T11:25:14.304Z"
   },
   {
    "duration": 3,
    "start_time": "2021-10-25T11:25:54.745Z"
   },
   {
    "duration": 3,
    "start_time": "2021-10-25T11:26:36.754Z"
   },
   {
    "duration": 418,
    "start_time": "2021-10-25T11:27:27.745Z"
   },
   {
    "duration": 3,
    "start_time": "2021-10-25T11:35:47.074Z"
   },
   {
    "duration": 348,
    "start_time": "2021-10-25T11:40:35.904Z"
   },
   {
    "duration": 3,
    "start_time": "2021-10-25T11:40:56.023Z"
   },
   {
    "duration": 74,
    "start_time": "2021-10-25T11:41:00.389Z"
   },
   {
    "duration": 28,
    "start_time": "2021-10-25T11:42:15.776Z"
   },
   {
    "duration": 3,
    "start_time": "2021-10-25T11:45:02.502Z"
   },
   {
    "duration": 246,
    "start_time": "2021-10-25T11:45:03.146Z"
   },
   {
    "duration": 440,
    "start_time": "2021-10-25T11:45:18.927Z"
   },
   {
    "duration": 311,
    "start_time": "2021-10-25T11:45:23.658Z"
   },
   {
    "duration": 375,
    "start_time": "2021-10-25T11:45:27.392Z"
   },
   {
    "duration": 3,
    "start_time": "2021-10-25T11:59:29.917Z"
   },
   {
    "duration": 369,
    "start_time": "2021-10-25T11:59:29.922Z"
   },
   {
    "duration": 8,
    "start_time": "2021-10-25T11:59:30.294Z"
   },
   {
    "duration": 11,
    "start_time": "2021-10-25T11:59:30.303Z"
   },
   {
    "duration": 18,
    "start_time": "2021-10-25T11:59:30.316Z"
   },
   {
    "duration": 2,
    "start_time": "2021-10-25T11:59:30.336Z"
   },
   {
    "duration": 35,
    "start_time": "2021-10-25T11:59:30.340Z"
   },
   {
    "duration": 126,
    "start_time": "2021-10-25T11:59:30.377Z"
   },
   {
    "duration": 24,
    "start_time": "2021-10-25T11:59:30.505Z"
   },
   {
    "duration": 5,
    "start_time": "2021-10-25T11:59:30.531Z"
   },
   {
    "duration": 12,
    "start_time": "2021-10-25T11:59:30.538Z"
   },
   {
    "duration": 407,
    "start_time": "2021-10-25T11:59:30.565Z"
   },
   {
    "duration": 4,
    "start_time": "2021-10-25T11:59:55.747Z"
   },
   {
    "duration": 369,
    "start_time": "2021-10-25T11:59:55.753Z"
   },
   {
    "duration": 9,
    "start_time": "2021-10-25T11:59:56.124Z"
   },
   {
    "duration": 24,
    "start_time": "2021-10-25T11:59:56.136Z"
   },
   {
    "duration": 9,
    "start_time": "2021-10-25T11:59:56.163Z"
   },
   {
    "duration": 11,
    "start_time": "2021-10-25T11:59:56.174Z"
   },
   {
    "duration": 37,
    "start_time": "2021-10-25T11:59:56.187Z"
   },
   {
    "duration": 121,
    "start_time": "2021-10-25T11:59:56.226Z"
   },
   {
    "duration": 31,
    "start_time": "2021-10-25T11:59:56.349Z"
   },
   {
    "duration": 6,
    "start_time": "2021-10-25T11:59:56.382Z"
   },
   {
    "duration": 19,
    "start_time": "2021-10-25T11:59:56.390Z"
   },
   {
    "duration": 457,
    "start_time": "2021-10-25T11:59:56.411Z"
   },
   {
    "duration": 261,
    "start_time": "2021-10-25T12:01:49.165Z"
   },
   {
    "duration": 3,
    "start_time": "2021-10-25T12:02:11.966Z"
   },
   {
    "duration": 358,
    "start_time": "2021-10-25T12:02:11.971Z"
   },
   {
    "duration": 8,
    "start_time": "2021-10-25T12:02:12.332Z"
   },
   {
    "duration": 22,
    "start_time": "2021-10-25T12:02:12.342Z"
   },
   {
    "duration": 11,
    "start_time": "2021-10-25T12:02:12.366Z"
   },
   {
    "duration": 23,
    "start_time": "2021-10-25T12:02:12.379Z"
   },
   {
    "duration": 41,
    "start_time": "2021-10-25T12:02:12.404Z"
   },
   {
    "duration": 112,
    "start_time": "2021-10-25T12:02:12.447Z"
   },
   {
    "duration": 24,
    "start_time": "2021-10-25T12:02:12.562Z"
   },
   {
    "duration": 6,
    "start_time": "2021-10-25T12:02:12.589Z"
   },
   {
    "duration": 15,
    "start_time": "2021-10-25T12:02:12.597Z"
   },
   {
    "duration": 465,
    "start_time": "2021-10-25T12:02:12.613Z"
   },
   {
    "duration": 248,
    "start_time": "2021-10-25T12:02:21.512Z"
   },
   {
    "duration": 3,
    "start_time": "2021-10-25T12:02:24.816Z"
   },
   {
    "duration": 355,
    "start_time": "2021-10-25T12:02:24.865Z"
   },
   {
    "duration": 8,
    "start_time": "2021-10-25T12:02:25.222Z"
   },
   {
    "duration": 11,
    "start_time": "2021-10-25T12:02:25.232Z"
   },
   {
    "duration": 20,
    "start_time": "2021-10-25T12:02:25.244Z"
   },
   {
    "duration": 3,
    "start_time": "2021-10-25T12:02:25.266Z"
   },
   {
    "duration": 31,
    "start_time": "2021-10-25T12:02:25.270Z"
   },
   {
    "duration": 136,
    "start_time": "2021-10-25T12:02:25.303Z"
   },
   {
    "duration": 35,
    "start_time": "2021-10-25T12:02:25.442Z"
   },
   {
    "duration": 8,
    "start_time": "2021-10-25T12:02:25.480Z"
   },
   {
    "duration": 7,
    "start_time": "2021-10-25T12:02:25.490Z"
   },
   {
    "duration": 373,
    "start_time": "2021-10-25T12:02:25.499Z"
   },
   {
    "duration": 65,
    "start_time": "2021-10-25T12:03:47.298Z"
   },
   {
    "duration": 79,
    "start_time": "2021-10-25T12:04:04.761Z"
   },
   {
    "duration": 368,
    "start_time": "2021-10-25T12:04:11.807Z"
   },
   {
    "duration": 5,
    "start_time": "2021-10-25T12:04:28.352Z"
   },
   {
    "duration": 388,
    "start_time": "2021-10-25T12:04:28.879Z"
   },
   {
    "duration": 386,
    "start_time": "2021-10-25T12:07:25.383Z"
   },
   {
    "duration": 377,
    "start_time": "2021-10-25T12:08:12.290Z"
   },
   {
    "duration": 338,
    "start_time": "2021-10-25T12:08:53.437Z"
   },
   {
    "duration": 326,
    "start_time": "2021-10-25T12:09:13.448Z"
   },
   {
    "duration": 3,
    "start_time": "2021-10-25T13:35:18.289Z"
   },
   {
    "duration": 237,
    "start_time": "2021-10-25T13:49:43.607Z"
   },
   {
    "duration": 3,
    "start_time": "2021-10-25T13:49:52.396Z"
   },
   {
    "duration": 4,
    "start_time": "2021-10-25T13:49:52.507Z"
   },
   {
    "duration": 4,
    "start_time": "2021-10-25T14:26:11.098Z"
   },
   {
    "duration": 7,
    "start_time": "2021-10-25T14:32:46.395Z"
   },
   {
    "duration": 8,
    "start_time": "2021-10-25T14:33:13.291Z"
   },
   {
    "duration": 7,
    "start_time": "2021-10-25T14:33:25.523Z"
   },
   {
    "duration": 8,
    "start_time": "2021-10-25T14:34:13.649Z"
   },
   {
    "duration": 3,
    "start_time": "2021-10-25T15:01:36.813Z"
   },
   {
    "duration": 4,
    "start_time": "2021-10-25T15:01:37.597Z"
   },
   {
    "duration": 7,
    "start_time": "2021-10-25T15:01:43.293Z"
   },
   {
    "duration": 4,
    "start_time": "2021-10-25T15:01:46.699Z"
   },
   {
    "duration": 3,
    "start_time": "2021-10-25T15:01:51.493Z"
   },
   {
    "duration": 4,
    "start_time": "2021-10-25T15:01:52.611Z"
   },
   {
    "duration": 9,
    "start_time": "2021-10-25T15:01:53.589Z"
   },
   {
    "duration": 327,
    "start_time": "2021-10-25T15:02:50.996Z"
   },
   {
    "duration": 4,
    "start_time": "2021-10-25T15:02:55.574Z"
   },
   {
    "duration": 4,
    "start_time": "2021-10-25T15:02:58.501Z"
   },
   {
    "duration": 4,
    "start_time": "2021-10-25T15:02:59.194Z"
   },
   {
    "duration": 8,
    "start_time": "2021-10-25T15:03:00.337Z"
   },
   {
    "duration": 3,
    "start_time": "2021-10-25T15:03:27.725Z"
   },
   {
    "duration": 4,
    "start_time": "2021-10-25T15:03:28.483Z"
   },
   {
    "duration": 4,
    "start_time": "2021-10-25T15:03:35.136Z"
   },
   {
    "duration": 4,
    "start_time": "2021-10-25T15:03:36.012Z"
   },
   {
    "duration": 8,
    "start_time": "2021-10-25T15:03:37.351Z"
   },
   {
    "duration": 3,
    "start_time": "2021-10-25T15:04:10.265Z"
   },
   {
    "duration": 6,
    "start_time": "2021-10-25T15:04:11.152Z"
   },
   {
    "duration": 5,
    "start_time": "2021-10-25T20:03:32.977Z"
   },
   {
    "duration": 102,
    "start_time": "2021-10-25T20:04:03.783Z"
   },
   {
    "duration": 8,
    "start_time": "2021-10-25T20:34:28.159Z"
   },
   {
    "duration": 7,
    "start_time": "2021-10-25T20:36:29.247Z"
   },
   {
    "duration": 381,
    "start_time": "2021-10-25T20:36:41.807Z"
   },
   {
    "duration": 1465,
    "start_time": "2021-10-25T20:36:54.039Z"
   },
   {
    "duration": 456,
    "start_time": "2021-10-25T20:36:55.506Z"
   },
   {
    "duration": 847,
    "start_time": "2021-10-25T20:36:55.965Z"
   },
   {
    "duration": 12,
    "start_time": "2021-10-25T20:36:56.815Z"
   },
   {
    "duration": 13,
    "start_time": "2021-10-25T20:36:56.831Z"
   },
   {
    "duration": 5,
    "start_time": "2021-10-25T20:36:56.847Z"
   },
   {
    "duration": 77,
    "start_time": "2021-10-25T20:36:56.854Z"
   },
   {
    "duration": 248,
    "start_time": "2021-10-25T20:36:56.935Z"
   },
   {
    "duration": 35,
    "start_time": "2021-10-25T20:36:57.186Z"
   },
   {
    "duration": 9,
    "start_time": "2021-10-25T20:36:57.224Z"
   },
   {
    "duration": 13,
    "start_time": "2021-10-25T20:36:57.235Z"
   },
   {
    "duration": 538,
    "start_time": "2021-10-25T20:36:57.250Z"
   },
   {
    "duration": 93,
    "start_time": "2021-10-25T20:36:57.792Z"
   },
   {
    "duration": 5,
    "start_time": "2021-10-25T20:36:57.981Z"
   },
   {
    "duration": 13,
    "start_time": "2021-10-25T20:36:57.988Z"
   },
   {
    "duration": 5,
    "start_time": "2021-10-25T20:36:58.003Z"
   },
   {
    "duration": 9,
    "start_time": "2021-10-25T20:36:58.010Z"
   },
   {
    "duration": 857,
    "start_time": "2021-10-25T20:36:58.021Z"
   },
   {
    "duration": 7,
    "start_time": "2021-10-25T20:39:00.301Z"
   },
   {
    "duration": 702,
    "start_time": "2021-10-25T20:39:01.120Z"
   },
   {
    "duration": 652,
    "start_time": "2021-10-25T20:45:08.104Z"
   },
   {
    "duration": 6,
    "start_time": "2021-10-25T20:48:33.361Z"
   },
   {
    "duration": 1252,
    "start_time": "2021-10-25T20:48:36.559Z"
   },
   {
    "duration": 7,
    "start_time": "2021-10-25T20:51:37.497Z"
   },
   {
    "duration": 621,
    "start_time": "2021-10-25T20:51:38.306Z"
   },
   {
    "duration": 7,
    "start_time": "2021-10-25T20:51:52.082Z"
   },
   {
    "duration": 600,
    "start_time": "2021-10-25T20:51:52.842Z"
   },
   {
    "duration": 358,
    "start_time": "2021-10-25T21:01:12.892Z"
   },
   {
    "duration": 109,
    "start_time": "2021-10-25T21:01:24.227Z"
   },
   {
    "duration": 675,
    "start_time": "2021-10-25T21:01:31.919Z"
   },
   {
    "duration": 7,
    "start_time": "2021-10-25T21:01:52.610Z"
   },
   {
    "duration": 751,
    "start_time": "2021-10-25T21:01:54.276Z"
   },
   {
    "duration": 7,
    "start_time": "2021-10-25T21:02:29.059Z"
   },
   {
    "duration": 751,
    "start_time": "2021-10-25T21:02:29.948Z"
   },
   {
    "duration": 5,
    "start_time": "2021-10-25T21:07:32.902Z"
   },
   {
    "duration": 470,
    "start_time": "2021-10-25T21:07:32.911Z"
   },
   {
    "duration": 12,
    "start_time": "2021-10-25T21:07:33.385Z"
   },
   {
    "duration": 13,
    "start_time": "2021-10-25T21:07:33.401Z"
   },
   {
    "duration": 11,
    "start_time": "2021-10-25T21:07:33.418Z"
   },
   {
    "duration": 49,
    "start_time": "2021-10-25T21:07:33.432Z"
   },
   {
    "duration": 33,
    "start_time": "2021-10-25T21:07:33.483Z"
   },
   {
    "duration": 202,
    "start_time": "2021-10-25T21:07:33.518Z"
   },
   {
    "duration": 32,
    "start_time": "2021-10-25T21:07:33.723Z"
   },
   {
    "duration": 29,
    "start_time": "2021-10-25T21:07:33.757Z"
   },
   {
    "duration": 14,
    "start_time": "2021-10-25T21:07:33.789Z"
   },
   {
    "duration": 388,
    "start_time": "2021-10-25T21:07:33.806Z"
   },
   {
    "duration": 89,
    "start_time": "2021-10-25T21:07:34.200Z"
   },
   {
    "duration": 95,
    "start_time": "2021-10-25T21:07:34.292Z"
   },
   {
    "duration": 9,
    "start_time": "2021-10-25T21:07:34.390Z"
   },
   {
    "duration": 4,
    "start_time": "2021-10-25T21:07:34.401Z"
   },
   {
    "duration": 7,
    "start_time": "2021-10-25T21:07:34.407Z"
   },
   {
    "duration": 8,
    "start_time": "2021-10-25T21:07:34.416Z"
   },
   {
    "duration": 798,
    "start_time": "2021-10-25T21:07:34.426Z"
   },
   {
    "duration": 7,
    "start_time": "2021-10-25T21:08:53.928Z"
   },
   {
    "duration": 4,
    "start_time": "2021-10-25T21:08:54.457Z"
   },
   {
    "duration": 668,
    "start_time": "2021-10-25T21:08:54.884Z"
   },
   {
    "duration": 737,
    "start_time": "2021-10-25T21:10:32.569Z"
   },
   {
    "duration": 7,
    "start_time": "2021-10-25T21:11:18.408Z"
   },
   {
    "duration": 4,
    "start_time": "2021-10-25T21:11:18.912Z"
   },
   {
    "duration": 749,
    "start_time": "2021-10-25T21:11:19.701Z"
   },
   {
    "duration": 8,
    "start_time": "2021-10-25T21:14:34.317Z"
   },
   {
    "duration": 5,
    "start_time": "2021-10-25T21:14:35.333Z"
   },
   {
    "duration": 979,
    "start_time": "2021-10-25T21:14:35.851Z"
   },
   {
    "duration": 7,
    "start_time": "2021-10-25T21:14:50.693Z"
   },
   {
    "duration": 4,
    "start_time": "2021-10-25T21:14:51.583Z"
   },
   {
    "duration": 631,
    "start_time": "2021-10-25T21:14:52.214Z"
   },
   {
    "duration": 4,
    "start_time": "2021-10-25T21:16:18.948Z"
   },
   {
    "duration": 7,
    "start_time": "2021-10-25T21:16:29.259Z"
   },
   {
    "duration": 4,
    "start_time": "2021-10-25T21:16:29.948Z"
   },
   {
    "duration": 728,
    "start_time": "2021-10-25T21:16:30.565Z"
   },
   {
    "duration": 7,
    "start_time": "2021-10-25T21:16:51.830Z"
   },
   {
    "duration": 4,
    "start_time": "2021-10-25T21:16:52.357Z"
   },
   {
    "duration": 10076,
    "start_time": "2021-10-25T21:16:52.825Z"
   },
   {
    "duration": 5,
    "start_time": "2021-10-25T21:19:48.639Z"
   },
   {
    "duration": 7,
    "start_time": "2021-10-25T21:19:52.875Z"
   },
   {
    "duration": 4,
    "start_time": "2021-10-25T21:19:53.243Z"
   },
   {
    "duration": 9802,
    "start_time": "2021-10-25T21:19:54.205Z"
   },
   {
    "duration": 6,
    "start_time": "2021-10-25T21:23:49.286Z"
   },
   {
    "duration": 17,
    "start_time": "2021-10-25T21:23:49.295Z"
   },
   {
    "duration": 637,
    "start_time": "2021-10-25T21:23:49.314Z"
   },
   {
    "duration": 4423,
    "start_time": "2021-10-25T21:25:13.852Z"
   },
   {
    "duration": 867,
    "start_time": "2021-10-25T21:26:28.376Z"
   },
   {
    "duration": 8,
    "start_time": "2021-10-25T21:26:40.271Z"
   },
   {
    "duration": 4,
    "start_time": "2021-10-25T21:26:40.751Z"
   },
   {
    "duration": 658,
    "start_time": "2021-10-25T21:26:41.212Z"
   },
   {
    "duration": 4,
    "start_time": "2021-10-25T21:26:45.190Z"
   },
   {
    "duration": 8,
    "start_time": "2021-10-25T21:26:47.030Z"
   },
   {
    "duration": 5,
    "start_time": "2021-10-25T21:26:47.496Z"
   },
   {
    "duration": 7,
    "start_time": "2021-10-25T21:27:02.412Z"
   },
   {
    "duration": 4,
    "start_time": "2021-10-25T21:27:02.715Z"
   },
   {
    "duration": 17795,
    "start_time": "2021-10-25T21:27:03.103Z"
   },
   {
    "duration": 7,
    "start_time": "2021-10-25T21:28:48.567Z"
   },
   {
    "duration": 4,
    "start_time": "2021-10-25T21:28:51.020Z"
   },
   {
    "duration": 16743,
    "start_time": "2021-10-25T21:28:51.395Z"
   },
   {
    "duration": 4,
    "start_time": "2021-10-25T21:30:26.872Z"
   },
   {
    "duration": 6,
    "start_time": "2021-10-25T21:30:29.361Z"
   },
   {
    "duration": 4,
    "start_time": "2021-10-25T21:30:29.858Z"
   },
   {
    "duration": 5,
    "start_time": "2021-10-25T21:30:47.593Z"
   },
   {
    "duration": 667,
    "start_time": "2021-10-25T21:30:47.601Z"
   },
   {
    "duration": 21,
    "start_time": "2021-10-25T21:30:48.272Z"
   },
   {
    "duration": 17,
    "start_time": "2021-10-25T21:30:48.296Z"
   },
   {
    "duration": 16,
    "start_time": "2021-10-25T21:30:48.317Z"
   },
   {
    "duration": 6,
    "start_time": "2021-10-25T21:30:48.336Z"
   },
   {
    "duration": 35,
    "start_time": "2021-10-25T21:30:48.384Z"
   },
   {
    "duration": 206,
    "start_time": "2021-10-25T21:30:48.423Z"
   },
   {
    "duration": 51,
    "start_time": "2021-10-25T21:30:48.632Z"
   },
   {
    "duration": 8,
    "start_time": "2021-10-25T21:30:48.686Z"
   },
   {
    "duration": 7,
    "start_time": "2021-10-25T21:30:48.697Z"
   },
   {
    "duration": 386,
    "start_time": "2021-10-25T21:30:48.707Z"
   },
   {
    "duration": 87,
    "start_time": "2021-10-25T21:30:49.096Z"
   },
   {
    "duration": 102,
    "start_time": "2021-10-25T21:30:49.187Z"
   },
   {
    "duration": 11,
    "start_time": "2021-10-25T21:30:49.291Z"
   },
   {
    "duration": 4,
    "start_time": "2021-10-25T21:30:49.304Z"
   },
   {
    "duration": 6,
    "start_time": "2021-10-25T21:30:49.311Z"
   },
   {
    "duration": 5,
    "start_time": "2021-10-25T21:30:49.320Z"
   },
   {
    "duration": 17188,
    "start_time": "2021-10-25T21:30:49.328Z"
   },
   {
    "duration": 5,
    "start_time": "2021-10-25T21:34:30.456Z"
   },
   {
    "duration": 503,
    "start_time": "2021-10-25T21:34:30.464Z"
   },
   {
    "duration": 12,
    "start_time": "2021-10-25T21:34:30.970Z"
   },
   {
    "duration": 15,
    "start_time": "2021-10-25T21:34:30.984Z"
   },
   {
    "duration": 16,
    "start_time": "2021-10-25T21:34:31.001Z"
   },
   {
    "duration": 10,
    "start_time": "2021-10-25T21:34:31.020Z"
   },
   {
    "duration": 65,
    "start_time": "2021-10-25T21:34:31.034Z"
   },
   {
    "duration": 221,
    "start_time": "2021-10-25T21:34:31.102Z"
   },
   {
    "duration": 35,
    "start_time": "2021-10-25T21:34:31.326Z"
   },
   {
    "duration": 9,
    "start_time": "2021-10-25T21:34:31.383Z"
   },
   {
    "duration": 12,
    "start_time": "2021-10-25T21:34:31.395Z"
   },
   {
    "duration": 398,
    "start_time": "2021-10-25T21:34:31.410Z"
   },
   {
    "duration": 69,
    "start_time": "2021-10-25T21:34:31.813Z"
   },
   {
    "duration": 101,
    "start_time": "2021-10-25T21:34:31.886Z"
   },
   {
    "duration": 20,
    "start_time": "2021-10-25T21:34:31.989Z"
   },
   {
    "duration": 9,
    "start_time": "2021-10-25T21:34:32.012Z"
   },
   {
    "duration": 14,
    "start_time": "2021-10-25T21:34:32.024Z"
   },
   {
    "duration": 6,
    "start_time": "2021-10-25T21:34:32.041Z"
   },
   {
    "duration": 17273,
    "start_time": "2021-10-25T21:34:32.050Z"
   },
   {
    "duration": 5420,
    "start_time": "2021-10-25T21:35:45.458Z"
   },
   {
    "duration": 5,
    "start_time": "2021-10-25T21:36:18.984Z"
   },
   {
    "duration": 7,
    "start_time": "2021-10-25T21:36:21.422Z"
   },
   {
    "duration": 5,
    "start_time": "2021-10-25T21:36:21.888Z"
   },
   {
    "duration": 5853,
    "start_time": "2021-10-25T21:36:22.359Z"
   },
   {
    "duration": 5,
    "start_time": "2021-10-25T21:36:53.173Z"
   },
   {
    "duration": 7,
    "start_time": "2021-10-25T21:36:55.351Z"
   },
   {
    "duration": 4,
    "start_time": "2021-10-25T21:36:55.799Z"
   },
   {
    "duration": 4370,
    "start_time": "2021-10-25T21:36:56.274Z"
   },
   {
    "duration": 8,
    "start_time": "2021-10-25T21:37:31.432Z"
   },
   {
    "duration": 4,
    "start_time": "2021-10-25T21:37:31.849Z"
   },
   {
    "duration": 4065,
    "start_time": "2021-10-25T21:37:32.258Z"
   },
   {
    "duration": 8,
    "start_time": "2021-10-25T21:39:38.828Z"
   },
   {
    "duration": 4,
    "start_time": "2021-10-25T21:39:39.288Z"
   },
   {
    "duration": 4034,
    "start_time": "2021-10-25T21:39:39.670Z"
   },
   {
    "duration": 7,
    "start_time": "2021-10-25T21:40:05.530Z"
   },
   {
    "duration": 4,
    "start_time": "2021-10-25T21:40:09.775Z"
   },
   {
    "duration": 5220,
    "start_time": "2021-10-25T21:40:10.243Z"
   },
   {
    "duration": 4,
    "start_time": "2021-10-25T21:40:17.625Z"
   },
   {
    "duration": 457,
    "start_time": "2021-10-25T21:40:17.631Z"
   },
   {
    "duration": 11,
    "start_time": "2021-10-25T21:40:18.090Z"
   },
   {
    "duration": 11,
    "start_time": "2021-10-25T21:40:18.104Z"
   },
   {
    "duration": 14,
    "start_time": "2021-10-25T21:40:18.117Z"
   },
   {
    "duration": 5,
    "start_time": "2021-10-25T21:40:18.133Z"
   },
   {
    "duration": 68,
    "start_time": "2021-10-25T21:40:18.140Z"
   },
   {
    "duration": 195,
    "start_time": "2021-10-25T21:40:18.211Z"
   },
   {
    "duration": 31,
    "start_time": "2021-10-25T21:40:18.408Z"
   },
   {
    "duration": 7,
    "start_time": "2021-10-25T21:40:18.441Z"
   },
   {
    "duration": 31,
    "start_time": "2021-10-25T21:40:18.451Z"
   },
   {
    "duration": 414,
    "start_time": "2021-10-25T21:40:18.484Z"
   },
   {
    "duration": 89,
    "start_time": "2021-10-25T21:40:18.901Z"
   },
   {
    "duration": 6,
    "start_time": "2021-10-25T21:40:19.083Z"
   },
   {
    "duration": 14,
    "start_time": "2021-10-25T21:40:19.091Z"
   },
   {
    "duration": 5,
    "start_time": "2021-10-25T21:40:19.108Z"
   },
   {
    "duration": 8,
    "start_time": "2021-10-25T21:40:19.115Z"
   },
   {
    "duration": 7,
    "start_time": "2021-10-25T21:40:19.125Z"
   },
   {
    "duration": 5370,
    "start_time": "2021-10-25T21:40:19.134Z"
   },
   {
    "duration": 1438,
    "start_time": "2021-10-26T09:30:24.201Z"
   },
   {
    "duration": 460,
    "start_time": "2021-10-26T09:30:25.642Z"
   },
   {
    "duration": 477,
    "start_time": "2021-10-26T09:30:26.106Z"
   },
   {
    "duration": 12,
    "start_time": "2021-10-26T09:30:26.586Z"
   },
   {
    "duration": 29,
    "start_time": "2021-10-26T09:30:26.600Z"
   },
   {
    "duration": 4,
    "start_time": "2021-10-26T09:30:26.632Z"
   },
   {
    "duration": 45,
    "start_time": "2021-10-26T09:30:26.639Z"
   },
   {
    "duration": 212,
    "start_time": "2021-10-26T09:30:26.687Z"
   },
   {
    "duration": 49,
    "start_time": "2021-10-26T09:30:26.901Z"
   },
   {
    "duration": 8,
    "start_time": "2021-10-26T09:30:26.953Z"
   },
   {
    "duration": 7,
    "start_time": "2021-10-26T09:30:26.963Z"
   },
   {
    "duration": 468,
    "start_time": "2021-10-26T09:30:26.973Z"
   },
   {
    "duration": 86,
    "start_time": "2021-10-26T09:30:27.444Z"
   },
   {
    "duration": 107,
    "start_time": "2021-10-26T09:30:27.535Z"
   },
   {
    "duration": 15,
    "start_time": "2021-10-26T09:30:27.644Z"
   },
   {
    "duration": 6,
    "start_time": "2021-10-26T09:30:27.661Z"
   },
   {
    "duration": 7,
    "start_time": "2021-10-26T09:30:27.670Z"
   },
   {
    "duration": 31,
    "start_time": "2021-10-26T09:30:27.679Z"
   },
   {
    "duration": 410,
    "start_time": "2021-10-26T09:30:27.712Z"
   },
   {
    "duration": 4,
    "start_time": "2021-10-26T09:32:21.526Z"
   },
   {
    "duration": 475,
    "start_time": "2021-10-26T09:32:21.532Z"
   },
   {
    "duration": 10,
    "start_time": "2021-10-26T09:32:22.010Z"
   },
   {
    "duration": 16,
    "start_time": "2021-10-26T09:32:22.022Z"
   },
   {
    "duration": 14,
    "start_time": "2021-10-26T09:32:22.041Z"
   },
   {
    "duration": 6,
    "start_time": "2021-10-26T09:32:22.058Z"
   },
   {
    "duration": 62,
    "start_time": "2021-10-26T09:32:22.067Z"
   },
   {
    "duration": 182,
    "start_time": "2021-10-26T09:32:22.132Z"
   },
   {
    "duration": 43,
    "start_time": "2021-10-26T09:32:22.316Z"
   },
   {
    "duration": 7,
    "start_time": "2021-10-26T09:32:22.362Z"
   },
   {
    "duration": 6,
    "start_time": "2021-10-26T09:32:22.372Z"
   },
   {
    "duration": 457,
    "start_time": "2021-10-26T09:32:22.380Z"
   },
   {
    "duration": 88,
    "start_time": "2021-10-26T09:32:22.842Z"
   },
   {
    "duration": 98,
    "start_time": "2021-10-26T09:32:22.934Z"
   },
   {
    "duration": 29,
    "start_time": "2021-10-26T09:32:23.035Z"
   },
   {
    "duration": 17,
    "start_time": "2021-10-26T09:32:23.068Z"
   },
   {
    "duration": 16,
    "start_time": "2021-10-26T09:32:23.087Z"
   },
   {
    "duration": 18,
    "start_time": "2021-10-26T09:32:23.106Z"
   },
   {
    "duration": 538,
    "start_time": "2021-10-26T09:32:23.129Z"
   },
   {
    "duration": 503,
    "start_time": "2021-10-26T09:33:31.035Z"
   },
   {
    "duration": 3521,
    "start_time": "2021-10-26T09:34:05.517Z"
   },
   {
    "duration": 2738,
    "start_time": "2021-10-26T09:34:19.760Z"
   },
   {
    "duration": 580,
    "start_time": "2021-10-26T09:34:36.317Z"
   },
   {
    "duration": 5,
    "start_time": "2021-10-26T09:36:14.189Z"
   },
   {
    "duration": 8,
    "start_time": "2021-10-26T09:36:17.119Z"
   },
   {
    "duration": 4,
    "start_time": "2021-10-26T09:36:17.604Z"
   },
   {
    "duration": 522,
    "start_time": "2021-10-26T09:36:18.702Z"
   },
   {
    "duration": 6,
    "start_time": "2021-10-26T09:37:40.209Z"
   },
   {
    "duration": 12,
    "start_time": "2021-10-26T09:37:43.337Z"
   },
   {
    "duration": 6,
    "start_time": "2021-10-26T09:37:43.904Z"
   },
   {
    "duration": 1291,
    "start_time": "2021-10-26T09:37:44.596Z"
   },
   {
    "duration": 499,
    "start_time": "2021-10-26T09:37:56.517Z"
   },
   {
    "duration": 5,
    "start_time": "2021-10-26T09:38:13.388Z"
   },
   {
    "duration": 10,
    "start_time": "2021-10-26T09:38:16.163Z"
   },
   {
    "duration": 4,
    "start_time": "2021-10-26T09:38:16.749Z"
   },
   {
    "duration": 709,
    "start_time": "2021-10-26T09:38:17.500Z"
   },
   {
    "duration": 5,
    "start_time": "2021-10-26T09:41:17.815Z"
   },
   {
    "duration": 7,
    "start_time": "2021-10-26T09:41:20.362Z"
   },
   {
    "duration": 5,
    "start_time": "2021-10-26T09:41:20.804Z"
   },
   {
    "duration": 5389,
    "start_time": "2021-10-26T09:41:21.328Z"
   },
   {
    "duration": 445,
    "start_time": "2021-10-26T09:41:32.526Z"
   },
   {
    "duration": 279,
    "start_time": "2021-10-26T09:41:58.505Z"
   },
   {
    "duration": 5352,
    "start_time": "2021-10-26T09:42:36.497Z"
   },
   {
    "duration": 206,
    "start_time": "2021-10-26T09:43:54.092Z"
   },
   {
    "duration": 16176,
    "start_time": "2021-10-26T09:43:58.684Z"
   },
   {
    "duration": 4,
    "start_time": "2021-10-26T09:44:26.783Z"
   },
   {
    "duration": 16483,
    "start_time": "2021-10-26T09:44:27.491Z"
   },
   {
    "duration": 4,
    "start_time": "2021-10-26T09:52:35.865Z"
   },
   {
    "duration": 473,
    "start_time": "2021-10-26T09:52:35.873Z"
   },
   {
    "duration": 11,
    "start_time": "2021-10-26T09:52:36.349Z"
   },
   {
    "duration": 13,
    "start_time": "2021-10-26T09:52:36.363Z"
   },
   {
    "duration": 20,
    "start_time": "2021-10-26T09:52:36.379Z"
   },
   {
    "duration": 5,
    "start_time": "2021-10-26T09:52:36.429Z"
   },
   {
    "duration": 34,
    "start_time": "2021-10-26T09:52:36.436Z"
   },
   {
    "duration": 198,
    "start_time": "2021-10-26T09:52:36.472Z"
   },
   {
    "duration": 31,
    "start_time": "2021-10-26T09:52:36.674Z"
   },
   {
    "duration": 28,
    "start_time": "2021-10-26T09:52:36.707Z"
   },
   {
    "duration": 5,
    "start_time": "2021-10-26T09:52:36.738Z"
   },
   {
    "duration": 394,
    "start_time": "2021-10-26T09:52:36.745Z"
   },
   {
    "duration": 87,
    "start_time": "2021-10-26T09:52:37.143Z"
   },
   {
    "duration": 5,
    "start_time": "2021-10-26T09:52:37.329Z"
   },
   {
    "duration": 13,
    "start_time": "2021-10-26T09:52:37.336Z"
   },
   {
    "duration": 6,
    "start_time": "2021-10-26T09:52:37.352Z"
   },
   {
    "duration": 8,
    "start_time": "2021-10-26T09:52:37.360Z"
   },
   {
    "duration": 5,
    "start_time": "2021-10-26T09:52:37.370Z"
   },
   {
    "duration": 16973,
    "start_time": "2021-10-26T09:52:37.377Z"
   },
   {
    "duration": 1380,
    "start_time": "2021-10-26T11:16:55.860Z"
   },
   {
    "duration": 473,
    "start_time": "2021-10-26T11:16:57.243Z"
   },
   {
    "duration": 1146,
    "start_time": "2021-10-26T11:16:57.719Z"
   },
   {
    "duration": 11,
    "start_time": "2021-10-26T11:16:58.868Z"
   },
   {
    "duration": 24,
    "start_time": "2021-10-26T11:16:58.881Z"
   },
   {
    "duration": 20,
    "start_time": "2021-10-26T11:16:58.908Z"
   },
   {
    "duration": 63,
    "start_time": "2021-10-26T11:16:58.930Z"
   },
   {
    "duration": 191,
    "start_time": "2021-10-26T11:16:58.996Z"
   },
   {
    "duration": 52,
    "start_time": "2021-10-26T11:16:59.190Z"
   },
   {
    "duration": 9,
    "start_time": "2021-10-26T11:16:59.986Z"
   },
   {
    "duration": 5,
    "start_time": "2021-10-26T11:19:34.322Z"
   },
   {
    "duration": 499,
    "start_time": "2021-10-26T11:19:34.930Z"
   },
   {
    "duration": 4,
    "start_time": "2021-10-26T11:21:08.577Z"
   },
   {
    "duration": 5,
    "start_time": "2021-10-26T11:21:09.013Z"
   },
   {
    "duration": 12,
    "start_time": "2021-10-26T11:21:10.983Z"
   },
   {
    "duration": 5,
    "start_time": "2021-10-26T11:21:46.457Z"
   },
   {
    "duration": 8,
    "start_time": "2021-10-26T11:22:19.541Z"
   },
   {
    "duration": 5,
    "start_time": "2021-10-26T11:22:25.214Z"
   },
   {
    "duration": 16618,
    "start_time": "2021-10-26T11:22:25.433Z"
   },
   {
    "duration": 16058,
    "start_time": "2021-10-26T11:24:11.168Z"
   },
   {
    "duration": 16573,
    "start_time": "2021-10-26T11:24:32.643Z"
   },
   {
    "duration": 1033,
    "start_time": "2021-10-26T12:23:44.570Z"
   },
   {
    "duration": 344,
    "start_time": "2021-10-26T12:23:45.605Z"
   },
   {
    "duration": 299,
    "start_time": "2021-10-26T12:23:45.951Z"
   },
   {
    "duration": 8,
    "start_time": "2021-10-26T12:23:46.252Z"
   },
   {
    "duration": 15,
    "start_time": "2021-10-26T12:23:46.261Z"
   },
   {
    "duration": 4,
    "start_time": "2021-10-26T12:23:46.278Z"
   },
   {
    "duration": 29,
    "start_time": "2021-10-26T12:23:46.292Z"
   },
   {
    "duration": 123,
    "start_time": "2021-10-26T12:23:46.323Z"
   },
   {
    "duration": 21,
    "start_time": "2021-10-26T12:23:46.448Z"
   },
   {
    "duration": 3,
    "start_time": "2021-10-26T12:23:46.471Z"
   },
   {
    "duration": 524,
    "start_time": "2021-10-26T12:23:46.476Z"
   },
   {
    "duration": 89,
    "start_time": "2021-10-26T12:23:47.003Z"
   },
   {
    "duration": 101,
    "start_time": "2021-10-26T12:23:47.095Z"
   },
   {
    "duration": 10,
    "start_time": "2021-10-26T12:23:47.198Z"
   },
   {
    "duration": 4,
    "start_time": "2021-10-26T12:23:47.209Z"
   },
   {
    "duration": 6,
    "start_time": "2021-10-26T12:23:47.214Z"
   },
   {
    "duration": 17,
    "start_time": "2021-10-26T12:23:47.221Z"
   },
   {
    "duration": 9625,
    "start_time": "2021-10-26T12:23:47.239Z"
   },
   {
    "duration": 4,
    "start_time": "2021-10-26T12:26:50.274Z"
   },
   {
    "duration": 345,
    "start_time": "2021-10-26T12:26:50.279Z"
   },
   {
    "duration": 7,
    "start_time": "2021-10-26T12:26:50.626Z"
   },
   {
    "duration": 17,
    "start_time": "2021-10-26T12:26:50.634Z"
   },
   {
    "duration": 5,
    "start_time": "2021-10-26T12:26:50.653Z"
   },
   {
    "duration": 4,
    "start_time": "2021-10-26T12:26:50.660Z"
   },
   {
    "duration": 38,
    "start_time": "2021-10-26T12:26:50.666Z"
   },
   {
    "duration": 100,
    "start_time": "2021-10-26T12:26:50.706Z"
   },
   {
    "duration": 20,
    "start_time": "2021-10-26T12:26:50.808Z"
   },
   {
    "duration": 3,
    "start_time": "2021-10-26T12:26:50.829Z"
   },
   {
    "duration": 358,
    "start_time": "2021-10-26T12:26:50.833Z"
   },
   {
    "duration": 5,
    "start_time": "2021-10-26T12:26:51.194Z"
   },
   {
    "duration": 95,
    "start_time": "2021-10-26T12:26:51.201Z"
   },
   {
    "duration": 13,
    "start_time": "2021-10-26T12:26:51.298Z"
   },
   {
    "duration": 12,
    "start_time": "2021-10-26T12:26:51.312Z"
   },
   {
    "duration": 5,
    "start_time": "2021-10-26T12:26:51.326Z"
   },
   {
    "duration": 9,
    "start_time": "2021-10-26T12:26:51.333Z"
   },
   {
    "duration": 9428,
    "start_time": "2021-10-26T12:26:51.344Z"
   },
   {
    "duration": 63,
    "start_time": "2021-10-26T12:31:53.158Z"
   },
   {
    "duration": 3,
    "start_time": "2021-10-26T12:32:47.913Z"
   },
   {
    "duration": 348,
    "start_time": "2021-10-26T12:32:47.920Z"
   },
   {
    "duration": 7,
    "start_time": "2021-10-26T12:32:48.270Z"
   },
   {
    "duration": 17,
    "start_time": "2021-10-26T12:32:48.279Z"
   },
   {
    "duration": 7,
    "start_time": "2021-10-26T12:32:48.298Z"
   },
   {
    "duration": 4,
    "start_time": "2021-10-26T12:32:48.306Z"
   },
   {
    "duration": 24,
    "start_time": "2021-10-26T12:32:48.312Z"
   },
   {
    "duration": 106,
    "start_time": "2021-10-26T12:32:48.337Z"
   },
   {
    "duration": 21,
    "start_time": "2021-10-26T12:32:48.445Z"
   },
   {
    "duration": 3,
    "start_time": "2021-10-26T12:32:48.468Z"
   },
   {
    "duration": 420,
    "start_time": "2021-10-26T12:32:48.472Z"
   },
   {
    "duration": 4,
    "start_time": "2021-10-26T12:32:48.894Z"
   },
   {
    "duration": 93,
    "start_time": "2021-10-26T12:32:48.900Z"
   },
   {
    "duration": 11,
    "start_time": "2021-10-26T12:32:48.995Z"
   },
   {
    "duration": 3,
    "start_time": "2021-10-26T12:32:49.007Z"
   },
   {
    "duration": 8,
    "start_time": "2021-10-26T12:32:49.012Z"
   },
   {
    "duration": 9,
    "start_time": "2021-10-26T12:32:49.021Z"
   },
   {
    "duration": 9627,
    "start_time": "2021-10-26T12:32:49.031Z"
   },
   {
    "duration": 3,
    "start_time": "2021-10-26T12:34:01.750Z"
   },
   {
    "duration": 361,
    "start_time": "2021-10-26T12:34:01.760Z"
   },
   {
    "duration": 7,
    "start_time": "2021-10-26T12:34:02.123Z"
   },
   {
    "duration": 19,
    "start_time": "2021-10-26T12:34:02.132Z"
   },
   {
    "duration": 13,
    "start_time": "2021-10-26T12:34:02.152Z"
   },
   {
    "duration": 8,
    "start_time": "2021-10-26T12:34:02.166Z"
   },
   {
    "duration": 32,
    "start_time": "2021-10-26T12:34:02.175Z"
   },
   {
    "duration": 110,
    "start_time": "2021-10-26T12:34:02.209Z"
   },
   {
    "duration": 21,
    "start_time": "2021-10-26T12:34:02.322Z"
   },
   {
    "duration": 2,
    "start_time": "2021-10-26T12:34:02.345Z"
   },
   {
    "duration": 344,
    "start_time": "2021-10-26T12:34:02.349Z"
   },
   {
    "duration": 4,
    "start_time": "2021-10-26T12:34:02.695Z"
   },
   {
    "duration": 95,
    "start_time": "2021-10-26T12:34:02.701Z"
   },
   {
    "duration": 16,
    "start_time": "2021-10-26T12:34:02.798Z"
   },
   {
    "duration": 4,
    "start_time": "2021-10-26T12:34:02.815Z"
   },
   {
    "duration": 8,
    "start_time": "2021-10-26T12:34:02.820Z"
   },
   {
    "duration": 6,
    "start_time": "2021-10-26T12:34:02.830Z"
   },
   {
    "duration": 9565,
    "start_time": "2021-10-26T12:34:02.838Z"
   },
   {
    "duration": 60,
    "start_time": "2021-10-26T12:35:28.815Z"
   },
   {
    "duration": 3,
    "start_time": "2021-10-26T12:36:12.027Z"
   },
   {
    "duration": 349,
    "start_time": "2021-10-26T12:36:12.646Z"
   },
   {
    "duration": 3,
    "start_time": "2021-10-26T12:36:18.353Z"
   },
   {
    "duration": 340,
    "start_time": "2021-10-26T12:36:18.361Z"
   },
   {
    "duration": 7,
    "start_time": "2021-10-26T12:36:18.702Z"
   },
   {
    "duration": 10,
    "start_time": "2021-10-26T12:36:18.711Z"
   },
   {
    "duration": 6,
    "start_time": "2021-10-26T12:36:18.723Z"
   },
   {
    "duration": 4,
    "start_time": "2021-10-26T12:36:18.731Z"
   },
   {
    "duration": 27,
    "start_time": "2021-10-26T12:36:18.736Z"
   },
   {
    "duration": 116,
    "start_time": "2021-10-26T12:36:18.764Z"
   },
   {
    "duration": 29,
    "start_time": "2021-10-26T12:36:18.882Z"
   },
   {
    "duration": 3,
    "start_time": "2021-10-26T12:36:18.912Z"
   },
   {
    "duration": 379,
    "start_time": "2021-10-26T12:36:18.916Z"
   },
   {
    "duration": 93,
    "start_time": "2021-10-26T12:36:19.298Z"
   },
   {
    "duration": 98,
    "start_time": "2021-10-26T12:36:19.393Z"
   },
   {
    "duration": 12,
    "start_time": "2021-10-26T12:36:19.493Z"
   },
   {
    "duration": 3,
    "start_time": "2021-10-26T12:36:19.506Z"
   },
   {
    "duration": 6,
    "start_time": "2021-10-26T12:36:19.511Z"
   },
   {
    "duration": 5,
    "start_time": "2021-10-26T12:36:19.518Z"
   },
   {
    "duration": 9571,
    "start_time": "2021-10-26T12:36:19.525Z"
   },
   {
    "duration": 425,
    "start_time": "2021-10-26T12:38:23.367Z"
   },
   {
    "duration": 4,
    "start_time": "2021-10-26T12:38:33.415Z"
   },
   {
    "duration": 412,
    "start_time": "2021-10-26T12:38:33.887Z"
   },
   {
    "duration": 3,
    "start_time": "2021-10-26T12:38:38.899Z"
   },
   {
    "duration": 332,
    "start_time": "2021-10-26T12:38:39.552Z"
   },
   {
    "duration": 7,
    "start_time": "2021-10-26T12:38:40.355Z"
   },
   {
    "duration": 8,
    "start_time": "2021-10-26T12:38:40.686Z"
   },
   {
    "duration": 7,
    "start_time": "2021-10-26T12:38:41.316Z"
   },
   {
    "duration": 3,
    "start_time": "2021-10-26T12:38:42.842Z"
   },
   {
    "duration": 23,
    "start_time": "2021-10-26T12:38:43.393Z"
   },
   {
    "duration": 93,
    "start_time": "2021-10-26T12:38:44.826Z"
   },
   {
    "duration": 25,
    "start_time": "2021-10-26T12:38:46.814Z"
   },
   {
    "duration": 3,
    "start_time": "2021-10-26T12:38:50.076Z"
   },
   {
    "duration": 323,
    "start_time": "2021-10-26T12:38:51.177Z"
   },
   {
    "duration": 3,
    "start_time": "2021-10-26T12:39:23.598Z"
   },
   {
    "duration": 355,
    "start_time": "2021-10-26T12:39:23.605Z"
   },
   {
    "duration": 8,
    "start_time": "2021-10-26T12:39:23.962Z"
   },
   {
    "duration": 20,
    "start_time": "2021-10-26T12:39:23.972Z"
   },
   {
    "duration": 7,
    "start_time": "2021-10-26T12:39:23.994Z"
   },
   {
    "duration": 4,
    "start_time": "2021-10-26T12:39:24.003Z"
   },
   {
    "duration": 26,
    "start_time": "2021-10-26T12:39:24.009Z"
   },
   {
    "duration": 125,
    "start_time": "2021-10-26T12:39:24.037Z"
   },
   {
    "duration": 34,
    "start_time": "2021-10-26T12:39:24.165Z"
   },
   {
    "duration": 3,
    "start_time": "2021-10-26T12:39:24.201Z"
   },
   {
    "duration": 297,
    "start_time": "2021-10-26T12:39:24.206Z"
   },
   {
    "duration": 85,
    "start_time": "2021-10-26T12:39:24.505Z"
   },
   {
    "duration": 7,
    "start_time": "2021-10-26T12:39:24.593Z"
   },
   {
    "duration": 7,
    "start_time": "2021-10-26T12:39:24.691Z"
   },
   {
    "duration": 3,
    "start_time": "2021-10-26T12:39:24.700Z"
   },
   {
    "duration": 6,
    "start_time": "2021-10-26T12:39:24.704Z"
   },
   {
    "duration": 7,
    "start_time": "2021-10-26T12:39:24.712Z"
   },
   {
    "duration": 9672,
    "start_time": "2021-10-26T12:39:24.720Z"
   }
  ],
  "kernelspec": {
   "display_name": "Python 3 (ipykernel)",
   "language": "python",
   "name": "python3"
  },
  "language_info": {
   "codemirror_mode": {
    "name": "ipython",
    "version": 3
   },
   "file_extension": ".py",
   "mimetype": "text/x-python",
   "name": "python",
   "nbconvert_exporter": "python",
   "pygments_lexer": "ipython3",
   "version": "3.10.0"
  },
  "toc": {
   "base_numbering": 1,
   "nav_menu": {},
   "number_sections": true,
   "sideBar": true,
   "skip_h1_title": true,
   "title_cell": "Содержание",
   "title_sidebar": "Contents",
   "toc_cell": true,
   "toc_position": {},
   "toc_section_display": true,
   "toc_window_display": false
  }
 },
 "nbformat": 4,
 "nbformat_minor": 2
}
